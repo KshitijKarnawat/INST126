{
 "cells": [
  {
   "cell_type": "code",
   "execution_count": null,
   "metadata": {
    "deletable": false,
    "editable": false
   },
   "outputs": [],
   "source": [
    "# Initialize Otter\n",
    "import otter\n",
    "grader = otter.Notebook(\"PR-02-Lists-Iteration-and-Strings.ipynb\")"
   ]
  },
  {
   "cell_type": "markdown",
   "metadata": {},
   "source": [
    "### _Note_: Make sure to run the cell below at least once before you start coding."
   ]
  },
  {
   "cell_type": "code",
   "execution_count": null,
   "metadata": {
    "nbgrader": {
     "grade": false,
     "grade_id": "cell-63f7564a14a6ba45",
     "locked": true,
     "schema_version": 3,
     "solution": false,
     "task": false
    }
   },
   "outputs": [],
   "source": [
    "# DO NOT MODIFY THIS CELL, RUN IT BEFORE YOU USE ANY AUTOGRADER\n",
    "# This cell is for the autograder to run properly, make sure to run it at least once before you use autograder to test your code\n",
    "from contextlib import redirect_stdout\n",
    "from io import StringIO\n",
    "import re"
   ]
  },
  {
   "cell_type": "markdown",
   "metadata": {
    "id": "Q4DUKQu30UpM",
    "nbgrader": {
     "grade": false,
     "grade_id": "cell-151ad98ae70e5e34",
     "locked": true,
     "schema_version": 3,
     "solution": false,
     "task": false
    }
   },
   "source": [
    "# Project 2\n",
    "### Lists, Iteration, and Strings"
   ]
  },
  {
   "cell_type": "markdown",
   "metadata": {
    "nbgrader": {
     "grade": false,
     "grade_id": "cell-09472b486258d35b",
     "locked": true,
     "schema_version": 3,
     "solution": false,
     "task": false
    }
   },
   "source": [
    "<br/>\n",
    "<br/>\n",
    "<br/>\n",
    "\n",
    "---"
   ]
  },
  {
   "cell_type": "markdown",
   "metadata": {
    "nbgrader": {
     "grade": false,
     "grade_id": "cell-03c2b03b80d54d8e",
     "locked": true,
     "schema_version": 3,
     "solution": false,
     "task": false
    }
   },
   "source": [
    "## Instructions\n",
    "\n",
    "Pick one problem and complete it. Then run the last cell in the notebook to export your work.\n",
    "\n",
    "### Grading Rubric\n",
    "\n",
    "Your submission will be evaluated based on the following criteria (see on ELMS for more info):\n",
    "* __Correctness__: _Does the program adequately solve the problem posed for the project? (Note we use autograder to determine this.)_\n",
    "* __Logic__: _Regardless of execution, is the solution approach taken sound (i.e., likely to lead to a solution)? Note: this requirement can be satisfied even if the program isn’t passing the autograder tests!_\n",
    "* __Style__: _Is the code understandable and well documented?_\n",
    "  * _Is the variable names clear and intuitive (e.g. `rate` instead of `x`) and there are no conflicts with names of existing functions (e.g. you call your list `list_of_numbers` instead of `list`, etc.)?_\n",
    "  * _Are the key elements of the code clearly documented with comments?_\n",
    "  * _Are the main functions documented with a complete docstring?_\n",
    "* __Final Checklist__: _All steps in the \"Submission checklist\" below have been followed_.\n",
    "\n",
    "### Working on Multiple Problems\n",
    "\n",
    "You do not have to complete all problems in the notebook: if your code passes all the tests in a single problem it will pass the autograder for the whole project. That said, you will earn credit for passing any test in the notebook. This means that if you are not passing all the tests in a given problem, you can attempt a different problem and see if you can pass any of its tests. However, keep in mind that we will consider all the problems you submit when grading for logic and style."
   ]
  },
  {
   "cell_type": "markdown",
   "metadata": {
    "id": "spLE98dUsRcY",
    "nbgrader": {
     "grade": false,
     "grade_id": "cell-27447bde63c68c28",
     "locked": true,
     "schema_version": 3,
     "solution": false,
     "task": false
    }
   },
   "source": [
    "<br/>\n",
    "<br/>\n",
    "<br/>\n",
    "<br/>\n",
    "<br/>\n",
    "<br/>\n",
    "\n",
    "---"
   ]
  },
  {
   "cell_type": "markdown",
   "metadata": {
    "id": "2IV8ktaD0kDr",
    "nbgrader": {
     "grade": false,
     "grade_id": "cell-b8862408de3e80e2",
     "locked": true,
     "schema_version": 3,
     "solution": false,
     "task": false
    }
   },
   "source": [
    "## Problem 1: Tweet Truncator\n",
    "\n",
    "__IMPORTANT__: You can organize your program in any way you want, but you should at least define a function called `tweet_truncator` that takes in input a list of tweets, prints the output below, __*and returns the list of truncated tweets*__.\n",
    "\n",
    "### The problem\n",
    "\n",
    "Tweets can be up to 280 characters long. Write a program that takes in a list of messages of varying length (that are meant to be tweeted) and prints out tweets (one per line) that fits within the 280 characters limit: if the message length is > character limit, truncate it to fit the character limit, and add a \"!!!\" at the end of the tweet. (Note: adding the \"!!!\" should keep the text within the 280 char limit!) Otherwise, the message remains unchanged. Your program should also print out the number of tweets that had to be truncated because they were too long.\n",
    "\n",
    "### Example \n",
    "\n",
    "Given the following input tweets:\n",
    "\n",
    "```python\n",
    "tweets = [\n",
    "    \"Lorem ipsum dolor sit amet, consectetur adipiscing elit. Ut ornare egestas purus quis aliquet. Nulla molestie neque et ante semper, in consequat ante facilisis. Cras sodales, mi et vulputate vestibulum, ante nunc dictum mauris, sed pellentesque sem felis nec sem. Ut feugiat ante magna, pellentesque porttitor lectus sagittis sit amet.\",\n",
    "    \"Python is so cool! #programming\",\n",
    "    \"Suspendisse nec lacus tempus, sagittis augue non, maximus ante. Cras vehicula, nibh vel sodales tristique, eros libero vestibulum quam, bibendum cursus eros felis ut metus. Suspendisse potenti. Phasellus maximus augue vitae dui luctus, sit amet vestibulum velit lobortis. Class aptent taciti sociosqu ad litora torquent per conubia nostra, per inceptos himenaeos.\",\n",
    "    \"Vestibulum lobortis purus at ultrices luctus. Suspendisse hendrerit venenatis mi in posuere. Mauris porta rhoncus nunc in convallis. Cras vel finibus nisl. Suspendisse a euismod elit. Nam congue massa at dolor semper, nec mollis est elementum. Duis accumsan ultrices egestas. Quisque consequat ultricies scelerisque. Vivamus felis turpis, tincidunt sit amet pellentesque eget, malesuada non odio.\",\n",
    "    \"It's finally #caturday!\"\n",
    "]\n",
    "```\n",
    "\n",
    "your program should produce the following output:\n",
    "\n",
    "\n",
    "```\n",
    "TWEET: Lorem ipsum dolor sit amet, consectetur adipiscing elit. Ut ornare egestas purus quis aliquet. Nulla molestie neque et ante semper, in consequat ante facilisis. Cras sodales, mi et vulputate vestibulum, ante nunc dictum mauris, sed pellentesque sem felis nec sem. Ut feugiat an!!!\n",
    "TWEET: Python is so cool! #programming\n",
    "TWEET: Suspendisse nec lacus tempus, sagittis augue non, maximus ante. Cras vehicula, nibh vel sodales tristique, eros libero vestibulum quam, bibendum cursus eros felis ut metus. Suspendisse potenti. Phasellus maximus augue vitae dui luctus, sit amet vestibulum velit lobortis. Class!!!\n",
    "TWEET: Vestibulum lobortis purus at ultrices luctus. Suspendisse hendrerit venenatis mi in posuere. Mauris porta rhoncus nunc in convallis. Cras vel finibus nisl. Suspendisse a euismod elit. Nam congue massa at dolor semper, nec mollis est elementum. Duis accumsan ultrices egestas. Q!!!\n",
    "TWEET: It's finally #caturday!\n",
    "\n",
    "Truncated 3 tweets that were over the limit.\n",
    "```\n",
    "\n",
    "and it should also return the following list:\n",
    "\n",
    "```python\n",
    "[\n",
    "    'Lorem ipsum dolor sit amet, consectetur adipiscing elit. Ut ornare egestas purus quis aliquet. Nulla molestie neque et ante semper, in consequat ante facilisis. Cras sodales, mi et vulputate vestibulum, ante nunc dictum mauris, sed pellentesque sem felis nec sem. Ut feugiat an!!!',\n",
    "    'Python is so cool! #programming',\n",
    "    'Suspendisse nec lacus tempus, sagittis augue non, maximus ante. Cras vehicula, nibh vel sodales tristique, eros libero vestibulum quam, bibendum cursus eros felis ut metus. Suspendisse potenti. Phasellus maximus augue vitae dui luctus, sit amet vestibulum velit lobortis. Class!!!',\n",
    "    'Vestibulum lobortis purus at ultrices luctus. Suspendisse hendrerit venenatis mi in posuere. Mauris porta rhoncus nunc in convallis. Cras vel finibus nisl. Suspendisse a euismod elit. Nam congue massa at dolor semper, nec mollis est elementum. Duis accumsan ultrices egestas. Q!!!',\n",
    "    \"It's finally #caturday!\"\n",
    "]\n",
    "```\n"
   ]
  },
  {
   "cell_type": "code",
   "execution_count": null,
   "metadata": {
    "nbgrader": {
     "grade": false,
     "grade_id": "cell-fee707bd6cd17650",
     "locked": false,
     "schema_version": 3,
     "solution": true,
     "task": false
    },
    "tags": []
   },
   "outputs": [],
   "source": [
    "...\n",
    "\n",
    "# Test different arguments!\n",
    "test_tweets = [\n",
    "    \"Lorem ipsum dolor sit amet, consectetur adipiscing elit. Ut ornare egestas purus quis aliquet. Nulla molestie neque et ante semper, in consequat ante facilisis. Cras sodales, mi et vulputate vestibulum, ante nunc dictum mauris, sed pellentesque sem felis nec sem. Ut feugiat ante magna, pellentesque porttitor lectus sagittis sit amet.\",\n",
    "    \"Python is so cool! #programming\",\n",
    "    \"Suspendisse nec lacus tempus, sagittis augue non, maximus ante. Cras vehicula, nibh vel sodales tristique, eros libero vestibulum quam, bibendum cursus eros felis ut metus. Suspendisse potenti. Phasellus maximus augue vitae dui luctus, sit amet vestibulum velit lobortis. Class aptent taciti sociosqu ad litora torquent per conubia nostra, per inceptos himenaeos.\",\n",
    "    \"Vestibulum lobortis purus at ultrices luctus. Suspendisse hendrerit venenatis mi in posuere. Mauris porta rhoncus nunc in convallis. Cras vel finibus nisl. Suspendisse a euismod elit. Nam congue massa at dolor semper, nec mollis est elementum. Duis accumsan ultrices egestas. Quisque consequat ultricies scelerisque. Vivamus felis turpis, tincidunt sit amet pellentesque eget, malesuada non odio.\",\n",
    "    \"It's finally #caturday!\"\n",
    "]\n",
    "\n",
    "truncated_tweets = tweet_truncator(test_tweets)"
   ]
  },
  {
   "cell_type": "markdown",
   "metadata": {
    "deletable": false,
    "editable": false,
    "nbgrader": {
     "grade": false,
     "grade_id": "cell-8f651dc732a68d41",
     "locked": true,
     "schema_version": 3,
     "solution": false,
     "task": false
    }
   },
   "source": [
    "The cell below is an autograder cell, run it to check if your solution is correct."
   ]
  },
  {
   "cell_type": "code",
   "execution_count": null,
   "metadata": {
    "deletable": false,
    "editable": false
   },
   "outputs": [],
   "source": [
    "grader.check(\"prob1\")"
   ]
  },
  {
   "cell_type": "markdown",
   "metadata": {},
   "source": [
    "<br/>\n",
    "<br/>\n",
    "<br/>\n",
    "<br/>\n",
    "<br/>\n",
    "<br/>\n",
    "\n",
    "---"
   ]
  },
  {
   "cell_type": "markdown",
   "metadata": {
    "id": "uthF4fmV0uvt",
    "nbgrader": {
     "grade": false,
     "grade_id": "cell-2741ec2e82912b68",
     "locked": true,
     "schema_version": 3,
     "solution": false,
     "task": false
    }
   },
   "source": [
    "## Problem 2: Confidential Information Protector\n",
    "\n",
    "__IMPORTANT__: You can organize your program in any way you want, but you should at least define a function called `word_protector` that takes in input the two lists described below and __*returns the new list of words*__ (in addition to printing it).\n",
    "\n",
    "### The problem\n",
    "\n",
    "Write a program that takes a list of words and a list of top-secret words, and prints out a new list of words that replaces each top-secret word with the word \"PROTECTED\", as well as the number of times the top-secret words showed up.\n",
    "\n",
    "\n",
    "### Example input\n",
    "\n",
    "For example, given these words and top-secret words:\n",
    "```python\n",
    "words = ['she', 'sells', 'sea-shells', 'on', 'the', 'sea-shore', 'the', 'shells', 'she', 'sells', 'are', 'sea-shells', \"i'm\", 'sure', 'for', 'if', 'she', 'sells', 'sea-shells', 'on', 'the', 'sea-shore', 'then', \"i'm\", 'sure', 'she', 'sells', 'sea-shore', 'shells']\n",
    "\n",
    "top_secret_words = [\"she\", \"sea-shells\"]\n",
    "\n",
    "```\n",
    "\n",
    "your program should produce the following output:\n",
    "\n",
    "```\n",
    "PROTECTED\n",
    "sells\n",
    "PROTECTED\n",
    "on\n",
    "the\n",
    "sea-shore\n",
    "the\n",
    "shells\n",
    "PROTECTED\n",
    "sells\n",
    "are\n",
    "PROTECTED\n",
    "i'm\n",
    "sure\n",
    "for\n",
    "if\n",
    "PROTECTED\n",
    "sells\n",
    "PROTECTED\n",
    "on\n",
    "the\n",
    "sea-shore\n",
    "then\n",
    "i'm\n",
    "sure\n",
    "PROTECTED\n",
    "sells\n",
    "sea-shore\n",
    "shells\n",
    "\n",
    "PROTECTED 7 words.\n",
    "```\n",
    "\n",
    "it should also return the following list:\n",
    "```python\n",
    "['PROTECTED', 'sells', 'PROTECTED', 'on', 'the', 'sea-shore', 'the', 'shells', 'PROTECTED', 'sells', 'are', 'PROTECTED', \"i'm\", 'sure', 'for', 'if', 'PROTECTED', 'sells', 'PROTECTED', 'on', 'the', 'sea-shore', 'then', \"i'm\", 'sure', 'PROTECTED', 'sells', 'sea-shore', 'shells']\n",
    "```"
   ]
  },
  {
   "cell_type": "code",
   "execution_count": null,
   "metadata": {
    "id": "Stj6Fd_4ghH0",
    "nbgrader": {
     "grade": false,
     "grade_id": "cell-86835d5ba8dfd736",
     "locked": false,
     "schema_version": 3,
     "solution": true,
     "task": false
    },
    "tags": []
   },
   "outputs": [],
   "source": [
    "...\n",
    "\n",
    "# Test different arguments!\n",
    "test_words = ['she', 'sells', 'sea-shells', 'on', 'the', 'sea-shore', 'the', 'shells', 'she', 'sells', 'are', 'sea-shells', \"i'm\", 'sure', 'for', 'if', 'she', 'sells', 'sea-shells', 'on', 'the', 'sea-shore', 'then', \"i'm\", 'sure', 'she', 'sells', 'sea-shore', 'shells']\n",
    "test_top_secret_words = ['she', 'sea-shells']\n",
    "\n",
    "redacted_words = word_protector(test_words, test_top_secret_words)"
   ]
  },
  {
   "cell_type": "markdown",
   "metadata": {
    "deletable": false,
    "editable": false,
    "nbgrader": {
     "grade": false,
     "grade_id": "cell-8f07a4192bc71082",
     "locked": true,
     "schema_version": 3,
     "solution": false,
     "task": false
    }
   },
   "source": [
    "The cell below is an autograder cell, run it to check if your solution is correct."
   ]
  },
  {
   "cell_type": "code",
   "execution_count": null,
   "metadata": {
    "deletable": false,
    "editable": false
   },
   "outputs": [],
   "source": [
    "grader.check(\"prob2\")"
   ]
  },
  {
   "cell_type": "markdown",
   "metadata": {},
   "source": [
    "<br/>\n",
    "<br/>\n",
    "<br/>\n",
    "<br/>\n",
    "<br/>\n",
    "<br/>\n",
    "\n",
    "---"
   ]
  },
  {
   "cell_type": "markdown",
   "metadata": {
    "id": "coKS_h97g41S",
    "nbgrader": {
     "grade": false,
     "grade_id": "cell-622ec8dea1ebf987",
     "locked": true,
     "schema_version": 3,
     "solution": false,
     "task": false
    }
   },
   "source": [
    "## Problem 3: Secure Email Domain Filter\n",
    "\n",
    "__IMPORTANT__: You can organize your program in any way you want, but you should at least define a function called `email_blocker` that takes in input the two lists described below and __*returns the new list of email addresses*__ (in addition to printing it).\n",
    "\n",
    "### The problem\n",
    "\n",
    "Write a program that takes a list of emails, and a list of blocked domains (like umd.edu, NOT the whole email), and prints out only &ldquo;cleaned&rdquo; emails (one e-mail per line) that are not from the blocked domains, as well as the number of times any email from a blocked domain showed up.\n",
    "\n",
    "### Example input\n",
    "\n",
    "For example, given these emails and blocked domains:\n",
    "```python\n",
    "emails = [\n",
    "  \"joelchan@umd.edu\",\n",
    "  \"firebrand@gmail.com\",\n",
    "  \"funlove@yahoo.com\",\n",
    "  \"miro@outlook.com\",\n",
    "  \"sp@umd.edu\",\n",
    "  \"kjfrog@gmail.com\"          \n",
    "]\n",
    "\n",
    "domains = ['yahoo.com', 'outlook.com']\n",
    "```\n",
    "\n",
    "your program should produce the following output:\n",
    "\n",
    "```\n",
    "EMAIL: joelchan@umd.edu\n",
    "EMAIL: firebrand@gmail.com\n",
    "EMAIL: sp@umd.edu\n",
    "EMAIL: kjfrog@gmail.com\n",
    "\n",
    "Filtered 2 emails from blocked domains.\n",
    "```\n",
    "\n",
    "and return the following list:\n",
    "```python\n",
    "['joelchan@umd.edu', 'firebrand@gmail.com', 'sp@umd.edu', 'kjfrog@gmail.com']\n",
    "```"
   ]
  },
  {
   "cell_type": "code",
   "execution_count": null,
   "metadata": {
    "nbgrader": {
     "grade": false,
     "grade_id": "cell-b5c98bb7508195c8",
     "locked": false,
     "schema_version": 3,
     "solution": true,
     "task": false
    },
    "tags": []
   },
   "outputs": [],
   "source": [
    "...\n",
    "\n",
    "# Test different arguments!\n",
    "test_emails = [\n",
    "  \"joelchan@umd.edu\",\n",
    "  \"firebrand@gmail.com\",\n",
    "  \"funlove@yahoo.com\",\n",
    "  \"miro@outlook.com\",\n",
    "  \"sp@umd.edu\",\n",
    "  \"kjfrog@gmail.com\"          \n",
    "]\n",
    "test_domains = ['yahoo.com', 'outlook.com']\n",
    "\n",
    "cleaned_emails = email_blocker(test_emails, test_domains)"
   ]
  },
  {
   "cell_type": "markdown",
   "metadata": {
    "deletable": false,
    "editable": false,
    "nbgrader": {
     "grade": false,
     "grade_id": "cell-985e9743c014a5ba",
     "locked": true,
     "schema_version": 3,
     "solution": false,
     "task": false
    }
   },
   "source": [
    "The cell below is an autograder cell, run it to check if your solution is correct."
   ]
  },
  {
   "cell_type": "code",
   "execution_count": null,
   "metadata": {
    "deletable": false,
    "editable": false
   },
   "outputs": [],
   "source": [
    "grader.check(\"prob3\")"
   ]
  },
  {
   "cell_type": "markdown",
   "metadata": {},
   "source": [
    "<br/>\n",
    "<br/>\n",
    "<br/>\n",
    "<br/>\n",
    "<br/>\n",
    "<br/>\n",
    "\n",
    "---"
   ]
  },
  {
   "cell_type": "markdown",
   "metadata": {
    "id": "6ojrM4YphcEC",
    "nbgrader": {
     "grade": false,
     "grade_id": "cell-8a00141fdff50f80",
     "locked": true,
     "schema_version": 3,
     "solution": false,
     "task": false
    }
   },
   "source": [
    "## Problem 4: Rochambo Game Simulator\n",
    "\n",
    "__IMPORTANT__: You can organize your program in any way you want, but you should at least define a function called `rochambo` that takes in input the two lists described below and __*returns an integer encoding the outcome of the game*__ (`0` &ndash; draw, `1` &ndash; player 1 won, `2` &ndash; player 2 won), in addition to printing the messages below.\n",
    "\n",
    "### The problem\n",
    "\n",
    "Write a program that plays Rochambo (also known as &ldquo;Rock-Paper-Scissors&rdquo;). The program takes two lists of entries, of any length (as long as they are the same length), and computes how many wins each player gets in total, then returns a message that prints out `Player A wins, with N wins to Y wins for Player B` if one player wins. If it comes to a draw, print out `Draw! Each player has N wins apiece`.\n",
    "\n",
    "### Example input\n",
    "\n",
    "For example, given these entries:\n",
    "```python\n",
    "player_1 = [\"R\", \"S\", \"P\", \"S\", \"S\", \"R\", \"P\"]\n",
    "player_2 = [\"S\", \"S\", \"R\", \"R\", \"P\", \"S\", \"P\"]\n",
    "```\n",
    "\n",
    "your program should print the following output:\n",
    "\n",
    "```\n",
    "Player 1 wins, with 4 wins to 1 wins for Player 2\n",
    "```\n",
    "\n",
    "And return `1`.\n"
   ]
  },
  {
   "cell_type": "code",
   "execution_count": null,
   "metadata": {
    "nbgrader": {
     "grade": false,
     "grade_id": "cell-09ba3c1c2db9aaa4",
     "locked": false,
     "schema_version": 3,
     "solution": true,
     "task": false
    },
    "tags": []
   },
   "outputs": [],
   "source": [
    "...\n",
    "\n",
    "# Test different arguments!\n",
    "test_player_1 = [\"R\", \"S\", \"P\", \"S\", \"S\", \"R\", \"P\"]\n",
    "test_player_2 = [\"S\", \"S\", \"R\", \"R\", \"P\", \"S\", \"P\"]\n",
    "\n",
    "return_code = rochambo(test_player_1, test_player_2)"
   ]
  },
  {
   "cell_type": "markdown",
   "metadata": {
    "deletable": false,
    "editable": false,
    "nbgrader": {
     "grade": false,
     "grade_id": "cell-84a9056a8170a8c6",
     "locked": true,
     "schema_version": 3,
     "solution": false,
     "task": false
    }
   },
   "source": [
    "The cell below is an autograder cell, run it to check if your solution is correct."
   ]
  },
  {
   "cell_type": "code",
   "execution_count": null,
   "metadata": {
    "deletable": false,
    "editable": false
   },
   "outputs": [],
   "source": [
    "grader.check(\"prob4\")"
   ]
  },
  {
   "cell_type": "markdown",
   "metadata": {},
   "source": [
    "<br/>\n",
    "<br/>\n",
    "<br/>\n",
    "<br/>\n",
    "<br/>\n",
    "<br/>\n",
    "\n",
    "---"
   ]
  },
  {
   "cell_type": "markdown",
   "metadata": {
    "id": "gQ7JwWWaaHeH"
   },
   "source": [
    "## Problem 5: Data Sanitizer\n",
    "\n",
    "__IMPORTANT__: You can organize your program in any way you want, but you should at least define a function called `data_sanitizer` that takes in input the list described below and __*returns the list of sanitized data*__ (in addition to printing the average).\n",
    "\n",
    "### The problem\n",
    "\n",
    "Write a program that takes in a list of payment records that are &ldquo;dirty&rdquo;: they need to be screened out of &ldquo;outliers&rdquo; (anything below \\\\$0 or above \\\\$50,000 is an outlier), and then prints out the average payment values for the list. Also note that the payment records are strings (e.g., `\"$100,000\"`) that should be represented as numbers.\n",
    "\n",
    "### Example input\n",
    "\n",
    "For example, given these entries:\n",
    "```python\n",
    "payments = [\n",
    "   \"$1,000,000\",\n",
    "   \"$-90\",\n",
    "   \"$50\",\n",
    "   \"$153\",\n",
    "   \"$22\",\n",
    "   \"$265\",\n",
    "   \"$500,000\"\n",
    "]\n",
    "```\n",
    "\n",
    "your program should print the following output:\n",
    "\n",
    "```\n",
    "Average payment = $122.50\n",
    "```\n",
    "\n",
    "with rounding to 2 decimal digits, and return the following list:\n",
    "\n",
    "```python\n",
    "[50, 153, 22, 265]\n",
    "```\n"
   ]
  },
  {
   "cell_type": "code",
   "execution_count": null,
   "metadata": {
    "nbgrader": {
     "grade": false,
     "grade_id": "cell-7cd29df659fd5ef3",
     "locked": false,
     "schema_version": 3,
     "solution": true,
     "task": false
    },
    "tags": []
   },
   "outputs": [],
   "source": [
    "...\n",
    "\n",
    "# Test different arguments!\n",
    "test_payments = [\n",
    "   \"$1,000,000\",\n",
    "   \"$-90\",\n",
    "   \"$50\",\n",
    "   \"$153\",\n",
    "   \"$22\",\n",
    "   \"$265\",\n",
    "   \"$500,000\"\n",
    "]\n",
    "\n",
    "sanitized_payments = data_sanitizer(test_payments)"
   ]
  },
  {
   "cell_type": "markdown",
   "metadata": {
    "deletable": false,
    "editable": false,
    "nbgrader": {
     "grade": false,
     "grade_id": "cell-1c96f242979f21ba",
     "locked": true,
     "schema_version": 3,
     "solution": false,
     "task": false
    }
   },
   "source": [
    "The cell below is an autograder cell, run it to check if your solution is correct."
   ]
  },
  {
   "cell_type": "code",
   "execution_count": null,
   "metadata": {
    "deletable": false,
    "editable": false
   },
   "outputs": [],
   "source": [
    "grader.check(\"prob5\")"
   ]
  },
  {
   "cell_type": "markdown",
   "metadata": {},
   "source": [
    "<br/>\n",
    "<br/>\n",
    "<br/>\n",
    "<br/>\n",
    "<br/>\n",
    "<br/>\n",
    "\n",
    "---"
   ]
  },
  {
   "cell_type": "markdown",
   "metadata": {
    "nbgrader": {
     "grade": false,
     "grade_id": "cell-ec7e51bc00f2cba9",
     "locked": true,
     "schema_version": 3,
     "solution": false,
     "task": false
    }
   },
   "source": [
    "### _Note_: Make sure to run the cell below before you submit."
   ]
  },
  {
   "cell_type": "code",
   "execution_count": null,
   "metadata": {
    "nbgrader": {
     "grade": false,
     "grade_id": "cell-2813d265072b5d85",
     "locked": true,
     "schema_version": 3,
     "solution": false,
     "task": false
    }
   },
   "outputs": [],
   "source": [
    "!jupyter nbconvert --to script PR-02-Lists-Iteration-and-Strings.ipynb"
   ]
  },
  {
   "cell_type": "markdown",
   "metadata": {
    "deletable": false,
    "editable": false
   },
   "source": [
    "## Submission\n",
    "\n",
    "Make sure you have run all cells in your notebook in order before running the cell below, so that all images/graphs appear in the output. The cell below will generate a zip file for you to submit."
   ]
  },
  {
   "cell_type": "code",
   "execution_count": null,
   "metadata": {
    "deletable": false,
    "editable": false
   },
   "outputs": [],
   "source": [
    "grader.export(force_save=True, run_tests=True, files=['PR-02-Lists-Iteration-and-Strings.py'])"
   ]
  },
  {
   "cell_type": "markdown",
   "metadata": {},
   "source": [
    " "
   ]
  }
 ],
 "metadata": {
  "celltoolbar": "Create Assignment",
  "colab": {
   "collapsed_sections": [],
   "name": "INST126_SP21_Project2_FinalDeliverable_TEMPLATE.ipynb",
   "provenance": []
  },
  "kernelspec": {
   "display_name": "Python 3 (ipykernel)",
   "language": "python",
   "name": "python3"
  },
  "language_info": {
   "codemirror_mode": {
    "name": "ipython",
    "version": 3
   },
   "file_extension": ".py",
   "mimetype": "text/x-python",
   "name": "python",
   "nbconvert_exporter": "python",
   "pygments_lexer": "ipython3",
   "version": "3.11.4"
  },
  "otter": {
   "OK_FORMAT": false,
   "tests": {
    "prob1": "from otter.test_files import test_case\n\nOK_FORMAT = False\n\nname = \"prob1\"\npoints = None\n\n@test_case(points=None, hidden=False)\ndef prob1_test1(redirect_stdout, StringIO, re, tweet_truncator):\n    if tweet_truncator is None:\n        raise AssertionError(\"No student function found for this problem.\")\n    pattern = \"Truncated (?P<number>\\d+) tweets that were over the limit\"\n    # Test #1 INPUT\n    tweets=[\n        \"Lorem ipsum dolor sit amet, consectetur adipiscing elit. Ut ornare egestas purus quis aliquet. Nulla molestie neque et ante semper, in consequat ante facilisis. Cras sodales, mi et vulputate vestibulum, ante nunc dictum mauris, sed pellentesque sem felis nec sem. Ut feugiat ante magna, pellentesque porttitor lectus sagittis sit amet.\",\n        \"Python is so cool! #programming\",\n        \"Suspendisse nec lacus tempus, sagittis augue non, maximus ante. Cras vehicula, nibh vel sodales tristique, eros libero vestibulum quam, bibendum cursus eros felis ut metus. Suspendisse potenti. Phasellus maximus augue vitae dui luctus, sit amet vestibulum velit lobortis. Class aptent taciti sociosqu ad litora torquent per conubia nostra, per inceptos himenaeos.\",\n        \"Vestibulum lobortis purus at ultrices luctus. Suspendisse hendrerit venenatis mi in posuere. Mauris porta rhoncus nunc in convallis. Cras vel finibus nisl. Suspendisse a euismod elit. Nam congue massa at dolor semper, nec mollis est elementum. Duis accumsan ultrices egestas. Quisque consequat ultricies scelerisque. Vivamus felis turpis, tincidunt sit amet pellentesque eget, malesuada non odio.\",\n        \"It's finally #caturday!\"\n    ]\n    # Test #1 EXPECTED OUTPUT\n    expected_tweets=[\n        'Lorem ipsum dolor sit amet, consectetur adipiscing elit. Ut ornare egestas purus quis aliquet. Nulla molestie neque et ante semper, in consequat ante facilisis. Cras sodales, mi et vulputate vestibulum, ante nunc dictum mauris, sed pellentesque sem felis nec sem. Ut feugiat an!!!',\n        'Python is so cool! #programming',\n        'Suspendisse nec lacus tempus, sagittis augue non, maximus ante. Cras vehicula, nibh vel sodales tristique, eros libero vestibulum quam, bibendum cursus eros felis ut metus. Suspendisse potenti. Phasellus maximus augue vitae dui luctus, sit amet vestibulum velit lobortis. Class!!!',\n        'Vestibulum lobortis purus at ultrices luctus. Suspendisse hendrerit venenatis mi in posuere. Mauris porta rhoncus nunc in convallis. Cras vel finibus nisl. Suspendisse a euismod elit. Nam congue massa at dolor semper, nec mollis est elementum. Duis accumsan ultrices egestas. Q!!!',\n        \"It's finally #caturday!\"\n    ]\n    # Test #1 EXPECTED NUMBER\n    expected_num_truncated=3\n\n    # run student's function and capture output of any print() in it\n    with redirect_stdout(StringIO()) as out:\n        truncated_tweets = tweet_truncator(list(tweets))\n\n    # test returned value is same as expecteed\n    assert truncated_tweets == expected_tweets\n\n    # test that program printed the correct output string\n    m = re.search(pattern, out.getvalue(), re.I)\n    assert m is not None\n    assert 'number' in m.groupdict()\n    assert int(m.groupdict()['number']) == expected_num_truncated\n@test_case(points=None, hidden=False)\ndef prob1_test2(redirect_stdout, StringIO, re, tweet_truncator):\n    if tweet_truncator is None:\n        raise AssertionError(\"No student function found for this problem.\")\n    pattern = \"Truncated (?P<number>\\d+) tweets that were over the limit\"\n    # Test #2 INPUT\n    tweets=[\n        \"I got a feeling That tonight's gonna be a good night That tonight's gonna be a good night That tonight's gonna be a good, good night\",\n        \"A feeling That tonight's gonna be a good night That tonight's gonna be a good night That tonight's gonna be a good, good night\",\n        \"A feeling (woo-hoo) That tonight's gonna be a good night That tonight's gonna be a good night That tonight's gonna be a good, good night\",\n        \"A feeling (woo-hoo) That tonight's gonna be a good night That tonight's gonna be a good night That tonight's gonna be a good, good night\",\n        \"Tonight's the night, let's live it up I got my money, let's spend it up (a fee-) Go out and smash it, like, \\\"Oh my God\\\" Jump out that sofa, let's kick it, off (a fee-)\",\n        \"I know that we'll have a ball If we get down and go out, and just lose it all I feel, stressed out, I wanna let it go Let's go way out, spaced out, and losin' all control\",\n        \"Fill up my cup, mazel tov Look at her dancin', just take it, off (a fee-) Let's paint the town, we'll shut it down Let's burn the roof, and then we'll do it again\",\n        \"Let's do it, let's do it, let's do it, let's do it And do it, and do it, let's live it up And do it, and do it, and do it, do it, do it Let's do it, let's do it, let's do it\",\n        \"'Cause I gotta feeling (woo-hoo) That tonight's gonna be a good night That tonight's gonna be a good night That tonight's gonna be a good, good night\",\n        \"A feeling (woo-hoo) That tonight's gonna be a good night That tonight's gonna be a good night That tonight's gonna be a good, good night (a fee-)\",\n        \"Tonight's the night (hey), let's live it up (let's live it up) I got my money (I'm paid), let's spend it up (let's spend it up) Go out and smash it (smash it), like, \\\"Oh my God\\\" (like, \\\"Oh my God!\\\") Jump out that sofa (come on), let's kick it, off (a fee-)\",\n        \"Fill up my cup (drink), mazel tov (l'chaim) Look at her dancing (move it, move it), just take it, off (a fee-) Let's paint the town (paint the town), we'll shut it down (shut it down) Let's burn the roof (ooh-woo), and then we'll do it again\",\n        \"Let's do it, let's do it, let's do it, (let's do it) let's do it And do it (do it), and do it, let's live it up And do it (do it), and do it (and do it) And do it, do it, do it (and do it) Let's do it (and do it), let's do it (and do it) Let's do it (hey), do it (hey), do it (hey), do it\",\n        \"Here we come, here we go, we gotta rock Easy come, easy go, now we on top Feel the shot, body rock, rock it, don't stop Round and round, up and down, around the clock Monday, Tuesday, Wednesday and Thursday (do it) Friday, Saturday, Saturday to Sunday (do it) Get, get, get, get, get with us, you know what we say (say) Party every day, p-p-p-party every day\",\n        \"And I'm feeling (woo-hoo) That tonight's gonna be a good night That tonight's gonna be a good night That tonight's gonna be a good, good night\",\n        \"A feeling (woo-hoo) That tonight's gonna be a good night That tonight's gonna be a good night That tonight's gonna be a good, good night (Woo-hoo)\"\n    ]\n    # Test #2 EXPECTED OUTPUT\n    expected_tweets=[\n        \"I got a feeling That tonight's gonna be a good night That tonight's gonna be a good night That tonight's gonna be a good, good night\",\n        \"A feeling That tonight's gonna be a good night That tonight's gonna be a good night That tonight's gonna be a good, good night\",\n        \"A feeling (woo-hoo) That tonight's gonna be a good night That tonight's gonna be a good night That tonight's gonna be a good, good night\",\n        \"A feeling (woo-hoo) That tonight's gonna be a good night That tonight's gonna be a good night That tonight's gonna be a good, good night\",\n        'Tonight\\'s the night, let\\'s live it up I got my money, let\\'s spend it up (a fee-) Go out and smash it, like, \"Oh my God\" Jump out that sofa, let\\'s kick it, off (a fee-)',\n        \"I know that we'll have a ball If we get down and go out, and just lose it all I feel, stressed out, I wanna let it go Let's go way out, spaced out, and losin' all control\",\n        \"Fill up my cup, mazel tov Look at her dancin', just take it, off (a fee-) Let's paint the town, we'll shut it down Let's burn the roof, and then we'll do it again\",\n        \"Let's do it, let's do it, let's do it, let's do it And do it, and do it, let's live it up And do it, and do it, and do it, do it, do it Let's do it, let's do it, let's do it\",\n        \"'Cause I gotta feeling (woo-hoo) That tonight's gonna be a good night That tonight's gonna be a good night That tonight's gonna be a good, good night\",\n        \"A feeling (woo-hoo) That tonight's gonna be a good night That tonight's gonna be a good night That tonight's gonna be a good, good night (a fee-)\",\n        'Tonight\\'s the night (hey), let\\'s live it up (let\\'s live it up) I got my money (I\\'m paid), let\\'s spend it up (let\\'s spend it up) Go out and smash it (smash it), like, \"Oh my God\" (like, \"Oh my God!\") Jump out that sofa (come on), let\\'s kick it, off (a fee-)',\n        \"Fill up my cup (drink), mazel tov (l'chaim) Look at her dancing (move it, move it), just take it, off (a fee-) Let's paint the town (paint the town), we'll shut it down (shut it down) Let's burn the roof (ooh-woo), and then we'll do it again\",\n        \"Let's do it, let's do it, let's do it, (let's do it) let's do it And do it (do it), and do it, let's live it up And do it (do it), and do it (and do it) And do it, do it, do it (and do it) Let's do it (and do it), let's do it (and do it) Let's do it (hey), do it (hey), do it (!!!\",\n        \"Here we come, here we go, we gotta rock Easy come, easy go, now we on top Feel the shot, body rock, rock it, don't stop Round and round, up and down, around the clock Monday, Tuesday, Wednesday and Thursday (do it) Friday, Saturday, Saturday to Sunday (do it) Get, get, get, ge!!!\",\n        \"And I'm feeling (woo-hoo) That tonight's gonna be a good night That tonight's gonna be a good night That tonight's gonna be a good, good night\",\n        \"A feeling (woo-hoo) That tonight's gonna be a good night That tonight's gonna be a good night That tonight's gonna be a good, good night (Woo-hoo)\"\n    ]\n    # TEST #2 EXPECTED NUMBER\n    expected_num_truncated=2\n\n    # run student's function and capture output of any print() in it\n    with redirect_stdout(StringIO()) as out:\n        truncated_tweets = tweet_truncator(list(tweets))\n\n    # test returned value is same as expecteed\n    assert truncated_tweets == expected_tweets\n\n    # test that program printed the correct output string\n    m = re.search(pattern, out.getvalue(), re.I)\n    assert m is not None\n    assert 'number' in m.groupdict()\n    assert int(m.groupdict()['number']) == expected_num_truncated\n@test_case(points=None, hidden=False)\ndef prob1_test3(redirect_stdout, StringIO, re, tweet_truncator):\n    if tweet_truncator is None:\n        raise AssertionError(\"No student function found for this problem.\")\n    pattern = \"Truncated (?P<number>\\d+) tweets that were over the limit\"\n    # Test #3 INPUT\n    tweets=[\n        'Himalayan birds inhabit what is perhaps the most wonderful tract of country in the world. The Himalayas are not so much a chain of mountains as a mountainous country, some eighty miles broad and several hundred long--a country composed entirely of mountains and valleys with no large plains or broad plateaux',\n        'There is a saying of an ancient Sanskrit poet which, being translated into English, runs: \"In a hundred ages of the gods I could not tell you of the glories of Himachal.\" This every writer on things Himalayan contrives to drag into his composition. Some begin with the quotation, while others reserve it for the last, and make it do duty for the epigram which stylists assure us should terminate every essay',\n        'Some there are who quote the Indian sage only to mock him. Such assert that the beauties of the Himalayas have been greatly exaggerated--that, as regards grandeur, their scenery compares unfavourably with that of the Andes, while their beauty is surpassed by that of the Alps. Not having seen the Andes, I am unable to criticise the assertion regarding the grandeur of the Himalayas, but I find it difficult to imagine anything finer than their scenery.'\n    ]\n    # Test #3 EXPECTED OUTPUT\n    expected_tweets=[\n        'Himalayan birds inhabit what is perhaps the most wonderful tract of country in the world. The Himalayas are not so much a chain of mountains as a mountainous country, some eighty miles broad and several hundred long--a country composed entirely of mountains and valleys with no!!!',\n        'There is a saying of an ancient Sanskrit poet which, being translated into English, runs: \"In a hundred ages of the gods I could not tell you of the glories of Himachal.\" This every writer on things Himalayan contrives to drag into his composition. Some begin with the quotatio!!!',\n        'Some there are who quote the Indian sage only to mock him. Such assert that the beauties of the Himalayas have been greatly exaggerated--that, as regards grandeur, their scenery compares unfavourably with that of the Andes, while their beauty is surpassed by that of the Alps. !!!'\n    ]\n    # TEST #3 EXPECTED NUMBER\n    expected_num_truncated=3\n\n    # run student's function and capture output of any print() in it\n    with redirect_stdout(StringIO()) as out:\n        truncated_tweets = tweet_truncator(list(tweets))\n\n    # test returned value is same as expecteed\n    assert truncated_tweets == expected_tweets\n\n    # test that program printed the correct output string\n    m = re.search(pattern, out.getvalue(), re.I)\n    assert m is not None\n    assert 'number' in m.groupdict()\n    assert int(m.groupdict()['number']) == expected_num_truncated\n@test_case(points=None, hidden=False)\ndef prob1_test4(redirect_stdout, StringIO, re, tweet_truncator):\n    if tweet_truncator is None:\n        raise AssertionError(\"No student function found for this problem.\")\n    pattern = \"Truncated (?P<number>\\d+) tweets that were over the limit\"\n    # Test #4 INPUT\n    tweets=[\n        'To Study The Birds From The Level Plains To The Crests Of The Peaks Swimming In Cloudland',\n        'To Note The Species That Are Peculiar To The Various Altitudes, As Well As Those That Range From The Lower Areas To The Alpine Heights',\n        'To Observe The Behavior Of All The Birds Encountered In The West, And Compare Their Habits, Songs, And General Deportment With Those Of Correlated Species And Genera In The East',\n        'To Learn As Much As Possible About The Migratory Movements Up And Down The Mountains As The Seasons Wax And Wane,--Surely That Would Be An Inspiring Prospect To Any Student Of The Feathered Fraternity',\n        \"For Many Years One Of The Writer'S Most Cherished Desires Has Been To Investigate The Bird Life Of The Rocky Mountains\",\n        'In The Spring Of 1899, And Again In 1901, Fortune Smiled Upon Him In The Most Genial Way, And--In A Mental State Akin To Rapture, It Must Be Confessed--He Found Himself Rambling Over The Plains And Mesas And Through The Deep Cañons, And Clambering Up The Dizzy Heights, In Search Of Winged Rarities'\n    ]\n    # Test #4 EXPECTED OUTPUT\n    expected_tweets=[\n        'To Study The Birds From The Level Plains To The Crests Of The Peaks Swimming In Cloudland',\n        'To Note The Species That Are Peculiar To The Various Altitudes, As Well As Those That Range From The Lower Areas To The Alpine Heights',\n        'To Observe The Behavior Of All The Birds Encountered In The West, And Compare Their Habits, Songs, And General Deportment With Those Of Correlated Species And Genera In The East',\n        'To Learn As Much As Possible About The Migratory Movements Up And Down The Mountains As The Seasons Wax And Wane,--Surely That Would Be An Inspiring Prospect To Any Student Of The Feathered Fraternity',\n        \"For Many Years One Of The Writer'S Most Cherished Desires Has Been To Investigate The Bird Life Of The Rocky Mountains\",\n        'In The Spring Of 1899, And Again In 1901, Fortune Smiled Upon Him In The Most Genial Way, And--In A Mental State Akin To Rapture, It Must Be Confessed--He Found Himself Rambling Over The Plains And Mesas And Through The Deep Cañons, And Clambering Up The Dizzy Heights, In Sear!!!'\n    ]\n    # TEST #4 EXPECTED NUMBER\n    expected_num_truncated=1\n\n    # run student's function and capture output of any print() in it\n    with redirect_stdout(StringIO()) as out:\n        truncated_tweets = tweet_truncator(list(tweets))\n\n    # test returned value is same as expecteed\n    assert truncated_tweets == expected_tweets\n\n    # test that program printed the correct output string\n    m = re.search(pattern, out.getvalue(), re.I)\n    assert m is not None\n    assert 'number' in m.groupdict()\n    assert int(m.groupdict()['number']) == expected_num_truncated\n@test_case(points=None, hidden=False)\ndef prob1_test5(redirect_stdout, StringIO, re, tweet_truncator):\n    if tweet_truncator is None:\n        raise AssertionError(\"No student function found for this problem.\")\n    pattern = \"Truncated (?P<number>\\d+) tweets that were over the limit\"\n    # Test #5 INPUT\n    tweets=[]\n    # Test #5 EXPECTED OUTPUT\n    expected_tweets=[]\n    # TEST #5 EXPECTED NUMBER\n    expected_num_truncated=0\n\n    # run student's function and capture output of any print() in it\n    with redirect_stdout(StringIO()) as out:\n        truncated_tweets = tweet_truncator(list(tweets))\n\n    # test returned value is same as expecteed\n    assert truncated_tweets == expected_tweets\n\n    # test that program printed the correct output string\n    m = re.search(pattern, out.getvalue(), re.I)\n    assert m is not None\n    assert 'number' in m.groupdict()\n    assert int(m.groupdict()['number']) == expected_num_truncated\n",
    "prob2": "from otter.test_files import test_case\n\nOK_FORMAT = False\n\nname = \"prob2\"\npoints = None\n\n@test_case(points=None, hidden=False)\ndef prob2_test1(redirect_stdout, StringIO, re, word_protector):\n    if word_protector is None:\n        raise AssertionError(\"No student function found for this problem.\")\n    pattern = \"Protected (?P<number>\\d+) words.\"\n\n    # Test #1 INPUT\n    words=['she', 'sells', 'sea-shells', 'on', 'the', 'sea-shore', 'the', 'shells', 'she', 'sells', 'are', 'sea-shells', \"i'm\", 'sure', 'for', 'if', 'she', 'sells', 'sea-shells', 'on', 'the', 'sea-shore', 'then', \"i'm\", 'sure', 'she', 'sells', 'sea-shore', 'shells']\n    top_secret_words=[\"she\", \"sea-shells\"]\n    # Test #1 EXPECTED OUTPUT\n    expected_words=['PROTECTED', 'sells', 'PROTECTED', 'on', 'the', 'sea-shore', 'the', 'shells', 'PROTECTED', 'sells', 'are', 'PROTECTED', \"i'm\", 'sure', 'for', 'if', 'PROTECTED', 'sells', 'PROTECTED', 'on', 'the', 'sea-shore', 'then', \"i'm\", 'sure', 'PROTECTED', 'sells', 'sea-shore', 'shells']\n    # Test #1 EXPECTED NUMBER\n    expected_num_protected=7\n\n    # run student's function and capture output of any print() in it\n    with redirect_stdout(StringIO()) as out:\n        protected_words = word_protector(list(words), top_secret_words)\n\n    # test returned value is same as expecteed\n    assert protected_words == expected_words\n\n    # test that program printed the correct output string\n    m = re.search(pattern, out.getvalue(), re.I)\n    assert m is not None\n    assert 'number' in m.groupdict()\n    assert int(m.groupdict()['number']) == expected_num_protected\n@test_case(points=None, hidden=False)\ndef prob2_test2(redirect_stdout, StringIO, re, word_protector):\n    if word_protector is None:\n        raise AssertionError(\"No student function found for this problem.\")\n    pattern = \"Protected (?P<number>\\d+) words.\"\n\n    # Test #2 INPUT\n    words=['she', 'sells', 'sea-shells', 'on', 'the', 'sea-shore', 'the', 'shells', 'she', 'sells', 'are', 'sea-shells', \"i'm\", 'sure', 'for', 'if', 'she', 'sells', 'sea-shells', 'on', 'the', 'sea-shore', 'then', \"i'm\", 'sure', 'she', 'sells', 'sea-shore', 'shells']\n    top_secret_words=[\"she\", \"sea-shells\", \"sells\"]\n    # Test #2 EXPECTED OUTPUT\n    expected_words=['PROTECTED', 'PROTECTED', 'PROTECTED', 'on', 'the', 'sea-shore', 'the', 'shells', 'PROTECTED', 'PROTECTED', 'are', 'PROTECTED', \"i'm\", 'sure', 'for', 'if', 'PROTECTED', 'PROTECTED', 'PROTECTED', 'on', 'the', 'sea-shore', 'then', \"i'm\", 'sure', 'PROTECTED', 'PROTECTED', 'sea-shore', 'shells']\n    # Test #2 EXPECTED NUMBER\n    expected_num_protected=11\n\n    # run student's function and capture output of any print() in it\n    with redirect_stdout(StringIO()) as out:\n        protected_words = word_protector(list(words), top_secret_words)\n\n    # test returned value is same as expecteed\n    assert protected_words == expected_words\n\n    # test that program printed the correct output string\n    m = re.search(pattern, out.getvalue(), re.I)\n    assert m is not None\n    assert 'number' in m.groupdict()\n    assert int(m.groupdict()['number']) == expected_num_protected\n@test_case(points=None, hidden=False)\ndef prob2_test3(redirect_stdout, StringIO, re, word_protector):\n    if word_protector is None:\n        raise AssertionError(\"No student function found for this problem.\")\n    pattern = \"Protected (?P<number>\\d+) words.\"\n\n    # Test #3 INPUT\n    words=['she', 'sells', 'sea-shells', 'on', 'the', 'sea-shore', 'the', 'shells', 'she', 'sells', 'are', 'sea-shells', \"i'm\", 'sure', 'for', 'if', 'she', 'sells', 'sea-shells', 'on', 'the', 'sea-shore', 'then', \"i'm\", 'sure', 'she', 'sells', 'sea-shore', 'shells']\n    top_secret_words=[]\n    # Test #3 EXPECTED OUTPUT\n    expected_words=['she', 'sells', 'sea-shells', 'on', 'the', 'sea-shore', 'the', 'shells', 'she', 'sells', 'are', 'sea-shells', \"i'm\", 'sure', 'for', 'if', 'she', 'sells', 'sea-shells', 'on', 'the', 'sea-shore', 'then', \"i'm\", 'sure', 'she', 'sells', 'sea-shore', 'shells']\n    # Test #3 EXPECTED NUMBER\n    expected_num_protected=0\n\n    # run student's function and capture output of any print() in it\n    with redirect_stdout(StringIO()) as out:\n        protected_words = word_protector(list(words), top_secret_words)\n\n    # test returned value is same as expecteed\n    assert protected_words == expected_words\n\n    # test that program printed the correct output string\n    m = re.search(pattern, out.getvalue(), re.I)\n    assert m is not None\n    assert 'number' in m.groupdict()\n    assert int(m.groupdict()['number']) == expected_num_protected\n@test_case(points=None, hidden=False)\ndef prob2_test4(redirect_stdout, StringIO, re, word_protector):\n    if word_protector is None:\n        raise AssertionError(\"No student function found for this problem.\")\n    pattern = \"Protected (?P<number>\\d+) words.\"\n\n    # Test #4 INPUT\n    words=['mary', 'had', 'a', 'little', 'lamb', 'little', 'lamb', 'little', 'lamb', 'mary', 'had', 'a', 'little', 'lamb', 'its', 'fleece', 'was', 'white', 'as', 'snow']\n    top_secret_words=[\"lamb\"]\n    # Test #4 EXPECTED OUTPUT\n    expected_words=['mary', 'had', 'a', 'little', 'PROTECTED', 'little', 'PROTECTED', 'little', 'PROTECTED', 'mary', 'had', 'a', 'little', 'PROTECTED', 'its', 'fleece', 'was', 'white', 'as', 'snow']\n    # Test #4 EXPECTED NUMBER\n    expected_num_protected=4\n\n    # run student's function and capture output of any print() in it\n    with redirect_stdout(StringIO()) as out:\n        protected_words = word_protector(list(words), top_secret_words)\n\n    # test returned value is same as expecteed\n    assert protected_words == expected_words\n\n    # test that program printed the correct output string\n    m = re.search(pattern, out.getvalue(), re.I)\n    assert m is not None\n    assert 'number' in m.groupdict()\n    assert int(m.groupdict()['number']) == expected_num_protected\n@test_case(points=None, hidden=False)\ndef prob2_test5(redirect_stdout, StringIO, re, word_protector):\n    if word_protector is None:\n        raise AssertionError(\"No student function found for this problem.\")\n    pattern = \"Protected (?P<number>\\d+) words.\"\n\n    # Test #5 INPUT\n    words=[]\n    top_secret_words=[\"lorem\", \"ipsum\"]\n    # Test #5 EXPECTED OUTPUT\n    expected_words=[]\n    # Test #5 EXPECTED NUMBER\n    expected_num_protected=0\n\n    # run student's function and capture output of any print() in it\n    with redirect_stdout(StringIO()) as out:\n        protected_words = word_protector(list(words), top_secret_words)\n\n    # test returned value is same as expecteed\n    assert protected_words == expected_words\n\n    # test that program printed the correct output string\n    m = re.search(pattern, out.getvalue(), re.I)\n    assert m is not None\n    assert 'number' in m.groupdict()\n    assert int(m.groupdict()['number']) == expected_num_protected\n",
    "prob3": "from otter.test_files import test_case\n\nOK_FORMAT = False\n\nname = \"prob3\"\npoints = None\n\n@test_case(points=None, hidden=False)\ndef prob3_test1(redirect_stdout, StringIO, re, email_blocker):\n    if email_blocker is None:\n        raise AssertionError(\"No student function found for this problem.\")\n    pattern = \"Filtered (?P<number>\\d+) emails from blocked domains\"\n\n    # Test #1 INPUT\n    emails=[\"joelchan@umd.edu\", \"firebrand@gmail.com\", \"funlove@yahoo.com\", \"miro@outlook.com\", \"sp@umd.edu\", \"kjfrog@gmail.com\"]\n    domains=['yahoo.com', 'outlook.com']\n    # Test #1 EXPECTED OUTPUT\n    expected_emails=['joelchan@umd.edu', 'firebrand@gmail.com', 'sp@umd.edu', 'kjfrog@gmail.com']\n    # Test #1 EXPECTED NUMBER\n    expected_num_blocked=2\n\n    # run student's function and capture output of any print() in it\n    with redirect_stdout(StringIO()) as out:\n        cleaned_emails = email_blocker(list(emails), domains)\n\n    # test returned value is same as expecteed\n    assert cleaned_emails == expected_emails\n\n    # test that program printed the correct output string\n    m = re.search(pattern, out.getvalue(), re.I)\n    assert m is not None\n    assert 'number' in m.groupdict()\n    assert int(m.groupdict()['number']) == expected_num_blocked\n@test_case(points=None, hidden=False)\ndef prob3_test2(redirect_stdout, StringIO, re, email_blocker):\n    if email_blocker is None:\n        raise AssertionError(\"No student function found for this problem.\")\n    pattern = \"Filtered (?P<number>\\d+) emails from blocked domains\"\n\n    # Test #2 INPUT\n    emails=[\"joelchan@umd.edu\", \"firebrand@gmail.com\", \"funlove@yahoo.com\", \"miro@outlook.com\", \"sp@umd.edu\", \"kjfrog@gmail.com\"]\n    domains=['yahoo.com']\n    # Test #2 EXPECTED OUTPUT\n    expected_emails=['joelchan@umd.edu', 'firebrand@gmail.com', 'miro@outlook.com', 'sp@umd.edu', 'kjfrog@gmail.com']\n    # Test #2 EXPECTED NUMBER\n    expected_num_blocked=1\n\n    # run student's function and capture output of any print() in it\n    with redirect_stdout(StringIO()) as out:\n        cleaned_emails = email_blocker(list(emails), domains)\n\n    # test returned value is same as expecteed\n    assert cleaned_emails == expected_emails\n\n    # test that program printed the correct output string\n    m = re.search(pattern, out.getvalue(), re.I)\n    assert m is not None\n    assert 'number' in m.groupdict()\n    assert int(m.groupdict()['number']) == expected_num_blocked\n@test_case(points=None, hidden=False)\ndef prob3_test3(redirect_stdout, StringIO, re, email_blocker):\n    if email_blocker is None:\n        raise AssertionError(\"No student function found for this problem.\")\n    pattern = \"Filtered (?P<number>\\d+) emails from blocked domains\"\n\n    # Test #3 INPUT\n    emails=[\"joelchan@umd.edu\", \"firebrand@gmail.com\", \"funlove@yahoo.com\", \"miro@outlook.com\", \"sp@umd.edu\", \"kjfrog@gmail.com\"]\n    domains=['yahoo.com', 'outlook.com', \"umd.edu\"]\n    # Test #3 EXPECTED OUTPUT\n    expected_emails=['firebrand@gmail.com', 'kjfrog@gmail.com']\n    # Test #3 EXPECTED NUMBER\n    expected_num_blocked=4\n\n    # run student's function and capture output of any print() in it\n    with redirect_stdout(StringIO()) as out:\n        cleaned_emails = email_blocker(list(emails), domains)\n\n    # test returned value is same as expecteed\n    assert cleaned_emails == expected_emails\n\n    # test that program printed the correct output string\n    m = re.search(pattern, out.getvalue(), re.I)\n    assert m is not None\n    assert 'number' in m.groupdict()\n    assert int(m.groupdict()['number']) == expected_num_blocked\n@test_case(points=None, hidden=False)\ndef prob3_test4(redirect_stdout, StringIO, re, email_blocker):\n    if email_blocker is None:\n        raise AssertionError(\"No student function found for this problem.\")\n    pattern = \"Filtered (?P<number>\\d+) emails from blocked domains\"\n\n    # Test #4 INPUT\n    emails=[]\n    domains=['yahoo.com', 'outlook.com']\n    # Test #4 EXPECTED OUTPUT\n    expected_emails=[]\n    # Test #4 EXPECTED NUMBER\n    expected_num_blocked=0\n\n    # run student's function and capture output of any print() in it\n    with redirect_stdout(StringIO()) as out:\n        cleaned_emails = email_blocker(list(emails), domains)\n\n    # test returned value is same as expecteed\n    assert cleaned_emails == expected_emails\n\n    # test that program printed the correct output string\n    m = re.search(pattern, out.getvalue(), re.I)\n    assert m is not None\n    assert 'number' in m.groupdict()\n    assert int(m.groupdict()['number']) == expected_num_blocked\n@test_case(points=None, hidden=False)\ndef prob3_test5(redirect_stdout, StringIO, re, email_blocker):\n    if email_blocker is None:\n        raise AssertionError(\"No student function found for this problem.\")\n    pattern = \"Filtered (?P<number>\\d+) emails from blocked domains\"\n\n    # Test #5 INPUT\n    emails=[\"joelchan@umd.edu\", \"firebrand@gmail.com\", \"funlove@yahoo.com\", \"miro@outlook.com\", \"sp@umd.edu\", \"kjfrog@gmail.com\"]\n    domains=[]\n    # Test #5 EXPECTED OUTPUT\n    expected_emails=[\"joelchan@umd.edu\", \"firebrand@gmail.com\", \"funlove@yahoo.com\", \"miro@outlook.com\", \"sp@umd.edu\", \"kjfrog@gmail.com\"]\n    # Test #5 EXPECTED NUMBER\n    expected_num_blocked=0\n\n    # run student's function and capture output of any print() in it\n    with redirect_stdout(StringIO()) as out:\n        cleaned_emails = email_blocker(list(emails), domains)\n\n    # test returned value is same as expecteed\n    assert cleaned_emails == expected_emails\n\n    # test that program printed the correct output string\n    m = re.search(pattern, out.getvalue(), re.I)\n    assert m is not None\n    assert 'number' in m.groupdict()\n    assert int(m.groupdict()['number']) == expected_num_blocked\n",
    "prob4": "from otter.test_files import test_case\n\nOK_FORMAT = False\n\nname = \"prob4\"\npoints = None\n\n@test_case(points=None, hidden=False)\ndef prob4_test1(redirect_stdout, StringIO, re, rochambo):\n    if rochambo is None:\n        raise AssertionError(\"No student function found for this problem.\")\n    pattern1 = \"Player (?P<winner>[12]) wins, with (?P<wins_winner>\\d+) wins to (?P<wins_loser>\\d+) wins for Player (?P<loser>[12])\"\n    pattern2 = \"Draw! Each player has (?P<wins_both>\\d+) wins apiece\"\n    pattern = pattern1 + \"|\" + pattern2\n\n    # Test #1 INPUT\n    player1=[\"R\", \"S\", \"P\", \"S\", \"S\", \"R\", \"P\"]\n    player2=[\"S\", \"S\", \"R\", \"R\", \"P\", \"S\", \"P\"]\n    # Test #1 EXPECTED OUTPUT\n    exp_code=1\n    # Test #1 EXPECTED NUMBERS\n    exp_winner=\"1\"\n    exp_wins_winner=\"4\"\n    exp_wins_loser=\"1\"\n    exp_loser=\"2\"\n    exp_wins_both=None\n\n    # run student's function and capture output of any print() in it\n    with redirect_stdout(StringIO()) as out:\n        return_code = rochambo(player1, player2)\n\n    # test returned value is same as expecteed\n    assert return_code == exp_code\n\n    # test that program printed the correct output string\n    m = re.search(pattern, out.getvalue(), re.I)\n    assert m is not None\n    assert 'winner' in m.groupdict()\n    assert 'loser' in m.groupdict()\n    assert 'wins_winner' in m.groupdict()\n    assert 'wins_loser' in m.groupdict()\n    assert 'wins_both' in m.groupdict()\n    assert m.groupdict()['winner'] == exp_winner\n    assert m.groupdict()['loser'] == exp_loser\n    assert m.groupdict()['wins_winner'] == exp_wins_winner\n    assert m.groupdict()['wins_loser'] == exp_wins_loser\n    assert m.groupdict()['wins_both'] == exp_wins_both\n@test_case(points=None, hidden=False)\ndef prob4_test2(redirect_stdout, StringIO, re, rochambo):\n    if rochambo is None:\n        raise AssertionError(\"No student function found for this problem.\")\n    pattern1 = \"Player (?P<winner>[12]) wins, with (?P<wins_winner>\\d+) wins to (?P<wins_loser>\\d+) wins for Player (?P<loser>[12])\"\n    pattern2 = \"Draw! Each player has (?P<wins_both>\\d+) wins apiece\"\n    pattern = pattern1 + \"|\" + pattern2\n\n    # Test #2 INPUT\n    player1=[\"S\", \"S\", \"R\", \"R\", \"P\", \"S\", \"P\"]\n    player2=[\"R\", \"S\", \"P\", \"S\", \"S\", \"R\", \"P\"]\n    # Test #2 EXPECTED OUTPUT\n    exp_code=2\n    # Test #2 EXPECTED NUMBERS\n    exp_winner=\"2\"\n    exp_wins_winner=\"4\"\n    exp_wins_loser=\"1\"\n    exp_loser=\"1\"\n    exp_wins_both=None\n\n    # run student's function and capture output of any print() in it\n    with redirect_stdout(StringIO()) as out:\n        return_code = rochambo(player1, player2)\n\n    # test returned value is same as expecteed\n    assert return_code == exp_code\n\n    # test that program printed the correct output string\n    m = re.search(pattern, out.getvalue(), re.I)\n    assert m is not None\n    assert 'winner' in m.groupdict()\n    assert 'loser' in m.groupdict()\n    assert 'wins_winner' in m.groupdict()\n    assert 'wins_loser' in m.groupdict()\n    assert 'wins_both' in m.groupdict()\n    assert m.groupdict()['winner'] == exp_winner\n    assert m.groupdict()['loser'] == exp_loser\n    assert m.groupdict()['wins_winner'] == exp_wins_winner\n    assert m.groupdict()['wins_loser'] == exp_wins_loser\n    assert m.groupdict()['wins_both'] == exp_wins_both\n@test_case(points=None, hidden=False)\ndef prob4_test3(redirect_stdout, StringIO, re, rochambo):\n    if rochambo is None:\n        raise AssertionError(\"No student function found for this problem.\")\n    pattern1 = \"Player (?P<winner>[12]) wins, with (?P<wins_winner>\\d+) wins to (?P<wins_loser>\\d+) wins for Player (?P<loser>[12])\"\n    pattern2 = \"Draw! Each player has (?P<wins_both>\\d+) wins apiece\"\n    pattern = pattern1 + \"|\" + pattern2\n\n    # Test #3 INPUT\n    player1=[\"R\", \"S\", \"P\", \"S\"]\n    player2=[\"S\", \"S\", \"R\", \"R\"]\n    # Test #3 EXPECTED OUTPUT\n    exp_code=1\n    # Test #3 EXPECTED NUMBERS\n    exp_winner=\"1\"\n    exp_wins_winner=\"2\"\n    exp_wins_loser=\"1\"\n    exp_loser=\"2\"\n    exp_wins_both=None\n\n    # run student's function and capture output of any print() in it\n    with redirect_stdout(StringIO()) as out:\n        return_code = rochambo(player1, player2)\n\n    # test returned value is same as expecteed\n    assert return_code == exp_code\n\n    # test that program printed the correct output string\n    m = re.search(pattern, out.getvalue(), re.I)\n    assert m is not None\n    assert 'winner' in m.groupdict()\n    assert 'loser' in m.groupdict()\n    assert 'wins_winner' in m.groupdict()\n    assert 'wins_loser' in m.groupdict()\n    assert 'wins_both' in m.groupdict()\n    assert m.groupdict()['winner'] == exp_winner\n    assert m.groupdict()['loser'] == exp_loser\n    assert m.groupdict()['wins_winner'] == exp_wins_winner\n    assert m.groupdict()['wins_loser'] == exp_wins_loser\n    assert m.groupdict()['wins_both'] == exp_wins_both\n@test_case(points=None, hidden=False)\ndef prob4_test4(redirect_stdout, StringIO, re, rochambo):\n    if rochambo is None:\n        raise AssertionError(\"No student function found for this problem.\")\n    pattern1 = \"Player (?P<winner>[12]) wins, with (?P<wins_winner>\\d+) wins to (?P<wins_loser>\\d+) wins for Player (?P<loser>[12])\"\n    pattern2 = \"Draw! Each player has (?P<wins_both>\\d+) wins apiece\"\n    pattern = pattern1 + \"|\" + pattern2\n\n    # Test #4 INPUT\n    player1=[\"S\", \"P\", \"S\"]\n    player2=[\"S\", \"R\", \"R\"]\n    # Test #4 EXPECTED OUTPUT\n    exp_code=0\n    # Test #4 EXPECTED NUMBERS\n    exp_winner=None\n    exp_wins_winner=None\n    exp_wins_loser=None\n    exp_loser=None\n    exp_wins_both=\"1\"\n\n    # run student's function and capture output of any print() in it\n    with redirect_stdout(StringIO()) as out:\n        return_code = rochambo(player1, player2)\n\n    # test returned value is same as expecteed\n    assert return_code == exp_code\n\n    # test that program printed the correct output string\n    m = re.search(pattern, out.getvalue(), re.I)\n    assert m is not None\n    assert 'winner' in m.groupdict()\n    assert 'loser' in m.groupdict()\n    assert 'wins_winner' in m.groupdict()\n    assert 'wins_loser' in m.groupdict()\n    assert 'wins_both' in m.groupdict()\n    assert m.groupdict()['winner'] == exp_winner\n    assert m.groupdict()['loser'] == exp_loser\n    assert m.groupdict()['wins_winner'] == exp_wins_winner\n    assert m.groupdict()['wins_loser'] == exp_wins_loser\n    assert m.groupdict()['wins_both'] == exp_wins_both\n@test_case(points=None, hidden=False)\ndef prob4_test5(redirect_stdout, StringIO, re, rochambo):\n    if rochambo is None:\n        raise AssertionError(\"No student function found for this problem.\")\n    pattern1 = \"Player (?P<winner>[12]) wins, with (?P<wins_winner>\\d+) wins to (?P<wins_loser>\\d+) wins for Player (?P<loser>[12])\"\n    pattern2 = \"Draw! Each player has (?P<wins_both>\\d+) wins apiece\"\n    pattern = pattern1 + \"|\" + pattern2\n\n    # Test #5 INPUT\n    player1=[]\n    player2=[]\n    # Test #5 EXPECTED OUTPUT\n    exp_code=0\n    # Test #5 EXPECTED NUMBERS\n    exp_winner=None\n    exp_wins_winner=None\n    exp_wins_loser=None\n    exp_loser=None\n    exp_wins_both=\"0\"\n\n    # run student's function and capture output of any print() in it\n    with redirect_stdout(StringIO()) as out:\n        return_code = rochambo(player1, player2)\n\n    # test returned value is same as expecteed\n    assert return_code == exp_code\n\n    # test that program printed the correct output string\n    m = re.search(pattern, out.getvalue(), re.I)\n    assert m is not None\n    assert 'winner' in m.groupdict()\n    assert 'loser' in m.groupdict()\n    assert 'wins_winner' in m.groupdict()\n    assert 'wins_loser' in m.groupdict()\n    assert 'wins_both' in m.groupdict()\n    assert m.groupdict()['winner'] == exp_winner\n    assert m.groupdict()['loser'] == exp_loser\n    assert m.groupdict()['wins_winner'] == exp_wins_winner\n    assert m.groupdict()['wins_loser'] == exp_wins_loser\n    assert m.groupdict()['wins_both'] == exp_wins_both\n",
    "prob5": "from otter.test_files import test_case\n\nOK_FORMAT = False\n\nname = \"prob5\"\npoints = None\n\n@test_case(points=None, hidden=False)\ndef prob5_test1(redirect_stdout, StringIO, re, data_sanitizer):\n    if data_sanitizer is None:\n        raise AssertionError(\"No student function found for this problem.\")\n    pattern = \"Average payment = \\$(?P<number>\\d+.\\d\\d)\"\n\n    # Test #1 INPUT\n    payments=[\"$1,000,000\", \"$-90\", \"$50\", \"$153\", \"$22\", \"$265\", \"$500,000\"]\n    # Test #1 EXPECTED OUTPUT\n    expected_payments=[50, 153, 22, 265]\n    # Test #1 EXPECTED NUMBER\n    expected_num_average=\"122.50\"\n\n    # run student's function and capture output of any print() in it\n    with redirect_stdout(StringIO()) as out:\n        sanitized_data = data_sanitizer(payments)\n\n    # test returned value is same as expecteed\n    assert sanitized_data == expected_payments\n\n    # test that program printed the correct output string\n    m = re.search(pattern, out.getvalue(), re.I)\n    assert m is not None\n    assert 'number' in m.groupdict()\n    assert m.groupdict()['number'] == expected_num_average\n@test_case(points=None, hidden=False)\ndef prob5_test2(redirect_stdout, StringIO, re, data_sanitizer):\n    if data_sanitizer is None:\n        raise AssertionError(\"No student function found for this problem.\")\n    pattern = \"Average payment = \\$(?P<number>\\d+.\\d\\d)\"\n\n    # Test #2 INPUT\n    payments=[\"$1,000\", \"$2,000\", \"$-10\"]\n    # Test #2 EXPECTED OUTPUT\n    expected_payments=[1000, 2000]\n    # Test #2 EXPECTED NUMBER\n    expected_num_average=\"1500.00\"\n\n    # run student's function and capture output of any print() in it\n    with redirect_stdout(StringIO()) as out:\n        sanitized_data = data_sanitizer(payments)\n\n    # test returned value is same as expecteed\n    assert sanitized_data == expected_payments\n\n    # test that program printed the correct output string\n    m = re.search(pattern, out.getvalue(), re.I)\n    assert m is not None\n    assert 'number' in m.groupdict()\n    assert m.groupdict()['number'] == expected_num_average\n@test_case(points=None, hidden=False)\ndef prob5_test3(redirect_stdout, StringIO, re, data_sanitizer):\n    if data_sanitizer is None:\n        raise AssertionError(\"No student function found for this problem.\")\n    pattern = \"Average payment = \\$(?P<number>\\d+.\\d\\d)\"\n\n    # Test #3 INPUT\n    payments=[\"$50,000\", \"$50,000\", \"$50,000\"]\n    # Test #3 EXPECTED OUTPUT\n    expected_payments=[50000, 50000, 50000]\n    # Test #3 EXPECTED NUMBER\n    expected_num_average=\"50000.00\"\n\n    # run student's function and capture output of any print() in it\n    with redirect_stdout(StringIO()) as out:\n        sanitized_data = data_sanitizer(payments)\n\n    # test returned value is same as expecteed\n    assert sanitized_data == expected_payments\n\n    # test that program printed the correct output string\n    m = re.search(pattern, out.getvalue(), re.I)\n    assert m is not None\n    assert 'number' in m.groupdict()\n    assert m.groupdict()['number'] == expected_num_average\n@test_case(points=None, hidden=False)\ndef prob5_test4(redirect_stdout, StringIO, re, data_sanitizer):\n    if data_sanitizer is None:\n        raise AssertionError(\"No student function found for this problem.\")\n    pattern = \"Average payment = \\$(?P<number>\\d+.\\d\\d)\"\n\n    # Test #4 INPUT\n    payments=[\"$0\", \"$1\", \"$11\"]\n    # Test #4 EXPECTED OUTPUT\n    expected_payments=[0, 1, 11]\n    # Test #4 EXPECTED NUMBER\n    expected_num_average=\"4.00\"\n\n    # run student's function and capture output of any print() in it\n    with redirect_stdout(StringIO()) as out:\n        sanitized_data = data_sanitizer(payments)\n\n    # test returned value is same as expecteed\n    assert sanitized_data == expected_payments\n\n    # test that program printed the correct output string\n    m = re.search(pattern, out.getvalue(), re.I)\n    assert m is not None\n    assert 'number' in m.groupdict()\n    assert m.groupdict()['number'] == expected_num_average\n@test_case(points=None, hidden=False)\ndef prob5_test5(redirect_stdout, StringIO, re, data_sanitizer):\n    if data_sanitizer is None:\n        raise AssertionError(\"No student function found for this problem.\")\n    pattern = \"Average payment = \\$(?P<number>\\d+.\\d\\d)\"\n\n    # Test #5 INPUT\n    payments=[\"$1\", \"$-10\", \"$10,001\"]\n    # Test #5 EXPECTED OUTPUT\n    expected_payments=[1, 10001]\n    # Test #5 EXPECTED NUMBER\n    expected_num_average=\"5001.00\"\n\n    # run student's function and capture output of any print() in it\n    with redirect_stdout(StringIO()) as out:\n        sanitized_data = data_sanitizer(payments)\n\n    # test returned value is same as expecteed\n    assert sanitized_data == expected_payments\n\n    # test that program printed the correct output string\n    m = re.search(pattern, out.getvalue(), re.I)\n    assert m is not None\n    assert 'number' in m.groupdict()\n    assert m.groupdict()['number'] == expected_num_average\n"
   }
  },
  "toc": {
   "base_numbering": 1,
   "nav_menu": {},
   "number_sections": false,
   "sideBar": true,
   "skip_h1_title": false,
   "title_cell": "Table of Contents",
   "title_sidebar": "Contents",
   "toc_cell": false,
   "toc_position": {},
   "toc_section_display": true,
   "toc_window_display": false
  }
 },
 "nbformat": 4,
 "nbformat_minor": 1
}
