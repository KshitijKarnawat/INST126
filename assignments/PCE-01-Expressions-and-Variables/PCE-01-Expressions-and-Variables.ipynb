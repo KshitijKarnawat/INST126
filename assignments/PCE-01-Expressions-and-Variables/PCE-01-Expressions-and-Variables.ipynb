{
 "cells": [
  {
   "cell_type": "raw",
   "metadata": {},
   "source": [
    "# ASSIGNMENT CONFIG\n",
    "export_cell:\n",
    "    pdf: false\n",
    "    run_tests: true\n",
    "generate: \n",
    "    filtering: true\n",
    "    zips: false\n",
    "    show_stdout: true"
   ]
  },
  {
   "cell_type": "markdown",
   "metadata": {
    "id": "y3G0wdCFC5up",
    "nbgrader": {
     "grade": false,
     "grade_id": "cell-cedd5953a6c94e60",
     "locked": true,
     "schema_version": 3,
     "solution": false,
     "task": false
    }
   },
   "source": [
    "# PCE 01 &ndash; Expressions and Variables [Total: 5 pts]"
   ]
  },
  {
   "cell_type": "raw",
   "metadata": {},
   "source": [
    "# BEGIN QUESTION\n",
    "name: q1"
   ]
  },
  {
   "cell_type": "markdown",
   "metadata": {
    "id": "4-Pwu6LeEUd5",
    "nbgrader": {
     "grade": false,
     "grade_id": "cell-156eafa5f3f90aa0",
     "locked": true,
     "schema_version": 3,
     "solution": false,
     "task": false
    }
   },
   "source": [
    "## Q1: Add two numbers together [1 pt]\n",
    "\n",
    "Inside function `sumof2` write an expression that sums `x` to `y` and assigns the result in `z`. "
   ]
  },
  {
   "cell_type": "raw",
   "metadata": {},
   "source": [
    "# BEGIN SOLUTION"
   ]
  },
  {
   "cell_type": "code",
   "execution_count": null,
   "metadata": {
    "nbgrader": {
     "grade": false,
     "grade_id": "cell-327f19e516f02e95",
     "locked": true,
     "schema_version": 3,
     "solution": false,
     "task": false
    },
    "tags": []
   },
   "outputs": [],
   "source": [
    "# BEGIN SOLUTION NO PROMPT\n",
    "def sumof2(x, y):\n",
    "    z = x + y\n",
    "    return z\n",
    "# END SOLUTION\n",
    "\"\"\" # BEGIN PROMPT\n",
    "def sumof2(x, y):\n",
    "    z = ...\n",
    "    return z\n",
    "\"\"\" # END PROMPT\n",
    "\n",
    "# Try different arguments!\n",
    "sumof2(3, 4)"
   ]
  },
  {
   "cell_type": "raw",
   "metadata": {},
   "source": [
    "# END SOLUTION"
   ]
  },
  {
   "cell_type": "markdown",
   "metadata": {
    "nbgrader": {
     "grade": false,
     "grade_id": "cell-78e0187e50b65160",
     "locked": true,
     "schema_version": 3,
     "solution": false,
     "task": false
    }
   },
   "source": [
    "The cell below is an autograder cell, run it to check if your solution is correct."
   ]
  },
  {
   "cell_type": "raw",
   "metadata": {},
   "source": [
    "# BEGIN TESTS"
   ]
  },
  {
   "cell_type": "code",
   "execution_count": null,
   "metadata": {
    "tags": []
   },
   "outputs": [],
   "source": [
    "assert type(sumof2(3, 4)) == int, \"The type of z should be int\""
   ]
  },
  {
   "cell_type": "code",
   "execution_count": null,
   "metadata": {
    "nbgrader": {
     "grade": true,
     "grade_id": "cell-ee3bbef34aba60d3",
     "locked": true,
     "points": 1,
     "schema_version": 3,
     "solution": false,
     "task": false
    },
    "tags": []
   },
   "outputs": [],
   "source": [
    "assert sumof2(3, 4) == 7, \"The value of z should be the sum of x and y\""
   ]
  },
  {
   "cell_type": "code",
   "execution_count": null,
   "metadata": {
    "tags": []
   },
   "outputs": [],
   "source": [
    "assert sumof2(10, 4) == 14, \"The value of z should be the sum of x and y\""
   ]
  },
  {
   "cell_type": "code",
   "execution_count": null,
   "metadata": {
    "tags": []
   },
   "outputs": [],
   "source": [
    "assert sumof2(10, -1) == 9, \"The value of z should be the sum of x and y\""
   ]
  },
  {
   "cell_type": "raw",
   "metadata": {},
   "source": [
    "# END TESTS"
   ]
  },
  {
   "cell_type": "raw",
   "metadata": {},
   "source": [
    "# END QUESTION"
   ]
  },
  {
   "cell_type": "markdown",
   "metadata": {},
   "source": [
    "<br/>\n",
    "<br/>\n",
    "<br/>\n",
    "<br/>\n",
    "<br/>\n",
    "<br/>\n",
    "\n",
    "---"
   ]
  },
  {
   "cell_type": "raw",
   "metadata": {},
   "source": [
    "# BEGIN QUESTION\n",
    "name: q2"
   ]
  },
  {
   "cell_type": "markdown",
   "metadata": {
    "id": "ml6TsbTfJogr",
    "nbgrader": {
     "grade": false,
     "grade_id": "cell-c93e008d2d3743cb",
     "locked": true,
     "schema_version": 3,
     "solution": false,
     "task": false
    }
   },
   "source": [
    "## Q2: Add the dollar sign at the end of a string [1 pt]\n",
    "\n",
    "Inside function `add_dollar`, write an expression that adds the dollar sign at the end of variable `s`. "
   ]
  },
  {
   "cell_type": "raw",
   "metadata": {},
   "source": [
    "# BEGIN SOLUTION"
   ]
  },
  {
   "cell_type": "code",
   "execution_count": null,
   "metadata": {
    "nbgrader": {
     "grade": false,
     "grade_id": "cell-95f65ad4ca16ef7d",
     "locked": false,
     "schema_version": 3,
     "solution": true,
     "task": false
    }
   },
   "outputs": [],
   "source": [
    "# BEGIN SOLUTION NO PROMPT\n",
    "def add_dollar(s):\n",
    "    s = s + '$'\n",
    "    return s\n",
    "# END SOLUTION\n",
    "\"\"\" # BEGIN PROMPT\n",
    "def adddollar(s):\n",
    "    s = ...\n",
    "    return s\n",
    "\"\"\" # END PROMPT\n",
    "\n",
    "# Try different arguments!\n",
    "add_dollar(\"hello\")"
   ]
  },
  {
   "cell_type": "raw",
   "metadata": {},
   "source": [
    "# END SOLUTION"
   ]
  },
  {
   "cell_type": "raw",
   "metadata": {},
   "source": [
    "# BEGIN TESTS"
   ]
  },
  {
   "cell_type": "code",
   "execution_count": null,
   "metadata": {
    "tags": []
   },
   "outputs": [],
   "source": [
    "assert type(add_dollar(\"hello\")) == str, \"The type of s should be string\""
   ]
  },
  {
   "cell_type": "code",
   "execution_count": null,
   "metadata": {
    "tags": []
   },
   "outputs": [],
   "source": [
    "assert add_dollar(\"hello\") == \"hello$\", \"The return value should be the concatenation of s and '$'\""
   ]
  },
  {
   "cell_type": "code",
   "execution_count": null,
   "metadata": {
    "tags": []
   },
   "outputs": [],
   "source": [
    "assert add_dollar(\"good\") == \"good$\", \"The return value should be the concatenation of s and '$'\""
   ]
  },
  {
   "cell_type": "code",
   "execution_count": null,
   "metadata": {
    "tags": []
   },
   "outputs": [],
   "source": [
    "assert add_dollar(\"song\") == \"song$\", \"The return value should be the concatenation of s and '$'\""
   ]
  },
  {
   "cell_type": "raw",
   "metadata": {},
   "source": [
    "# END TESTS"
   ]
  },
  {
   "cell_type": "raw",
   "metadata": {},
   "source": [
    "# END QUESTION"
   ]
  },
  {
   "cell_type": "markdown",
   "metadata": {},
   "source": [
    "<br/>\n",
    "<br/>\n",
    "<br/>\n",
    "<br/>\n",
    "<br/>\n",
    "<br/>\n",
    "\n",
    "---"
   ]
  },
  {
   "cell_type": "raw",
   "metadata": {},
   "source": [
    "# BEGIN QUESTION\n",
    "name: q3"
   ]
  },
  {
   "cell_type": "markdown",
   "metadata": {
    "id": "HdTYpSWFZYbJ",
    "nbgrader": {
     "grade": false,
     "grade_id": "cell-e409a4b80ba8d943",
     "locked": true,
     "schema_version": 3,
     "solution": false,
     "task": false
    }
   },
   "source": [
    "## Q3: Create a phrase with three words [1 pt]\n",
    "\n",
    "Inside functions `phraseof3`, write an expression that joins `word1`, `word2`, and `word3`, including spaces in between, and assigns the result to `phrase`."
   ]
  },
  {
   "cell_type": "raw",
   "metadata": {},
   "source": [
    "# BEGIN SOLUTION"
   ]
  },
  {
   "cell_type": "code",
   "execution_count": null,
   "metadata": {
    "nbgrader": {
     "grade": true,
     "grade_id": "cell-38c8b454a131779e",
     "locked": false,
     "points": 1,
     "schema_version": 3,
     "solution": true,
     "task": false
    }
   },
   "outputs": [],
   "source": [
    "# BEGIN SOLUTION NO PROMPT\n",
    "def phraseof3(word1, word2, word3):\n",
    "    phrase = word1 + \" \" + word2 + \" \" + word3\n",
    "    return phrase\n",
    "# END SOLUTION\n",
    "\"\"\" # BEGIN PROMPT\n",
    "def phraseof3(word1, word2, word3):\n",
    "    phrase = ...\n",
    "    return phrase\n",
    "\"\"\" # END PROMPT\n",
    "\n",
    "# Try different arguments!\n",
    "phraseof3(\"Boys\", \"watch\", \"TV\")"
   ]
  },
  {
   "cell_type": "raw",
   "metadata": {},
   "source": [
    "# END SOLUTION"
   ]
  },
  {
   "cell_type": "raw",
   "metadata": {},
   "source": [
    "# BEGIN TESTS"
   ]
  },
  {
   "cell_type": "code",
   "execution_count": null,
   "metadata": {},
   "outputs": [],
   "source": [
    "assert type(phraseof3(\"Boys\", \"watch\", \"TV\")) == str, \"The type of phrase should be str\""
   ]
  },
  {
   "cell_type": "code",
   "execution_count": null,
   "metadata": {},
   "outputs": [],
   "source": [
    "assert phraseof3(\"Boys\", \"watch\", \"TV\") == \"Boys watch TV\", \"Wrong value; make sure to check your expression\""
   ]
  },
  {
   "cell_type": "code",
   "execution_count": null,
   "metadata": {},
   "outputs": [],
   "source": [
    "assert phraseof3(\"Cats\", \"love\", \"purring\") == \"Cats love purring\", \"Wrong value; make sure to check your expression\""
   ]
  },
  {
   "cell_type": "code",
   "execution_count": null,
   "metadata": {
    "tags": []
   },
   "outputs": [],
   "source": [
    "assert phraseof3(\"Jane\", \"eats\", \"pizza\") == \"Jane eats pizza\", \"Wrong value; make sure to check your expression\""
   ]
  },
  {
   "cell_type": "raw",
   "metadata": {},
   "source": [
    "# END TESTS"
   ]
  },
  {
   "cell_type": "raw",
   "metadata": {},
   "source": [
    "# END QUESTION"
   ]
  },
  {
   "cell_type": "markdown",
   "metadata": {},
   "source": [
    "<br/>\n",
    "<br/>\n",
    "<br/>\n",
    "<br/>\n",
    "<br/>\n",
    "<br/>\n",
    "\n",
    "---"
   ]
  },
  {
   "cell_type": "raw",
   "metadata": {},
   "source": [
    "# BEGIN QUESTION\n",
    "name: q4"
   ]
  },
  {
   "cell_type": "markdown",
   "metadata": {
    "id": "kok_XTaVv5zI",
    "nbgrader": {
     "grade": false,
     "grade_id": "cell-592240cc54e79be0",
     "locked": true,
     "schema_version": 3,
     "solution": false,
     "task": false
    }
   },
   "source": [
    "## Q4: Add (in the math sense) two numbers that are represented initially as *strings* [1 pt]\n",
    "\n",
    "Inside function `add_as_ints` write an expression that, after converting them to integers, sums `x` to `y` and assigns the result to `z`."
   ]
  },
  {
   "cell_type": "raw",
   "metadata": {},
   "source": [
    "# BEGIN SOLUTION"
   ]
  },
  {
   "cell_type": "code",
   "execution_count": null,
   "metadata": {
    "nbgrader": {
     "grade": false,
     "grade_id": "cell-47fdbc8012efc891",
     "locked": true,
     "schema_version": 3,
     "solution": false,
     "task": false
    }
   },
   "outputs": [],
   "source": [
    "# BEGIN SOLUTION NO PROMPT\n",
    "def add_as_ints(x, y):\n",
    "    z = int(x) + int(y)\n",
    "    return z\n",
    "# END SOLUTION\n",
    "\"\"\" # BEGIN PROMPT\n",
    "def add_as_ints(x, y):\n",
    "    z = ...\n",
    "    return z\n",
    "\"\"\" # END PROMPT\n",
    "\n",
    "# Try different arguments!\n",
    "add_as_ints(\"55\", \"33\")"
   ]
  },
  {
   "cell_type": "raw",
   "metadata": {},
   "source": [
    "# END SOLUTION"
   ]
  },
  {
   "cell_type": "raw",
   "metadata": {},
   "source": [
    "# BEGIN TESTS"
   ]
  },
  {
   "cell_type": "code",
   "execution_count": null,
   "metadata": {
    "tags": []
   },
   "outputs": [],
   "source": [
    "assert type(add_as_ints(\"55\", \"33\")) == int, \"The type of z should be int\""
   ]
  },
  {
   "cell_type": "code",
   "execution_count": null,
   "metadata": {
    "tags": []
   },
   "outputs": [],
   "source": [
    "assert add_as_ints(\"55\", \"33\") == 88, \"The value of z should be the sum of x and y (as ints)\""
   ]
  },
  {
   "cell_type": "code",
   "execution_count": null,
   "metadata": {
    "tags": []
   },
   "outputs": [],
   "source": [
    "assert add_as_ints(\"1\", \"2\") == 3, \"The value of z should be the sum of x and y (as ints)\""
   ]
  },
  {
   "cell_type": "code",
   "execution_count": null,
   "metadata": {
    "tags": []
   },
   "outputs": [],
   "source": [
    "assert add_as_ints(\"10\", \"-1\") == 9, \"The value of z should be the sum of x and y (as ints)\""
   ]
  },
  {
   "cell_type": "raw",
   "metadata": {},
   "source": [
    "# END TESTS"
   ]
  },
  {
   "cell_type": "raw",
   "metadata": {},
   "source": [
    "# END QUESTION"
   ]
  },
  {
   "cell_type": "markdown",
   "metadata": {},
   "source": [
    "<br/>\n",
    "<br/>\n",
    "<br/>\n",
    "<br/>\n",
    "<br/>\n",
    "<br/>\n",
    "\n",
    "---"
   ]
  },
  {
   "cell_type": "raw",
   "metadata": {},
   "source": [
    "# BEGIN QUESTION\n",
    "name: q5"
   ]
  },
  {
   "cell_type": "markdown",
   "metadata": {
    "id": "10gELYlEaNnT",
    "nbgrader": {
     "grade": false,
     "grade_id": "cell-8e6bf79fdf700885",
     "locked": true,
     "schema_version": 3,
     "solution": false,
     "task": false
    }
   },
   "source": [
    "## Q5: Add (in the string sense) two strings that are represented initially as *numbers* [1 pt]\n",
    "\n",
    "Inside function `add_as_strs` write an expression that, after converting them to strings, concatenates `x` with `y` and assigns the result to `z`."
   ]
  },
  {
   "cell_type": "raw",
   "metadata": {},
   "source": [
    "# BEGIN SOLUTION"
   ]
  },
  {
   "cell_type": "code",
   "execution_count": null,
   "metadata": {
    "nbgrader": {
     "grade": true,
     "grade_id": "cell-600a1fa05e2bbd12",
     "locked": false,
     "points": 1,
     "schema_version": 3,
     "solution": true,
     "task": false
    }
   },
   "outputs": [],
   "source": [
    "# BEGIN SOLUTION NO PROMPT\n",
    "def add_as_strs(x, y):\n",
    "    z = str(x) + str(y)\n",
    "    return z\n",
    "# END SOLUTION\n",
    "\"\"\" # BEGIN PROMPT\n",
    "def add_as_strs(x, y):\n",
    "    z = ...\n",
    "    return z\n",
    "\"\"\" # END PROMPT\n",
    "\n",
    "# Try different arguments!\n",
    "add_as_strs(55, 33)"
   ]
  },
  {
   "cell_type": "raw",
   "metadata": {},
   "source": [
    "# END SOLUTION"
   ]
  },
  {
   "cell_type": "raw",
   "metadata": {},
   "source": [
    "# BEGIN TESTS"
   ]
  },
  {
   "cell_type": "code",
   "execution_count": null,
   "metadata": {
    "tags": []
   },
   "outputs": [],
   "source": [
    "assert type(add_as_strs(55, 33)) == str, \"The type of z should be str\""
   ]
  },
  {
   "cell_type": "code",
   "execution_count": null,
   "metadata": {
    "tags": []
   },
   "outputs": [],
   "source": [
    "assert add_as_strs(55, 33) == '5533', \"The value of z should be the sum of x and y (as strings)\""
   ]
  },
  {
   "cell_type": "code",
   "execution_count": null,
   "metadata": {
    "tags": []
   },
   "outputs": [],
   "source": [
    "assert add_as_strs(1, 2) == '12', \"The value of z should be the sum of x and y (as strings)\""
   ]
  },
  {
   "cell_type": "code",
   "execution_count": null,
   "metadata": {
    "tags": []
   },
   "outputs": [],
   "source": [
    "assert add_as_strs(10, -1) == '10-1', \"The value of z should be the sum of x and y (as strings)\""
   ]
  },
  {
   "cell_type": "raw",
   "metadata": {},
   "source": [
    "# END TESTS"
   ]
  },
  {
   "cell_type": "raw",
   "metadata": {},
   "source": [
    "# END QUESTION"
   ]
  }
 ],
 "metadata": {
  "celltoolbar": "Create Assignment",
  "colab": {
   "collapsed_sections": [],
   "name": "INST126_SP21_PCE_M1_VariablesExpressions_StudentTemplate.ipynb",
   "provenance": []
  },
  "kernelspec": {
   "display_name": "Python 3 (ipykernel)",
   "language": "python",
   "name": "python3"
  },
  "language_info": {
   "codemirror_mode": {
    "name": "ipython",
    "version": 3
   },
   "file_extension": ".py",
   "mimetype": "text/x-python",
   "name": "python",
   "nbconvert_exporter": "python",
   "pygments_lexer": "ipython3",
   "version": "3.11.7"
  },
  "toc": {
   "base_numbering": 1,
   "nav_menu": {},
   "number_sections": true,
   "sideBar": true,
   "skip_h1_title": false,
   "title_cell": "Table of Contents",
   "title_sidebar": "Contents",
   "toc_cell": false,
   "toc_position": {},
   "toc_section_display": true,
   "toc_window_display": false
  }
 },
 "nbformat": 4,
 "nbformat_minor": 4
}
