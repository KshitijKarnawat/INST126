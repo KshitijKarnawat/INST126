{
 "cells": [
  {
   "cell_type": "code",
   "execution_count": null,
   "metadata": {
    "deletable": false,
    "editable": false
   },
   "outputs": [],
   "source": [
    "# Initialize Otter\n",
    "import otter\n",
    "grader = otter.Notebook(\"PR-01-Expressions-Variables-Functions-and-Conditionals.ipynb\")"
   ]
  },
  {
   "cell_type": "markdown",
   "metadata": {
    "id": "Q4DUKQu30UpM",
    "nbgrader": {
     "grade": false,
     "grade_id": "cell-aab20af18b270c36",
     "locked": true,
     "schema_version": 3,
     "solution": false,
     "task": false
    }
   },
   "source": [
    "# Project 1\n",
    "\n",
    "### Expressions, Variables, Functions, and Conditionals"
   ]
  },
  {
   "cell_type": "markdown",
   "metadata": {
    "nbgrader": {
     "grade": false,
     "grade_id": "cell-0d4f97315e86ec8d",
     "locked": true,
     "schema_version": 3,
     "solution": false,
     "task": false
    }
   },
   "source": [
    "<br/>\n",
    "<br/>\n",
    "<br/>\n",
    "\n",
    "---"
   ]
  },
  {
   "cell_type": "markdown",
   "metadata": {
    "nbgrader": {
     "grade": false,
     "grade_id": "cell-7b416462c9db8b2b",
     "locked": true,
     "schema_version": 3,
     "solution": false,
     "task": false
    }
   },
   "source": [
    "## Instructions\n",
    "\n",
    "Pick one problem and complete it. Then run the last cell in the notebook to export your work.\n",
    "\n",
    "### Grading Rubric\n",
    "\n",
    "Your code will be evaluated based on the following criteria:\n",
    "* __Autograder__: Does it pass the autograder tests? \n",
    "* __Logic__: Regardless of the autograder output, is the approach taken likely to lead to a solution? This is graded manually.\n",
    "* __Style__: Is the code understandable and well documented? This is also graded manually.\n",
    "  * Are the names of variables clear and intuitive? Are there no conflicts with reserved keywords or builtin variables?\n",
    "  * Are the key elements of the code clearly documented with comments?\n",
    "  * Are the main functions documented with a complete docstring?\n",
    "  \n",
    "### Working on Multiple Problems\n",
    "\n",
    "You do not have to complete all problems in the notebook: if your code passes all the tests in a single problem it will pass the autograder _for the whole project_. That said, you will earn credit for passing _any_ test in the notebook. This means that if you are not passing all the tests in a given problem, you can attempt a different problem and see if you can pass any of its tests. However, keep in mind that we will consider _all_ the problems you submit when grading for logic and style."
   ]
  },
  {
   "cell_type": "markdown",
   "metadata": {
    "nbgrader": {
     "grade": false,
     "grade_id": "cell-0d4f97315e86ec8d",
     "locked": true,
     "schema_version": 3,
     "solution": false,
     "task": false
    }
   },
   "source": [
    "<br/>\n",
    "<br/>\n",
    "<br/>\n",
    "<br/>\n",
    "<br/>\n",
    "<br/>\n",
    "\n",
    "---"
   ]
  },
  {
   "cell_type": "markdown",
   "metadata": {
    "id": "2IV8ktaD0kDr",
    "nbgrader": {
     "grade": false,
     "grade_id": "cell-72d7c04d3a5d23bc",
     "locked": true,
     "schema_version": 3,
     "solution": false,
     "task": false
    }
   },
   "source": [
    "## Problem 1: Wedding ceremony seating\n",
    "\n",
    "Write a function called `wedding_seating` that returns a string telling you where to sit (possible values are *front-row*, *left*, or *right*) depending on these parameters: \n",
    "- `relationship` &ndash; a string telling whether you are **friend** or **family**\n",
    "- `close_to` &ndash; a string telling whether you are closest to the **bride**, **groom**, or **both**\n",
    "\n",
    "Here is the mapping of cases to decisions that you want to follow:\n",
    "- **family** &rarr; *front-row* (no matter if close to bride, groom, or both)\n",
    "- **friend** of **bride** &rarr; *right*\n",
    "- **friend** of **groom** &rarr; *left*\n",
    "- **friend** of **both** bride *and* groom &rarr; *front-row*"
   ]
  },
  {
   "cell_type": "code",
   "execution_count": null,
   "metadata": {
    "id": "D3Uz4y-a0Lrc",
    "nbgrader": {
     "grade": false,
     "grade_id": "cell-e59a5396e0fed9c5",
     "locked": false,
     "schema_version": 3,
     "solution": true,
     "task": false
    },
    "tags": []
   },
   "outputs": [],
   "source": [
    "...\n",
    "\n",
    "# Test different arguments!\n",
    "wedding_seating(relationship=\"family\", close_to=\"groom\")"
   ]
  },
  {
   "cell_type": "markdown",
   "metadata": {
    "deletable": false,
    "editable": false
   },
   "source": [
    "The cell below is an autograder cell, run it to check if your solution is correct."
   ]
  },
  {
   "cell_type": "code",
   "execution_count": null,
   "metadata": {
    "deletable": false,
    "editable": false
   },
   "outputs": [],
   "source": [
    "grader.check(\"prob1\")"
   ]
  },
  {
   "cell_type": "markdown",
   "metadata": {
    "nbgrader": {
     "grade": false,
     "grade_id": "cell-0d4f97315e86ec8d",
     "locked": true,
     "schema_version": 3,
     "solution": false,
     "task": false
    }
   },
   "source": [
    "<br/>\n",
    "<br/>\n",
    "<br/>\n",
    "<br/>\n",
    "<br/>\n",
    "<br/>\n",
    "\n",
    "---"
   ]
  },
  {
   "cell_type": "markdown",
   "metadata": {
    "id": "uthF4fmV0uvt",
    "nbgrader": {
     "grade": false,
     "grade_id": "cell-55515a0058e2416c",
     "locked": true,
     "schema_version": 3,
     "solution": false,
     "task": false
    }
   },
   "source": [
    "## Problem 2: COVID symptoms test\n",
    "Write a function called `checkforcovid` that makes a tentative diagnosis of COVID based on a set of symptoms. \n",
    "\n",
    "The symptoms (parameters) are:\n",
    "- `temperature` (int) &ndash; what is your temperature?\n",
    "- `fatigue` (bool) &ndash; are you tired?\n",
    "- `runny_nose` (bool) &ndash; do you have a runny nose?\n",
    "\n",
    "The conditions and outcomes are:\n",
    "- a runny nose is actually not important, so any time `runny_nose` is true, the function should give `probably_not` (i.e., not COVID)\n",
    "- if either temperature is above 100 (fever) or you are tired (but not both!), the function should give `possibly_yes` (see hint below).\n",
    "- if temperature is above 100 (fever) and you also tired, the function should give `probably_yes`\n",
    "\n",
    "**Hint**: The XOR operator (`A ^ B`) tests when either of conditions A and B is true _but not both._ "
   ]
  },
  {
   "cell_type": "code",
   "execution_count": null,
   "metadata": {
    "id": "Stj6Fd_4ghH0",
    "nbgrader": {
     "grade": false,
     "grade_id": "cell-d8efddb85a369439",
     "locked": false,
     "schema_version": 3,
     "solution": true,
     "task": false
    },
    "tags": []
   },
   "outputs": [],
   "source": [
    "...\n",
    "\n",
    "# Test different arguments!\n",
    "checkforcovid(temperature=101, fatigue=False, runny_nose=True)"
   ]
  },
  {
   "cell_type": "markdown",
   "metadata": {
    "deletable": false,
    "editable": false
   },
   "source": [
    "The cell below is an autograder cell, run it to check if your solution is correct."
   ]
  },
  {
   "cell_type": "code",
   "execution_count": null,
   "metadata": {
    "deletable": false,
    "editable": false
   },
   "outputs": [],
   "source": [
    "grader.check(\"prob2\")"
   ]
  },
  {
   "cell_type": "markdown",
   "metadata": {
    "nbgrader": {
     "grade": false,
     "grade_id": "cell-0d4f97315e86ec8d",
     "locked": true,
     "schema_version": 3,
     "solution": false,
     "task": false
    }
   },
   "source": [
    "<br/>\n",
    "<br/>\n",
    "<br/>\n",
    "<br/>\n",
    "<br/>\n",
    "<br/>\n",
    "\n",
    "---"
   ]
  },
  {
   "cell_type": "markdown",
   "metadata": {
    "id": "coKS_h97g41S",
    "nbgrader": {
     "grade": false,
     "grade_id": "cell-7ceec1ea7b2c96df",
     "locked": true,
     "schema_version": 3,
     "solution": false,
     "task": false
    }
   },
   "source": [
    "## Problem 3: Football touchdown decision\n",
    "\n",
    "Write a function called `touchdown_rules` that calls a touchdown based on rules of football. \n",
    "\n",
    "Per [this simplified guide](https://www.thesun.co.uk/sport/5192047/nfl-rules-beginners-guide-touchdown-first-down-quarterback-endzone-super-bowl/#:~:text=A%20player%20can%20run%20the,in%20control%20from%20the%20receiver.), you can score a touchdown by running the ball in or catching a pass in the endzone. If you are running, the ball has only has to \"break the plane\" (i.e., cross the endzone line). But if you are catching, there are more requirements: both feet have to touch the ground AND the ball must be \"in control\" of the receiver; if either of these conditions is not met, then it is not a touchdown.\n",
    "\n",
    "In other words, your function needs to take in these parameters:\n",
    "- `break_plane` (bool) &ndash; did the ball \"break the plane\" (i.e., enter the end zone)?\n",
    "- `manner` (str) &ndash; how did the ball enter the end zone? \"run\" or \"catch\"?\n",
    "- `both_feet` (bool) &ndash; were both feet on the ground at the time of the call?\n",
    "- `in_control` (bool) &ndash; did the player \"have control\" of the ball at the time of the call?\n",
    "\n",
    "and return either `True` (touchdown!) or `False` (not touchdown), following the logic laid out above."
   ]
  },
  {
   "cell_type": "code",
   "execution_count": null,
   "metadata": {
    "id": "-sbzllUWhAdz",
    "nbgrader": {
     "grade": false,
     "grade_id": "cell-c198b940902dc47c",
     "locked": false,
     "schema_version": 3,
     "solution": true,
     "task": false
    },
    "tags": []
   },
   "outputs": [],
   "source": [
    "...\n",
    "\n",
    "# Test different arguments!\n",
    "touchdown_rules(break_plane=True, manner=\"run\", both_feet=True, in_control=True)"
   ]
  },
  {
   "cell_type": "markdown",
   "metadata": {
    "deletable": false,
    "editable": false
   },
   "source": [
    "The cell below is an autograder cell, run it to check if your solution is correct."
   ]
  },
  {
   "cell_type": "code",
   "execution_count": null,
   "metadata": {
    "deletable": false,
    "editable": false
   },
   "outputs": [],
   "source": [
    "grader.check(\"prob3\")"
   ]
  },
  {
   "cell_type": "markdown",
   "metadata": {
    "nbgrader": {
     "grade": false,
     "grade_id": "cell-0d4f97315e86ec8d",
     "locked": true,
     "schema_version": 3,
     "solution": false,
     "task": false
    }
   },
   "source": [
    "<br/>\n",
    "<br/>\n",
    "<br/>\n",
    "<br/>\n",
    "<br/>\n",
    "<br/>\n",
    "\n",
    "---"
   ]
  },
  {
   "cell_type": "markdown",
   "metadata": {
    "id": "6ojrM4YphcEC",
    "nbgrader": {
     "grade": false,
     "grade_id": "cell-3250151136580036",
     "locked": true,
     "schema_version": 3,
     "solution": false,
     "task": false
    }
   },
   "source": [
    "## Problem 4: Warrior attack effect calculator\n",
    "\n",
    "Write a function called `attack_effect` that calculates whether the attack of a player on an opponent was effective or not, depending on the following parameters:\n",
    "- `attack` (str) &ndash; \"normal\" or \"special\" attack?\n",
    "- `magic` (bool) &ndash; does the attack use magic?\n",
    "- `enemy_hero` (bool) &ndash; is the enemy a \"hero\"?\n",
    "\n",
    "The conditions and outcomes are:\n",
    "- If your enemy is not a hero, and you use magic and a special attack, the attack is `super_effective`\n",
    "- If your enemy is not a hero, and you do not use magic or only use a normal attack, the attack is `effective`\n",
    "- If your enemy is a hero, and you use special magic, the attack is `effective`\n",
    "- If your enemy is a hero, and you do not use magic, the attack is `ineffective`\n"
   ]
  },
  {
   "cell_type": "code",
   "execution_count": null,
   "metadata": {
    "id": "GtixNSCZhk3l",
    "tags": []
   },
   "outputs": [],
   "source": [
    "...\n",
    "\n",
    "# Test different arguments!\n",
    "attack_effect(attack=\"special\", magic=False, enemy_hero=False)"
   ]
  },
  {
   "cell_type": "markdown",
   "metadata": {
    "deletable": false,
    "editable": false
   },
   "source": [
    "The cell below is an autograder cell, run it to check if your solution is correct."
   ]
  },
  {
   "cell_type": "code",
   "execution_count": null,
   "metadata": {
    "deletable": false,
    "editable": false
   },
   "outputs": [],
   "source": [
    "grader.check(\"prob4\")"
   ]
  },
  {
   "cell_type": "markdown",
   "metadata": {
    "nbgrader": {
     "grade": false,
     "grade_id": "cell-0d4f97315e86ec8d",
     "locked": true,
     "schema_version": 3,
     "solution": false,
     "task": false
    }
   },
   "source": [
    "<br/>\n",
    "<br/>\n",
    "<br/>\n",
    "<br/>\n",
    "<br/>\n",
    "<br/>\n",
    "\n",
    "---"
   ]
  },
  {
   "cell_type": "markdown",
   "metadata": {
    "id": "gQ7JwWWaaHeH",
    "nbgrader": {
     "grade": false,
     "grade_id": "cell-b7b26ddfa0f0918a",
     "locked": true,
     "schema_version": 3,
     "solution": false,
     "task": false
    }
   },
   "source": [
    "## Problem 5: Coffee flavor recommender\n",
    "\n",
    "Write a function called `recommend_coffee` that recommends one of four coffees, depending on the following parameters:\n",
    "- `dark_roast` (bool) &ndash; do you like dark roast?\n",
    "- `cream` (bool) &ndash; do you like cream with your coffee?\n",
    "- `hazelnut` (bool) &ndash; do you like hazelnut flavors with your coffee?\n",
    "\n",
    "Your function should make the following recommendations:\n",
    "- Like dark roast, but like neither cream nor hazelnut &rarr; `\"americano\"`\n",
    "- Like dark roast, and must have both cream and hazelnut &rarr; `\"house_special\"`\n",
    "- Like dark roast, and cream, but not hazelnut &rarr; `\"latte\"`\n",
    "- Anything else &rarr; `\"house_drip\"`"
   ]
  },
  {
   "cell_type": "code",
   "execution_count": null,
   "metadata": {
    "id": "GwbMD2tXbHTi",
    "nbgrader": {
     "grade": false,
     "grade_id": "cell-685afe775c9bf961",
     "locked": false,
     "schema_version": 3,
     "solution": true,
     "task": false
    },
    "tags": []
   },
   "outputs": [],
   "source": [
    "...\n",
    "\n",
    "# Test different arguments!\n",
    "recommend_coffee(dark_roast=True, cream=False, hazelnut=True)"
   ]
  },
  {
   "cell_type": "markdown",
   "metadata": {
    "deletable": false,
    "editable": false
   },
   "source": [
    "The cell below is an autograder cell, run it to check if your solution is correct."
   ]
  },
  {
   "cell_type": "code",
   "execution_count": null,
   "metadata": {
    "deletable": false,
    "editable": false
   },
   "outputs": [],
   "source": [
    "grader.check(\"prob5\")"
   ]
  },
  {
   "cell_type": "markdown",
   "metadata": {
    "nbgrader": {
     "grade": false,
     "grade_id": "cell-0d4f97315e86ec8d",
     "locked": true,
     "schema_version": 3,
     "solution": false,
     "task": false
    }
   },
   "source": [
    "<br/>\n",
    "<br/>\n",
    "<br/>\n",
    "<br/>\n",
    "<br/>\n",
    "<br/>\n",
    "\n",
    "---"
   ]
  },
  {
   "cell_type": "markdown",
   "metadata": {
    "deletable": false,
    "editable": false
   },
   "source": [
    "## Submission\n",
    "\n",
    "Make sure you have run all cells in your notebook in order before running the cell below, so that all images/graphs appear in the output. The cell below will generate a zip file for you to submit."
   ]
  },
  {
   "cell_type": "code",
   "execution_count": null,
   "metadata": {
    "deletable": false,
    "editable": false
   },
   "outputs": [],
   "source": [
    "grader.export(pdf=False, force_save=True, run_tests=True)"
   ]
  },
  {
   "cell_type": "markdown",
   "metadata": {},
   "source": [
    " "
   ]
  }
 ],
 "metadata": {
  "celltoolbar": "Create Assignment",
  "colab": {
   "collapsed_sections": [],
   "name": "INST126_SP21_Project1_Template.ipynb",
   "provenance": []
  },
  "kernelspec": {
   "display_name": "Python 3 (ipykernel)",
   "language": "python",
   "name": "python3"
  },
  "language_info": {
   "codemirror_mode": {
    "name": "ipython",
    "version": 3
   },
   "file_extension": ".py",
   "mimetype": "text/x-python",
   "name": "python",
   "nbconvert_exporter": "python",
   "pygments_lexer": "ipython3",
   "version": "3.11.7"
  },
  "otter": {
   "OK_FORMAT": false,
   "tests": {
    "prob1": "from otter.test_files import test_case\n\nOK_FORMAT = False\n\nname = \"prob1\"\npoints = None\n\n@test_case(points=None, hidden=False)\ndef test_wedding_seating_family(wedding_seating):\n    if wedding_seating is None:\n        raise AssertionError(\"No student function found for this problem.\")\n    assert wedding_seating(relationship=\"family\", close_to=\"groom\") == \"front-row\"\n    assert wedding_seating(relationship=\"family\", close_to=\"both\") == \"front-row\"\n    assert wedding_seating(relationship=\"family\", close_to=\"bride\") == \"front-row\"\n    \n    \ndef test_wedding_seating_friend(wedding_seating):\n    if wedding_seating is None:\n        raise AssertionError(\"No student function found for this problem.\")\n    assert wedding_seating(relationship=\"friend\", close_to=\"groom\") == \"left\"\n    assert wedding_seating(relationship=\"friend\", close_to=\"bride\") == \"right\"\n    assert wedding_seating(relationship=\"friend\", close_to=\"both\") == \"front-row\"\n    \n",
    "prob2": "from otter.test_files import test_case\n\nOK_FORMAT = False\n\nname = \"prob2\"\npoints = None\n\n@test_case(points=None, hidden=False)\ndef test_checkforcovid_low_temps(checkforcovid):\n    if checkforcovid is None:\n        raise AssertionError(\"No student function found for this problem.\")\n    assert checkforcovid(temperature=96, fatigue=False, runny_nose=False) == \"probably_not\"\n    assert checkforcovid(temperature=97, fatigue=False, runny_nose=True) == \"probably_not\"\n    assert checkforcovid(temperature=98, fatigue=True, runny_nose=False) == \"possibly_yes\"\n    assert checkforcovid(temperature=99, fatigue=True, runny_nose=True) == \"probably_not\"\n\n    \ndef test_checkforcovid_high_temps(checkforcovid):\n    if checkforcovid is None:\n        raise AssertionError(\"No student function found for this problem.\")\n    assert checkforcovid(temperature=101, fatigue=False, runny_nose=False) == \"possibly_yes\"\n    assert checkforcovid(temperature=102, fatigue=False, runny_nose=True) == \"probably_not\"\n    assert checkforcovid(temperature=103, fatigue=True, runny_nose=False) == \"probably_yes\"\n    assert checkforcovid(temperature=104, fatigue=True, runny_nose=True) == \"probably_not\"\n    \n",
    "prob3": "from otter.test_files import test_case\n\nOK_FORMAT = False\n\nname = \"prob3\"\npoints = None\n\n@test_case(points=None, hidden=False)\ndef test_touchdown_rules_running(touchdown_rules):\n    if touchdown_rules is None:\n        raise AssertionError(\"No student function found for this problem.\")    \n    assert touchdown_rules(break_plane=False, manner=\"run\", \n                           both_feet=True, in_control=False) == False\n\n    assert touchdown_rules(break_plane=True, manner=\"run\", \n                           both_feet=False, in_control=True) == True\n\n    assert touchdown_rules(break_plane=False, manner=\"run\", \n                           both_feet=True, in_control=True) == False\n\n    assert touchdown_rules(break_plane=True, manner=\"run\", \n                           both_feet=False, in_control=False) == True\n\n    \ndef test_touchdown_rules_catching(touchdown_rules):\n    if touchdown_rules is None:\n        raise AssertionError(\"No student function found for this problem.\")\n    assert touchdown_rules(break_plane=False, manner=\"catch\", \n                           both_feet=False, in_control=True) == False\n\n    assert touchdown_rules(break_plane=False, manner=\"catch\", \n                           both_feet=True, in_control=True) == True\n\n    assert touchdown_rules(break_plane=True, manner=\"catch\", \n                           both_feet=True, in_control=False) == False\n    \n",
    "prob4": "from otter.test_files import test_case\n\nOK_FORMAT = False\n\nname = \"prob4\"\npoints = None\n\n@test_case(points=None, hidden=False)\ndef test_attack_effect_normal(attack_effect):\n    if attack_effect is None:\n        raise AssertionError(\"No student function found for this problem.\")    \n    assert attack_effect(attack=\"normal\", magic=False, enemy_hero=False) == \"effective\"\n    assert attack_effect(attack=\"normal\", magic=False, enemy_hero=True) == \"ineffective\"\n    assert attack_effect(attack=\"normal\", magic=True, enemy_hero=False) == \"effective\"\n    assert attack_effect(attack=\"normal\", magic=True, enemy_hero=True) == \"effective\"\n\n    \ndef test_attack_effect_special(attack_effect):\n    if attack_effect is None:\n        raise AssertionError(\"No student function found for this problem.\")    \n    assert attack_effect(attack=\"special\", magic=False, enemy_hero=False) == \"effective\"\n    assert attack_effect(attack=\"special\", magic=False, enemy_hero=True) ==\"ineffective\"\n    assert attack_effect(attack=\"special\", magic=True, enemy_hero=False) == \"super_effective\"\n    assert attack_effect(attack=\"special\", magic=True, enemy_hero=True)  == \"effective\"\n    \n",
    "prob5": "from otter.test_files import test_case\n\nOK_FORMAT = False\n\nname = \"prob5\"\npoints = None\n\n@test_case(points=None, hidden=False)\ndef test_recommend_coffee_light_roasts(recommend_coffee):\n    if recommend_coffee is None:\n        raise AssertionError(\"No student function found for this problem.\")    \n    assert recommend_coffee(dark_roast=False, cream=False, \n                            hazelnut=False) == \"house_drip\"\n    assert recommend_coffee(dark_roast=False, cream=False, \n                            hazelnut=True) == \"house_drip\"\n    assert recommend_coffee(dark_roast=False, cream=True, \n                            hazelnut=False) == \"house_drip\"\n    assert recommend_coffee(dark_roast=False, cream=True, \n                            hazelnut=True) == \"house_drip\"\n\n    \ndef test_recommend_coffee_dark_roasts(recommend_coffee):\n    if recommend_coffee is None:\n        raise AssertionError(\"No student function found for this problem.\")    \n    assert recommend_coffee(dark_roast=True, cream=False, \n                            hazelnut=False) == \"americano\"\n    assert recommend_coffee(dark_roast=True, cream=False, \n                            hazelnut=True) == \"house_drip\"\n    assert recommend_coffee(dark_roast=True, cream=True, \n                            hazelnut=False) == \"latte\"\n    assert recommend_coffee(dark_roast=True, cream=True, \n                            hazelnut=True) == \"house_special\"\n\n"
   }
  },
  "toc": {
   "base_numbering": 1,
   "nav_menu": {},
   "number_sections": true,
   "sideBar": true,
   "skip_h1_title": false,
   "title_cell": "Table of Contents",
   "title_sidebar": "Contents",
   "toc_cell": false,
   "toc_position": {},
   "toc_section_display": true,
   "toc_window_display": false
  }
 },
 "nbformat": 4,
 "nbformat_minor": 4
}
