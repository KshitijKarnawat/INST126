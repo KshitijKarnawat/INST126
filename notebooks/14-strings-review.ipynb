{
 "cells": [
  {
   "cell_type": "markdown",
   "metadata": {
    "id": "g-lkfdphxbR0",
    "slideshow": {
     "slide_type": "slide"
    }
   },
   "source": [
    "# What are strings and why should we care about them?\n",
    "\n",
    "## Strings are everywhere\n",
    "\n",
    "- Email addresses (e.g., __`gciampag@umd.edu`__)\n",
    "- Webpage URLs (e.g., __`http://www.umd.edu/`__)\n",
    "- Names\n",
    "- Documents, words\n",
    "- Sales records\n",
    "- Etc.\n",
    "\n",
    "We need to learn to work with strings because a lot of data we want to do things with live in the world as mixed data"
   ]
  },
  {
   "cell_type": "markdown",
   "metadata": {
    "slideshow": {
     "slide_type": "subslide"
    }
   },
   "source": [
    "<br/>\n",
    "<br/>\n",
    "<br/>\n",
    "<br/>\n",
    "\n",
    "---"
   ]
  },
  {
   "cell_type": "markdown",
   "metadata": {
    "id": "59UWIOJ_jgrs",
    "slideshow": {
     "slide_type": "subslide"
    }
   },
   "source": [
    "Strings are the ultimate &ldquo;lingua franca&rdquo; between systems:\n",
    "\n",
    "- Data is often converted to strings (in e.g., JSON or **J**ava**S**cript **O**bject **N**otation)\n",
    "- We assume strings coming in, and we parse it appropriately. \n",
    "  + This can include data (numbers / records), as we see in one of the Projects for this module!\n",
    "- This also includes the &ldquo;human system&rdquo; (i.e., the user)!"
   ]
  },
  {
   "cell_type": "markdown",
   "metadata": {
    "slideshow": {
     "slide_type": "subslide"
    }
   },
   "source": [
    "<br/>\n",
    "<br/>\n",
    "<br/>\n",
    "<br/>\n",
    "\n",
    "---"
   ]
  },
  {
   "cell_type": "markdown",
   "metadata": {
    "id": "Ku3vlFoMjfUt",
    "slideshow": {
     "slide_type": "fragment"
    }
   },
   "source": [
    "## Strings are sequences of characters\n",
    "\n",
    "But what *is* a string? It's fundamentally a sequence of characters.\n",
    "\n",
    "And that's exactly what a string is _in Python too_: it's a sequence of characters, much like (though not exactly) like a `list`."
   ]
  },
  {
   "cell_type": "code",
   "execution_count": null,
   "metadata": {
    "colab": {
     "base_uri": "https://localhost:8080/"
    },
    "executionInfo": {
     "elapsed": 351,
     "status": "ok",
     "timestamp": 1616418897497,
     "user": {
      "displayName": "Joel Chan",
      "photoUrl": "https://lh3.googleusercontent.com/a-/AOh14GiBPPpBf_QqgDL3pMurAsPu9WJJE_x_6UtgW13UFQ=s64",
      "userId": "15153559228409906865"
     },
     "user_tz": 240
    },
    "id": "BRNUU1DjEqrw",
    "outputId": "fe1b8335-acec-475d-a809-c931694bee3b",
    "slideshow": {
     "slide_type": "subslide"
    }
   },
   "outputs": [],
   "source": [
    "# Strings are iterable sequences of characters\n",
    "s = \"banana\"\n",
    "for char in s:\n",
    "    print(char)"
   ]
  },
  {
   "cell_type": "code",
   "execution_count": null,
   "metadata": {
    "colab": {
     "base_uri": "https://localhost:8080/"
    },
    "executionInfo": {
     "elapsed": 371,
     "status": "ok",
     "timestamp": 1616418895570,
     "user": {
      "displayName": "Joel Chan",
      "photoUrl": "https://lh3.googleusercontent.com/a-/AOh14GiBPPpBf_QqgDL3pMurAsPu9WJJE_x_6UtgW13UFQ=s64",
      "userId": "15153559228409906865"
     },
     "user_tz": 240
    },
    "id": "wssiqU3iUw1I",
    "outputId": "d90a3a33-c4cf-416a-b0bf-a4fab3b2d0fe",
    "scrolled": true,
    "slideshow": {
     "slide_type": "subslide"
    }
   },
   "outputs": [],
   "source": [
    "# Strings are indexable sequences of characters\n",
    "for i in range(len(s)):\n",
    "    print(i, s[i])"
   ]
  },
  {
   "cell_type": "code",
   "execution_count": null,
   "metadata": {
    "colab": {
     "base_uri": "https://localhost:8080/"
    },
    "executionInfo": {
     "elapsed": 499,
     "status": "ok",
     "timestamp": 1616419054359,
     "user": {
      "displayName": "Joel Chan",
      "photoUrl": "https://lh3.googleusercontent.com/a-/AOh14GiBPPpBf_QqgDL3pMurAsPu9WJJE_x_6UtgW13UFQ=s64",
      "userId": "15153559228409906865"
     },
     "user_tz": 240
    },
    "id": "W1mP50_BFMjv",
    "outputId": "f813c28a-f758-449c-e604-f702374cbbc3",
    "slideshow": {
     "slide_type": "subslide"
    }
   },
   "outputs": [],
   "source": [
    "# Strings can contain multiple words!\n",
    "sentence = \"I scream, you scream, we all scream for ice cream\"\n",
    "for char in sentence:\n",
    "    print(char)"
   ]
  },
  {
   "cell_type": "code",
   "execution_count": null,
   "metadata": {
    "colab": {
     "base_uri": "https://localhost:8080/"
    },
    "executionInfo": {
     "elapsed": 461,
     "status": "ok",
     "timestamp": 1616419123459,
     "user": {
      "displayName": "Joel Chan",
      "photoUrl": "https://lh3.googleusercontent.com/a-/AOh14GiBPPpBf_QqgDL3pMurAsPu9WJJE_x_6UtgW13UFQ=s64",
      "userId": "15153559228409906865"
     },
     "user_tz": 240
    },
    "id": "ljxyyCJNFhGX",
    "outputId": "4e7c6c2b-d5c1-4c87-ade6-7dd74a0d8d50",
    "slideshow": {
     "slide_type": "subslide"
    }
   },
   "outputs": [],
   "source": [
    "# Strings include special characters and can be empty\n",
    "a = \"\"\n",
    "b = \"  \\t\\n\"\n",
    "\n",
    "print(\"a is \", a)\n",
    "print(\"b is \", b)\n",
    "\n",
    "print(\"a == b ?\", a == b)\n",
    "\n",
    "print(\"Length of a:\", len(a))\n",
    "print(\"Length of b:\", len(b))"
   ]
  },
  {
   "cell_type": "markdown",
   "metadata": {
    "slideshow": {
     "slide_type": "subslide"
    }
   },
   "source": [
    "<br/>\n",
    "<br/>\n",
    "<br/>\n",
    "<br/>\n",
    "\n",
    "---"
   ]
  },
  {
   "cell_type": "markdown",
   "metadata": {
    "id": "XMfeWgyvG3W7",
    "slideshow": {
     "slide_type": "fragment"
    }
   },
   "source": [
    "### Characters don't have to be visible / or be letters!\n",
    "\n",
    "- Notice that even the \"blank space\" is a character!\n",
    "\n",
    "- Notice that different strings may print the same\n",
    "   + A string that includes an empty space character is **NOT** the same as an empty string \n",
    "\n",
    "- This distinction is very important to remember as you work with real world data."
   ]
  },
  {
   "cell_type": "code",
   "execution_count": null,
   "metadata": {
    "colab": {
     "base_uri": "https://localhost:8080/",
     "height": 122
    },
    "executionInfo": {
     "elapsed": 429,
     "status": "ok",
     "timestamp": 1603119239104,
     "user": {
      "displayName": "Joel Chan",
      "photoUrl": "https://lh3.googleusercontent.com/a-/AOh14GiBPPpBf_QqgDL3pMurAsPu9WJJE_x_6UtgW13UFQ=s64",
      "userId": "15153559228409906865"
     },
     "user_tz": 240
    },
    "id": "U9vAhGrFZ4o_",
    "outputId": "b1b20f59-7395-485d-ac13-e2c1992496ef",
    "slideshow": {
     "slide_type": "subslide"
    }
   },
   "outputs": [],
   "source": [
    "a = \"\"  # a blank / empty string\n",
    "b = \" \"  # a non-empty string with one blank space *character*\n",
    "\n",
    "print(\"Printing out the value of a\")\n",
    "print(a)\n",
    "print(\"Printing out the value of b\")\n",
    "print(b)\n",
    "\n",
    "print(\"Length of a:\", len(a), \"Length of b:\", len(b))\n",
    "print(\"a == b?\", a == b)"
   ]
  },
  {
   "cell_type": "code",
   "execution_count": null,
   "metadata": {
    "colab": {
     "base_uri": "https://localhost:8080/",
     "height": 69
    },
    "executionInfo": {
     "elapsed": 196,
     "status": "ok",
     "timestamp": 1603119321123,
     "user": {
      "displayName": "Joel Chan",
      "photoUrl": "https://lh3.googleusercontent.com/a-/AOh14GiBPPpBf_QqgDL3pMurAsPu9WJJE_x_6UtgW13UFQ=s64",
      "userId": "15153559228409906865"
     },
     "user_tz": 240
    },
    "id": "bcPsHiupWwTV",
    "outputId": "9ca639ad-4a22-4c99-da95-6bbedf3d1d4f",
    "slideshow": {
     "slide_type": "subslide"
    }
   },
   "outputs": [],
   "source": [
    "# Same name, different strings!\n",
    "a = \"James\"\n",
    "b = \" James\"\n",
    "c = \"James \"\n",
    "\n",
    "print(\"a == b?\", a == b)\n",
    "print(\"b == c?\", b == c)\n",
    "print(\"a == c?\", a == c)"
   ]
  },
  {
   "cell_type": "markdown",
   "metadata": {
    "slideshow": {
     "slide_type": "subslide"
    }
   },
   "source": [
    "<br/>\n",
    "<br/>\n",
    "<br/>\n",
    "<br/>\n",
    "\n",
    "---"
   ]
  },
  {
   "cell_type": "markdown",
   "metadata": {
    "id": "BiQBWTMsRANw",
    "slideshow": {
     "slide_type": "subslide"
    }
   },
   "source": [
    "Other kinds of characters that don't look like &ldquo;letters&rdquo;: tabulations (or _tabs_) and newlines. These are called _escaped sequences_ since the literal symbol used does not match what is being printed."
   ]
  },
  {
   "cell_type": "code",
   "execution_count": null,
   "metadata": {
    "colab": {
     "base_uri": "https://localhost:8080/"
    },
    "executionInfo": {
     "elapsed": 439,
     "status": "ok",
     "timestamp": 1616419232304,
     "user": {
      "displayName": "Joel Chan",
      "photoUrl": "https://lh3.googleusercontent.com/a-/AOh14GiBPPpBf_QqgDL3pMurAsPu9WJJE_x_6UtgW13UFQ=s64",
      "userId": "15153559228409906865"
     },
     "user_tz": 240
    },
    "id": "UTyQyy3sRIjj",
    "outputId": "57788864-3095-4528-e793-3f128c7eb916",
    "slideshow": {
     "slide_type": "subslide"
    }
   },
   "outputs": [],
   "source": [
    "# tab is \\t\n",
    "s = \"a\\ttab😂\"\n",
    "print(s)"
   ]
  },
  {
   "cell_type": "code",
   "execution_count": null,
   "metadata": {
    "colab": {
     "base_uri": "https://localhost:8080/"
    },
    "executionInfo": {
     "elapsed": 439,
     "status": "ok",
     "timestamp": 1616419232304,
     "user": {
      "displayName": "Joel Chan",
      "photoUrl": "https://lh3.googleusercontent.com/a-/AOh14GiBPPpBf_QqgDL3pMurAsPu9WJJE_x_6UtgW13UFQ=s64",
      "userId": "15153559228409906865"
     },
     "user_tz": 240
    },
    "id": "UTyQyy3sRIjj",
    "outputId": "57788864-3095-4528-e793-3f128c7eb916",
    "slideshow": {
     "slide_type": "-"
    }
   },
   "outputs": [],
   "source": [
    "for i in range(len(s)):\n",
    "    print(i, s[i])"
   ]
  },
  {
   "cell_type": "code",
   "execution_count": null,
   "metadata": {
    "colab": {
     "base_uri": "https://localhost:8080/",
     "height": 157
    },
    "executionInfo": {
     "elapsed": 617,
     "status": "ok",
     "timestamp": 1603119413902,
     "user": {
      "displayName": "Joel Chan",
      "photoUrl": "https://lh3.googleusercontent.com/a-/AOh14GiBPPpBf_QqgDL3pMurAsPu9WJJE_x_6UtgW13UFQ=s64",
      "userId": "15153559228409906865"
     },
     "user_tz": 240
    },
    "id": "w0zSVYtbXLeS",
    "outputId": "5ebde374-3664-41c9-ca34-cb078d53ab27",
    "slideshow": {
     "slide_type": "subslide"
    }
   },
   "outputs": [],
   "source": [
    "# new line is \\n\n",
    "s = \"a\\ntab\"\n",
    "print(s)"
   ]
  },
  {
   "cell_type": "code",
   "execution_count": null,
   "metadata": {
    "colab": {
     "base_uri": "https://localhost:8080/",
     "height": 157
    },
    "executionInfo": {
     "elapsed": 617,
     "status": "ok",
     "timestamp": 1603119413902,
     "user": {
      "displayName": "Joel Chan",
      "photoUrl": "https://lh3.googleusercontent.com/a-/AOh14GiBPPpBf_QqgDL3pMurAsPu9WJJE_x_6UtgW13UFQ=s64",
      "userId": "15153559228409906865"
     },
     "user_tz": 240
    },
    "id": "w0zSVYtbXLeS",
    "outputId": "5ebde374-3664-41c9-ca34-cb078d53ab27",
    "slideshow": {
     "slide_type": "-"
    }
   },
   "outputs": [],
   "source": [
    "for i in range(len(s)):\n",
    "    print(i, s[i])"
   ]
  },
  {
   "cell_type": "markdown",
   "metadata": {
    "slideshow": {
     "slide_type": "subslide"
    }
   },
   "source": [
    "The full list of escaped sequences recognized by Python is here: https://docs.python.org/3/reference/lexical_analysis.html#escape-sequences"
   ]
  },
  {
   "cell_type": "markdown",
   "metadata": {
    "slideshow": {
     "slide_type": "subslide"
    }
   },
   "source": [
    "<br/>\n",
    "<br/>\n",
    "<br/>\n",
    "<br/>\n",
    "<br/>\n",
    "<br/>\n",
    "<br/>\n",
    "<br/>\n",
    "<br/>\n",
    "\n",
    "---"
   ]
  },
  {
   "cell_type": "markdown",
   "metadata": {
    "slideshow": {
     "slide_type": "subslide"
    }
   },
   "source": [
    "## The ASCII character set\n",
    "<img src=\"https://terpconnect.umd.edu/~gciampag/INST126/images/ascii-table-1.1.svg\" width=\"50%\" style=\"margin: auto;\"/>"
   ]
  },
  {
   "cell_type": "markdown",
   "metadata": {
    "slideshow": {
     "slide_type": "subslide"
    }
   },
   "source": [
    "<br/>\n",
    "<br/>\n",
    "<br/>\n",
    "<br/>\n",
    "<br/>\n",
    "<br/>\n",
    "<br/>\n",
    "<br/>\n",
    "<br/>\n",
    "\n",
    "---"
   ]
  },
  {
   "cell_type": "markdown",
   "metadata": {
    "id": "_fBRR1MSROdJ",
    "slideshow": {
     "slide_type": "fragment"
    }
   },
   "source": [
    "## Strings are immutable sequences\n",
    "\n",
    "- In Python both lists and strings are _sequences_\n",
    "\n",
    "- Because of this most of the properties and functions that apply to lists also apply to strings \n",
    "  + They can be indexed, \n",
    "  + They have length,\n",
    "  + We can check if something is &ldquo;in&rdquo; it, etc.; \n",
    "\n",
    "- With one important exception: **strings are immutable** \n",
    "  + You can never change a string directly;\n",
    "  + You can only create a *new*, changed string; \n",
    "\n",
    "A consequence of this is that if you want to preserve that change, then _you must then (re)assign to a variable_.\n",
    "\n",
    "More on this when we talk about working with strings."
   ]
  },
  {
   "cell_type": "code",
   "execution_count": null,
   "metadata": {
    "slideshow": {
     "slide_type": "subslide"
    }
   },
   "outputs": [],
   "source": [
    "# Strings are immutable\n",
    "s = \"banana\"  # a string with 6 characters\n",
    "s[0] = 1\n",
    "print(s)"
   ]
  },
  {
   "cell_type": "code",
   "execution_count": null,
   "metadata": {
    "slideshow": {
     "slide_type": "subslide"
    }
   },
   "outputs": [],
   "source": [
    "# Lists instead are mutable\n",
    "l = ['b', 'a', 'n', 'a', 'n', 'a']  # a list with 6 individual characters (length-1 strings)\n",
    "l[0] = 1\n",
    "print(l)"
   ]
  },
  {
   "cell_type": "code",
   "execution_count": null,
   "metadata": {
    "colab": {
     "base_uri": "https://localhost:8080/"
    },
    "executionInfo": {
     "elapsed": 475,
     "status": "ok",
     "timestamp": 1616419444605,
     "user": {
      "displayName": "Joel Chan",
      "photoUrl": "https://lh3.googleusercontent.com/a-/AOh14GiBPPpBf_QqgDL3pMurAsPu9WJJE_x_6UtgW13UFQ=s64",
      "userId": "15153559228409906865"
     },
     "user_tz": 240
    },
    "id": "mEFRGErFZGnx",
    "outputId": "c5615513-1930-4062-f8ae-18634569782c",
    "slideshow": {
     "slide_type": "subslide"
    }
   },
   "outputs": [],
   "source": [
    "# Strings have a length\n",
    "a_string = \"hello world Hi\"\n",
    "print(len(a_string))"
   ]
  },
  {
   "cell_type": "code",
   "execution_count": null,
   "metadata": {
    "slideshow": {
     "slide_type": "-"
    }
   },
   "outputs": [],
   "source": [
    "# Strings can be indexed\n",
    "a_string[3]"
   ]
  },
  {
   "cell_type": "code",
   "execution_count": null,
   "metadata": {
    "colab": {
     "base_uri": "https://localhost:8080/",
     "height": 157
    },
    "executionInfo": {
     "elapsed": 379,
     "status": "ok",
     "timestamp": 1603119524289,
     "user": {
      "displayName": "Joel Chan",
      "photoUrl": "https://lh3.googleusercontent.com/a-/AOh14GiBPPpBf_QqgDL3pMurAsPu9WJJE_x_6UtgW13UFQ=s64",
      "userId": "15153559228409906865"
     },
     "user_tz": 240
    },
    "id": "5cKINmX6Xa62",
    "outputId": "a8165ae5-f0a5-469a-f6d3-5f59ef7bed4b",
    "slideshow": {
     "slide_type": "subslide"
    }
   },
   "outputs": [],
   "source": [
    "# Strings can be tested for membership of a substring\n",
    "course_code = \"INST126\"\n",
    "\"2\" in course_code"
   ]
  },
  {
   "cell_type": "code",
   "execution_count": null,
   "metadata": {
    "slideshow": {
     "slide_type": "-"
    }
   },
   "outputs": [],
   "source": [
    "sentence = \"I scream, you scream, we all scream for ice cream\"\n",
    "\"scream\" in sentence"
   ]
  },
  {
   "cell_type": "markdown",
   "metadata": {
    "slideshow": {
     "slide_type": "subslide"
    }
   },
   "source": [
    "<br/>\n",
    "<br/>\n",
    "<br/>\n",
    "<br/>\n",
    "\n",
    "---"
   ]
  },
  {
   "cell_type": "markdown",
   "metadata": {
    "slideshow": {
     "slide_type": "subslide"
    }
   },
   "source": [
    "- One notable difference with lists is that strings are not directly sortable\n",
    "- The `sorted()` function will take a string as input (since it is a sequence)\n",
    "  + But it will return it &ldquo;exploded&rdquo; as a list\n",
    "- There is not `.sort()` method for strings"
   ]
  },
  {
   "cell_type": "code",
   "execution_count": null,
   "metadata": {
    "slideshow": {
     "slide_type": "subslide"
    }
   },
   "outputs": [],
   "source": [
    "# The sorted() function \"explodes\" a string into a list\n",
    "a_string = \"Hello world, hi!\"\n",
    "print(sorted(a_string))"
   ]
  },
  {
   "cell_type": "code",
   "execution_count": null,
   "metadata": {
    "slideshow": {
     "slide_type": "-"
    }
   },
   "outputs": [],
   "source": [
    "# There is not .sort() method for strings\n",
    "a_string.sort()"
   ]
  },
  {
   "cell_type": "markdown",
   "metadata": {
    "slideshow": {
     "slide_type": "subslide"
    }
   },
   "source": [
    "<br/>\n",
    "<br/>\n",
    "<br/>\n",
    "<br/>\n",
    "<br/>\n",
    "<br/>\n",
    "<br/>\n",
    "<br/>\n",
    "<br/>\n",
    "\n",
    "---"
   ]
  },
  {
   "cell_type": "markdown",
   "metadata": {
    "id": "lwqnJOZV0AEz",
    "slideshow": {
     "slide_type": "subslide"
    }
   },
   "source": [
    "## Advanced Indexing: Slicing a string\n",
    "\n",
    "In addition to indexing individual characters, Python also allows to index substrings. This is done with a special type of indexes called _slices_. "
   ]
  },
  {
   "cell_type": "code",
   "execution_count": null,
   "metadata": {
    "slideshow": {
     "slide_type": "subslide"
    }
   },
   "outputs": [],
   "source": [
    "first10letters = \"abcdefghij\"\n",
    "first10letters[3:8]"
   ]
  },
  {
   "cell_type": "markdown",
   "metadata": {
    "id": "QwKbf3Uwb0oB",
    "slideshow": {
     "slide_type": "fragment"
    }
   },
   "source": [
    "The index before the `:` indicates where you want to *start*, and the index after the `:` indicates where you want to stop *before*. \n",
    "\n",
    "So `[3:8]` will go from the char at index `3` to index `7` (before index `8`). \n",
    "\n",
    "- In a slice index, both the _start_ and _stop_ parts are optional:\n",
    "  + `:stop` implicitly means `0:stop`\n",
    "  + `start:` implicitly means `start:-1`\n",
    "  + So `:` means `0:-1` !"
   ]
  },
  {
   "cell_type": "code",
   "execution_count": null,
   "metadata": {
    "id": "QwKbf3Uwb0oB",
    "slideshow": {
     "slide_type": "subslide"
    }
   },
   "outputs": [],
   "source": [
    "# equivalent to 0:8\n",
    "first10letters[:8]"
   ]
  },
  {
   "cell_type": "code",
   "execution_count": null,
   "metadata": {
    "slideshow": {
     "slide_type": "-"
    }
   },
   "outputs": [],
   "source": [
    "# equivalent to 3:-1\n",
    "first10letters[3:]"
   ]
  },
  {
   "cell_type": "code",
   "execution_count": null,
   "metadata": {
    "slideshow": {
     "slide_type": "-"
    }
   },
   "outputs": [],
   "source": [
    "# equivalent to 0:-1\n",
    "first10letters[:]"
   ]
  },
  {
   "cell_type": "code",
   "execution_count": null,
   "metadata": {
    "slideshow": {
     "slide_type": "-"
    }
   },
   "outputs": [],
   "source": [
    "# equivalent to 0:-3\n",
    "first10letters[:-3]"
   ]
  },
  {
   "cell_type": "markdown",
   "metadata": {
    "slideshow": {
     "slide_type": "subslide"
    }
   },
   "source": [
    "<br/>\n",
    "<br/>\n",
    "<br/>\n",
    "<br/>\n",
    "\n",
    "---"
   ]
  },
  {
   "cell_type": "markdown",
   "metadata": {
    "slideshow": {
     "slide_type": "subslide"
    }
   },
   "source": [
    "Slicing is super useful for _truncation_, or for parsing strings according to a pattern \n",
    "\n",
    "__Ex.__ Given a class code like `INST126`, extract the subject area and the level number.\n",
    "\n",
    "(The first four characters of a course code is always the subject area and the last three the number.)"
   ]
  },
  {
   "cell_type": "code",
   "execution_count": null,
   "metadata": {
    "colab": {
     "base_uri": "https://localhost:8080/"
    },
    "executionInfo": {
     "elapsed": 608,
     "status": "ok",
     "timestamp": 1616420215777,
     "user": {
      "displayName": "Joel Chan",
      "photoUrl": "https://lh3.googleusercontent.com/a-/AOh14GiBPPpBf_QqgDL3pMurAsPu9WJJE_x_6UtgW13UFQ=s64",
      "userId": "15153559228409906865"
     },
     "user_tz": 240
    },
    "id": "Et-DE_NUmkXT",
    "outputId": "ae058356-3d9f-412e-b080-1e9481447640",
    "slideshow": {
     "slide_type": "subslide"
    }
   },
   "outputs": [],
   "source": [
    "code = \"INST126\"\n",
    "\n",
    "area = code[0:4]\n",
    "number = code[4:]\n",
    "\n",
    "print(\"Area =\", area)\n",
    "print(\"Number =\", number)"
   ]
  },
  {
   "cell_type": "markdown",
   "metadata": {
    "slideshow": {
     "slide_type": "subslide"
    }
   },
   "source": [
    "<br/>\n",
    "<br/>\n",
    "<br/>\n",
    "<br/>\n",
    "\n",
    "---"
   ]
  },
  {
   "cell_type": "markdown",
   "metadata": {
    "slideshow": {
     "slide_type": "subslide"
    }
   },
   "source": [
    "### Practice: string indexing\n",
    "\n",
    "Using the `code` string below, with a partner answer the following questions. Refer to this table for the indexes:\n",
    "\n",
    "|||||||||\n",
    "|-:|---|---|---|---|---|---|---|\n",
    "| Characters | I | N | S | T | 1 | 2 | 6 |\n",
    "| INDEX | 0 | 1 | 2 | 3 | 4 | 5 | 6 |"
   ]
  },
  {
   "cell_type": "code",
   "execution_count": null,
   "metadata": {
    "slideshow": {
     "slide_type": "subslide"
    }
   },
   "outputs": [],
   "source": [
    "code = \"INST126\""
   ]
  },
  {
   "cell_type": "markdown",
   "metadata": {
    "slideshow": {
     "slide_type": "subslide"
    }
   },
   "source": [
    "<br/>\n",
    "<br/>\n",
    "<br/>\n",
    "<br/>\n",
    "\n",
    "---"
   ]
  },
  {
   "cell_type": "markdown",
   "metadata": {
    "slideshow": {
     "slide_type": "subslide"
    }
   },
   "source": [
    "__Q1.__ How would you get the level of the course?\n",
    "\n",
    "(The level of a course is the the first number after the four-letter code.)"
   ]
  },
  {
   "cell_type": "code",
   "execution_count": null,
   "metadata": {
    "slideshow": {
     "slide_type": "-"
    }
   },
   "outputs": [],
   "source": [
    "# TASK: Get the level of the course (first number after the four-letter code)\n",
    "..."
   ]
  },
  {
   "cell_type": "markdown",
   "metadata": {
    "slideshow": {
     "slide_type": "subslide"
    }
   },
   "source": [
    "<br/>\n",
    "<br/>\n",
    "<br/>\n",
    "<br/>\n",
    "\n",
    "---"
   ]
  },
  {
   "cell_type": "markdown",
   "metadata": {
    "slideshow": {
     "slide_type": "subslide"
    }
   },
   "source": [
    "__Q2.__ How do you get the last three characters of the code?"
   ]
  },
  {
   "cell_type": "code",
   "execution_count": null,
   "metadata": {
    "slideshow": {
     "slide_type": "-"
    }
   },
   "outputs": [],
   "source": [
    "# TASK: get last three characters of the code\n",
    "..."
   ]
  },
  {
   "cell_type": "markdown",
   "metadata": {
    "slideshow": {
     "slide_type": "subslide"
    }
   },
   "source": [
    "<br/>\n",
    "<br/>\n",
    "<br/>\n",
    "<br/>\n",
    "\n",
    "---"
   ]
  },
  {
   "cell_type": "markdown",
   "metadata": {
    "slideshow": {
     "slide_type": "subslide"
    }
   },
   "source": [
    "__Q3.__ Given the code for a 1XX-level course, print the corresponding 3XX-level course."
   ]
  },
  {
   "cell_type": "code",
   "execution_count": null,
   "metadata": {
    "slideshow": {
     "slide_type": "-"
    }
   },
   "outputs": [],
   "source": [
    "# TASK: give code of 1XX-level course, print the corresponding 3XX-level course\n",
    "code = \"CHEM131\"\n",
    "..."
   ]
  },
  {
   "cell_type": "markdown",
   "metadata": {
    "slideshow": {
     "slide_type": "subslide"
    }
   },
   "source": [
    "<br/>\n",
    "<br/>\n",
    "<br/>\n",
    "<br/>\n",
    "\n",
    "---"
   ]
  },
  {
   "cell_type": "markdown",
   "metadata": {
    "slideshow": {
     "slide_type": "subslide"
    }
   },
   "source": [
    "__Q4.__ How would you get the first three letters of each name?"
   ]
  },
  {
   "cell_type": "code",
   "execution_count": null,
   "metadata": {
    "colab": {
     "base_uri": "https://localhost:8080/",
     "height": 122
    },
    "executionInfo": {
     "elapsed": 703,
     "status": "ok",
     "timestamp": 1603120158044,
     "user": {
      "displayName": "Joel Chan",
      "photoUrl": "https://lh3.googleusercontent.com/a-/AOh14GiBPPpBf_QqgDL3pMurAsPu9WJJE_x_6UtgW13UFQ=s64",
      "userId": "15153559228409906865"
     },
     "user_tz": 240
    },
    "id": "f0JnSZUsZ3hA",
    "outputId": "07b16a06-e358-4a9e-ff14-16bb3f55fe79",
    "slideshow": {
     "slide_type": "-"
    }
   },
   "outputs": [],
   "source": [
    "names = [\"Joel\", \"Sarah\", \"John\", \"Michael\", \"Patrick\", \"Kacie\"]\n",
    "..."
   ]
  },
  {
   "cell_type": "markdown",
   "metadata": {
    "slideshow": {
     "slide_type": "subslide"
    }
   },
   "source": [
    "<br/>\n",
    "<br/>\n",
    "<br/>\n",
    "<br/>\n",
    "\n",
    "---"
   ]
  },
  {
   "cell_type": "markdown",
   "metadata": {
    "id": "XZOi4Ftbzj1q",
    "slideshow": {
     "slide_type": "subslide"
    }
   },
   "source": [
    "### Practice: Check if character(s) is in string (membership test)"
   ]
  },
  {
   "cell_type": "markdown",
   "metadata": {
    "id": "Otxd6tdCacy9",
    "slideshow": {
     "slide_type": "-"
    }
   },
   "source": [
    "We have already used the `in` operator to check if some character is in a string.\n",
    "\n",
    "This is also called _membership test_.\n",
    "\n",
    "__Ex.__ Given words below, print only the words that are valid email addresses."
   ]
  },
  {
   "cell_type": "code",
   "execution_count": null,
   "metadata": {
    "colab": {
     "base_uri": "https://localhost:8080/"
    },
    "executionInfo": {
     "elapsed": 271,
     "status": "ok",
     "timestamp": 1616420680608,
     "user": {
      "displayName": "Joel Chan",
      "photoUrl": "https://lh3.googleusercontent.com/a-/AOh14GiBPPpBf_QqgDL3pMurAsPu9WJJE_x_6UtgW13UFQ=s64",
      "userId": "15153559228409906865"
     },
     "user_tz": 240
    },
    "id": "qj3GI55dLNLu",
    "outputId": "7af247f3-0e7f-4e0c-9581-81d5f759d263",
    "slideshow": {
     "slide_type": "-"
    }
   },
   "outputs": [],
   "source": [
    "# print only *valid* email addresses\n",
    "words = [\"Hi\", \"good\", \"morning\", \"INST126\", \"our\", \"emails\", \"are\", \"gciampag@umd.edu\", \"@umd.edu\", \"yogi@umd\"]\n",
    "\n",
    "..."
   ]
  },
  {
   "cell_type": "markdown",
   "metadata": {
    "slideshow": {
     "slide_type": "subslide"
    }
   },
   "source": [
    "<br/>\n",
    "<br/>\n",
    "<br/>\n",
    "<br/>\n",
    "\n",
    "---"
   ]
  },
  {
   "cell_type": "markdown",
   "metadata": {
    "slideshow": {
     "slide_type": "subslide"
    }
   },
   "source": [
    "The `in` operator also accepts substrings.\n",
    "\n",
    "__Ex.__ Given the list of courses belows, print only the Chemistry courses."
   ]
  },
  {
   "cell_type": "code",
   "execution_count": null,
   "metadata": {
    "slideshow": {
     "slide_type": "-"
    }
   },
   "outputs": [],
   "source": [
    "# print only chemistry courses\n",
    "courses = [\"INST126\", \"CHEM131\", \"INST326\", \"CHEM331\"]\n",
    "\n",
    "..."
   ]
  },
  {
   "cell_type": "markdown",
   "metadata": {
    "slideshow": {
     "slide_type": "subslide"
    }
   },
   "source": [
    "<br/>\n",
    "<br/>\n",
    "<br/>\n",
    "<br/>\n",
    "\n",
    "---"
   ]
  },
  {
   "cell_type": "markdown",
   "metadata": {},
   "source": [
    "However remember that Python strings are case-sensitive and so is the membership test:"
   ]
  },
  {
   "cell_type": "code",
   "execution_count": null,
   "metadata": {
    "colab": {
     "base_uri": "https://localhost:8080/"
    },
    "executionInfo": {
     "elapsed": 263,
     "status": "ok",
     "timestamp": 1616420491874,
     "user": {
      "displayName": "Joel Chan",
      "photoUrl": "https://lh3.googleusercontent.com/a-/AOh14GiBPPpBf_QqgDL3pMurAsPu9WJJE_x_6UtgW13UFQ=s64",
      "userId": "15153559228409906865"
     },
     "user_tz": 240
    },
    "id": "1n49p2Ybagde",
    "outputId": "0c79e1a3-f9f1-435a-aa54-d8e1103249e3",
    "slideshow": {
     "slide_type": "-"
    }
   },
   "outputs": [],
   "source": [
    "message = \"Hello, my name is Inigo Montoya\"\n",
    "\n",
    "# Let's check if the message mentions my name!\n",
    "print(\"inigo\" in message)"
   ]
  },
  {
   "cell_type": "markdown",
   "metadata": {
    "slideshow": {
     "slide_type": "subslide"
    }
   },
   "source": [
    "<br/>\n",
    "<br/>\n",
    "<br/>\n",
    "<br/>\n",
    "<br/>\n",
    "<br/>\n",
    "<br/>\n",
    "<br/>\n",
    "<br/>\n",
    "\n",
    "---"
   ]
  },
  {
   "cell_type": "markdown",
   "metadata": {
    "id": "AhUAWXgfnCgR",
    "slideshow": {
     "slide_type": "subslide"
    }
   },
   "source": [
    "## Working with strings: advanced\n",
    "\n",
    "Similar to lists, there is a collection of built-in **[methods](https://docs.python.org/3/library/stdtypes.html#string-methods)** available to strings. \n",
    "\n",
    "For example, the code below can be solved by using the `.lower()` method, which returns a string in lower-case."
   ]
  },
  {
   "cell_type": "code",
   "execution_count": null,
   "metadata": {
    "id": "Si15yA88dXn2",
    "slideshow": {
     "slide_type": "-"
    }
   },
   "outputs": [],
   "source": [
    "message = \"Hello, my name is Inigo Montoya\"\n",
    "\n",
    "# Let's check if the message mentions my name!\n",
    "print(\"inigo\" in message.lower())"
   ]
  },
  {
   "cell_type": "markdown",
   "metadata": {
    "slideshow": {
     "slide_type": "subslide"
    }
   },
   "source": [
    "<br/>\n",
    "<br/>\n",
    "<br/>\n",
    "<br/>\n",
    "\n",
    "---"
   ]
  },
  {
   "cell_type": "markdown",
   "metadata": {
    "id": "zo4AqTPfnkDz",
    "slideshow": {
     "slide_type": "subslide"
    }
   },
   "source": [
    "I'm not going to show you all of them, but I will talk through them and discuss some fairly common ones.\n",
    "\n",
    "There is no need to memorize them – just know:\n",
    "- There are __many methods__ that allow you to do things with strings;\n",
    "- If you want to do something, __first search__ the documentation! \n",
    "- Often way __more efficient__ than what trial and error;"
   ]
  },
  {
   "cell_type": "code",
   "execution_count": null,
   "metadata": {
    "slideshow": {
     "slide_type": "subslide"
    }
   },
   "outputs": [],
   "source": [
    "help(str.lower)"
   ]
  },
  {
   "cell_type": "markdown",
   "metadata": {
    "slideshow": {
     "slide_type": "subslide"
    }
   },
   "source": [
    "<br/>\n",
    "<br/>\n",
    "<br/>\n",
    "<br/>\n",
    "\n",
    "---"
   ]
  },
  {
   "cell_type": "markdown",
   "metadata": {
    "id": "zo4AqTPfnkDz",
    "slideshow": {
     "slide_type": "subslide"
    }
   },
   "source": [
    "Knowing how / when to read the documentation of built-in functions is a soft skill of good programmers.\n",
    "\n",
    "It gives you a sense of how to use code that other people have written that you can reuse. \n",
    "\n",
    "Some questions to ask when reading the docs:\n",
    "- What are the parameters? \n",
    "- What are the return values? \n",
    "- What can you learn from examples? \n",
    "- How do you learn how to use it appropriately in your own code?"
   ]
  },
  {
   "cell_type": "code",
   "execution_count": null,
   "metadata": {
    "slideshow": {
     "slide_type": "subslide"
    }
   },
   "outputs": [],
   "source": [
    "# The full list of string builtin methods: \n",
    "help(str)"
   ]
  },
  {
   "cell_type": "markdown",
   "metadata": {
    "slideshow": {
     "slide_type": "subslide"
    }
   },
   "source": [
    "<br/>\n",
    "<br/>\n",
    "<br/>\n",
    "<br/>\n",
    "\n",
    "---"
   ]
  },
  {
   "cell_type": "markdown",
   "metadata": {
    "id": "qOuLDRAv1P4E",
    "slideshow": {
     "slide_type": "subslide"
    }
   },
   "source": [
    "### Checking a string contents\n",
    "\n",
    "Multiple criteria can checked:\n",
    "* __format (numeric/alphabetic)__: `isalnum()`, `isascii()`, `isalpha()`, `isdigit()`, `isdecimal()`, `isnumeric()`\n",
    "* __special chars__: `isprintable()`, `isspace()`\n",
    "* __case__: `islower()`, `isupper()` `istitle()`\n",
    "* __syntax__: `isidentifier()` &ndash; is the string a valid Python identifier?\n",
    "* __prefix/suffix__: `startswith()`, `endswith()`\n",
    "* etc."
   ]
  },
  {
   "cell_type": "code",
   "execution_count": null,
   "metadata": {
    "colab": {
     "base_uri": "https://localhost:8080/"
    },
    "executionInfo": {
     "elapsed": 260,
     "status": "ok",
     "timestamp": 1616420998303,
     "user": {
      "displayName": "Joel Chan",
      "photoUrl": "https://lh3.googleusercontent.com/a-/AOh14GiBPPpBf_QqgDL3pMurAsPu9WJJE_x_6UtgW13UFQ=s64",
      "userId": "15153559228409906865"
     },
     "user_tz": 240
    },
    "id": "5eO8f23OBonj",
    "outputId": "e144c5fa-82b1-4980-80e9-03859b7bcbf6",
    "slideshow": {
     "slide_type": "subslide"
    }
   },
   "outputs": [],
   "source": [
    "# Simple calculator\n",
    "a = input(\"Enter first operand: \")\n",
    "b = input(\"Enter second operand: \")\n",
    "\n",
    "# but first we want to make sure the strings are all numbers before we convert them\n",
    "if a.isdigit() and b.isdigit():\n",
    "    a = int(a)\n",
    "    b = int(b)\n",
    "    print(\"a times b =\", a * b)\n",
    "else:\n",
    "    if not a.isdigit():\n",
    "        print(\"Error: not a digit:\", a)\n",
    "    if not b.isdigit():\n",
    "        print(\"Error: not a digit:\", b)"
   ]
  },
  {
   "cell_type": "markdown",
   "metadata": {
    "slideshow": {
     "slide_type": "subslide"
    }
   },
   "source": [
    "<br/>\n",
    "<br/>\n",
    "<br/>\n",
    "<br/>\n",
    "\n",
    "---"
   ]
  },
  {
   "cell_type": "markdown",
   "metadata": {
    "id": "auhlHU1h1KdI",
    "slideshow": {
     "slide_type": "subslide"
    }
   },
   "source": [
    "### Changing a string"
   ]
  },
  {
   "cell_type": "markdown",
   "metadata": {
    "id": "cCK7NZDqd0g3",
    "slideshow": {
     "slide_type": "subslide"
    }
   },
   "source": [
    "#### \"Cleaning\" / normalizing a string\n",
    "\n",
    "Often we get data in string form, and we need to make sure it conforms to our expectations.\n",
    "\n",
    "__Ex.__ I need to turn into a number so I can do math with it:"
   ]
  },
  {
   "cell_type": "code",
   "execution_count": null,
   "metadata": {
    "colab": {
     "base_uri": "https://localhost:8080/"
    },
    "executionInfo": {
     "elapsed": 591,
     "status": "ok",
     "timestamp": 1616421656315,
     "user": {
      "displayName": "Joel Chan",
      "photoUrl": "https://lh3.googleusercontent.com/a-/AOh14GiBPPpBf_QqgDL3pMurAsPu9WJJE_x_6UtgW13UFQ=s64",
      "userId": "15153559228409906865"
     },
     "user_tz": 240
    },
    "id": "7ysp26d3MtqZ",
    "outputId": "e39a3644-7a3e-4099-b404-48cf56906b41",
    "slideshow": {
     "slide_type": "subslide"
    }
   },
   "outputs": [],
   "source": [
    "sales_record = \"$1,000,000\"\n",
    "\n",
    "# with iteration\n",
    "cleaned = \"\" # initialize clean string as a blank/empty string\n",
    "\n",
    "# for each character in the sales record string\n",
    "for char in sales_record:\n",
    "    if char.isnumeric(): # if the character is numeric\n",
    "        cleaned += char # grab it\n",
    "print(cleaned)"
   ]
  },
  {
   "cell_type": "markdown",
   "metadata": {
    "slideshow": {
     "slide_type": "subslide"
    }
   },
   "source": [
    "<br/>\n",
    "<br/>\n",
    "<br/>\n",
    "<br/>\n",
    "\n",
    "---"
   ]
  },
  {
   "cell_type": "markdown",
   "metadata": {},
   "source": [
    "You can use `.replace()` if you know in advance which characters you want to strip out"
   ]
  },
  {
   "cell_type": "code",
   "execution_count": null,
   "metadata": {
    "colab": {
     "base_uri": "https://localhost:8080/"
    },
    "executionInfo": {
     "elapsed": 662,
     "status": "ok",
     "timestamp": 1616421743178,
     "user": {
      "displayName": "Joel Chan",
      "photoUrl": "https://lh3.googleusercontent.com/a-/AOh14GiBPPpBf_QqgDL3pMurAsPu9WJJE_x_6UtgW13UFQ=s64",
      "userId": "15153559228409906865"
     },
     "user_tz": 240
    },
    "id": "QM1jyuqae2zD",
    "outputId": "ef7c48da-b7b7-4efc-b0d5-a675de8fd1af",
    "slideshow": {
     "slide_type": "subslide"
    }
   },
   "outputs": [],
   "source": [
    "sales_record = \"$1,000,000\"\n",
    "dollars = \"$\"\n",
    "commas = \",\"\n",
    "blank = \"\"\n",
    "cleaned = sales_record.replace(dollars, blank).replace(commas, blank)\n",
    "print(cleaned)"
   ]
  },
  {
   "cell_type": "markdown",
   "metadata": {
    "slideshow": {
     "slide_type": "subslide"
    }
   },
   "source": [
    "<br/>\n",
    "<br/>\n",
    "<br/>\n",
    "<br/>\n",
    "\n",
    "---"
   ]
  },
  {
   "cell_type": "markdown",
   "metadata": {},
   "source": [
    "__Ex.__ I need to convert user input in a “canonical” format for easier comparison."
   ]
  },
  {
   "cell_type": "code",
   "execution_count": null,
   "metadata": {
    "colab": {
     "base_uri": "https://localhost:8080/"
    },
    "executionInfo": {
     "elapsed": 1023,
     "status": "ok",
     "timestamp": 1618840742977,
     "user": {
      "displayName": "Joel Chan",
      "photoUrl": "https://lh3.googleusercontent.com/a-/AOh14GiBPPpBf_QqgDL3pMurAsPu9WJJE_x_6UtgW13UFQ=s64",
      "userId": "15153559228409906865"
     },
     "user_tz": 240
    },
    "id": "fAtLRfzUeV8d",
    "outputId": "d0a4ab1f-1d14-4d80-9749-eef5d135ac7c",
    "slideshow": {
     "slide_type": "subslide"
    }
   },
   "outputs": [],
   "source": [
    "def normalize_string(s):\n",
    "    \"\"\" Convert the string s to upper case and remove leading and trailing blank spaces\"\"\"\n",
    "    return s.upper().strip()\n",
    "\n",
    "canonical_name = \"Josh Lyman\".upper()\n",
    "    \n",
    "# need to make sure it's normalized and we remove all weird stuff\n",
    "weird_inputs = [\" Josh Lyman\", \"JOSH LYMAN\", \"jOSH lYMAN\", \"josh lyman \"]\n",
    "\n",
    "print(\"Canonical: \", canonical_name)\n",
    "print()\n",
    "for name in weird_inputs:\n",
    "    print(name)\n",
    "    print(\"Equal to canonical?\", name == canonical_name)\n",
    "    norm_name = normalize_string(name)\n",
    "    print(\"Normalized:\", norm_name)\n",
    "    print(\"Equal to canonical?\", norm_name == canonical_name)\n",
    "    print()"
   ]
  },
  {
   "cell_type": "markdown",
   "metadata": {
    "slideshow": {
     "slide_type": "subslide"
    }
   },
   "source": [
    "<br/>\n",
    "<br/>\n",
    "<br/>\n",
    "<br/>\n",
    "\n",
    "---"
   ]
  },
  {
   "cell_type": "markdown",
   "metadata": {
    "id": "l791Q1ofejDn",
    "slideshow": {
     "slide_type": "subslide"
    }
   },
   "source": [
    "#### \"Parsing\" a string (getting specific bits we want)\n",
    "\n",
    "You can do this if you know there is some *separator* that you can rely on to divide the string into the \"bits\" you want.\n",
    "\n",
    "Examples:\n",
    "- Parse an email\n",
    "- Parse a URL\n",
    "- Parse a sentence into words!\n",
    "- Parse a time stamp\n",
    "\n",
    "These all use the `.split()` method."
   ]
  },
  {
   "cell_type": "code",
   "execution_count": null,
   "metadata": {
    "colab": {
     "base_uri": "https://localhost:8080/"
    },
    "executionInfo": {
     "elapsed": 341,
     "status": "ok",
     "timestamp": 1616422158432,
     "user": {
      "displayName": "Joel Chan",
      "photoUrl": "https://lh3.googleusercontent.com/a-/AOh14GiBPPpBf_QqgDL3pMurAsPu9WJJE_x_6UtgW13UFQ=s64",
      "userId": "15153559228409906865"
     },
     "user_tz": 240
    },
    "id": "EvjjSQQ_fCMw",
    "outputId": "76b3e89c-ff03-46ff-dcc7-7d15af0283f7",
    "slideshow": {
     "slide_type": "subslide"
    }
   },
   "outputs": [],
   "source": [
    "row = \"giovanni,INFOSCI,junior\"\n",
    "fields = row.split(\",\")\n",
    "fields"
   ]
  },
  {
   "cell_type": "markdown",
   "metadata": {
    "slideshow": {
     "slide_type": "subslide"
    }
   },
   "source": [
    "<br/>\n",
    "<br/>\n",
    "<br/>\n",
    "<br/>\n",
    "\n",
    "---"
   ]
  },
  {
   "cell_type": "markdown",
   "metadata": {
    "slideshow": {
     "slide_type": "subslide"
    }
   },
   "source": [
    "### Practice: Splitting strings\n",
    "\n",
    "__Q.__ parse an e-mail address into its username and domain name components.\n",
    "\n",
    "E.g. `gciampag@umd.edu` &rarr; `gciampag` (username) and `umd.edu` (domain name)"
   ]
  },
  {
   "cell_type": "code",
   "execution_count": null,
   "metadata": {
    "slideshow": {
     "slide_type": "subslide"
    }
   },
   "outputs": [],
   "source": [
    "# parse email address into username and domain\n",
    "email = \"gciampag@umd.edu\"\n",
    "\n",
    "..."
   ]
  },
  {
   "cell_type": "markdown",
   "metadata": {
    "slideshow": {
     "slide_type": "subslide"
    },
    "tags": []
   },
   "source": [
    "<br/>\n",
    "<br/>\n",
    "<br/>\n",
    "<br/>\n",
    "\n",
    "---"
   ]
  },
  {
   "cell_type": "markdown",
   "metadata": {
    "slideshow": {
     "slide_type": "subslide"
    }
   },
   "source": [
    "__Ex.__ extract the top-level domain (e.g. `edu`) from an email address"
   ]
  },
  {
   "cell_type": "code",
   "execution_count": null,
   "metadata": {
    "colab": {
     "base_uri": "https://localhost:8080/"
    },
    "executionInfo": {
     "elapsed": 982,
     "status": "ok",
     "timestamp": 1616422627213,
     "user": {
      "displayName": "Joel Chan",
      "photoUrl": "https://lh3.googleusercontent.com/a-/AOh14GiBPPpBf_QqgDL3pMurAsPu9WJJE_x_6UtgW13UFQ=s64",
      "userId": "15153559228409906865"
     },
     "user_tz": 240
    },
    "id": "QoZ0e0J3SfZz",
    "outputId": "a9832321-fefb-4acd-90ea-a99e8b8054de",
    "slideshow": {
     "slide_type": "subslide"
    }
   },
   "outputs": [],
   "source": [
    "# if we only want the TOP-LEVEL domain (.edu), we can do a multiple split\n",
    "email = \"gciampag@umd.edu\"\n",
    "\n",
    "elements = email.split(\"@\")  # split the email by the @ separator\n",
    "domain = elements[1] # grab the second item\n",
    "\n",
    "elements = domain.split(\".\") # split that second item by the . separator\n",
    "tldomain = elements[1] # get the second item from that one\n",
    "print(\"Top-level domain:\", tldomain)"
   ]
  },
  {
   "cell_type": "markdown",
   "metadata": {
    "slideshow": {
     "slide_type": "subslide"
    }
   },
   "source": [
    "<br/>\n",
    "<br/>\n",
    "<br/>\n",
    "<br/>\n",
    "\n",
    "---"
   ]
  },
  {
   "cell_type": "markdown",
   "metadata": {
    "slideshow": {
     "slide_type": "subslide"
    }
   },
   "source": [
    "#### Multiple assignment\n",
    "\n",
    "You can assign the results of a split to multiple variables at once."
   ]
  },
  {
   "cell_type": "code",
   "execution_count": null,
   "metadata": {
    "slideshow": {
     "slide_type": "subslide"
    }
   },
   "outputs": [],
   "source": [
    "# Parse a timestamp into three variables: hours, minutes, seconds\n",
    "timestamp = \"13:30:31\"\n",
    "hours, minutes, seconds = timestamp.split(\":\")\n",
    "print(hours)"
   ]
  },
  {
   "cell_type": "markdown",
   "metadata": {
    "slideshow": {
     "slide_type": "subslide"
    }
   },
   "source": [
    "<br/>\n",
    "<br/>\n",
    "<br/>\n",
    "<br/>\n",
    "\n",
    "---"
   ]
  },
  {
   "cell_type": "markdown",
   "metadata": {
    "slideshow": {
     "slide_type": "subslide"
    }
   },
   "source": [
    "However need to be careful that variables match the number of split elements\n",
    "\n",
    "<div class=\"alert alert-warning\">This cell will raise an error!</div>"
   ]
  },
  {
   "cell_type": "code",
   "execution_count": null,
   "metadata": {
    "slideshow": {
     "slide_type": "subslide"
    }
   },
   "outputs": [],
   "source": [
    "firstname, lastname = \"Giovanni Luca Ciampaglia\".split(\" \")"
   ]
  },
  {
   "cell_type": "markdown",
   "metadata": {
    "slideshow": {
     "slide_type": "subslide"
    }
   },
   "source": [
    "<br/>\n",
    "<br/>\n",
    "<br/>\n",
    "<br/>\n",
    "<br/>\n",
    "<br/>\n",
    "<br/>\n",
    "<br/>\n",
    "<br/>\n",
    "\n",
    "---"
   ]
  },
  {
   "cell_type": "markdown",
   "metadata": {
    "id": "dHLcanphdr9p",
    "slideshow": {
     "slide_type": "slide"
    }
   },
   "source": [
    "## REMEMBER: Strings are immutable"
   ]
  },
  {
   "cell_type": "markdown",
   "metadata": {
    "id": "hexZdUb0M71q",
    "slideshow": {
     "slide_type": "fragment"
    }
   },
   "source": [
    "Unlike lists, since strings are immutable, string methods _return a new object_ (without modifying the original string)."
   ]
  },
  {
   "cell_type": "markdown",
   "metadata": {
    "id": "hexZdUb0M71q",
    "slideshow": {
     "slide_type": "fragment"
    }
   },
   "source": [
    "This means if you don't assign the return value of the string method to a new variable, the change will be **lost**."
   ]
  },
  {
   "cell_type": "code",
   "execution_count": null,
   "metadata": {
    "colab": {
     "base_uri": "https://localhost:8080/"
    },
    "executionInfo": {
     "elapsed": 476,
     "status": "ok",
     "timestamp": 1616422794367,
     "user": {
      "displayName": "Joel Chan",
      "photoUrl": "https://lh3.googleusercontent.com/a-/AOh14GiBPPpBf_QqgDL3pMurAsPu9WJJE_x_6UtgW13UFQ=s64",
      "userId": "15153559228409906865"
     },
     "user_tz": 240
    },
    "id": "_yWoqUBuTeY2",
    "outputId": "e2513fc9-1e79-4294-d29d-761b831e4439",
    "slideshow": {
     "slide_type": "subslide"
    }
   },
   "outputs": [],
   "source": [
    "# Python strings are case-sensitive\n",
    "a = \"hello\"\n",
    "b = \"Hello\"\n",
    "print(\"a == b?\", a == b)"
   ]
  },
  {
   "cell_type": "code",
   "execution_count": null,
   "metadata": {
    "colab": {
     "base_uri": "https://localhost:8080/"
    },
    "executionInfo": {
     "elapsed": 476,
     "status": "ok",
     "timestamp": 1616422794367,
     "user": {
      "displayName": "Joel Chan",
      "photoUrl": "https://lh3.googleusercontent.com/a-/AOh14GiBPPpBf_QqgDL3pMurAsPu9WJJE_x_6UtgW13UFQ=s64",
      "userId": "15153559228409906865"
     },
     "user_tz": 240
    },
    "id": "_yWoqUBuTeY2",
    "outputId": "e2513fc9-1e79-4294-d29d-761b831e4439",
    "slideshow": {
     "slide_type": "-"
    }
   },
   "outputs": [],
   "source": [
    "# String methods return new string objects!\n",
    "a.lower()\n",
    "b.lower()\n",
    "print(\"a == b?\", a == b)"
   ]
  },
  {
   "cell_type": "code",
   "execution_count": null,
   "metadata": {
    "slideshow": {
     "slide_type": "-"
    }
   },
   "outputs": [],
   "source": [
    "a = a.lower()\n",
    "b = b.lower()\n",
    "print(\"a == b?\", a == b)"
   ]
  },
  {
   "cell_type": "markdown",
   "metadata": {
    "slideshow": {
     "slide_type": "subslide"
    }
   },
   "source": [
    "<br/>\n",
    "<br/>\n",
    "<br/>\n",
    "<br/>\n",
    "\n",
    "---"
   ]
  },
  {
   "cell_type": "code",
   "execution_count": null,
   "metadata": {
    "colab": {
     "base_uri": "https://localhost:8080/"
    },
    "executionInfo": {
     "elapsed": 397,
     "status": "ok",
     "timestamp": 1616422865120,
     "user": {
      "displayName": "Joel Chan",
      "photoUrl": "https://lh3.googleusercontent.com/a-/AOh14GiBPPpBf_QqgDL3pMurAsPu9WJJE_x_6UtgW13UFQ=s64",
      "userId": "15153559228409906865"
     },
     "user_tz": 240
    },
    "id": "1JvumOvjdoll",
    "outputId": "4f195ac6-4196-41d0-ded7-8f5570f6f27e",
    "slideshow": {
     "slide_type": "subslide"
    }
   },
   "outputs": [],
   "source": [
    "message = \"Hello, my name is Inigo Montoya\"\n",
    "print(message)\n",
    "# let's check if the message mentions my name!\n",
    "message = message.lower() # change to lower case\n",
    "message = message.replace(\"inigo\", \"MYSTERY\")\n",
    "print(message)"
   ]
  },
  {
   "cell_type": "markdown",
   "metadata": {
    "slideshow": {
     "slide_type": "subslide"
    }
   },
   "source": [
    "<br/>\n",
    "<br/>\n",
    "<br/>\n",
    "<br/>\n",
    "<br/>\n",
    "<br/>\n",
    "<br/>\n",
    "<br/>\n",
    "<br/>\n",
    "\n",
    "---"
   ]
  },
  {
   "cell_type": "markdown",
   "metadata": {
    "id": "ycHWzKopfIxh",
    "slideshow": {
     "slide_type": "subslide"
    }
   },
   "source": [
    "## String formatting\n",
    "\n",
    "So far we've taken strings as given, and we often specify a string directly. But frequently it is useful to compose a string programmatically, from variables.\n",
    "\n",
    "Often this is done for debugging (to read the state of your program at various steps), but often this is used as outputs of your program, intermediate or final.\n",
    "\n",
    "Here's an example"
   ]
  },
  {
   "cell_type": "code",
   "execution_count": null,
   "metadata": {
    "slideshow": {
     "slide_type": "subslide"
    }
   },
   "outputs": [],
   "source": [
    "salutation = \"Hello\"\n",
    "name = \"Sarah\"\n",
    "output = salutation + \", \" + name + \"!\"\n",
    "print(output)"
   ]
  },
  {
   "cell_type": "markdown",
   "metadata": {
    "slideshow": {
     "slide_type": "subslide"
    }
   },
   "source": [
    "<br/>\n",
    "<br/>\n",
    "<br/>\n",
    "<br/>\n",
    "\n",
    "---"
   ]
  },
  {
   "cell_type": "markdown",
   "metadata": {
    "slideshow": {
     "slide_type": "subslide"
    }
   },
   "source": [
    "### Formatted strings (f-strings)\n",
    "\n",
    "Python offers a special type of strings called **[f-strings](https://docs.python.org/3/tutorial/inputoutput.html#tut-f-strings)**.\n",
    "\n",
    "A string literal that starts with `f` (like `f\"hello!\"`) is an f-string.\n",
    "\n",
    "When you print an f-string, Python will automatically replace any variable that occurs sorrounded by the curly braces `{ ... }` with its value."
   ]
  },
  {
   "cell_type": "code",
   "execution_count": null,
   "metadata": {
    "slideshow": {
     "slide_type": "subslide"
    }
   },
   "outputs": [],
   "source": [
    "sticker = f\"Hello! My name is {first_name}\"\n",
    "first_name = \"Giovanni\"\n",
    "print(sticker)"
   ]
  },
  {
   "cell_type": "markdown",
   "metadata": {
    "slideshow": {
     "slide_type": "subslide"
    }
   },
   "source": [
    "<br/>\n",
    "<br/>\n",
    "<br/>\n",
    "<br/>\n",
    "\n",
    "---"
   ]
  },
  {
   "cell_type": "markdown",
   "metadata": {
    "slideshow": {
     "slide_type": "subslide"
    }
   },
   "source": [
    "The `f` is important. Without it, Python will not apply the substitution:"
   ]
  },
  {
   "cell_type": "code",
   "execution_count": null,
   "metadata": {
    "slideshow": {
     "slide_type": "subslide"
    }
   },
   "outputs": [],
   "source": [
    "sticker2 = \"Hi {name}\"\n",
    "name = \"Yogesh\"\n",
    "print(sticker2)"
   ]
  },
  {
   "cell_type": "markdown",
   "metadata": {
    "slideshow": {
     "slide_type": "subslide"
    }
   },
   "source": [
    "<br/>\n",
    "<br/>\n",
    "<br/>\n",
    "<br/>\n",
    "\n",
    "---"
   ]
  },
  {
   "cell_type": "markdown",
   "metadata": {
    "slideshow": {
     "slide_type": "subslide"
    }
   },
   "source": [
    "All variables must be present when printing an f-string, or a `NameError` will be raised."
   ]
  },
  {
   "cell_type": "code",
   "execution_count": null,
   "metadata": {
    "slideshow": {
     "slide_type": "subslide"
    }
   },
   "outputs": [],
   "source": [
    "msg = f\"Hi {name}, this is my friend {friend}\"\n",
    "name = \"Giovanni\"\n",
    "print(msg)"
   ]
  },
  {
   "cell_type": "markdown",
   "metadata": {
    "slideshow": {
     "slide_type": "subslide"
    }
   },
   "source": [
    "<br/>\n",
    "<br/>\n",
    "<br/>\n",
    "<br/>\n",
    "\n",
    "---"
   ]
  },
  {
   "cell_type": "markdown",
   "metadata": {
    "slideshow": {
     "slide_type": "subslide"
    }
   },
   "source": [
    "f-string are very useful when debugging. Adding the `=` character in the curly brace after the name of a variable will print its name, along the value."
   ]
  },
  {
   "cell_type": "code",
   "execution_count": null,
   "metadata": {
    "colab": {
     "base_uri": "https://localhost:8080/"
    },
    "executionInfo": {
     "elapsed": 414,
     "status": "ok",
     "timestamp": 1616423001539,
     "user": {
      "displayName": "Joel Chan",
      "photoUrl": "https://lh3.googleusercontent.com/a-/AOh14GiBPPpBf_QqgDL3pMurAsPu9WJJE_x_6UtgW13UFQ=s64",
      "userId": "15153559228409906865"
     },
     "user_tz": 240
    },
    "id": "A0opYZNufece",
    "outputId": "5635bda6-76b4-4a24-db6c-64e024eed410",
    "slideshow": {
     "slide_type": "subslide"
    }
   },
   "outputs": [],
   "source": [
    "sales = [\"$100\", \"$250\", \"$500\"]\n",
    "\n",
    "for i in range(len(sales)):\n",
    "    sale = sales[i]\n",
    "    print(f\"{i=}, {sale=}\") # This is an example of a debugging/tracing statement"
   ]
  },
  {
   "cell_type": "markdown",
   "metadata": {
    "slideshow": {
     "slide_type": "subslide"
    }
   },
   "source": [
    "<br/>\n",
    "<br/>\n",
    "<br/>\n",
    "<br/>\n",
    "\n",
    "---"
   ]
  },
  {
   "cell_type": "markdown",
   "metadata": {
    "slideshow": {
     "slide_type": "subslide"
    }
   },
   "source": [
    "Last but not least, f-string allow to format numbers appropriately. \n",
    "\n",
    "This code computer the total value of a check but does not format the decimal part correctly when it is a whole number."
   ]
  },
  {
   "cell_type": "code",
   "execution_count": null,
   "metadata": {
    "slideshow": {
     "slide_type": "subslide"
    }
   },
   "outputs": [],
   "source": [
    "tip = 0.18\n",
    "check = 25.00\n",
    "total_value = check + check * tip\n",
    "print(total_value)"
   ]
  },
  {
   "cell_type": "markdown",
   "metadata": {
    "slideshow": {
     "slide_type": "subslide"
    }
   },
   "source": [
    "<br/>\n",
    "<br/>\n",
    "<br/>\n",
    "<br/>\n",
    "\n",
    "---"
   ]
  },
  {
   "cell_type": "markdown",
   "metadata": {
    "slideshow": {
     "slide_type": "subslide"
    }
   },
   "source": [
    "An f-string allows to specify the _format_ of what is being printed. In the example above, we want a decimal number rounded to two decimal digits."
   ]
  },
  {
   "cell_type": "code",
   "execution_count": null,
   "metadata": {
    "colab": {
     "base_uri": "https://localhost:8080/"
    },
    "executionInfo": {
     "elapsed": 296,
     "status": "ok",
     "timestamp": 1616423078992,
     "user": {
      "displayName": "Joel Chan",
      "photoUrl": "https://lh3.googleusercontent.com/a-/AOh14GiBPPpBf_QqgDL3pMurAsPu9WJJE_x_6UtgW13UFQ=s64",
      "userId": "15153559228409906865"
     },
     "user_tz": 240
    },
    "id": "nXO8fZEWUbtW",
    "outputId": "46ee26f4-819e-451b-fa74-124bcf79a165",
    "slideshow": {
     "slide_type": "subslide"
    }
   },
   "outputs": [],
   "source": [
    "tip = 0.18\n",
    "check = 25.00\n",
    "total_value = check + check * tip\n",
    "print(f'Please charge my card for ${total_value:.2f}')"
   ]
  },
  {
   "cell_type": "markdown",
   "metadata": {
    "slideshow": {
     "slide_type": "subslide"
    }
   },
   "source": [
    "<br/>\n",
    "<br/>\n",
    "<br/>\n",
    "<br/>\n",
    "\n",
    "---"
   ]
  },
  {
   "cell_type": "markdown",
   "metadata": {
    "slideshow": {
     "slide_type": "subslide"
    }
   },
   "source": [
    "You can even specify operations inside an f-string:"
   ]
  },
  {
   "cell_type": "code",
   "execution_count": null,
   "metadata": {
    "colab": {
     "base_uri": "https://localhost:8080/"
    },
    "executionInfo": {
     "elapsed": 323,
     "status": "ok",
     "timestamp": 1616423212032,
     "user": {
      "displayName": "Joel Chan",
      "photoUrl": "https://lh3.googleusercontent.com/a-/AOh14GiBPPpBf_QqgDL3pMurAsPu9WJJE_x_6UtgW13UFQ=s64",
      "userId": "15153559228409906865"
     },
     "user_tz": 240
    },
    "id": "HHQs-FMch2BG",
    "outputId": "4ac1f0d9-ecd8-47a9-e854-44e402c04983",
    "slideshow": {
     "slide_type": "subslide"
    }
   },
   "outputs": [],
   "source": [
    "birth_year = 1980\n",
    "this_year = 2022\n",
    "name = \"Giovanni\"\n",
    "message = f\"Happy birthday, {name}! You are {this_year - birth_year} this year!\"\n",
    "print(message)"
   ]
  },
  {
   "cell_type": "markdown",
   "metadata": {
    "slideshow": {
     "slide_type": "subslide"
    }
   },
   "source": [
    "<br/>\n",
    "<br/>\n",
    "<br/>\n",
    "<br/>\n",
    "\n",
    "---"
   ]
  },
  {
   "cell_type": "markdown",
   "metadata": {
    "id": "fHWWDssMgyLV",
    "slideshow": {
     "slide_type": "subslide"
    }
   },
   "source": [
    "### Controlling the way it looks\n",
    "You can also control how the string looks! Various things like controlling how many decimal places are printed out (very useful when doing math), or how wide or indented the string is."
   ]
  },
  {
   "cell_type": "code",
   "execution_count": null,
   "metadata": {
    "colab": {
     "base_uri": "https://localhost:8080/"
    },
    "executionInfo": {
     "elapsed": 384,
     "status": "ok",
     "timestamp": 1616423310201,
     "user": {
      "displayName": "Joel Chan",
      "photoUrl": "https://lh3.googleusercontent.com/a-/AOh14GiBPPpBf_QqgDL3pMurAsPu9WJJE_x_6UtgW13UFQ=s64",
      "userId": "15153559228409906865"
     },
     "user_tz": 240
    },
    "id": "d4l5IbdPidr_",
    "outputId": "f4cd657d-9164-40cd-cc1a-542a6bdb9bf1",
    "slideshow": {
     "slide_type": "subslide"
    }
   },
   "outputs": [],
   "source": [
    "# Without f-string ... too many decimal digits\n",
    "x = 2\n",
    "y = 3\n",
    "result = x / y\n",
    "print(x, \"divided by\", y, \"is\", result)"
   ]
  },
  {
   "cell_type": "code",
   "execution_count": null,
   "metadata": {
    "colab": {
     "base_uri": "https://localhost:8080/"
    },
    "executionInfo": {
     "elapsed": 384,
     "status": "ok",
     "timestamp": 1616423310201,
     "user": {
      "displayName": "Joel Chan",
      "photoUrl": "https://lh3.googleusercontent.com/a-/AOh14GiBPPpBf_QqgDL3pMurAsPu9WJJE_x_6UtgW13UFQ=s64",
      "userId": "15153559228409906865"
     },
     "user_tz": 240
    },
    "id": "d4l5IbdPidr_",
    "outputId": "f4cd657d-9164-40cd-cc1a-542a6bdb9bf1",
    "slideshow": {
     "slide_type": "-"
    }
   },
   "outputs": [],
   "source": [
    "# With f-string specifying result should be printed rounded to two decimal digits\n",
    "message = f\"{x} divided by {y} is {result:.2f}\" \n",
    "print(message)"
   ]
  },
  {
   "cell_type": "markdown",
   "metadata": {},
   "source": [
    "<br/>\n",
    "<br/>\n",
    "<br/>\n",
    "<br/>\n",
    "<br/>\n",
    "<br/>\n",
    "<br/>\n",
    "<br/>\n",
    "<br/>\n",
    "<br/>\n",
    "<br/>\n",
    "<br/>\n",
    "<br/>\n",
    "<br/>\n",
    "<br/>\n",
    "<br/>\n",
    "<br/>\n",
    "<br/>\n",
    "<br/>\n",
    "<br/>\n",
    "<br/>\n",
    "<br/>\n",
    "<br/>\n",
    "<br/>\n",
    "<br/>\n",
    "<br/>\n",
    "<br/>\n",
    "<br/>\n",
    "<br/>\n",
    "<br/>\n",
    "<br/>\n",
    "<br/>\n",
    "<br/>\n",
    "<br/>\n",
    "<br/>\n",
    "<br/>\n",
    "<br/>\n",
    "<br/>\n",
    "<br/>\n",
    "<br/>\n",
    "<br/>\n",
    "<br/>\n",
    "<br/>\n",
    "<br/>\n",
    "<br/>\n",
    "<br/>\n",
    "<br/>\n",
    "<br/>\n",
    "<br/>\n",
    "<br/>\n",
    "<br/>\n",
    "<br/>\n",
    "<br/>\n",
    "<br/>\n",
    "<br/>\n",
    "<br/>\n",
    "<br/>\n",
    "<br/>\n",
    "<br/>\n",
    "<br/>\n",
    "<br/>\n",
    "<br/>\n",
    "<br/>\n",
    "\n",
    "\n",
    "---\n",
    "\n",
    "# Solutions"
   ]
  },
  {
   "cell_type": "markdown",
   "metadata": {},
   "source": [
    "## Practice: string indexing"
   ]
  },
  {
   "cell_type": "markdown",
   "metadata": {
    "slideshow": {
     "slide_type": "subslide"
    }
   },
   "source": [
    "Using the `code` string below, with a partner answer the following questions. Refer to this table for the indexes:\n",
    "\n",
    "|||||||||\n",
    "|-:|---|---|---|---|---|---|---|\n",
    "| Characters | I | N | S | T | 1 | 2 | 6 |\n",
    "| INDEX | 0 | 1 | 2 | 3 | 4 | 5 | 6 |"
   ]
  },
  {
   "cell_type": "code",
   "execution_count": null,
   "metadata": {
    "slideshow": {
     "slide_type": "subslide"
    }
   },
   "outputs": [],
   "source": [
    "code = \"INST126\""
   ]
  },
  {
   "cell_type": "markdown",
   "metadata": {
    "slideshow": {
     "slide_type": "subslide"
    }
   },
   "source": [
    "__Q1.__ How would you get the level of the course?\n",
    "\n",
    "(The level of a course is the the first number after the four-letter code.)"
   ]
  },
  {
   "cell_type": "code",
   "execution_count": null,
   "metadata": {
    "slideshow": {
     "slide_type": "-"
    }
   },
   "outputs": [],
   "source": [
    "# TASK: Get the level of the course (first number after the four-letter code)\n",
    "### BEGIN SOLUTION\n",
    "code[4]\n",
    "### END SOLUTION"
   ]
  },
  {
   "cell_type": "markdown",
   "metadata": {
    "slideshow": {
     "slide_type": "subslide"
    }
   },
   "source": [
    "<br/>\n",
    "<br/>\n",
    "<br/>\n",
    "<br/>\n",
    "\n",
    "---"
   ]
  },
  {
   "cell_type": "markdown",
   "metadata": {
    "slideshow": {
     "slide_type": "subslide"
    }
   },
   "source": [
    "__Q2.__ How do you get the last three characters of the code?"
   ]
  },
  {
   "cell_type": "code",
   "execution_count": null,
   "metadata": {
    "slideshow": {
     "slide_type": "-"
    }
   },
   "outputs": [],
   "source": [
    "# TASK: get last three characters of the code\n",
    "### BEGIN SOLUTION\n",
    "code[4:]\n",
    "### END SOLUTION"
   ]
  },
  {
   "cell_type": "markdown",
   "metadata": {
    "slideshow": {
     "slide_type": "subslide"
    }
   },
   "source": [
    "<br/>\n",
    "<br/>\n",
    "<br/>\n",
    "<br/>\n",
    "\n",
    "---"
   ]
  },
  {
   "cell_type": "markdown",
   "metadata": {
    "slideshow": {
     "slide_type": "subslide"
    }
   },
   "source": [
    "__Q3.__ Given the code for a 1XX-level course, print the corresponding 3XX-level course."
   ]
  },
  {
   "cell_type": "code",
   "execution_count": null,
   "metadata": {
    "slideshow": {
     "slide_type": "-"
    }
   },
   "outputs": [],
   "source": [
    "# TASK: give code of 1XX-level course, print the corresponding 3XX-level course\n",
    "code = \"CHEM131\"\n",
    "### BEGIN SOLUTION\n",
    "area = code[:4]\n",
    "level = code[4:]\n",
    "newcode = area + '3' + level[1:]\n",
    "print(newcode)\n",
    "### END SOLUTION"
   ]
  },
  {
   "cell_type": "markdown",
   "metadata": {
    "slideshow": {
     "slide_type": "subslide"
    }
   },
   "source": [
    "<br/>\n",
    "<br/>\n",
    "<br/>\n",
    "<br/>\n",
    "\n",
    "---"
   ]
  },
  {
   "cell_type": "markdown",
   "metadata": {
    "slideshow": {
     "slide_type": "subslide"
    }
   },
   "source": [
    "__Q4.__ How would you get the first three letters of each name?"
   ]
  },
  {
   "cell_type": "code",
   "execution_count": null,
   "metadata": {
    "colab": {
     "base_uri": "https://localhost:8080/",
     "height": 122
    },
    "executionInfo": {
     "elapsed": 703,
     "status": "ok",
     "timestamp": 1603120158044,
     "user": {
      "displayName": "Joel Chan",
      "photoUrl": "https://lh3.googleusercontent.com/a-/AOh14GiBPPpBf_QqgDL3pMurAsPu9WJJE_x_6UtgW13UFQ=s64",
      "userId": "15153559228409906865"
     },
     "user_tz": 240
    },
    "id": "f0JnSZUsZ3hA",
    "outputId": "07b16a06-e358-4a9e-ff14-16bb3f55fe79",
    "slideshow": {
     "slide_type": "-"
    }
   },
   "outputs": [],
   "source": [
    "names = [\"Joel\", \"Sarah\", \"John\", \"Michael\", \"Patrick\", \"Kacie\"]\n",
    "### BEGIN SOLUTION\n",
    "for name in names:\n",
    "    # get the first initial\n",
    "    initial = name[0]\n",
    "    print(initial)\n",
    "### BEGIN SOLUTION"
   ]
  },
  {
   "cell_type": "markdown",
   "metadata": {
    "slideshow": {
     "slide_type": "subslide"
    }
   },
   "source": [
    "<br/>\n",
    "<br/>\n",
    "<br/>\n",
    "<br/>\n",
    "\n",
    "---"
   ]
  },
  {
   "cell_type": "markdown",
   "metadata": {
    "id": "XZOi4Ftbzj1q",
    "slideshow": {
     "slide_type": "subslide"
    }
   },
   "source": [
    "## Practice: Check if character(s) is in string (membership test)"
   ]
  },
  {
   "cell_type": "markdown",
   "metadata": {
    "id": "Otxd6tdCacy9",
    "slideshow": {
     "slide_type": "-"
    }
   },
   "source": [
    "We have already used the `in` operator to check if some character is in a string.\n",
    "\n",
    "This is also called _membership test_.\n",
    "\n",
    "__Ex.__ Given words below, print only the words that are valid email addresses."
   ]
  },
  {
   "cell_type": "code",
   "execution_count": null,
   "metadata": {
    "colab": {
     "base_uri": "https://localhost:8080/"
    },
    "executionInfo": {
     "elapsed": 271,
     "status": "ok",
     "timestamp": 1616420680608,
     "user": {
      "displayName": "Joel Chan",
      "photoUrl": "https://lh3.googleusercontent.com/a-/AOh14GiBPPpBf_QqgDL3pMurAsPu9WJJE_x_6UtgW13UFQ=s64",
      "userId": "15153559228409906865"
     },
     "user_tz": 240
    },
    "id": "qj3GI55dLNLu",
    "outputId": "7af247f3-0e7f-4e0c-9581-81d5f759d263",
    "slideshow": {
     "slide_type": "-"
    }
   },
   "outputs": [],
   "source": [
    "# print only *valid* email addresses\n",
    "words = [\"Hi\", \"good\", \"morning\", \"INST126\", \"our\", \"emails\", \"are\", \"gciampag@umd.edu\", \"@umd.edu\", \"yogi@umd\"]\n",
    "\n",
    "### BEGIN SOLUTION\n",
    "for item in words:\n",
    "    if (\"@\" in item[1:]) and (\".\" in item):\n",
    "        print(item)\n",
    "### END SOLUTION"
   ]
  },
  {
   "cell_type": "markdown",
   "metadata": {
    "slideshow": {
     "slide_type": "subslide"
    }
   },
   "source": [
    "<br/>\n",
    "<br/>\n",
    "<br/>\n",
    "<br/>\n",
    "\n",
    "---"
   ]
  },
  {
   "cell_type": "markdown",
   "metadata": {
    "slideshow": {
     "slide_type": "subslide"
    }
   },
   "source": [
    "The `in` operator also accepts substrings.\n",
    "\n",
    "__Ex.__ Given the list of courses belows, print only the Chemistry courses."
   ]
  },
  {
   "cell_type": "code",
   "execution_count": null,
   "metadata": {
    "slideshow": {
     "slide_type": "-"
    }
   },
   "outputs": [],
   "source": [
    "# print only chemistry courses\n",
    "courses = [\"INST126\", \"CHEM131\", \"INST326\", \"CHEM331\"]\n",
    "\n",
    "### BEGIN SOLUTION\n",
    "for course in courses:\n",
    "    if \"CHEM\" in course:\n",
    "        print(course)\n",
    "### END SOLUTION"
   ]
  },
  {
   "cell_type": "markdown",
   "metadata": {
    "slideshow": {
     "slide_type": "subslide"
    }
   },
   "source": [
    "<br/>\n",
    "<br/>\n",
    "<br/>\n",
    "<br/>\n",
    "\n",
    "---"
   ]
  },
  {
   "cell_type": "markdown",
   "metadata": {
    "slideshow": {
     "slide_type": "subslide"
    }
   },
   "source": [
    "## Practice: Splitting strings\n",
    "\n",
    "__Q.__ parse an e-mail address into its username and domain name components.\n",
    "\n",
    "E.g. `gciampag@umd.edu` &rarr; `gciampag` (username) and `umd.edu` (domain name)"
   ]
  },
  {
   "cell_type": "code",
   "execution_count": null,
   "metadata": {
    "slideshow": {
     "slide_type": "subslide"
    }
   },
   "outputs": [],
   "source": [
    "# parse email address into username and domain\n",
    "email = \"gciampag@umd.edu\"\n",
    "\n",
    "### BEGIN SOLUTION\n",
    "elements = email.split(\"@\")\n",
    "username = elements[0]\n",
    "print(\"Username:\", username)\n",
    "domain = elements[1]\n",
    "print(\"Domain:\", domain)\n",
    "### END SOLUTION"
   ]
  }
 ],
 "metadata": {
  "celltoolbar": "Slideshow",
  "colab": {
   "collapsed_sections": [
    "XMzCrbEgZufG",
    "cCK7NZDqd0g3",
    "ycHWzKopfIxh",
    "GA_9tposfe1e",
    "fHWWDssMgyLV"
   ],
   "name": "INST126_SP21_Week9_Strings_post-class.ipynb",
   "provenance": [],
   "toc_visible": true
  },
  "kernelspec": {
   "display_name": "Python 3 (ipykernel)",
   "language": "python",
   "name": "python3"
  },
  "language_info": {
   "codemirror_mode": {
    "name": "ipython",
    "version": 3
   },
   "file_extension": ".py",
   "mimetype": "text/x-python",
   "name": "python",
   "nbconvert_exporter": "python",
   "pygments_lexer": "ipython3",
   "version": "3.11.7"
  }
 },
 "nbformat": 4,
 "nbformat_minor": 4
}
