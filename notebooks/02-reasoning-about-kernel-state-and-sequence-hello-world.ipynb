{
 "cells": [
  {
   "cell_type": "markdown",
   "id": "bd1dd60e",
   "metadata": {
    "slideshow": {
     "slide_type": "slide"
    }
   },
   "source": [
    "# Kernel sequence vs. notebook sequence"
   ]
  },
  {
   "cell_type": "markdown",
   "id": "91edfe17",
   "metadata": {
    "slideshow": {
     "slide_type": "subslide"
    }
   },
   "source": [
    "Run the following sequence of cells"
   ]
  },
  {
   "cell_type": "code",
   "execution_count": null,
   "id": "fdda3dcc",
   "metadata": {
    "slideshow": {
     "slide_type": "subslide"
    }
   },
   "outputs": [],
   "source": [
    "# the first cell\n",
    "1 + 2"
   ]
  },
  {
   "cell_type": "code",
   "execution_count": null,
   "id": "f558b9da",
   "metadata": {
    "slideshow": {
     "slide_type": "-"
    }
   },
   "outputs": [],
   "source": [
    "# the second cell\n",
    "3 + 4"
   ]
  },
  {
   "cell_type": "code",
   "execution_count": null,
   "id": "a3cbe532",
   "metadata": {
    "slideshow": {
     "slide_type": "-"
    }
   },
   "outputs": [],
   "source": [
    "# the third cell\n",
    "9 * 3"
   ]
  },
  {
   "cell_type": "code",
   "execution_count": null,
   "id": "ae080cc1",
   "metadata": {
    "slideshow": {
     "slide_type": "-"
    }
   },
   "outputs": [],
   "source": [
    "# the fourth cell\n",
    "%history"
   ]
  },
  {
   "cell_type": "markdown",
   "id": "d25e3fcb",
   "metadata": {
    "slideshow": {
     "slide_type": "subslide"
    }
   },
   "source": [
    "Now go back and run the first cell again"
   ]
  },
  {
   "cell_type": "markdown",
   "id": "901ab379",
   "metadata": {
    "slideshow": {
     "slide_type": "-"
    }
   },
   "source": [
    "And then run the fourth (history) cell again."
   ]
  },
  {
   "cell_type": "markdown",
   "id": "7a515b1e",
   "metadata": {
    "slideshow": {
     "slide_type": "-"
    }
   },
   "source": [
    "What do you notice about the numbers in the square brackets to the left of the cells?"
   ]
  },
  {
   "cell_type": "markdown",
   "id": "fd1140f3",
   "metadata": {
    "slideshow": {
     "slide_type": "slide"
    }
   },
   "source": [
    "# Kernel state"
   ]
  },
  {
   "cell_type": "markdown",
   "id": "1fdfa507",
   "metadata": {
    "slideshow": {
     "slide_type": "subslide"
    }
   },
   "source": [
    "Run the following cells"
   ]
  },
  {
   "cell_type": "code",
   "execution_count": null,
   "id": "12585d42",
   "metadata": {
    "slideshow": {
     "slide_type": "subslide"
    }
   },
   "outputs": [],
   "source": [
    "# a1\n",
    "a = 1"
   ]
  },
  {
   "cell_type": "code",
   "execution_count": null,
   "id": "540b1a88",
   "metadata": {
    "slideshow": {
     "slide_type": "-"
    }
   },
   "outputs": [],
   "source": [
    "# a2\n",
    "b = 2"
   ]
  },
  {
   "cell_type": "code",
   "execution_count": null,
   "id": "fa730e4f",
   "metadata": {
    "slideshow": {
     "slide_type": "-"
    }
   },
   "outputs": [],
   "source": [
    "# a3\n",
    "c = 5"
   ]
  },
  {
   "cell_type": "code",
   "execution_count": null,
   "id": "7afa1c90",
   "metadata": {
    "slideshow": {
     "slide_type": "-"
    }
   },
   "outputs": [],
   "source": [
    "# a4\n",
    "a = 3"
   ]
  },
  {
   "cell_type": "markdown",
   "id": "d35b3882",
   "metadata": {
    "slideshow": {
     "slide_type": "subslide"
    }
   },
   "source": [
    "Now, before you run the next cell, what do you think the result is going to be?\n",
    "\n",
    "If you think it will be `3`, raise your hand.\n",
    "If you think it will be `5`, raise your laptop or other large-ish object."
   ]
  },
  {
   "cell_type": "code",
   "execution_count": null,
   "id": "7561c6bc",
   "metadata": {
    "slideshow": {
     "slide_type": "-"
    }
   },
   "outputs": [],
   "source": [
    "# a5\n",
    "a + b"
   ]
  },
  {
   "cell_type": "markdown",
   "id": "587df01c",
   "metadata": {
    "slideshow": {
     "slide_type": "subslide"
    }
   },
   "source": [
    "What's going on?"
   ]
  },
  {
   "cell_type": "markdown",
   "id": "56a7218a",
   "metadata": {
    "slideshow": {
     "slide_type": "fragment"
    }
   },
   "source": [
    "Now go back and run cell `a1`, and then `a5` again.\n",
    "\n",
    "What do you notice about the numbers in the square brackets? Does the output of cell `a5` surprise you?"
   ]
  },
  {
   "cell_type": "markdown",
   "id": "d461a0a2",
   "metadata": {
    "slideshow": {
     "slide_type": "subslide"
    }
   },
   "source": [
    "We can get a sense of what's in the kernel's environment using the `%whos` magic command, as we saw in the previous notebook."
   ]
  },
  {
   "cell_type": "code",
   "execution_count": null,
   "id": "d5cb9a69",
   "metadata": {
    "slideshow": {
     "slide_type": "-"
    }
   },
   "outputs": [],
   "source": [
    "%whos"
   ]
  },
  {
   "cell_type": "markdown",
   "id": "b94f0d65",
   "metadata": {
    "slideshow": {
     "slide_type": "notes"
    }
   },
   "source": [
    "I don't expect you to understand these now. We'll discuss variables and expressions in more detail next week. For now, I just want you to notice:\n",
    "1. The fact that notebook sequence and kernel sequence are not the same. Kernel sequence is about the history of operations, which is in the order in which you run the cells.\n",
    "2. The kernel sequence impacts the state of your \"data\": for each piece of data, its state is a function of the last cell command in the kernel sequence that referenced it. THIS MAY NOT BE THE MOST RECENT CELL IN THE NOTEBOOK SEQUENCE.\n",
    "\n",
    "Keep this in mind as you start dabbling with the PCEs. "
   ]
  },
  {
   "cell_type": "markdown",
   "id": "a3aea800",
   "metadata": {
    "slideshow": {
     "slide_type": "slide"
    }
   },
   "source": [
    "# Hello world!"
   ]
  },
  {
   "cell_type": "markdown",
   "id": "3f101b7e",
   "metadata": {
    "slideshow": {
     "slide_type": "subslide"
    }
   },
   "source": [
    "Ok now for the thing that every intro programming student must do. Write your first hello world program!\n",
    "\n",
    "Type this in the next cell, and run it: \n",
    "\n",
    "`print(\"Hello world!\")`"
   ]
  },
  {
   "cell_type": "code",
   "execution_count": null,
   "id": "c0fdfe36",
   "metadata": {
    "slideshow": {
     "slide_type": "-"
    }
   },
   "outputs": [],
   "source": []
  },
  {
   "cell_type": "markdown",
   "id": "f4f7f0e9",
   "metadata": {
    "slideshow": {
     "slide_type": "notes"
    }
   },
   "source": [
    "Congratulations. :) You have written your first Python program (if you haven't before). More soon!"
   ]
  }
 ],
 "metadata": {
  "celltoolbar": "Slideshow",
  "kernelspec": {
   "display_name": "Python 3 (ipykernel)",
   "language": "python",
   "name": "python3"
  },
  "language_info": {
   "codemirror_mode": {
    "name": "ipython",
    "version": 3
   },
   "file_extension": ".py",
   "mimetype": "text/x-python",
   "name": "python",
   "nbconvert_exporter": "python",
   "pygments_lexer": "ipython3",
   "version": "3.10.4"
  },
  "toc": {
   "base_numbering": 1,
   "nav_menu": {},
   "number_sections": true,
   "sideBar": true,
   "skip_h1_title": false,
   "title_cell": "Table of Contents",
   "title_sidebar": "Contents",
   "toc_cell": false,
   "toc_position": {},
   "toc_section_display": true,
   "toc_window_display": false
  }
 },
 "nbformat": 4,
 "nbformat_minor": 5
}
