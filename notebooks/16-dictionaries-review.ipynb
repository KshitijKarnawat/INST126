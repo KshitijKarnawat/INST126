{
 "cells": [
  {
   "cell_type": "markdown",
   "metadata": {
    "id": "Ku3vlFoMjfUt",
    "slideshow": {
     "slide_type": "slide"
    }
   },
   "source": [
    "# What are dictionaries and why should we care about them?\n",
    "\n",
    "Dictionaries are for **associating data** and **quick lookup**. Let's see two motivating examples.\n",
    "\n",
    "<br/>\n",
    "<br/>\n",
    "<br/>\n",
    "<br/>\n",
    "\n",
    "\n",
    "## Motivating example \\#1: book index\n",
    "\n",
    "I am making an index for a book, because I want to know which concepts show up on which pages, to make it easier to jump back to the right spots.\n",
    "\n",
    "The book is going to be represented as a sequence of _chapters_. Each chapter is the chapter title, followed by a bunch of text. Here is a small example of a Python `list` storing a book with three chapters.\n",
    "\n",
    "The problem is: _How to know which chapters talk about `strings`? or `debugging`?_"
   ]
  },
  {
   "cell_type": "code",
   "execution_count": null,
   "metadata": {
    "id": "jJvItvK9fnAY",
    "slideshow": {
     "slide_type": "slide"
    }
   },
   "outputs": [],
   "source": [
    "book = [\n",
    "  \"Chapter 1: talks about strings and how they have the property of immutability also some basic debugging\",\n",
    "  \"Chapter 2: continues talking about advanced methods for strings and also introduces the concept of functions\",\n",
    "  \"Chapter 3: discusses iteration and lists and also debugging\",\n",
    "]"
   ]
  },
  {
   "cell_type": "markdown",
   "metadata": {
    "slideshow": {
     "slide_type": "slide"
    }
   },
   "source": [
    "<br/>\n",
    "<br/>\n",
    "<br/>\n",
    "<br/>\n",
    "\n",
    "### Building an index using the `list` type\n",
    "\n",
    "Let's first see how to do this _without_ dictionaries. We can use the `list` type to do so. \n",
    "\n",
    "For simplicity, we only build the index for these two aforementioned concepts.\n",
    "\n",
    "For each occurrence of one of our two concepts in a chapter, we store in the `index` list an entry with the concept and the chapter name. (In other words, a list of lists!)"
   ]
  },
  {
   "cell_type": "code",
   "execution_count": null,
   "metadata": {
    "colab": {
     "base_uri": "https://localhost:8080/"
    },
    "executionInfo": {
     "elapsed": 1051,
     "status": "ok",
     "timestamp": 1617628957741,
     "user": {
      "displayName": "Joel Chan",
      "photoUrl": "https://lh3.googleusercontent.com/a-/AOh14GiBPPpBf_QqgDL3pMurAsPu9WJJE_x_6UtgW13UFQ=s64",
      "userId": "15153559228409906865"
     },
     "user_tz": 240
    },
    "id": "yT5ZIVumf_P2",
    "outputId": "b67cf244-9223-47ec-829f-3f8a1543de29",
    "slideshow": {
     "slide_type": "slide"
    }
   },
   "outputs": [],
   "source": [
    "# Without dictionaries\n",
    "concepts = ['strings', 'debugging']\n",
    "index = []\n",
    "\n",
    "for chapter in book:\n",
    "    # split into elements based on the colon\n",
    "    elements = chapter.split(\":\")\n",
    "    # first element is the chapter\n",
    "    chapter = elements[0]\n",
    "    # second element is the text\n",
    "    text = elements[1]\n",
    "    \n",
    "    # parse the text of the chapter\n",
    "    words = text.split()\n",
    "    for keyconcept in concepts:\n",
    "        if keyconcept in words:\n",
    "            index.append([keyconcept, chapter])\n",
    "\n",
    "# We are outside of the loop, print the complete index\n",
    "print(index)"
   ]
  },
  {
   "cell_type": "markdown",
   "metadata": {
    "slideshow": {
     "slide_type": "slide"
    }
   },
   "source": [
    "<br/>\n",
    "<br/>\n",
    "<br/>\n",
    "<br/>\n",
    "\n",
    "### Querying an index made with the Python `list` type\n",
    "\n",
    "Given this data structure, how to find all the chapters that have strings in them? We can use a loop to go through all the entries in the index. If the concept of an entry matches the concept I'm looking for (stored in variable `query`), I print the chapter."
   ]
  },
  {
   "cell_type": "code",
   "execution_count": null,
   "metadata": {
    "slideshow": {
     "slide_type": "slide"
    }
   },
   "outputs": [],
   "source": [
    "# The concept to query (to make a different query, change this variable to a different concept!)\n",
    "query = \"strings\"\n",
    "\n",
    "for item in index:\n",
    "    if query == item[0]:\n",
    "        print(item[1])"
   ]
  },
  {
   "cell_type": "markdown",
   "metadata": {
    "slideshow": {
     "slide_type": "slide"
    }
   },
   "source": [
    "<br/>\n",
    "<br/>\n",
    "<br/>\n",
    "<br/>\n",
    "\n",
    "\n",
    "### Building an index with the `dict` type\n",
    "\n",
    "Now let's see how dictionaries help us solve this problem."
   ]
  },
  {
   "cell_type": "code",
   "execution_count": null,
   "metadata": {
    "colab": {
     "base_uri": "https://localhost:8080/"
    },
    "executionInfo": {
     "elapsed": 518,
     "status": "ok",
     "timestamp": 1617629113990,
     "user": {
      "displayName": "Joel Chan",
      "photoUrl": "https://lh3.googleusercontent.com/a-/AOh14GiBPPpBf_QqgDL3pMurAsPu9WJJE_x_6UtgW13UFQ=s64",
      "userId": "15153559228409906865"
     },
     "user_tz": 240
    },
    "id": "PHur06kRgBNk",
    "outputId": "3542af42-5020-4b91-8934-5256143668d0",
    "scrolled": true,
    "slideshow": {
     "slide_type": "slide"
    }
   },
   "outputs": [],
   "source": [
    "# With dictionaries\n",
    "\n",
    "concepts = ['strings', 'debugging']\n",
    "# make a dictionary to hold the index\n",
    "index = {}\n",
    "\n",
    "for chapter in book:\n",
    "    # split into elements based on the colon\n",
    "    elements = chapter.split(\":\")\n",
    "    # first element is the chapter\n",
    "    chapter = elements[0]\n",
    "    # second element is the text\n",
    "    text = elements[1]\n",
    "    \n",
    "    # parse the text\n",
    "    words = text.split()\n",
    "    for keyconcept in concepts:\n",
    "        if keyconcept in words:\n",
    "            # get the current list of chapters associated with this keyconcept\n",
    "            chs = index.get(keyconcept, [])\n",
    "            # update the list\n",
    "            chs.append(chapter)\n",
    "            # update the index\n",
    "            index.update({keyconcept: chs})\n",
    "\n",
    "# We are outside of the loop, print the complete index\n",
    "print(index)"
   ]
  },
  {
   "cell_type": "markdown",
   "metadata": {
    "slideshow": {
     "slide_type": "slide"
    }
   },
   "source": [
    "<br/>\n",
    "<br/>\n",
    "<br/>\n",
    "<br/>\n",
    "<br/>\n",
    "\n",
    "### Querying an index made with the Python `dict` type\n",
    "\n",
    "Given this data structure, how to find all the chapters that have strings in them?"
   ]
  },
  {
   "cell_type": "code",
   "execution_count": null,
   "metadata": {
    "slideshow": {
     "slide_type": "slide"
    }
   },
   "outputs": [],
   "source": [
    "query = \"strings\"\n",
    "index.get(\"strings\")"
   ]
  },
  {
   "cell_type": "markdown",
   "metadata": {
    "slideshow": {
     "slide_type": "skip"
    }
   },
   "source": [
    "<br/>\n",
    "<br/>\n",
    "<br/>\n",
    "<br/>\n",
    "<br/>\n",
    "<br/>\n",
    "<br/>\n",
    "<br/>\n",
    "\n",
    "\n",
    "---"
   ]
  },
  {
   "cell_type": "markdown",
   "metadata": {
    "id": "K4Oz3D5RWLaJ",
    "slideshow": {
     "slide_type": "slide"
    }
   },
   "source": [
    "## Motivating example \\#2: attributes of data entries. \n",
    "\n",
    "For instance, attributes of a class, like credit hours, pre-reqs, instructor, location, hours, and so on."
   ]
  },
  {
   "cell_type": "code",
   "execution_count": null,
   "metadata": {
    "id": "KLkWDQeYWkTU",
    "slideshow": {
     "slide_type": "slide"
    }
   },
   "outputs": [],
   "source": [
    "# without dictionaries\n",
    "courses = [\n",
    "    [\"INST126\", 3, \"no\", \"Chan\", \"hybrid\", \"MWF\"],\n",
    "    [\"INST256\", 4, \"yes\", \"Kanishka\", \"in-person\", \"TR\"]\n",
    "]\n",
    "\n",
    "# look up INST126 and check whether it has prereqs\n",
    "for course in courses:\n",
    "    if course[0] == \"INST126\":\n",
    "        print(course[2])"
   ]
  },
  {
   "cell_type": "markdown",
   "metadata": {
    "id": "w4hAS5h6WrNQ",
    "slideshow": {
     "slide_type": "slide"
    }
   },
   "source": [
    "<br/>\n",
    "<br/>\n",
    "<br/>\n",
    "<br/>\n",
    "<br/>\n",
    "<br/>\n",
    "\n",
    "Rather than trying to remember which position we happened to have decided to use to store a particular attribute (if we used lists), we can use **semantically meaningful indices for values**, i.e., keys!"
   ]
  },
  {
   "cell_type": "code",
   "execution_count": null,
   "metadata": {
    "colab": {
     "base_uri": "https://localhost:8080/",
     "height": 35
    },
    "executionInfo": {
     "elapsed": 643,
     "status": "ok",
     "timestamp": 1617629581900,
     "user": {
      "displayName": "Joel Chan",
      "photoUrl": "https://lh3.googleusercontent.com/a-/AOh14GiBPPpBf_QqgDL3pMurAsPu9WJJE_x_6UtgW13UFQ=s64",
      "userId": "15153559228409906865"
     },
     "user_tz": 240
    },
    "id": "H5RTBIm6Wm-Y",
    "outputId": "224b3b33-0f7d-4bf4-9830-f7e21651a26f",
    "slideshow": {
     "slide_type": "slide"
    }
   },
   "outputs": [],
   "source": [
    "# with dictionaries\n",
    "courses = {\n",
    "    \"INST126\": {\n",
    "      \"credit hours\": 3, \"prereqs\": \"no\", \"instructor\": \"Chan\", \"location\": \"hybrid\", \"hours\": \"MWF\"\n",
    "      },\n",
    "    \"INST256\": {\n",
    "      \"credit hours\": 4, \"prereqs\": \"yes\", \"instructor\": \"Kanishka\", \"location\": \"in-person\", \"hours\": \"TR\"\n",
    "      },\n",
    "}\n",
    "\n",
    "# look up INST126 and check whether it has prereqs\n",
    "courses.get(\"INST256\").get(\"instructor\")"
   ]
  },
  {
   "cell_type": "markdown",
   "metadata": {
    "id": "59UWIOJ_jgrs",
    "slideshow": {
     "slide_type": "slide"
    }
   },
   "source": [
    "<br/>\n",
    "<br/>\n",
    "<br/>\n",
    "<br/>\n",
    "\n",
    "## Dictionaries vs Lists: main takeaways \n",
    "\n",
    "* It is a lot easier to remember keys (if we name them useful things) compared to just indices. And Python can help us remember too!\n",
    "\n",
    "* There are also formal technical reasons to prefer dictionaries over lists if you care about speed/efficiency and your computational task is **checking** if an item exists in a collection *and* you're dealing with very large scale data. This [article (archived on the Wayback Machine)](https://web.archive.org/web/20190708073227/http://www.jessicayung.com/python-lists-vs-dictionaries-the-space-time-tradeoff) has a bit more information on it.\n",
    "\n",
    "* Later we will learn the `pandas` library (and the `dataframe` data structure, which is sort of a hybrid of `lists` and `dictionaries`): you can do really fast lookup, but also sort stuff!"
   ]
  },
  {
   "cell_type": "markdown",
   "metadata": {
    "id": "XMfeWgyvG3W7",
    "slideshow": {
     "slide_type": "slide"
    },
    "tags": []
   },
   "source": [
    "<br/>\n",
    "<br/>\n",
    "<br/>\n",
    "<br/>\n",
    "<br/>\n",
    "<br/>\n",
    "<br/>\n",
    "<br/>\n",
    "\n",
    "---"
   ]
  },
  {
   "cell_type": "markdown",
   "metadata": {
    "id": "XMfeWgyvG3W7",
    "slideshow": {
     "slide_type": "slide"
    },
    "tags": []
   },
   "source": [
    "# Anatomy of a dictionary\n",
    "\n",
    "Dictionaries are not so different from... our dictionaries in real life. :) \n",
    "\n",
    "Basically *map* a bunch of **keys** (e.g., a word) to corresponding **values** (e.g., a definition). \n",
    "\n",
    "Another example is indices in the back of print books that map key terms to pages where that term shows up, or tags on websites, that map tags to webpages that include those tags.\n",
    "\n",
    "Let's look at an example of simple index that just maps letters to an example word that starts with the letter"
   ]
  },
  {
   "cell_type": "code",
   "execution_count": null,
   "metadata": {
    "slideshow": {
     "slide_type": "slide"
    }
   },
   "outputs": [],
   "source": [
    "d = {\n",
    "   'a': 'apple',  # an entry that maps the value apple to the letter a\n",
    "   'b': 'ball',   # another entry that maps the value ball to the letter b\n",
    "   'c': 'crayon' \n",
    "}"
   ]
  },
  {
   "cell_type": "markdown",
   "metadata": {
    "slideshow": {
     "slide_type": "slide"
    }
   },
   "source": [
    "<br/>\n",
    "<br/>\n",
    "<br/>\n",
    "\n",
    "You can also write it out like this, but i find it harder to read:"
   ]
  },
  {
   "cell_type": "code",
   "execution_count": null,
   "metadata": {
    "id": "mEFRGErFZGnx",
    "slideshow": {
     "slide_type": "slide"
    }
   },
   "outputs": [],
   "source": [
    "d = {'a': 'apple', 'b': 'ball', 'c': 'crayon'}  "
   ]
  },
  {
   "cell_type": "markdown",
   "metadata": {
    "slideshow": {
     "slide_type": "slide"
    }
   },
   "source": [
    "<br/>\n",
    "<br/>\n",
    "<br/>\n",
    "\n",
    "You are not restricted to storing strings in it, numbers or even other lists can be stored."
   ]
  },
  {
   "cell_type": "code",
   "execution_count": null,
   "metadata": {
    "id": "mEFRGErFZGnx",
    "slideshow": {
     "slide_type": "slide"
    }
   },
   "outputs": [],
   "source": [
    "another = {\n",
    "    'a': 1,\n",
    "    'b': 2,\n",
    "    'c': 3\n",
    "}\n",
    "\n",
    "grades = {\n",
    "    'A': [93, 100],\n",
    "    'B': [87, 93]\n",
    "}"
   ]
  },
  {
   "cell_type": "code",
   "execution_count": null,
   "metadata": {
    "colab": {
     "base_uri": "https://localhost:8080/"
    },
    "executionInfo": {
     "elapsed": 670,
     "status": "ok",
     "timestamp": 1617630036027,
     "user": {
      "displayName": "Joel Chan",
      "photoUrl": "https://lh3.googleusercontent.com/a-/AOh14GiBPPpBf_QqgDL3pMurAsPu9WJJE_x_6UtgW13UFQ=s64",
      "userId": "15153559228409906865"
     },
     "user_tz": 240
    },
    "id": "Joe06ptYQp8_",
    "outputId": "69bda4eb-7570-4bbc-b944-cac35969ddbe",
    "slideshow": {
     "slide_type": "slide"
    }
   },
   "outputs": [],
   "source": [
    "grades.get(\"A\")"
   ]
  },
  {
   "cell_type": "markdown",
   "metadata": {
    "id": "s8zUmMgjkYv2",
    "slideshow": {
     "slide_type": "slide"
    }
   },
   "source": [
    "<br/>\n",
    "<br/>\n",
    "<br/>\n",
    "\n",
    "The key parts of a dictionary are:\n",
    "1. The `{ }` curly braces tell you and Python that it's a dictionary (similar to `\"\"` for strings, or `[]` for lists)\n",
    "2. Each entry maps a **value** on the right of a  `:` --- which functions like the `=` expression --- to a **key** on the left. For example, our first entry maps the value \"apple\" to the key \"a\".\n",
    "3. We include `,`, similar to lists, to separate entries in the dictionary."
   ]
  },
  {
   "cell_type": "markdown",
   "metadata": {
    "id": "oAEDQBdsa9ut",
    "slideshow": {
     "slide_type": "slide"
    }
   },
   "source": [
    "<br/>\n",
    "<br/>\n",
    "<br/>\n",
    "<br/>\n",
    "<br/>\n",
    "<br/>\n",
    "<br/>\n",
    "<br/>\n",
    "\n",
    "---\n",
    "\n",
    "# Properties of a dictionary\n",
    "\n",
    "Dicts are _orderless_, _mutable_, _sequences_ of key&ndash;value pairs, where _keys must be unique_. \n",
    "\n",
    "(But values don't have to be unique.)\n",
    "\n",
    "Let's go through this one by one."
   ]
  },
  {
   "cell_type": "markdown",
   "metadata": {
    "id": "61xw1VxSh-6q",
    "slideshow": {
     "slide_type": "slide"
    }
   },
   "source": [
    "<br/>\n",
    "<br/>\n",
    "<br/>\n",
    "<br/>\n",
    "\n",
    "## Dicts are sequences\n",
    "\n",
    "This is similar to lists, dictionaries are sequences, so they have **length** (which is given by the number of keys)."
   ]
  },
  {
   "cell_type": "code",
   "execution_count": null,
   "metadata": {
    "colab": {
     "base_uri": "https://localhost:8080/"
    },
    "executionInfo": {
     "elapsed": 509,
     "status": "ok",
     "timestamp": 1617630053089,
     "user": {
      "displayName": "Joel Chan",
      "photoUrl": "https://lh3.googleusercontent.com/a-/AOh14GiBPPpBf_QqgDL3pMurAsPu9WJJE_x_6UtgW13UFQ=s64",
      "userId": "15153559228409906865"
     },
     "user_tz": 240
    },
    "id": "O8NZneQoubnI",
    "outputId": "652ced5f-0f81-4b9a-a655-14f5e07dc53f",
    "slideshow": {
     "slide_type": "slide"
    }
   },
   "outputs": [],
   "source": [
    "# dicts are sequences - length is the number of keys\n",
    "d = {\n",
    "   'a': 'apple', # an entry that maps the value apple to the letter a\n",
    "   'b': 'ball',  # another entry that maps the value ball to the letter b\n",
    "   'c': 'crayon' \n",
    "}\n",
    "len(d)"
   ]
  },
  {
   "cell_type": "code",
   "execution_count": null,
   "metadata": {
    "colab": {
     "base_uri": "https://localhost:8080/"
    },
    "executionInfo": {
     "elapsed": 478,
     "status": "ok",
     "timestamp": 1604333507417,
     "user": {
      "displayName": "Joel Chan",
      "photoUrl": "https://lh3.googleusercontent.com/a-/AOh14GiBPPpBf_QqgDL3pMurAsPu9WJJE_x_6UtgW13UFQ=s64",
      "userId": "15153559228409906865"
     },
     "user_tz": 300
    },
    "id": "Q2p0HOZfullU",
    "outputId": "269c7fe2-a51b-48e9-88e2-522dc361c41c",
    "slideshow": {
     "slide_type": "slide"
    }
   },
   "outputs": [],
   "source": [
    "# the empty dict has length 0\n",
    "dempty = {}\n",
    "len(dempty)"
   ]
  },
  {
   "cell_type": "markdown",
   "metadata": {
    "id": "61xw1VxSh-6q",
    "slideshow": {
     "slide_type": "slide"
    }
   },
   "source": [
    "<br/>\n",
    "<br/>\n",
    "<br/>\n",
    "<br/>\n",
    "\n",
    "## Dicts do not have an order \n",
    "\n",
    "Different from lists, dictionaries **do not have an order**. \n",
    "\n",
    "So you can't really sort a list, or grab things by position. You grab things by... key!"
   ]
  },
  {
   "cell_type": "markdown",
   "metadata": {
    "id": "61xw1VxSh-6q",
    "slideshow": {
     "slide_type": "slide"
    }
   },
   "source": [
    "<br/>\n",
    "<br/>\n",
    "<br/>\n",
    "<br/>\n",
    "\n",
    "## Dicts are mutable\n",
    "\n",
    "Dictionaries are also **mutable**: you can modify them directly (in contrast to strings, where you never modify them directly, but only ever create a new modified version of the string)."
   ]
  },
  {
   "cell_type": "code",
   "execution_count": null,
   "metadata": {
    "slideshow": {
     "slide_type": "slide"
    }
   },
   "outputs": [],
   "source": [
    "# dicts are mutable (they can be modified, like adding new key / values)\n",
    "d = {\n",
    "   'a': 'apple', \n",
    "   'b': 'ball',  \n",
    "   'c': 'crayon' \n",
    "}\n",
    "print(d)\n",
    "\n",
    "d['o'] = 'oranges'\n",
    "print(d)"
   ]
  },
  {
   "cell_type": "markdown",
   "metadata": {
    "id": "61xw1VxSh-6q",
    "slideshow": {
     "slide_type": "slide"
    }
   },
   "source": [
    "<br/>\n",
    "<br/>\n",
    "<br/>\n",
    "<br/>\n",
    "\n",
    "## But keys must be unique\n",
    "\n",
    "Also, all keys in a dictionary have to be **unique**. \n",
    "\n",
    "This is handy for keeping track of unique items. \n",
    "\n",
    "Values in the dictionary do *not* have to be unique, though: you can have different keys point to the same value, but not multiple values point to duplicate keys. \n",
    "\n",
    "There is a related data structure that has a similar property called `sets` if you're interested."
   ]
  },
  {
   "cell_type": "code",
   "execution_count": null,
   "metadata": {
    "slideshow": {
     "slide_type": "slide"
    }
   },
   "outputs": [],
   "source": [
    "d = {\n",
    "   'a': 'apple', \n",
    "   'b': 'ball',  \n",
    "   'c': 'crayon' \n",
    "}\n",
    "print(d)\n",
    "\n",
    "# Try to store another value for key 'a' overwrites the original value\n",
    "d['a'] = 'oranges'\n",
    "print(d)"
   ]
  },
  {
   "cell_type": "code",
   "execution_count": null,
   "metadata": {
    "colab": {
     "base_uri": "https://localhost:8080/"
    },
    "executionInfo": {
     "elapsed": 582,
     "status": "ok",
     "timestamp": 1617630275741,
     "user": {
      "displayName": "Joel Chan",
      "photoUrl": "https://lh3.googleusercontent.com/a-/AOh14GiBPPpBf_QqgDL3pMurAsPu9WJJE_x_6UtgW13UFQ=s64",
      "userId": "15153559228409906865"
     },
     "user_tz": 240
    },
    "id": "F4T1rspjROFZ",
    "outputId": "81b96fab-8a67-47aa-9cb0-798e5c84e7e0",
    "slideshow": {
     "slide_type": "slide"
    }
   },
   "outputs": [],
   "source": [
    "d = {\n",
    "   'a': 'apple', # an entry that maps the value apple to the letter a\n",
    "   'b': 'ball', # another entry that maps the value ball to the letter b\n",
    "   'c': 'crayon',\n",
    "   'a': 'animal' \n",
    "}\n",
    "d"
   ]
  },
  {
   "cell_type": "markdown",
   "metadata": {
    "id": "B4JROzB4iXWL",
    "slideshow": {
     "slide_type": "slide"
    }
   },
   "source": [
    "<br/>\n",
    "<br/>\n",
    "<br/>\n",
    "<br/>\n",
    "\n",
    "## What kinds of data can we put in a dictionary?\n",
    "\n",
    "Basically anything goes for **values**. You can even nest a dictionary inside another dictionary, by mapping a dictionary value to some key."
   ]
  },
  {
   "cell_type": "code",
   "execution_count": null,
   "metadata": {
    "id": "Z1kM-kPKuvuC",
    "slideshow": {
     "slide_type": "slide"
    }
   },
   "outputs": [],
   "source": [
    "students = {\n",
    "    'joel': {\n",
    "        'major': 'info sci',\n",
    "        'year': 'senior',\n",
    "        'interests': ['programming', 'football', 'dancing']\n",
    "    },\n",
    "}\n",
    "students"
   ]
  },
  {
   "cell_type": "markdown",
   "metadata": {
    "id": "D8_0Ztt_vF7u",
    "slideshow": {
     "slide_type": "slide"
    }
   },
   "source": [
    "<br/>\n",
    "<br/>\n",
    "<br/>\n",
    "\n",
    "But **keys** need to be *hashable*. Essentially, it must be possible to convert a key to a unique, fixed numerical value (the _hash_). \n",
    "\n",
    "More info on what that means on the [official Python documentation](https://docs.python.org/3.12/glossary.html#term-hashable).\n",
    "\n",
    "Trying to use a mutable type as a key will fail.\n",
    "\n",
    "<div class=\"alert alert-warning\">The following cell will throw an error!</div>"
   ]
  },
  {
   "cell_type": "code",
   "execution_count": null,
   "metadata": {
    "colab": {
     "base_uri": "https://localhost:8080/",
     "height": 171
    },
    "executionInfo": {
     "elapsed": 486,
     "status": "error",
     "timestamp": 1604330351921,
     "user": {
      "displayName": "Joel Chan",
      "photoUrl": "https://lh3.googleusercontent.com/a-/AOh14GiBPPpBf_QqgDL3pMurAsPu9WJJE_x_6UtgW13UFQ=s64",
      "userId": "15153559228409906865"
     },
     "user_tz": 300
    },
    "id": "UTyQyy3sRIjj",
    "outputId": "6803dedd-47d3-4ec4-f899-38a10368aab7",
    "slideshow": {
     "slide_type": "slide"
    }
   },
   "outputs": [],
   "source": [
    "# trying to create a key with a list will give a type error due to \"unhashable\" type\n",
    "d = {['3']: 'apple'}"
   ]
  },
  {
   "cell_type": "markdown",
   "metadata": {
    "id": "_fBRR1MSROdJ",
    "slideshow": {
     "slide_type": "slide"
    }
   },
   "source": [
    "I mention this because a common error when first working with dictionaries is to try to use an unhashable type as a key. \n",
    "\n",
    "The basic **rule of thumb** for now is: \n",
    "\n",
    "- Strings and numbers (`int` and`float`) are OK as keys; \n",
    "- Lists and everything else that you'll learn now is not."
   ]
  },
  {
   "cell_type": "markdown",
   "metadata": {
    "id": "RKgca-CfnFK9",
    "slideshow": {
     "slide_type": "slide"
    }
   },
   "source": [
    "<br/>\n",
    "<br/>\n",
    "<br/>\n",
    "<br/>\n",
    "<br/>\n",
    "<br/>\n",
    "\n",
    "---\n",
    "\n",
    "# Working with dictionaries: basics\n",
    "\n",
    "## How to create a dictionary\n",
    "\n",
    "Two ways:\n",
    "\n",
    "- Using the dict literal `{}`;\n",
    "- Using the `dict()` type function."
   ]
  },
  {
   "cell_type": "code",
   "execution_count": null,
   "metadata": {
    "id": "JG-iNe0ZHJVn",
    "slideshow": {
     "slide_type": "slide"
    }
   },
   "outputs": [],
   "source": [
    "# dict literal\n",
    "d1 = {\n",
    "   'a': 'apple',\n",
    "   'b': 'ball',\n",
    "   'c': 'crayon', \n",
    "}\n",
    "d1"
   ]
  },
  {
   "cell_type": "code",
   "execution_count": null,
   "metadata": {
    "slideshow": {
     "slide_type": "slide"
    }
   },
   "outputs": [],
   "source": [
    "# dict() function\n",
    "d2 = dict(a='apple', b='ball', c='crayon')\n",
    "d2"
   ]
  },
  {
   "cell_type": "code",
   "execution_count": null,
   "metadata": {
    "slideshow": {
     "slide_type": "slide"
    }
   },
   "outputs": [],
   "source": [
    "# both methods give you the same dictionary\n",
    "d1 == d2"
   ]
  },
  {
   "cell_type": "markdown",
   "metadata": {
    "id": "QwKbf3Uwb0oB",
    "slideshow": {
     "slide_type": "slide"
    }
   },
   "source": [
    "<br/>\n",
    "<br/>\n",
    "<br/>\n",
    "\n",
    "Notice that here the keys are the parameters of the `dict()` function, while the values its arguments.\n",
    "\n",
    "You can also start with an empty dictionary, and then add stuff later, programmatically or with other functions."
   ]
  },
  {
   "cell_type": "code",
   "execution_count": null,
   "metadata": {
    "colab": {
     "base_uri": "https://localhost:8080/"
    },
    "executionInfo": {
     "elapsed": 713,
     "status": "ok",
     "timestamp": 1617630715701,
     "user": {
      "displayName": "Joel Chan",
      "photoUrl": "https://lh3.googleusercontent.com/a-/AOh14GiBPPpBf_QqgDL3pMurAsPu9WJJE_x_6UtgW13UFQ=s64",
      "userId": "15153559228409906865"
     },
     "user_tz": 240
    },
    "id": "6j9jmcjgvqp2",
    "outputId": "c84f7f38-b73c-4ef7-abf9-e787aaaef92a",
    "slideshow": {
     "slide_type": "slide"
    }
   },
   "outputs": [],
   "source": [
    "emptyd = {} # dictionary with nothing in it\n",
    "emptyd = dict() # same thing\n",
    "print(emptyd)\n",
    "len(emptyd)"
   ]
  },
  {
   "cell_type": "markdown",
   "metadata": {
    "id": "DgkOR-cIm2Iy",
    "slideshow": {
     "slide_type": "slide"
    }
   },
   "source": [
    "<br/>\n",
    "<br/>\n",
    "<br/>\n",
    "<br/>\n",
    "\n",
    "## Get the value of a key from a dictionary\n",
    "\n",
    "Two alternatives:\n",
    "\n",
    "- The &ldquo;old&rdquo; style that uses indexing;\n",
    "- The &ldquo;new&rdquo; style that uses methods."
   ]
  },
  {
   "cell_type": "markdown",
   "metadata": {
    "slideshow": {
     "slide_type": "slide"
    }
   },
   "source": [
    "<br/>\n",
    "<br/>\n",
    "<br/>\n",
    "<br/>\n",
    "\n",
    "## The old style / indexing\n",
    "\n",
    "You put a key inside square brackets `[]` associated with a dictionary. Looks like a bit like working with lists."
   ]
  },
  {
   "cell_type": "code",
   "execution_count": null,
   "metadata": {
    "colab": {
     "base_uri": "https://localhost:8080/",
     "height": 35
    },
    "executionInfo": {
     "elapsed": 680,
     "status": "ok",
     "timestamp": 1617630845043,
     "user": {
      "displayName": "Joel Chan",
      "photoUrl": "https://lh3.googleusercontent.com/a-/AOh14GiBPPpBf_QqgDL3pMurAsPu9WJJE_x_6UtgW13UFQ=s64",
      "userId": "15153559228409906865"
     },
     "user_tz": 240
    },
    "id": "X7me-B5Nj5AZ",
    "outputId": "10c194c6-812a-47f7-fe57-d6fb6e00df87",
    "slideshow": {
     "slide_type": "slide"
    }
   },
   "outputs": [],
   "source": [
    "d = {\n",
    "   'a': 'apple',\n",
    "   'b': 'ball',\n",
    "   'c': 'crayon' \n",
    "}\n",
    "d['c']"
   ]
  },
  {
   "cell_type": "markdown",
   "metadata": {
    "id": "tKLOMLdHwkuw",
    "slideshow": {
     "slide_type": "slide"
    }
   },
   "source": [
    "<br/>\n",
    "<br/>\n",
    "<br/>\n",
    "<br/>\n",
    "\n",
    "## The new style / methods\n",
    "\n",
    "Uses a method called `.get()`, which is a bit more clear and leads to more robust code."
   ]
  },
  {
   "cell_type": "code",
   "execution_count": null,
   "metadata": {
    "colab": {
     "base_uri": "https://localhost:8080/",
     "height": 35
    },
    "executionInfo": {
     "elapsed": 529,
     "status": "ok",
     "timestamp": 1617630850560,
     "user": {
      "displayName": "Joel Chan",
      "photoUrl": "https://lh3.googleusercontent.com/a-/AOh14GiBPPpBf_QqgDL3pMurAsPu9WJJE_x_6UtgW13UFQ=s64",
      "userId": "15153559228409906865"
     },
     "user_tz": 240
    },
    "id": "PwcS2638j6jn",
    "outputId": "5a99b8d5-c894-46e4-fc20-b15e20b96c61",
    "slideshow": {
     "slide_type": "slide"
    }
   },
   "outputs": [],
   "source": [
    "d = {\n",
    "   'a': 'apple',\n",
    "   'b': 'ball',\n",
    "   'c': 'crayon' \n",
    "}\n",
    "d.get('c')"
   ]
  },
  {
   "cell_type": "markdown",
   "metadata": {
    "id": "fbSUFCiVZwv5",
    "slideshow": {
     "slide_type": "slide"
    }
   },
   "source": [
    "<br/>\n",
    "<br/>\n",
    "<br/>\n",
    "\n",
    "It is more robust than the the old style because it does not raise and error if you try to access a key that doesn't exist.\n",
    "\n",
    "In the old style, trying to access a key that does not exist will cause an error called `KeyError`:\n",
    "\n",
    "<div class=\"alert alert-warning\">The following cell will throw an error!</div>"
   ]
  },
  {
   "cell_type": "code",
   "execution_count": null,
   "metadata": {
    "colab": {
     "base_uri": "https://localhost:8080/",
     "height": 207
    },
    "executionInfo": {
     "elapsed": 822,
     "status": "error",
     "timestamp": 1617630872336,
     "user": {
      "displayName": "Joel Chan",
      "photoUrl": "https://lh3.googleusercontent.com/a-/AOh14GiBPPpBf_QqgDL3pMurAsPu9WJJE_x_6UtgW13UFQ=s64",
      "userId": "15153559228409906865"
     },
     "user_tz": 240
    },
    "id": "suoKyO9rZ1jG",
    "outputId": "d8eb6435-8891-4361-f417-4d2a5c2d16fd",
    "slideshow": {
     "slide_type": "slide"
    }
   },
   "outputs": [],
   "source": [
    "d = {\n",
    "   'a': 'apple',\n",
    "   'b': 'ball',\n",
    "   'c': 'crayon' \n",
    "}\n",
    "d['d']"
   ]
  },
  {
   "cell_type": "markdown",
   "metadata": {
    "id": "wtUfguW7at3_",
    "slideshow": {
     "slide_type": "slide"
    }
   },
   "source": [
    "<br/>\n",
    "<br/>\n",
    "<br/>\n",
    "\n",
    "Instead, `.get()` lets you specify a default value that should come back if the key doesn't exist. \n",
    "\n",
    "This is very useful for writing clean and understandable dictionary patterns, such as indexing, which we'll dig into next week."
   ]
  },
  {
   "cell_type": "code",
   "execution_count": null,
   "metadata": {
    "colab": {
     "base_uri": "https://localhost:8080/"
    },
    "executionInfo": {
     "elapsed": 593,
     "status": "ok",
     "timestamp": 1617630952947,
     "user": {
      "displayName": "Joel Chan",
      "photoUrl": "https://lh3.googleusercontent.com/a-/AOh14GiBPPpBf_QqgDL3pMurAsPu9WJJE_x_6UtgW13UFQ=s64",
      "userId": "15153559228409906865"
     },
     "user_tz": 240
    },
    "id": "-lTzN_qrZ8sW",
    "outputId": "2aecf4ff-ad11-4943-baec-3ecfb90478a5",
    "slideshow": {
     "slide_type": "slide"
    }
   },
   "outputs": [],
   "source": [
    "d = {\n",
    "   'a': 'apple',\n",
    "   'b': 'ball',\n",
    "   'c': 'crayon' \n",
    "}\n",
    "result = d.get('d', \"Key not found\")\n",
    "print(result)"
   ]
  },
  {
   "cell_type": "markdown",
   "metadata": {
    "slideshow": {
     "slide_type": "slide"
    }
   },
   "source": [
    "<br/>\n",
    "<br/>\n",
    "<br/>\n",
    "\n",
    "If you do not pass any default value, `.get()` will return the special value `None` if the key does not exist in the dictionary"
   ]
  },
  {
   "cell_type": "code",
   "execution_count": null,
   "metadata": {
    "slideshow": {
     "slide_type": "slide"
    }
   },
   "outputs": [],
   "source": [
    "d = {\n",
    "   'a': 'apple',\n",
    "   'b': 'ball',\n",
    "   'c': 'crayon' \n",
    "}\n",
    "result = d.get('d')\n",
    "print(result)"
   ]
  },
  {
   "cell_type": "markdown",
   "metadata": {
    "id": "UovJdgpCaUDv",
    "slideshow": {
     "slide_type": "slide"
    }
   },
   "source": [
    "<br/>\n",
    "<br/>\n",
    "<br/>\n",
    "<br/>\n",
    "\n",
    "## Adding / updating entries to a dictionary\n",
    "\n",
    "Two alternatives:\n",
    "\n",
    "- The &ldquo;old&rdquo; style that uses assignment\n",
    "- The &ldquo;new&rdquo; style that uses methods\n",
    "\n",
    "Classic / old style, using indexing and assignment"
   ]
  },
  {
   "cell_type": "code",
   "execution_count": null,
   "metadata": {
    "colab": {
     "base_uri": "https://localhost:8080/"
    },
    "executionInfo": {
     "elapsed": 664,
     "status": "ok",
     "timestamp": 1617631040586,
     "user": {
      "displayName": "Joel Chan",
      "photoUrl": "https://lh3.googleusercontent.com/a-/AOh14GiBPPpBf_QqgDL3pMurAsPu9WJJE_x_6UtgW13UFQ=s64",
      "userId": "15153559228409906865"
     },
     "user_tz": 240
    },
    "id": "7gKu9TnzcZbG",
    "outputId": "11eb333c-363f-4b32-c2e4-990f5e4b92e6",
    "slideshow": {
     "slide_type": "slide"
    }
   },
   "outputs": [],
   "source": [
    "# adding a new entry 'e' -> 'egg'\n",
    "d = {\n",
    "   'a': 'apple',\n",
    "   'b': 'ball',\n",
    "   'c': 'crayon' \n",
    "}\n",
    "print(d)\n",
    "\n",
    "d['e'] = 'egg'\n",
    "print(d)"
   ]
  },
  {
   "cell_type": "code",
   "execution_count": null,
   "metadata": {
    "colab": {
     "base_uri": "https://localhost:8080/"
    },
    "executionInfo": {
     "elapsed": 664,
     "status": "ok",
     "timestamp": 1617631040586,
     "user": {
      "displayName": "Joel Chan",
      "photoUrl": "https://lh3.googleusercontent.com/a-/AOh14GiBPPpBf_QqgDL3pMurAsPu9WJJE_x_6UtgW13UFQ=s64",
      "userId": "15153559228409906865"
     },
     "user_tz": 240
    },
    "id": "7gKu9TnzcZbG",
    "outputId": "11eb333c-363f-4b32-c2e4-990f5e4b92e6",
    "slideshow": {
     "slide_type": "slide"
    }
   },
   "outputs": [],
   "source": [
    "# updating existing entries for 'a' and 'c'\n",
    "d = {\n",
    "   'a': 'apple',\n",
    "   'b': 'ball',\n",
    "   'c': 'crayon' \n",
    "}\n",
    "print(d)\n",
    "\n",
    "d['a'] = 'ashes'\n",
    "d['c'] = 'charming' \n",
    "print(d)"
   ]
  },
  {
   "cell_type": "markdown",
   "metadata": {
    "id": "wT_GF7fwaXGC",
    "slideshow": {
     "slide_type": "slide"
    }
   },
   "source": [
    "<br/>\n",
    "<br/>\n",
    "<br/>\n",
    "\n",
    "Newer style, using `.update()`"
   ]
  },
  {
   "cell_type": "code",
   "execution_count": null,
   "metadata": {
    "colab": {
     "base_uri": "https://localhost:8080/"
    },
    "executionInfo": {
     "elapsed": 365,
     "status": "ok",
     "timestamp": 1604334301559,
     "user": {
      "displayName": "Joel Chan",
      "photoUrl": "https://lh3.googleusercontent.com/a-/AOh14GiBPPpBf_QqgDL3pMurAsPu9WJJE_x_6UtgW13UFQ=s64",
      "userId": "15153559228409906865"
     },
     "user_tz": 300
    },
    "id": "ZBmVNv4DkBEf",
    "outputId": "89c90fd1-3911-447a-c601-44feea1a0a34",
    "slideshow": {
     "slide_type": "slide"
    }
   },
   "outputs": [],
   "source": [
    "# add a new entry for e\n",
    "d = {\n",
    "   'a': 'apple',\n",
    "   'b': 'ball',\n",
    "   'c': 'crayon' \n",
    "}\n",
    "print(d)\n",
    "\n",
    "d.update({'e': 'egg'})\n",
    "print(d)"
   ]
  },
  {
   "cell_type": "code",
   "execution_count": null,
   "metadata": {
    "colab": {
     "base_uri": "https://localhost:8080/"
    },
    "executionInfo": {
     "elapsed": 365,
     "status": "ok",
     "timestamp": 1604334301559,
     "user": {
      "displayName": "Joel Chan",
      "photoUrl": "https://lh3.googleusercontent.com/a-/AOh14GiBPPpBf_QqgDL3pMurAsPu9WJJE_x_6UtgW13UFQ=s64",
      "userId": "15153559228409906865"
     },
     "user_tz": 300
    },
    "id": "ZBmVNv4DkBEf",
    "outputId": "89c90fd1-3911-447a-c601-44feea1a0a34",
    "slideshow": {
     "slide_type": "slide"
    }
   },
   "outputs": [],
   "source": [
    "# update the entry for 'b'\n",
    "d = {\n",
    "   'a': 'apple',\n",
    "   'b': 'ball',\n",
    "   'c': 'crayon' \n",
    "}\n",
    "print(d)\n",
    "\n",
    "d.update({'b': 'ashes'})\n",
    "print(d)"
   ]
  },
  {
   "cell_type": "markdown",
   "metadata": {
    "id": "r6WneQ0eadIy",
    "slideshow": {
     "slide_type": "slide"
    }
   },
   "source": [
    "<br/>\n",
    "<br/>\n",
    "<br/>\n",
    "\n",
    "`.update()` has the advantage of being able to add multiple key-value pairs at once."
   ]
  },
  {
   "cell_type": "code",
   "execution_count": null,
   "metadata": {
    "colab": {
     "base_uri": "https://localhost:8080/"
    },
    "executionInfo": {
     "elapsed": 567,
     "status": "ok",
     "timestamp": 1617631177589,
     "user": {
      "displayName": "Joel Chan",
      "photoUrl": "https://lh3.googleusercontent.com/a-/AOh14GiBPPpBf_QqgDL3pMurAsPu9WJJE_x_6UtgW13UFQ=s64",
      "userId": "15153559228409906865"
     },
     "user_tz": 240
    },
    "id": "CbhVPy9iVBkJ",
    "outputId": "745604a1-d8e7-4c04-870f-90a7df58d197",
    "slideshow": {
     "slide_type": "slide"
    }
   },
   "outputs": [],
   "source": [
    "d = {\n",
    "   'a': 'apple',\n",
    "   'b': 'ball',\n",
    "   'c': 'crayon' \n",
    "}\n",
    "print(d)\n",
    "d.update({'a': 'ashes', 'b':'bread', 'c':'charming', 'e': 'egg'})\n",
    "print(d)"
   ]
  },
  {
   "cell_type": "markdown",
   "metadata": {
    "id": "cy1zzm0wb2TU",
    "slideshow": {
     "slide_type": "slide"
    }
   },
   "source": [
    "<br/>\n",
    "<br/>\n",
    "<br/>\n",
    "\n",
    "You can use the pattern that is comfortable for you, but I prefer `.get()` and `.update()` for now because it's more readable and robust.\n",
    "\n",
    "<br/>\n",
    "<br/>\n",
    "<br/>\n",
    "<br/>\n",
    "\n",
    "## List keys and values\n",
    "\n",
    "* `.keys()` gives you all the keys in the dictionary\n",
    "\n",
    "* `.values()` gives you all the values in the dictionary\n",
    "\n",
    "* `.items()` gives you all the entries in the dictionary\n",
    "\n",
    "Each of these is iterable."
   ]
  },
  {
   "cell_type": "code",
   "execution_count": null,
   "metadata": {
    "colab": {
     "base_uri": "https://localhost:8080/"
    },
    "executionInfo": {
     "elapsed": 502,
     "status": "ok",
     "timestamp": 1617631424701,
     "user": {
      "displayName": "Joel Chan",
      "photoUrl": "https://lh3.googleusercontent.com/a-/AOh14GiBPPpBf_QqgDL3pMurAsPu9WJJE_x_6UtgW13UFQ=s64",
      "userId": "15153559228409906865"
     },
     "user_tz": 240
    },
    "id": "zYX-SeJOWKbs",
    "outputId": "0a557156-b398-4718-f404-5fffe52c37ec",
    "slideshow": {
     "slide_type": "slide"
    }
   },
   "outputs": [],
   "source": [
    "d = {\n",
    "   'a': 'apple',\n",
    "   'b': 'ball',\n",
    "   'c': 'crayon' \n",
    "}\n",
    "d"
   ]
  },
  {
   "cell_type": "code",
   "execution_count": null,
   "metadata": {
    "colab": {
     "base_uri": "https://localhost:8080/"
    },
    "executionInfo": {
     "elapsed": 638,
     "status": "ok",
     "timestamp": 1617631401989,
     "user": {
      "displayName": "Joel Chan",
      "photoUrl": "https://lh3.googleusercontent.com/a-/AOh14GiBPPpBf_QqgDL3pMurAsPu9WJJE_x_6UtgW13UFQ=s64",
      "userId": "15153559228409906865"
     },
     "user_tz": 240
    },
    "id": "WvQ9-ZGxV3aS",
    "outputId": "923a80d5-053b-4913-df49-b514bfd9f39c",
    "slideshow": {
     "slide_type": "slide"
    }
   },
   "outputs": [],
   "source": [
    "# list all the keys in the dictionary\n",
    "d.keys()"
   ]
  },
  {
   "cell_type": "code",
   "execution_count": null,
   "metadata": {
    "colab": {
     "base_uri": "https://localhost:8080/"
    },
    "executionInfo": {
     "elapsed": 667,
     "status": "ok",
     "timestamp": 1617631417064,
     "user": {
      "displayName": "Joel Chan",
      "photoUrl": "https://lh3.googleusercontent.com/a-/AOh14GiBPPpBf_QqgDL3pMurAsPu9WJJE_x_6UtgW13UFQ=s64",
      "userId": "15153559228409906865"
     },
     "user_tz": 240
    },
    "id": "n8QrDEAFWGbm",
    "outputId": "d1741aca-07c6-47e1-8e12-d59b89e61aca",
    "slideshow": {
     "slide_type": "slide"
    }
   },
   "outputs": [],
   "source": [
    "# list all the values in the dictionary\n",
    "d.values()"
   ]
  },
  {
   "cell_type": "code",
   "execution_count": null,
   "metadata": {
    "colab": {
     "base_uri": "https://localhost:8080/"
    },
    "executionInfo": {
     "elapsed": 537,
     "status": "ok",
     "timestamp": 1617631448973,
     "user": {
      "displayName": "Joel Chan",
      "photoUrl": "https://lh3.googleusercontent.com/a-/AOh14GiBPPpBf_QqgDL3pMurAsPu9WJJE_x_6UtgW13UFQ=s64",
      "userId": "15153559228409906865"
     },
     "user_tz": 240
    },
    "id": "8hCyfNOHWMpk",
    "outputId": "78bf5787-311e-4eec-ef6d-b039c4fbb18b",
    "slideshow": {
     "slide_type": "slide"
    }
   },
   "outputs": [],
   "source": [
    "# list all the key-value pairs in the dictionary\n",
    "d.items()"
   ]
  },
  {
   "cell_type": "code",
   "execution_count": null,
   "metadata": {
    "colab": {
     "base_uri": "https://localhost:8080/"
    },
    "executionInfo": {
     "elapsed": 740,
     "status": "ok",
     "timestamp": 1617631479307,
     "user": {
      "displayName": "Joel Chan",
      "photoUrl": "https://lh3.googleusercontent.com/a-/AOh14GiBPPpBf_QqgDL3pMurAsPu9WJJE_x_6UtgW13UFQ=s64",
      "userId": "15153559228409906865"
     },
     "user_tz": 240
    },
    "id": "KzdaIBa6WV8e",
    "outputId": "b8415314-32ad-424a-cca0-97adfd7ee8ff",
    "slideshow": {
     "slide_type": "slide"
    }
   },
   "outputs": [],
   "source": [
    "# this means you can iterate through the keys/values\n",
    "for key in d.keys():\n",
    "    print(key, d.get(key))"
   ]
  },
  {
   "cell_type": "code",
   "execution_count": null,
   "metadata": {
    "slideshow": {
     "slide_type": "slide"
    }
   },
   "outputs": [],
   "source": [
    "# this is equivalent (iterating over d defaults to iterating over d.keys())\n",
    "for key in d:\n",
    "    print(key, d.get(key))"
   ]
  },
  {
   "cell_type": "code",
   "execution_count": null,
   "metadata": {
    "colab": {
     "base_uri": "https://localhost:8080/"
    },
    "executionInfo": {
     "elapsed": 557,
     "status": "ok",
     "timestamp": 1617631524162,
     "user": {
      "displayName": "Joel Chan",
      "photoUrl": "https://lh3.googleusercontent.com/a-/AOh14GiBPPpBf_QqgDL3pMurAsPu9WJJE_x_6UtgW13UFQ=s64",
      "userId": "15153559228409906865"
     },
     "user_tz": 240
    },
    "id": "5aPlx12dWbUN",
    "outputId": "bfefbe4b-1474-4393-c663-8316571e8fa6",
    "slideshow": {
     "slide_type": "slide"
    }
   },
   "outputs": [],
   "source": [
    "# iterate through the items (notice there are *two* iteration variables now)\n",
    "for key, value in d.items():\n",
    "    print(f'{key} is associated with the value {value}')"
   ]
  },
  {
   "cell_type": "markdown",
   "metadata": {
    "id": "_dzPHNSlmTsl",
    "slideshow": {
     "slide_type": "slide"
    }
   },
   "source": [
    "<br/>\n",
    "<br/>\n",
    "<br/>\n",
    "<br/>\n",
    "\n",
    "## Check if a key is in a dictionary"
   ]
  },
  {
   "cell_type": "code",
   "execution_count": null,
   "metadata": {
    "colab": {
     "base_uri": "https://localhost:8080/"
    },
    "executionInfo": {
     "elapsed": 361,
     "status": "ok",
     "timestamp": 1604334598605,
     "user": {
      "displayName": "Joel Chan",
      "photoUrl": "https://lh3.googleusercontent.com/a-/AOh14GiBPPpBf_QqgDL3pMurAsPu9WJJE_x_6UtgW13UFQ=s64",
      "userId": "15153559228409906865"
     },
     "user_tz": 300
    },
    "id": "GhYfo75IyqHE",
    "outputId": "587d0238-fd60-4fe9-9b44-8ab960eb3dd6",
    "slideshow": {
     "slide_type": "slide"
    }
   },
   "outputs": [],
   "source": [
    "d = {\n",
    "   'a': 'apple',\n",
    "   'b': 'ball',\n",
    "   'c': 'crayon' \n",
    "}\n",
    "print(\"c in d?\", 'c' in d)\n",
    "print(\"e in d?\", 'e' in d)"
   ]
  },
  {
   "cell_type": "markdown",
   "metadata": {
    "id": "gZcJLnKtW03b",
    "slideshow": {
     "slide_type": "slide"
    }
   },
   "source": [
    "<br/>\n",
    "<br/>\n",
    "<br/>\n",
    "\n",
    "__ATTENTION__: Can only use `in` operator with keys. Trying to test if a value is the dict is a form of semantic error (will not do what you what you think it should)."
   ]
  },
  {
   "cell_type": "code",
   "execution_count": null,
   "metadata": {
    "slideshow": {
     "slide_type": "slide"
    }
   },
   "outputs": [],
   "source": [
    "# this will give False\n",
    "d = {\n",
    "   'a': 'apple',\n",
    "   'b': 'ball',\n",
    "   'c': 'crayon' \n",
    "}\n",
    "print(\"apple in d?\", 'apple' in d)"
   ]
  },
  {
   "cell_type": "markdown",
   "metadata": {
    "id": "VgTqsvbkayPx",
    "slideshow": {
     "slide_type": "slide"
    }
   },
   "source": [
    "<br/>\n",
    "<br/>\n",
    "<br/>\n",
    "\n",
    "You can also do this with `.get()`: by default, if a key is not present `.get()` will return None.\n",
    "\n",
    "So if you obtain `None` from calling get you can take it to mean the asked key was not there."
   ]
  },
  {
   "cell_type": "code",
   "execution_count": null,
   "metadata": {
    "slideshow": {
     "slide_type": "slide"
    }
   },
   "outputs": [],
   "source": [
    "dict.get?"
   ]
  },
  {
   "cell_type": "code",
   "execution_count": null,
   "metadata": {
    "slideshow": {
     "slide_type": "slide"
    }
   },
   "outputs": [],
   "source": [
    "d.get(\"hello\") is None  # if True, the key \"hello\" is not in the dictionary d"
   ]
  },
  {
   "cell_type": "markdown",
   "metadata": {
    "slideshow": {
     "slide_type": "slide"
    }
   },
   "source": [
    "<br/>\n",
    "<br/>\n",
    "<br/>\n",
    "\n",
    "Can also achieve this with a different default value"
   ]
  },
  {
   "cell_type": "code",
   "execution_count": null,
   "metadata": {
    "id": "_O75i7x2W8zO",
    "slideshow": {
     "slide_type": "slide"
    }
   },
   "outputs": [],
   "source": [
    "# retrieve value for a, if it's not found, say \"not found\"\n",
    "d.get(\"a\", \"Not found\")"
   ]
  },
  {
   "cell_type": "markdown",
   "metadata": {
    "id": "6kRTTq8Pb-CW",
    "slideshow": {
     "slide_type": "slide"
    }
   },
   "source": [
    "<br/>\n",
    "<br/>\n",
    "<br/>\n",
    "<br/>\n",
    "\n",
    "## Reverse look up keys from values: YOU CAN'T! Not really..."
   ]
  },
  {
   "cell_type": "markdown",
   "metadata": {
    "id": "wohpC8NFdPsx",
    "slideshow": {
     "slide_type": "slide"
    }
   },
   "source": [
    "Dictionaries are very powerful transformations of your data that make it REALLY easy to do a specific kind of operation, but lock you out of doing other things. \n",
    "\n",
    "So design the structure of the dictionary carefully. \n",
    "\n",
    "For example, if you make an index, and find that you actually care a lot about grabbing the top N words, you probably want to map word counts (as keys) to words (as values), not words to counts."
   ]
  },
  {
   "cell_type": "code",
   "execution_count": null,
   "metadata": {
    "colab": {
     "base_uri": "https://localhost:8080/"
    },
    "executionInfo": {
     "elapsed": 478,
     "status": "ok",
     "timestamp": 1617631742446,
     "user": {
      "displayName": "Joel Chan",
      "photoUrl": "https://lh3.googleusercontent.com/a-/AOh14GiBPPpBf_QqgDL3pMurAsPu9WJJE_x_6UtgW13UFQ=s64",
      "userId": "15153559228409906865"
     },
     "user_tz": 240
    },
    "id": "0dj1GWMtcJGQ",
    "outputId": "b78fc7d7-fe75-4828-bd58-b0f3d87692f8",
    "slideshow": {
     "slide_type": "slide"
    }
   },
   "outputs": [],
   "source": [
    "s = \"she sells sea shells by the sea shore in the sea and the shells and the sea sea sea\"\n",
    "\n",
    "# define a dictionary to hold the index\n",
    "d = {} \n",
    "\n",
    "# go through word by word\n",
    "for word in s.split():\n",
    "    # get the current count for the word, default to 0 if we haven't seen it\n",
    "    current_count = d.get(word, 0)\n",
    "    \n",
    "    # update the count\n",
    "    new_count = current_count + 1\n",
    "    \n",
    "    # update the dictionary with the word and count\n",
    "    d.update({word: new_count})\n",
    "\n",
    "d"
   ]
  },
  {
   "cell_type": "markdown",
   "metadata": {
    "id": "hWwxHRnweD8U",
    "slideshow": {
     "slide_type": "slide"
    }
   },
   "source": [
    "<br/>\n",
    "<br/>\n",
    "<br/>\n",
    "\n",
    "Could try to invert it, but.... You actually lose information, because remember: keys are unique! No duplicates! So we lose one of our `2` entries."
   ]
  },
  {
   "cell_type": "code",
   "execution_count": null,
   "metadata": {
    "colab": {
     "base_uri": "https://localhost:8080/"
    },
    "executionInfo": {
     "elapsed": 734,
     "status": "ok",
     "timestamp": 1617631814176,
     "user": {
      "displayName": "Joel Chan",
      "photoUrl": "https://lh3.googleusercontent.com/a-/AOh14GiBPPpBf_QqgDL3pMurAsPu9WJJE_x_6UtgW13UFQ=s64",
      "userId": "15153559228409906865"
     },
     "user_tz": 240
    },
    "id": "ET8zg0eJd4MK",
    "outputId": "05b132f2-eb34-4bf2-adbe-9f9991d5b412",
    "slideshow": {
     "slide_type": "slide"
    }
   },
   "outputs": [],
   "source": [
    "def reverse_dictionary(d):\n",
    "    return {v: k for k, v in d.items()}\n",
    "\n",
    "d_invert = reverse_dictionary(d)\n",
    "d_invert"
   ]
  },
  {
   "cell_type": "markdown",
   "metadata": {
    "slideshow": {
     "slide_type": "slide"
    }
   },
   "source": [
    "<br/>\n",
    "<br/>\n",
    "<br/>\n",
    "\n",
    "One way to get around this limitation is to map counts to lists of words that have that count."
   ]
  },
  {
   "cell_type": "code",
   "execution_count": null,
   "metadata": {
    "colab": {
     "base_uri": "https://localhost:8080/"
    },
    "executionInfo": {
     "elapsed": 594,
     "status": "ok",
     "timestamp": 1617631967572,
     "user": {
      "displayName": "Joel Chan",
      "photoUrl": "https://lh3.googleusercontent.com/a-/AOh14GiBPPpBf_QqgDL3pMurAsPu9WJJE_x_6UtgW13UFQ=s64",
      "userId": "15153559228409906865"
     },
     "user_tz": 240
    },
    "id": "yS-djFp0X92U",
    "outputId": "ef4a1b10-8dc4-4714-825f-4ab1a690e9ee",
    "slideshow": {
     "slide_type": "slide"
    }
   },
   "outputs": [],
   "source": [
    "d_invert = {}\n",
    "for word, count in d.items():\n",
    "    # get the current list of words associated with this count so far; \n",
    "    # if the word has never been stored before, initialize to the empty list.\n",
    "    words = d_invert.get(count, []) \n",
    "    \n",
    "    # append the word to the list\n",
    "    words.append(word)\n",
    "    \n",
    "    # update the inverted dict\n",
    "    d_invert.update({count: words})\n",
    "d_invert"
   ]
  },
  {
   "cell_type": "markdown",
   "metadata": {
    "id": "RqOYMjCVeUN5",
    "slideshow": {
     "slide_type": "slide"
    }
   },
   "source": [
    "<br/>\n",
    "<br/>\n",
    "<br/>\n",
    "<br/>\n",
    "\n",
    "# Coding Challenge\n",
    "\n",
    "## Task 1: Create a dictionary from two lists\n",
    "\n",
    "Given a list of fruit names and a list of fruit quantities, create a new dictionary called `box` associating to each fruit name its quantity."
   ]
  },
  {
   "cell_type": "code",
   "execution_count": null,
   "metadata": {
    "tags": []
   },
   "outputs": [],
   "source": [
    "fruits = ['pears', 'apples', 'bananas']\n",
    "quantities = [10, 20, 4]\n",
    "\n",
    "box = ..."
   ]
  },
  {
   "cell_type": "markdown",
   "metadata": {},
   "source": [
    "<br/>\n",
    "<br/>\n",
    "<br/>\n",
    "\n",
    "## Task 2: update a dictionary using a second dictionary with the same set of keys\n",
    "\n",
    "Given a dictionary called `box1` mapping fruit names (keys) to their quantity (values), and a second dictionary called `box2` _with the same set of keys_ but different quantities, update the values of the first dictionary by adding the quantity of each fruit from the second dictionary. "
   ]
  },
  {
   "cell_type": "code",
   "execution_count": null,
   "metadata": {
    "tags": []
   },
   "outputs": [],
   "source": [
    "box1 = {'pears': 10, 'apples': 20, 'bananas': 4}\n",
    "box2 = {'bananas': 3, 'pears': 3, 'apples': 3}\n",
    "\n",
    "..."
   ]
  },
  {
   "cell_type": "markdown",
   "metadata": {},
   "source": [
    "<br/>\n",
    "<br/>\n",
    "<br/>\n",
    "\n",
    "## Task 3: update a dictionary using a second dictionary with different sets of keys\n",
    "\n",
    "Given a dictionary called `box1` mapping fruit names (keys) to their quantity (values), and a second dictionary called `box2` but different quantities, update the values of the first dictionary by adding the quantity of each fruit from the second dictionary. Only fruit names that appears in both dictionaries should be updated. Keys that are present in `box2` but not in `box1` should be ignored."
   ]
  },
  {
   "cell_type": "code",
   "execution_count": null,
   "metadata": {
    "tags": []
   },
   "outputs": [],
   "source": [
    "box1 = {'pears': 10, 'apples': 20, 'bananas': 4}\n",
    "box2 = {'bananas': 3, 'apples': 3, 'kiwi': 3}  # different set of keys!\n",
    "\n",
    "..."
   ]
  },
  {
   "cell_type": "markdown",
   "metadata": {
    "id": "RqOYMjCVeUN5",
    "slideshow": {
     "slide_type": "slide"
    }
   },
   "source": [
    "<br/>\n",
    "<br/>\n",
    "<br/>\n",
    "<br/>\n",
    "\n",
    "# Advanced Topics "
   ]
  },
  {
   "cell_type": "markdown",
   "metadata": {
    "slideshow": {
     "slide_type": "slide"
    }
   },
   "source": [
    "## &ldquo;Sorting&rdquo; a dictionary\n",
    "\n",
    "Even though dictionaries have no order (and thus cannot be sorted), there are times when we need to access them in a particular order.\n",
    "\n",
    "A typical use case is to have a dictionary where keys are strings, and we want to organize the dictionary lexicographic order. \n",
    "\n",
    "By default, Python will use whatever order was used to add entry to the dictionary."
   ]
  },
  {
   "cell_type": "code",
   "execution_count": null,
   "metadata": {
    "slideshow": {
     "slide_type": "slide"
    },
    "tags": []
   },
   "outputs": [],
   "source": [
    "mydict = {}\n",
    "\n",
    "mydict['Z'] = 10\n",
    "mydict['a'] = 4\n",
    "mydict['Attention'] = 5\n",
    "\n",
    "mydict"
   ]
  },
  {
   "cell_type": "markdown",
   "metadata": {
    "slideshow": {
     "slide_type": "slide"
    }
   },
   "source": [
    "<br/>\n",
    "<br/>\n",
    "<br/>\n",
    "\n",
    "### The problem: sorting by key \n",
    "\n",
    "With lists, we saw that there are two ways to sort a sequence, the `.sort()` method and the `sorted()` function.\n",
    "\n",
    "However, the `dict` class does not provide a `.sort()` method. Furthermore, sorting `mydict` with the `sorted()` function will sort the set of keys, but not the dictionary itself!"
   ]
  },
  {
   "cell_type": "code",
   "execution_count": null,
   "metadata": {
    "slideshow": {
     "slide_type": "slide"
    },
    "tags": []
   },
   "outputs": [],
   "source": [
    "sorted(mydict)"
   ]
  },
  {
   "cell_type": "code",
   "execution_count": null,
   "metadata": {
    "slideshow": {
     "slide_type": "-"
    },
    "tags": []
   },
   "outputs": [],
   "source": [
    "sorted(mydict.keys())"
   ]
  },
  {
   "cell_type": "markdown",
   "metadata": {
    "slideshow": {
     "slide_type": "slide"
    }
   },
   "source": [
    "<br/>\n",
    "<br/>\n",
    "<br/>\n",
    "\n",
    "Likewise, sorting the values will not include the keys"
   ]
  },
  {
   "cell_type": "code",
   "execution_count": null,
   "metadata": {
    "slideshow": {
     "slide_type": "slide"
    },
    "tags": []
   },
   "outputs": [],
   "source": [
    "sorted(mydict.values())"
   ]
  },
  {
   "cell_type": "markdown",
   "metadata": {
    "slideshow": {
     "slide_type": "slide"
    }
   },
   "source": [
    "<br/>\n",
    "<br/>\n",
    "<br/>\n",
    "\n",
    "### The solution: sort in two steps\n",
    "\n",
    "First, we convert the dictionary into a list of key--value pairs using the `.items()` method.\n",
    "\n",
    "Then, we sort that list. Using the [lexicographic sorting rule](https://docs.python.org/3/tutorial/datastructures.html#comparing-sequences-and-other-types) of Python, `.sort()` will determine the order of these pairs by comparing the keys."
   ]
  },
  {
   "cell_type": "code",
   "execution_count": null,
   "metadata": {
    "slideshow": {
     "slide_type": "slide"
    },
    "tags": []
   },
   "outputs": [],
   "source": [
    "sorted(mydict.items())"
   ]
  },
  {
   "cell_type": "markdown",
   "metadata": {
    "slideshow": {
     "slide_type": "slide"
    }
   },
   "source": [
    "<br/>\n",
    "<br/>\n",
    "<br/>\n",
    "\n",
    "### Note on tuples\n",
    "\n",
    "The `.items()` method returns what are called _tuples_ (within round parentheses `()`). \n",
    "\n",
    "Tuples are similar to lists but they are immutable sequences."
   ]
  },
  {
   "cell_type": "markdown",
   "metadata": {
    "slideshow": {
     "slide_type": "slide"
    }
   },
   "source": [
    "<br/>\n",
    "<br/>\n",
    "<br/>\n",
    "\n",
    "### Another problem: sorting by value\n",
    "\n",
    "The above will sort by key, but what if we want to order the dictionary by its values? \n",
    "\n",
    "As mentioned before when Python needs to decide how to sort two tuples, it will compare them _elementwise_ using the [lexicographic sorting rule](https://docs.python.org/3/tutorial/datastructures.html#comparing-sequences-and-other-types) mentioned above, starting from the first element in each tuple.\n",
    "\n",
    "For example, if I have two tuples:\n",
    "\n",
    "```python\n",
    "('Attention', 5)\n",
    "``` \n",
    "and \n",
    "```python\n",
    "('Z', 1)\n",
    "```\n",
    "\n",
    "Python will first compare `'Attention'` and `'Z'` to decide the order."
   ]
  },
  {
   "cell_type": "code",
   "execution_count": null,
   "metadata": {
    "slideshow": {
     "slide_type": "slide"
    }
   },
   "outputs": [],
   "source": [
    "sorted([\n",
    "    ('Z', 1),          # tuple #1\n",
    "    ('Attention', 5)   # tuple #2\n",
    "])"
   ]
  },
  {
   "cell_type": "markdown",
   "metadata": {
    "slideshow": {
     "slide_type": "slide"
    }
   },
   "source": [
    "If the first element is the same, it will compare the second, and so on."
   ]
  },
  {
   "cell_type": "code",
   "execution_count": null,
   "metadata": {
    "slideshow": {
     "slide_type": "slide"
    }
   },
   "outputs": [],
   "source": [
    "sorted([\n",
    "    ('Z', 10, 1, 2),\n",
    "    ('Z', 9),\n",
    "    ('Z', 10, 1),\n",
    "    ('Z', 10)\n",
    "])"
   ]
  },
  {
   "cell_type": "markdown",
   "metadata": {
    "slideshow": {
     "slide_type": "slide"
    }
   },
   "source": [
    "Back to the dictionary `.items()` method, we need a way to override Python's default comparison heuristic."
   ]
  },
  {
   "cell_type": "markdown",
   "metadata": {
    "slideshow": {
     "slide_type": "slide"
    }
   },
   "source": [
    "We can use a special parameter of the `sorted()` function that allows to specify the element we want to sort by.\n",
    "\n",
    "⚠️ _This parameter is called `key`, not to be confused with the keys of our dictionary!_ ⚠️"
   ]
  },
  {
   "cell_type": "code",
   "execution_count": null,
   "metadata": {
    "slideshow": {
     "slide_type": "slide"
    }
   },
   "outputs": [],
   "source": [
    "help(sorted)"
   ]
  },
  {
   "cell_type": "markdown",
   "metadata": {
    "slideshow": {
     "slide_type": "slide"
    }
   },
   "source": [
    "We need to define a custom function that given any item tuple (e.g. `('Attention', 5)`) tells sorted "
   ]
  },
  {
   "cell_type": "code",
   "execution_count": null,
   "metadata": {
    "slideshow": {
     "slide_type": "slide"
    },
    "tags": []
   },
   "outputs": [],
   "source": [
    "# We want to sort by value, not by key\n",
    "sorted(mydict.items())"
   ]
  },
  {
   "cell_type": "code",
   "execution_count": null,
   "metadata": {
    "slideshow": {
     "slide_type": "-"
    },
    "tags": []
   },
   "outputs": [],
   "source": [
    "# Use sorted(..., key=)\n",
    "def gimmevalue(item):\n",
    "    key, value = item\n",
    "    return value\n",
    "\n",
    "sorted(mydict.items(), key=gimmevalue)"
   ]
  },
  {
   "cell_type": "markdown",
   "metadata": {
    "slideshow": {
     "slide_type": "slide"
    }
   },
   "source": [
    "More info on sorting in Python here: https://docs.python.org/3/howto/sorting.html"
   ]
  },
  {
   "cell_type": "markdown",
   "metadata": {
    "id": "RqOYMjCVeUN5",
    "slideshow": {
     "slide_type": "slide"
    }
   },
   "source": [
    "<br/>\n",
    "<br/>\n",
    "<br/>\n",
    "<br/>\n",
    "<br/>\n",
    "<br/>\n",
    "<br/>\n",
    "<br/>\n",
    "<br/>\n",
    "<br/>\n",
    "<br/>\n",
    "<br/>\n",
    "<br/>\n",
    "<br/>\n",
    "<br/>\n",
    "<br/>\n",
    "<br/>\n",
    "<br/>\n",
    "<br/>\n",
    "<br/>\n",
    "<br/>\n",
    "<br/>\n",
    "<br/>\n",
    "<br/>\n",
    "<br/>\n",
    "<br/>\n",
    "<br/>\n",
    "<br/>\n",
    "<br/>\n",
    "<br/>\n",
    "<br/>\n",
    "<br/>\n",
    "<br/>\n",
    "<br/>\n",
    "<br/>\n",
    "<br/>\n",
    "<br/>\n",
    "<br/>\n",
    "<br/>\n",
    "<br/>\n",
    "<br/>\n",
    "<br/>\n",
    "<br/>\n",
    "<br/>\n",
    "<br/>\n",
    "<br/>\n",
    "<br/>\n",
    "<br/>\n",
    "\n",
    "# Solutions\n",
    "\n",
    "## Task 1: Create a dictionary from two lists\n",
    "\n",
    "Given a list of fruit names and a list of fruit quantities, create a new dictionary called `box` associating to each fruit name its quantity."
   ]
  },
  {
   "cell_type": "code",
   "execution_count": null,
   "metadata": {
    "tags": []
   },
   "outputs": [],
   "source": [
    "fruits = ['pears', 'apples', 'bananas']\n",
    "quantities = [10, 20, 4]\n",
    "\n",
    "### BEGIN SOLUTION\n",
    "box = {}\n",
    "for i in range(len(fruits)):\n",
    "    k = fruits[i]\n",
    "    v = quantities[i]\n",
    "    box[k] = v\n",
    "box\n",
    "### END SOLUTION"
   ]
  },
  {
   "cell_type": "markdown",
   "metadata": {},
   "source": [
    "<br/>\n",
    "<br/>\n",
    "<br/>\n",
    "\n",
    "## Task 2: update a dictionary using a second dictionary with the same set of keys\n",
    "\n",
    "Given a dictionary called `box1` mapping fruit names (keys) to their quantity (values), and a second dictionary called `box2` _with the same set of keys_ but different quantities, update the values of the first dictionary by adding the quantity of each fruit from the second dictionary. "
   ]
  },
  {
   "cell_type": "code",
   "execution_count": null,
   "metadata": {
    "tags": []
   },
   "outputs": [],
   "source": [
    "box1 = {'pears': 10, 'apples': 20, 'bananas': 4}\n",
    "box2 = {'bananas': 3, 'pears': 3, 'apples': 3}\n",
    "\n",
    "### BEGING SOLUTION\n",
    "for k in box1:\n",
    "    box1[k] = box1[k] + box2[k]\n",
    "\n",
    "box1\n",
    "### END SOLUTION"
   ]
  },
  {
   "cell_type": "markdown",
   "metadata": {},
   "source": [
    "<br/>\n",
    "<br/>\n",
    "<br/>\n",
    "\n",
    "## Task 3: update a dictionary using a second dictionary with different sets of keys\n",
    "\n",
    "Given a dictionary called `box1` mapping fruit names (keys) to their quantity (values), and a second dictionary called `box2` but different quantities, update the values of the first dictionary by adding the quantity of each fruit from the second dictionary. Only fruit names that appears in both dictionaries should be updated. Keys that are present in `box2` but not in `box1` should be ignored."
   ]
  },
  {
   "cell_type": "code",
   "execution_count": null,
   "metadata": {
    "tags": []
   },
   "outputs": [],
   "source": [
    "box1 = {'pears': 10, 'apples': 20, 'bananas': 4}\n",
    "box2 = {'bananas': 3, 'apples': 3, 'kiwi': 3}  # different set of keys!\n",
    "\n",
    "### BEGING SOLUTION\n",
    "for k in box1:\n",
    "    if k in box2:\n",
    "        box1[k] = box1[k] + box2[k]\n",
    "box1\n",
    "### END SOLUTION"
   ]
  }
 ],
 "metadata": {
  "celltoolbar": "Slideshow",
  "colab": {
   "collapsed_sections": [],
   "name": "INST126_SP21_Week11_Dictionaries_post-class.ipynb",
   "provenance": [],
   "toc_visible": true
  },
  "kernelspec": {
   "display_name": "Python 3 (ipykernel)",
   "language": "python",
   "name": "python3"
  },
  "language_info": {
   "codemirror_mode": {
    "name": "ipython",
    "version": 3
   },
   "file_extension": ".py",
   "mimetype": "text/x-python",
   "name": "python",
   "nbconvert_exporter": "python",
   "pygments_lexer": "ipython3",
   "version": "3.11.7"
  }
 },
 "nbformat": 4,
 "nbformat_minor": 4
}
