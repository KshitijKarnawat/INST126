{
 "cells": [
  {
   "cell_type": "markdown",
   "id": "a50a2dca",
   "metadata": {
    "nbgrader": {
     "grade": false,
     "grade_id": "cell-632059fb980800df",
     "locked": true,
     "schema_version": 3,
     "solution": false,
     "task": false
    },
    "slideshow": {
     "slide_type": "slide"
    }
   },
   "source": [
    "# Personalized Ads\n",
    "\n",
    "For this class activity, you will be creating functions that will \n",
    "1. ask questions to collect data and \n",
    "2. create functions that will use that data to output personalized ads using conditionals. \n",
    "\n",
    "Each task will present a short scenario and task describing what type of personalized ad should be served. \n",
    "\n",
    "Your job is to complete coding tasks that decide on an ad to serve to a person on a social media platform. \n",
    "\n",
    "Feel free to use as much (or as little) creativity as you want for the descriptions of ads for your code!"
   ]
  },
  {
   "cell_type": "markdown",
   "id": "15589064",
   "metadata": {
    "nbgrader": {
     "grade": false,
     "grade_id": "cell-ae5362423b8ee782",
     "locked": true,
     "schema_version": 3,
     "solution": false,
     "task": false
    },
    "slideshow": {
     "slide_type": "subslide"
    }
   },
   "source": [
    "## Problem 1\n",
    "\n",
    "<div class=\"alert alert-info\">The solution for this and the other tasks is at the bottom of the notebook</div>\n",
    "\n",
    "### Scenario\n",
    "\n",
    "For advertisers using the lowest tier of personalization on this social media platform, there is limited data about users available—we only know whether a user self-reported that they own dog.\n",
    "\n",
    "### Task 1. Find out whether a user has a dog! \n",
    "\n",
    "Using the built-in input function, ask the user if they have a dog. Our user will more than likely type a “yes” or “no”, which isn’t very easy for our program to use (strings are not the most appropriate data type for representing values that we want to have two options)! \n",
    "\n",
    "So let’s create a function to turn that answer into something that is easy to parse -- a Boolean. Implement the following:\n",
    "\n",
    "* `owns_dog`: this function should take no parameters. It should return the user’s answer as a boolean.\n",
    "\n",
    "Test your function a few times to make sure it works correctly.\n",
    "\n",
    "__Note__: If the user answers `\"yes\"`, `\"YES\"`, `\"yES\"`, `\"yeS\"`, or any other variations of `\"yes\"`, your function should return `True`. If they answer anything that is not `\"yes\"` (case insensitive), your function should return `False`. To accomplish this, in the cell below there is some starter code that includes a function called `tolowercase`. This function takes a single argument (a string), and returns the same string in lower case. Feel free to make use of this function in your `owns_dog` function."
   ]
  },
  {
   "cell_type": "code",
   "execution_count": null,
   "id": "e7d0798c-2f86-4aaa-b2b6-c7f67e57fb6c",
   "metadata": {
    "tags": []
   },
   "outputs": [],
   "source": [
    "# Write down your roles\n",
    "DRIVER = \"\"\n",
    "NAVIGATOR = \"\""
   ]
  },
  {
   "cell_type": "markdown",
   "id": "78b8ef8b-4245-40bc-a9b2-fe133ac389a8",
   "metadata": {},
   "source": [
    "<br/>\n",
    "<br/>\n",
    "<br/>\n",
    "<br/>\n",
    "\n",
    "---"
   ]
  },
  {
   "cell_type": "code",
   "execution_count": null,
   "id": "9941c73a",
   "metadata": {
    "nbgrader": {
     "grade": false,
     "grade_id": "cell-0bbaa103c526b48f",
     "locked": false,
     "schema_version": 3,
     "solution": true,
     "task": false
    }
   },
   "outputs": [],
   "source": [
    "def tolowercase(s):\n",
    "    \"\"\" \n",
    "    Transform a string `s` into lower case. For ex. `tolower(\"HeLLo!\")` returns \"hello!\".\n",
    "    \n",
    "    Parameters\n",
    "    ==========\n",
    "    s : string\n",
    "        A string that can contain upper- or lower-case characters.\n",
    "        \n",
    "    Returns\n",
    "    =======\n",
    "    The same string, but with all characters lower-case.\n",
    "    \"\"\"\n",
    "    return s.lower()\n",
    "\n",
    "\n",
    "# Your code here (replace ...)\n",
    "def owns_dog():\n",
    "    ...\n",
    "\n",
    "    \n",
    "owns_dog()"
   ]
  },
  {
   "cell_type": "markdown",
   "id": "f95cd241-7704-4fb7-930e-d5c765578a26",
   "metadata": {},
   "source": [
    "<br/>\n",
    "<br/>\n",
    "<br/>\n",
    "<br/>\n",
    "<br/>\n",
    "<br/>\n",
    "<br/>\n",
    "<br/>\n",
    "<br/>\n",
    "\n",
    "---"
   ]
  },
  {
   "cell_type": "markdown",
   "id": "c1ef263c",
   "metadata": {
    "nbgrader": {
     "grade": false,
     "grade_id": "cell-13bd95a7d97319d4",
     "locked": true,
     "schema_version": 3,
     "solution": false,
     "task": false
    }
   },
   "source": [
    "### Task 2. serve your ads!\n",
    "\n",
    "Write a function called `display_ads` that, given as parameter a boolean returned by `owns_dog`:\n",
    "* if the value of this boolean is True, print text advertising dog food. Your text must start with `Dog Food Ad:`;\n",
    "* otherwise, print text advertising anything else. Your text must start with `Ad:`.\n",
    "\n",
    "For example, given that the user owns a dog, your function might print something like:\n",
    "\n",
    "> Dog Food Ad: Meat’s the need of dogs like yours! The ALL-MEAT dinner for dogs, WOOF.\n",
    "\n",
    "Otherwise, your function might something like:\n",
    "\n",
    "> Ad: Dirty mouth? Clean it up with new Orbit Raspberry Mint. For a good clean feeling, no matter what!"
   ]
  },
  {
   "cell_type": "code",
   "execution_count": null,
   "id": "43245955-18e6-4647-a04d-e56636737cba",
   "metadata": {
    "tags": []
   },
   "outputs": [],
   "source": [
    "# SWITCH ROLES!\n",
    "DRIVER = \"\"\n",
    "NAVIGATOR = \"\""
   ]
  },
  {
   "cell_type": "markdown",
   "id": "eaaa6cd3-698c-44a6-9dc5-54e0f38d9527",
   "metadata": {},
   "source": [
    "<br/>\n",
    "<br/>\n",
    "<br/>\n",
    "<br/>\n",
    "\n",
    "---"
   ]
  },
  {
   "cell_type": "code",
   "execution_count": null,
   "id": "767ef1f7",
   "metadata": {
    "nbgrader": {
     "grade": true,
     "grade_id": "cell-b9d8057da5b33393",
     "locked": false,
     "points": 0,
     "schema_version": 3,
     "solution": true,
     "task": false
    },
    "slideshow": {
     "slide_type": "subslide"
    }
   },
   "outputs": [],
   "source": [
    "# Your code here (replace ...)\n",
    "...\n",
    "\n",
    "# Try with different arguments!\n",
    "display_ads(is_dog_owner=True)"
   ]
  },
  {
   "cell_type": "markdown",
   "id": "83428277-0852-4b0e-9876-eff3c24b1c5a",
   "metadata": {},
   "source": [
    "<br/>\n",
    "<br/>\n",
    "<br/>\n",
    "<br/>\n",
    "<br/>\n",
    "<br/>\n",
    "<br/>\n",
    "<br/>\n",
    "<br/>\n",
    "\n",
    "---"
   ]
  },
  {
   "cell_type": "markdown",
   "id": "031dca4d",
   "metadata": {},
   "source": [
    "### Task 3. write the &ldquo;main&rdquo; function\n",
    "\n",
    "Now that we have a way to collect data about the user (function `owns_dog`) and a way to choose which ads to show (function `display_ads`), your last task is to put everything together.\n",
    "\n",
    "Write the &ldquo;main&rdquo; function of you program, which:\n",
    "1. Calls `owns_dog` to collect user self-reported preference data\n",
    "2. Calls `display_ads` to display the most appropriate ads\n",
    "\n",
    "__Question__: does this function need parameters? Does it need to return anything?"
   ]
  },
  {
   "cell_type": "code",
   "execution_count": null,
   "id": "738a10f7-1286-4a12-b5c2-f0c1636a24c8",
   "metadata": {
    "tags": []
   },
   "outputs": [],
   "source": [
    "# SWITCH ROLES!\n",
    "DRIVER = \"\"\n",
    "NAVIGATOR = \"\""
   ]
  },
  {
   "cell_type": "markdown",
   "id": "cadde164-014e-498b-b22d-6a04e2437176",
   "metadata": {},
   "source": [
    "<br/>\n",
    "<br/>\n",
    "<br/>\n",
    "<br/>\n",
    "\n",
    "---"
   ]
  },
  {
   "cell_type": "code",
   "execution_count": null,
   "id": "99758b08-19fe-4c19-8ebe-61025e6a086e",
   "metadata": {
    "nbgrader": {
     "grade": false,
     "grade_id": "cell-84cf3ac8d9adcb1f",
     "locked": true,
     "schema_version": 3,
     "solution": false,
     "task": false
    }
   },
   "outputs": [],
   "source": [
    "# Your code here (replace ...)\n",
    "...\n",
    "\n",
    "main()"
   ]
  },
  {
   "cell_type": "markdown",
   "id": "b6d570fe-027e-4ddb-9c78-172b92ccf12f",
   "metadata": {},
   "source": [
    "<br/>\n",
    "<br/>\n",
    "<br/>\n",
    "<br/>\n",
    "<br/>\n",
    "<br/>\n",
    "<br/>\n",
    "<br/>\n",
    "<br/>\n",
    "\n",
    "---"
   ]
  },
  {
   "cell_type": "markdown",
   "id": "b36fc9fb",
   "metadata": {
    "nbgrader": {
     "grade": false,
     "grade_id": "cell-fb0b16f9b24e9cc8",
     "locked": true,
     "schema_version": 3,
     "solution": false,
     "task": false
    },
    "slideshow": {
     "slide_type": "slide"
    }
   },
   "source": [
    "## Problem 2\n",
    "\n",
    "### Scenario\n",
    "\n",
    "By combining data from a marketing platform with the results from personality tests that users have completed, we know that people with at least 500 Facebook friends are likely to be extroverts, and people with less than 500 friends are likely to be introverts. \n",
    "\n",
    "Based on analysis of user-uploaded photos using computer-vision algorithms, we also know that people who are extroverts are more likely to have many photos of dogs, and introverts are more likely to have many photos of cats. \n",
    "\n",
    "Market research has shown that dog people are highly likely to be positively influenced by advertisements for any product that includes dogs, and similar for cat people and cats."
   ]
  },
  {
   "cell_type": "markdown",
   "id": "a72c686c",
   "metadata": {
    "slideshow": {
     "slide_type": "slide"
    }
   },
   "source": [
    "### The Task\n",
    "\n",
    "Find out how many friends a user has, and write a function that:\n",
    "* if the user has at least (more than or equal to) 500 friends, print ad text that includes a dog. Your text must start with `Ad with Dog: `;\n",
    "* if the user has less than 500 friends, print ad text that includes a cat. Your text must start with `Ad with Cat: `.\n",
    "\n",
    "Write the following functions:\n",
    "* `int_question`: this function should take one parameter, the string question to pose to the user. It should return the user's answer as an int. If the user provides an answer that is not an integer greater than or equal to 0 (__hint__: see function `isdecimal` in the starter code below), this function should print an informative message, then return the number 0. (The user should not be able to make this function throw an error). Make sure to call this function whenever you ask the user a question with an integer response.\n",
    "* `display_ads_personality`: this a function that takes one parameter, the integer number of friends that the user has. If this number is greater than or equal to 500, they will be served an ad for any product that includes a dog as part of the ad; if less than 50, a cat should be part of the ad.\n",
    "* `main2`: this is the function that you call to run the program, it should call the other two."
   ]
  },
  {
   "cell_type": "code",
   "execution_count": null,
   "id": "9962bbef-f8a7-4569-84d0-2c8cc0ccdc29",
   "metadata": {
    "tags": []
   },
   "outputs": [],
   "source": [
    "# SWITCH ROLES!\n",
    "DRIVER = \"\"\n",
    "NAVIGATOR = \"\""
   ]
  },
  {
   "cell_type": "code",
   "execution_count": null,
   "id": "9b830d1e-b281-49e1-82a6-74cb9bac4ace",
   "metadata": {
    "nbgrader": {
     "grade": false,
     "grade_id": "cell-ec126ee4f5487a03",
     "locked": true,
     "schema_version": 3,
     "solution": false,
     "task": false
    }
   },
   "outputs": [],
   "source": [
    "def isdecimal(s):\n",
    "    \"\"\"\n",
    "    Decides whether a string can be converted to int without errors.\n",
    "    \n",
    "    Parameters\n",
    "    ==========\n",
    "    s : string\n",
    "        A string with some characters\n",
    "        \n",
    "    Returns\n",
    "    =======\n",
    "    True if the string can be safely converted to decimal without error, False otherwise \n",
    "    \"\"\"\n",
    "    return str.isdecimal(s)\n",
    "\n",
    "\n",
    "# Your code here (replace ...)\n",
    "def int_question(question):\n",
    "    ...\n",
    "\n",
    "# Your code here (replace ...)\n",
    "def display_ads_personality(num_friends):\n",
    "    ...\n",
    "\n",
    "# Your code here (replace ...)\n",
    "def main2():\n",
    "    ...\n",
    "\n",
    "main2()"
   ]
  },
  {
   "cell_type": "markdown",
   "id": "1f14e3e6-b809-4288-b121-b643d22a0dc9",
   "metadata": {},
   "source": [
    "<br/>\n",
    "<br/>\n",
    "<br/>\n",
    "<br/>\n",
    "<br/>\n",
    "<br/>\n",
    "<br/>\n",
    "<br/>\n",
    "<br/>\n",
    "<br/>\n",
    "<br/>\n",
    "<br/>\n",
    "<br/>\n",
    "<br/>\n",
    "<br/>\n",
    "<br/>\n",
    "<br/>\n",
    "<br/>\n",
    "<br/>\n",
    "<br/>\n",
    "<br/>\n",
    "<br/>\n",
    "<br/>\n",
    "<br/>\n",
    "<br/>\n",
    "<br/>\n",
    "<br/>\n",
    "<br/>\n",
    "<br/>\n",
    "<br/>\n",
    "<br/>\n",
    "<br/>\n",
    "<br/>\n",
    "<br/>\n",
    "<br/>\n",
    "<br/>\n",
    "<br/>\n",
    "<br/>\n",
    "<br/>\n",
    "<br/>\n",
    "<br/>\n",
    "<br/>\n",
    "<br/>\n",
    "<br/>\n",
    "<br/>\n",
    "\n",
    "\n",
    "---"
   ]
  },
  {
   "cell_type": "markdown",
   "id": "29bdb63b-4982-481e-9bb3-2e9b37a8b3e8",
   "metadata": {},
   "source": [
    "# Solutions\n",
    "\n",
    "## Problem 1"
   ]
  },
  {
   "cell_type": "markdown",
   "id": "312edadf-030b-4f23-9ec2-52a7986645df",
   "metadata": {},
   "source": [
    "### Task 1"
   ]
  },
  {
   "cell_type": "code",
   "execution_count": null,
   "id": "a06ca52f-eaf7-473e-acbf-ac9eab86b604",
   "metadata": {
    "nbgrader": {
     "grade": true,
     "grade_id": "cell-b9d8057da5b33393",
     "locked": false,
     "points": 0,
     "schema_version": 3,
     "solution": true,
     "task": false
    },
    "slideshow": {
     "slide_type": "subslide"
    }
   },
   "outputs": [],
   "source": [
    "### BEGIN SOLUTION\n",
    "def display_ads(is_dog_owner):\n",
    "    if is_dog_owner:\n",
    "        print(\"Dog Food Ad: Extraordinary Kibble! the choice food for the best dog parents!\")\n",
    "    else:\n",
    "        print(\"Ad: Dawn dishsoap! Enjoy clean dishes with Dawn.\")\n",
    "### END SOLUTION\n",
    "\n",
    "# Try with different arguments!\n",
    "display_ads(is_dog_owner=True)"
   ]
  },
  {
   "cell_type": "markdown",
   "id": "72beb6be-2d81-411d-a00a-49d2508b8de5",
   "metadata": {},
   "source": [
    "### Task 2"
   ]
  },
  {
   "cell_type": "code",
   "execution_count": null,
   "id": "3aa50762-d27f-49f1-8bf2-a8458f4887b4",
   "metadata": {
    "nbgrader": {
     "grade": true,
     "grade_id": "cell-b9d8057da5b33393",
     "locked": false,
     "points": 0,
     "schema_version": 3,
     "solution": true,
     "task": false
    },
    "slideshow": {
     "slide_type": "subslide"
    }
   },
   "outputs": [],
   "source": [
    "### BEGIN SOLUTION\n",
    "def display_ads(is_dog_owner):\n",
    "    if is_dog_owner:\n",
    "        print(\"Dog Food Ad: Extraordinary Kibble! the choice food for the best dog parents!\")\n",
    "    else:\n",
    "        print(\"Ad: Dawn dishsoap! Enjoy clean dishes with Dawn.\")\n",
    "### END SOLUTION\n",
    "\n",
    "# Try with different arguments!\n",
    "display_ads(is_dog_owner=True)"
   ]
  },
  {
   "cell_type": "markdown",
   "id": "85885403-8124-4030-81c7-11614fd25ba6",
   "metadata": {},
   "source": [
    "### Task 3"
   ]
  },
  {
   "cell_type": "code",
   "execution_count": null,
   "id": "14674b38-bda3-492b-bb3d-980eba0bac39",
   "metadata": {
    "nbgrader": {
     "grade": false,
     "grade_id": "cell-84cf3ac8d9adcb1f",
     "locked": true,
     "schema_version": 3,
     "solution": false,
     "task": false
    }
   },
   "outputs": [],
   "source": [
    "### BEGIN SOLUTION\n",
    "def main():\n",
    "    is_dog_owner = owns_dog()\n",
    "    display_ads(is_dog_owner)\n",
    "### END SOLUTION\n",
    "\n",
    "main()"
   ]
  },
  {
   "cell_type": "markdown",
   "id": "560436d7-350b-4acf-a947-2dd4573555e4",
   "metadata": {},
   "source": [
    "## Problem 2"
   ]
  },
  {
   "cell_type": "code",
   "execution_count": null,
   "id": "21af0658-32f1-4834-9ffe-eae99c6ffba5",
   "metadata": {
    "nbgrader": {
     "grade": false,
     "grade_id": "cell-ec126ee4f5487a03",
     "locked": true,
     "schema_version": 3,
     "solution": false,
     "task": false
    }
   },
   "outputs": [],
   "source": [
    "def isdecimal(s):\n",
    "    \"\"\"\n",
    "    Decides whether a string can be converted to int without errors.\n",
    "    \n",
    "    Parameters\n",
    "    ==========\n",
    "    s : string\n",
    "        A string with some characters\n",
    "        \n",
    "    Returns\n",
    "    =======\n",
    "    True if the string can be safely converted to decimal without error, False otherwise \n",
    "    \"\"\"\n",
    "    return str.isdecimal(s)\n",
    "\n",
    "\n",
    "def int_question(question):\n",
    "    ### BEGIN SOLUTION\n",
    "    user_input = input(question)\n",
    "    if isdecimal(user_input):\n",
    "        return int(user_input)\n",
    "    else:\n",
    "        print(\"Error! This answer is not a valid number: \", user_input)\n",
    "        return 0\n",
    "    ### END SOLUTION\n",
    "\n",
    "def display_ads_personality(num_friends):\n",
    "    ### BEGIN SOLUTION\n",
    "    if num_friends < 500:\n",
    "        print('Ad with Cat: Hello Kitty! Now available on Steam store.')\n",
    "    else:\n",
    "        print('Ad with Dog: Scooby Snax! Now available in Matcha flavor.')    \n",
    "    ### END SOLUTION\n",
    "\n",
    "def main2():\n",
    "    ### BEGIN SOLUTION\n",
    "    num_friends = int_question(\"How many friends do you have? \")\n",
    "    display_ads_personality(num_friends)\n",
    "    ### END SOLUTION\n",
    "\n",
    "main2()"
   ]
  }
 ],
 "metadata": {
  "celltoolbar": "Create Assignment",
  "kernelspec": {
   "display_name": "Python 3 (ipykernel)",
   "language": "python",
   "name": "python3"
  },
  "language_info": {
   "codemirror_mode": {
    "name": "ipython",
    "version": 3
   },
   "file_extension": ".py",
   "mimetype": "text/x-python",
   "name": "python",
   "nbconvert_exporter": "python",
   "pygments_lexer": "ipython3",
   "version": "3.11.7"
  }
 },
 "nbformat": 4,
 "nbformat_minor": 5
}
