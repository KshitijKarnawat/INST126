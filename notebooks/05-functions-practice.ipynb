{
 "cells": [
  {
   "cell_type": "markdown",
   "metadata": {
    "deletable": false,
    "editable": false,
    "id": "FYVv4YjdCjfS",
    "nbgrader": {
     "grade": false,
     "grade_id": "cell-f32b6e2454874d32",
     "locked": true,
     "schema_version": 3,
     "solution": false,
     "task": false
    },
    "tags": []
   },
   "source": [
    "# Functions\n",
    "\n",
    "### The Scenario: computing paychecks\n",
    "\n",
    "Every week the payroll office receives the numbers of hours worked this week from each employer and needs to prepare paychecks, based on the hourly rate of each employee. \n",
    "\n",
    "This week, 5 employees reported the following hours, along with their hourly rate.\n",
    "\n",
    "| hours | rate |\n",
    "|-------|------|\n",
    "|  25   |10.55 |\n",
    "|  10   |11.25 |\n",
    "|  19   |12.50 |\n",
    "|  8    |15.55 |\n",
    "|  15.5 |14.45 |"
   ]
  },
  {
   "cell_type": "markdown",
   "metadata": {},
   "source": [
    "<br/>\n",
    "<br/>\n",
    "<br/>\n",
    "<br/>\n",
    "<br/>\n",
    "<br/>\n",
    "\n",
    "---"
   ]
  },
  {
   "cell_type": "code",
   "execution_count": null,
   "metadata": {},
   "outputs": [],
   "source": [
    "# Write down your roles\n",
    "DRIVER = \"\"\n",
    "NAVIGATOR = \"\""
   ]
  },
  {
   "cell_type": "markdown",
   "metadata": {
    "deletable": false,
    "editable": false,
    "nbgrader": {
     "checksum": "c46238505e4b36b9d16ed1267d46434b",
     "grade": false,
     "grade_id": "cell-3ee976ba87da65c9",
     "locked": true,
     "schema_version": 3,
     "solution": false,
     "task": false
    },
    "tags": []
   },
   "source": [
    "## Pair Activity \\#1: the `paycheck` function\n",
    "\n",
    "<div class=\"alert alert-info\">The solution for this task is at the bottom of the notebook</div>\n",
    "\n",
    "### Instructions\n",
    "In `DEFINITION CELL` define a function named `paycheck` that takes two parameters, `hours`, and `rate` and returns the paycheck (as a float).\n",
    "\n",
    "Then, in the `INVOCATION CELL` call `paycheck` five times, for each of the workers above. Make sure to use `print()` to display the results of each worker. "
   ]
  },
  {
   "cell_type": "code",
   "execution_count": null,
   "metadata": {
    "deletable": false,
    "nbgrader": {
     "checksum": "09a586f614136cc5432ee7838e7eaca3",
     "grade": true,
     "grade_id": "cell-fdfca979e57ad101",
     "locked": false,
     "points": 0,
     "schema_version": 3,
     "solution": true,
     "task": false
    },
    "tags": []
   },
   "outputs": [],
   "source": [
    "# DEFINITION CELL\n",
    "\n",
    "# YOUR CODE HERE"
   ]
  },
  {
   "cell_type": "code",
   "execution_count": null,
   "metadata": {
    "deletable": false,
    "nbgrader": {
     "checksum": "338971bc4b24143b3fce435505fa53ac",
     "grade": true,
     "grade_id": "cell-f1615cacf7381126",
     "locked": false,
     "points": 0,
     "schema_version": 3,
     "solution": true,
     "task": false
    },
    "tags": []
   },
   "outputs": [],
   "source": [
    "# INVOCATION CELL\n",
    "\n",
    "# YOUR CODE HERE"
   ]
  },
  {
   "cell_type": "markdown",
   "metadata": {},
   "source": [
    "<br/>\n",
    "<br/>\n",
    "<br/>\n",
    "<br/>\n",
    "<br/>\n",
    "<br/>\n",
    "\n",
    "---"
   ]
  },
  {
   "cell_type": "code",
   "execution_count": null,
   "metadata": {},
   "outputs": [],
   "source": [
    "# It is a good idea to switch now; write down your roles again. \n",
    "DRIVER = \"\"\n",
    "NAVIGATOR = \"\""
   ]
  },
  {
   "cell_type": "markdown",
   "metadata": {
    "deletable": false,
    "editable": false,
    "nbgrader": {
     "checksum": "a844b62e35010b3436e552bc8f81fe46",
     "grade": false,
     "grade_id": "cell-8c37d5ed34796b28",
     "locked": true,
     "schema_version": 3,
     "solution": false,
     "task": false
    },
    "tags": []
   },
   "source": [
    "## Pair Activity \\#2: fixing the your boss' paycheck function\n",
    "\n",
    "<div class=\"alert alert-info\">The solution for this task is at the bottom of the notebook</div>\n",
    "\n",
    "### Instructions\n",
    "\n",
    "Our boss tried to write his own paycheck function plus some code to display the following message:\n",
    "\n",
    "```\n",
    "The paycheck for John is 300.0\n",
    "```\n",
    "\n",
    "However the code is not working as expected.\n",
    "\n",
    "Run the definition cell and the invocation cell, and see what happens.\n",
    "\n",
    "Then go back to the code and try to fix so that it prints the correct message."
   ]
  },
  {
   "cell_type": "code",
   "execution_count": null,
   "metadata": {
    "executionInfo": {
     "elapsed": 276,
     "status": "ok",
     "timestamp": 1612797092002,
     "user": {
      "displayName": "Joel Chan",
      "photoUrl": "https://lh3.googleusercontent.com/a-/AOh14GiBPPpBf_QqgDL3pMurAsPu9WJJE_x_6UtgW13UFQ=s64",
      "userId": "15153559228409906865"
     },
     "user_tz": 300
    },
    "id": "IeGAjCnyF3dw",
    "tags": []
   },
   "outputs": [],
   "source": [
    "# DEFINITION CELL\n",
    "def paycheckboss(rate, hours):\n",
    "    pay = rate * hours\n",
    "    print(pay)"
   ]
  },
  {
   "cell_type": "markdown",
   "metadata": {
    "deletable": false,
    "editable": false,
    "nbgrader": {
     "checksum": "08d11b3c7c632a270d2cfae934704fc9",
     "grade": false,
     "grade_id": "cell-fa1eb82514efdb11",
     "locked": true,
     "schema_version": 3,
     "solution": false,
     "task": false
    },
    "tags": []
   },
   "source": [
    "<div class=\"alert alert-info\">The cell below <span style=\"font-size: 150%\">👇</span> <b>cannot</b> be edited; edit the cell above instead <span style=\"font-size: 150%\">☝️</span></div>"
   ]
  },
  {
   "cell_type": "code",
   "execution_count": null,
   "metadata": {
    "deletable": false,
    "editable": false,
    "nbgrader": {
     "checksum": "2d8d493d548e35814cbf808f93b9fbfd",
     "grade": false,
     "grade_id": "cell-3b4997cec0328f90",
     "locked": true,
     "schema_version": 3,
     "solution": false,
     "task": false
    },
    "tags": []
   },
   "outputs": [],
   "source": [
    "# INVOCATION CELL\n",
    "paycheck_john = paycheckboss(25.00, 12)\n",
    "print(\"The paycheck for John is\", paycheck_john)"
   ]
  },
  {
   "cell_type": "markdown",
   "metadata": {},
   "source": [
    "<br/>\n",
    "<br/>\n",
    "<br/>\n",
    "<br/>\n",
    "<br/>\n",
    "<br/>\n",
    "\n",
    "---"
   ]
  },
  {
   "cell_type": "markdown",
   "metadata": {
    "deletable": false,
    "editable": false,
    "id": "6tVUEp2OGFS0",
    "nbgrader": {
     "checksum": "1f5b8081f3b4a358f82d69fb4e45276e",
     "grade": false,
     "grade_id": "cell-eb20391250887114",
     "locked": true,
     "points": 0,
     "schema_version": 3,
     "solution": false,
     "task": true
    },
    "tags": []
   },
   "source": [
    "## Pair Activity \\#3: Documenting your functions with docstrings\n",
    "\n",
    "<div class=\"alert alert-info\">The solution for this task is at the bottom of the notebook</div>\n",
    "\n",
    "### Instructions\n",
    "\n",
    "Add a docstring to the `paycheck` function. Your docstring should have three main components:\n",
    "1. A brief description of what the function does\n",
    "2. A description of the key parameters and their data types and roles\n",
    "3. A description of the return value(s) of the function"
   ]
  },
  {
   "cell_type": "code",
   "execution_count": null,
   "metadata": {},
   "outputs": [],
   "source": [
    "# It is a good idea to switch now; write down your roles again.\n",
    "DRIVER = \"\"\n",
    "NAVIGATOR = \"\""
   ]
  },
  {
   "cell_type": "code",
   "execution_count": null,
   "metadata": {
    "id": "obRUwDJZB0y8",
    "tags": []
   },
   "outputs": [],
   "source": [
    "def paycheck(rate, hours):\n",
    "    pay = rate * hours\n",
    "    return pay"
   ]
  },
  {
   "cell_type": "markdown",
   "metadata": {},
   "source": [
    "<br/>\n",
    "<br/>\n",
    "<br/>\n",
    "<br/>\n",
    "<br/>\n",
    "<br/>\n",
    "\n",
    "---"
   ]
  },
  {
   "cell_type": "markdown",
   "metadata": {
    "deletable": false,
    "editable": false,
    "id": "Q1vmmUJTE67i",
    "nbgrader": {
     "checksum": "4da5964a63dc39c1178258e609cfdef0",
     "grade": false,
     "grade_id": "cell-26dc488c16a5c1be",
     "locked": true,
     "schema_version": 3,
     "solution": false,
     "task": false
    },
    "tags": []
   },
   "source": [
    "## Pair Activity \\#4: Fix a NameError\n",
    "\n",
    "\n",
    "### Instructions\n",
    "\n",
    "Our boss (who's still a Python beginner) now wants to print the currency of the paycheck. He wrote some code and asks you to run it to get the paycheck for employee John.\n",
    "\n",
    "Run the three cells below **in the exact order as they are shown (A, B, C)**, and notice what happens. \n",
    "\n",
    "Then, **restart** the Kernel (_Kernel_ &rarr; _Restart_), and re-run the cells in the correct order of execution.\n",
    "\n",
    "Then, answer the questions below.\n",
    "\n",
    "<div class=\"alert alert-warning\">The three code cells below 👇 cannot be edited.</div>"
   ]
  },
  {
   "cell_type": "code",
   "execution_count": null,
   "metadata": {},
   "outputs": [],
   "source": [
    "# It is a good idea to switch now; write down your roles again.\n",
    "DRIVER = \"\"\n",
    "NAVIGATOR = \"\""
   ]
  },
  {
   "cell_type": "code",
   "execution_count": null,
   "metadata": {
    "colab": {
     "base_uri": "https://localhost:8080/",
     "height": 168
    },
    "deletable": false,
    "editable": false,
    "executionInfo": {
     "elapsed": 589,
     "status": "error",
     "timestamp": 1612796754279,
     "user": {
      "displayName": "Joel Chan",
      "photoUrl": "https://lh3.googleusercontent.com/a-/AOh14GiBPPpBf_QqgDL3pMurAsPu9WJJE_x_6UtgW13UFQ=s64",
      "userId": "15153559228409906865"
     },
     "user_tz": 300
    },
    "id": "0_yPVfFOUQka",
    "nbgrader": {
     "checksum": "bcf9b0af4972023d81afedcc22c441dc",
     "grade": false,
     "grade_id": "cell-8636108550a59bee",
     "locked": true,
     "schema_version": 3,
     "solution": false,
     "task": false
    },
    "outputId": "df90e017-4707-4167-faa6-9f18d873ff33",
    "tags": []
   },
   "outputs": [],
   "source": [
    "# A\n",
    "print(\"The paycheck for John is\", pay_john)"
   ]
  },
  {
   "cell_type": "code",
   "execution_count": null,
   "metadata": {
    "colab": {
     "base_uri": "https://localhost:8080/"
    },
    "deletable": false,
    "editable": false,
    "executionInfo": {
     "elapsed": 558,
     "status": "ok",
     "timestamp": 1612796855373,
     "user": {
      "displayName": "Joel Chan",
      "photoUrl": "https://lh3.googleusercontent.com/a-/AOh14GiBPPpBf_QqgDL3pMurAsPu9WJJE_x_6UtgW13UFQ=s64",
      "userId": "15153559228409906865"
     },
     "user_tz": 300
    },
    "id": "CD7bmreLLY5l",
    "nbgrader": {
     "checksum": "d00eda3a18b9d860e449320c0b72599b",
     "grade": false,
     "grade_id": "cell-ca38f66c5991f57f",
     "locked": true,
     "schema_version": 3,
     "solution": false,
     "task": false
    },
    "outputId": "0b4534b9-863a-4ddd-d7ae-921b3ebf8642",
    "tags": []
   },
   "outputs": [],
   "source": [
    "# B\n",
    "pay_john = paycheckUSD(25.00, 12)"
   ]
  },
  {
   "cell_type": "code",
   "execution_count": null,
   "metadata": {
    "deletable": false,
    "editable": false,
    "executionInfo": {
     "elapsed": 292,
     "status": "ok",
     "timestamp": 1612796852635,
     "user": {
      "displayName": "Joel Chan",
      "photoUrl": "https://lh3.googleusercontent.com/a-/AOh14GiBPPpBf_QqgDL3pMurAsPu9WJJE_x_6UtgW13UFQ=s64",
      "userId": "15153559228409906865"
     },
     "user_tz": 300
    },
    "id": "RlTQSduSUMIB",
    "nbgrader": {
     "checksum": "6a0f9f21098cf2f860f73b394c6e109c",
     "grade": false,
     "grade_id": "cell-41e87a7b5222be33",
     "locked": true,
     "schema_version": 3,
     "solution": false,
     "task": false
    },
    "tags": []
   },
   "outputs": [],
   "source": [
    "# C\n",
    "def paycheckUSD(rate, hours):\n",
    "    pay = hours * rate\n",
    "    return \"$\" + str(pay)"
   ]
  },
  {
   "cell_type": "markdown",
   "metadata": {
    "deletable": false,
    "editable": false,
    "nbgrader": {
     "checksum": "080146f545da85fd51e59310c2a28881",
     "grade": false,
     "grade_id": "cell-41284f6cdaeceba2",
     "locked": true,
     "schema_version": 3,
     "solution": false,
     "task": false
    },
    "tags": []
   },
   "source": [
    "### Question 1\n",
    "Did the code work the first time you ran it, or was there an error?"
   ]
  },
  {
   "cell_type": "markdown",
   "metadata": {
    "deletable": false,
    "nbgrader": {
     "checksum": "fd533fbbfdad1d97e21c459ca52d7256",
     "grade": true,
     "grade_id": "cell-65b4b594b4fe04e5",
     "locked": false,
     "points": 0,
     "schema_version": 3,
     "solution": true,
     "task": false
    },
    "tags": []
   },
   "source": [
    "_ENTER YOUR ANSWER HERE_"
   ]
  },
  {
   "cell_type": "markdown",
   "metadata": {
    "deletable": false,
    "editable": false,
    "nbgrader": {
     "checksum": "e20d9c5a2e4ac8c7c9b7157f58602f40",
     "grade": false,
     "grade_id": "cell-b500d95d3f1e9259",
     "locked": true,
     "schema_version": 3,
     "solution": false,
     "task": false
    },
    "tags": []
   },
   "source": [
    "### Question 2\n",
    "\n",
    "What is the correct order of execution?"
   ]
  },
  {
   "cell_type": "markdown",
   "metadata": {
    "deletable": false,
    "nbgrader": {
     "checksum": "48719a54e7d97238ee72d77617118f12",
     "grade": true,
     "grade_id": "cell-7a847122dcf51b09",
     "locked": false,
     "points": 0,
     "schema_version": 3,
     "solution": true,
     "task": false
    },
    "tags": []
   },
   "source": [
    "_ENTER YOUR ANSWER HERE_"
   ]
  },
  {
   "cell_type": "markdown",
   "metadata": {
    "nbgrader": {
     "grade": false,
     "grade_id": "cell-8c744f78c97f0b92",
     "locked": true,
     "schema_version": 3,
     "solution": false,
     "task": false
    },
    "tags": []
   },
   "source": [
    "<br/>\n",
    "<br/>\n",
    "<br/>\n",
    "<br/>\n",
    "<br/>\n",
    "<br/>\n",
    "<br/>\n",
    "<br/>\n",
    "<br/>\n",
    "<br/>\n",
    "<br/>\n",
    "<br/>\n",
    "<br/>\n",
    "<br/>\n",
    "<br/>\n",
    "<br/>\n",
    "<br/>\n",
    "<br/>\n",
    "<br/>\n",
    "<br/>\n",
    "<br/>\n",
    "<br/>\n",
    "<br/>\n",
    "<br/>\n",
    "<br/>\n",
    "<br/>\n",
    "\n",
    "---\n",
    "\n",
    "# Solutions\n",
    "\n",
    "Scroll down for the solutions for Activities #1, #2, and #3.\n",
    "\n",
    "<br/>\n",
    "<br/>\n",
    "<br/>\n",
    "<br/>\n",
    "<br/>\n",
    "<br/>\n",
    "<br/>\n",
    "<br/>\n",
    "<br/>\n",
    "<br/>\n",
    "<br/>\n",
    "<br/>\n",
    "<br/>\n",
    "<br/>\n",
    "<br/>\n",
    "<br/>\n",
    "<br/>\n",
    "<br/>\n",
    "<br/>\n",
    "<br/>\n",
    "<br/>\n",
    "<br/>\n",
    "<br/>\n",
    "<br/>\n",
    "<br/>\n",
    "<br/>\n",
    "\n",
    "## Solution for Pair Activity #1"
   ]
  },
  {
   "cell_type": "code",
   "execution_count": null,
   "metadata": {
    "editable": false,
    "executionInfo": {
     "elapsed": 276,
     "status": "ok",
     "timestamp": 1612797092002,
     "user": {
      "displayName": "Joel Chan",
      "photoUrl": "https://lh3.googleusercontent.com/a-/AOh14GiBPPpBf_QqgDL3pMurAsPu9WJJE_x_6UtgW13UFQ=s64",
      "userId": "15153559228409906865"
     },
     "user_tz": 300
    },
    "id": "IeGAjCnyF3dw",
    "nbgrader": {
     "grade": false,
     "grade_id": "cell-b43c976e8ba4718d",
     "locked": true,
     "schema_version": 3,
     "solution": false,
     "task": false
    },
    "tags": []
   },
   "outputs": [],
   "source": [
    "# DEFINITION CELL\n",
    "def paycheck(rate, hours):\n",
    "    pay = rate * hours\n",
    "    return pay  "
   ]
  },
  {
   "cell_type": "code",
   "execution_count": null,
   "metadata": {
    "editable": false,
    "nbgrader": {
     "grade": false,
     "grade_id": "cell-f844b7f4a7c3d1f3",
     "locked": true,
     "schema_version": 3,
     "solution": false,
     "task": false
    },
    "tags": []
   },
   "outputs": [],
   "source": [
    "# INVOCATION CELL\n",
    "print(paycheck(25, 10.55))\n",
    "print(paycheck(10, 11.25))\n",
    "print(paycheck(19, 12.50))\n",
    "print(paycheck(8, 15.55))\n",
    "print(paycheck(15.5, 14.45))"
   ]
  },
  {
   "cell_type": "markdown",
   "metadata": {
    "deletable": false,
    "nbgrader": {
     "checksum": "204112a41a65d803baebb708fdb67bd0",
     "grade": false,
     "grade_id": "cell-df055474903e7d8b",
     "locked": true,
     "schema_version": 3,
     "solution": false,
     "task": false
    },
    "tags": []
   },
   "source": [
    "<br/>\n",
    "<br/>\n",
    "<br/>\n",
    "<br/>\n",
    "<br/>\n",
    "<br/>\n",
    "<br/>\n",
    "<br/>\n",
    "<br/>\n",
    "<br/>\n",
    "<br/>\n",
    "<br/>\n",
    "<br/>\n",
    "<br/>\n",
    "<br/>\n",
    "<br/>\n",
    "<br/>\n",
    "<br/>\n",
    "<br/>\n",
    "<br/>\n",
    "<br/>\n",
    "<br/>\n",
    "<br/>\n",
    "<br/>\n",
    "<br/>\n",
    "<br/>\n",
    "\n",
    "## Solution for Pair Activity #2\n",
    "\n",
    "The solution is to replace the last line with `print(pay)` and use a return statement instead. For a function to be fruitful, it must include a return statement to designate the final value to return. This is different from using the `print()` function. Even though the notebook display a number, that value is not propagated back when we invoke the function."
   ]
  },
  {
   "cell_type": "code",
   "execution_count": null,
   "metadata": {
    "deletable": false,
    "editable": false,
    "executionInfo": {
     "elapsed": 276,
     "status": "ok",
     "timestamp": 1612797092002,
     "user": {
      "displayName": "Joel Chan",
      "photoUrl": "https://lh3.googleusercontent.com/a-/AOh14GiBPPpBf_QqgDL3pMurAsPu9WJJE_x_6UtgW13UFQ=s64",
      "userId": "15153559228409906865"
     },
     "user_tz": 300
    },
    "id": "IeGAjCnyF3dw",
    "nbgrader": {
     "checksum": "2aa31852aadda19c3834028d0aedc042",
     "grade": false,
     "grade_id": "cell-cd98e8359a2e4e64",
     "locked": true,
     "schema_version": 3,
     "solution": false,
     "task": false
    },
    "tags": []
   },
   "outputs": [],
   "source": [
    "# DEFINITION CELL\n",
    "def paycheckboss(rate, hours):\n",
    "    pay = rate * hours\n",
    "    return pay  # <---- CHANGED"
   ]
  },
  {
   "cell_type": "code",
   "execution_count": null,
   "metadata": {
    "deletable": false,
    "editable": false,
    "nbgrader": {
     "checksum": "d900b433361a62b8fc123fd0382766e8",
     "grade": false,
     "grade_id": "cell-766b3b7032ef9743",
     "locked": true,
     "schema_version": 3,
     "solution": false,
     "task": false
    },
    "tags": []
   },
   "outputs": [],
   "source": [
    "# INVOCATION CELL\n",
    "paycheck_john = paycheckboss(25.00, 12)\n",
    "print(\"The paycheck for John is\", paycheck_john)"
   ]
  },
  {
   "cell_type": "markdown",
   "metadata": {
    "deletable": false,
    "editable": false,
    "nbgrader": {
     "checksum": "e3853a433b6018507610b1c7a478b0e3",
     "grade": false,
     "grade_id": "cell-5b1ce7ed928cf3ce",
     "locked": true,
     "schema_version": 3,
     "solution": false,
     "task": false
    },
    "tags": []
   },
   "source": [
    "<br/>\n",
    "<br/>\n",
    "<br/>\n",
    "<br/>\n",
    "<br/>\n",
    "<br/>\n",
    "<br/>\n",
    "<br/>\n",
    "<br/>\n",
    "<br/>\n",
    "<br/>\n",
    "<br/>\n",
    "<br/>\n",
    "<br/>\n",
    "<br/>\n",
    "<br/>\n",
    "<br/>\n",
    "<br/>\n",
    "<br/>\n",
    "<br/>\n",
    "<br/>\n",
    "<br/>\n",
    "<br/>\n",
    "<br/>\n",
    "<br/>\n",
    "<br/>\n",
    "\n",
    "## Solution for Pair Activity #3"
   ]
  },
  {
   "cell_type": "code",
   "execution_count": null,
   "metadata": {
    "deletable": false,
    "editable": false,
    "id": "obRUwDJZB0y8",
    "nbgrader": {
     "checksum": "cb042a238a42f3aff4ca1b004861b8ae",
     "grade": false,
     "grade_id": "cell-b94520242e4e96df",
     "locked": true,
     "schema_version": 3,
     "solution": false,
     "task": false
    },
    "tags": []
   },
   "outputs": [],
   "source": [
    "def paycheck(rate, hours):\n",
    "    \"\"\"\n",
    "    Paycheck calculator\n",
    "    \n",
    "    Parameters\n",
    "    ==========\n",
    "    rate : float\n",
    "        The hourly rate of the worker\n",
    "        \n",
    "    hours : int\n",
    "        The number of hours worked this week\n",
    "        \n",
    "    Returns\n",
    "    =======\n",
    "    pay : float\n",
    "        This week's paycheck\n",
    "    \"\"\"\n",
    "    pay = rate * hours\n",
    "    return pay"
   ]
  }
 ],
 "metadata": {
  "colab": {
   "name": "INST126_SP21_Week3_Functions.ipynb",
   "provenance": []
  },
  "kernelspec": {
   "display_name": "Python 3 (ipykernel)",
   "language": "python",
   "name": "python3"
  },
  "language_info": {
   "codemirror_mode": {
    "name": "ipython",
    "version": 3
   },
   "file_extension": ".py",
   "mimetype": "text/x-python",
   "name": "python",
   "nbconvert_exporter": "python",
   "pygments_lexer": "ipython3",
   "version": "3.11.7"
  },
  "toc": {
   "base_numbering": 1,
   "nav_menu": {},
   "number_sections": false,
   "sideBar": true,
   "skip_h1_title": false,
   "title_cell": "Table of Contents",
   "title_sidebar": "Contents",
   "toc_cell": false,
   "toc_position": {},
   "toc_section_display": true,
   "toc_window_display": false
  }
 },
 "nbformat": 4,
 "nbformat_minor": 4
}
