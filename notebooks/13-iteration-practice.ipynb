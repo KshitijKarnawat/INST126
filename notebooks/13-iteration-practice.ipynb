{
 "cells": [
  {
   "cell_type": "markdown",
   "id": "0fdabb1e-406a-4301-b455-e2234bf6e271",
   "metadata": {
    "nbgrader": {
     "grade": false,
     "grade_id": "cell-1f15191b08e7d4de",
     "locked": true,
     "schema_version": 3,
     "solution": false,
     "task": false
    }
   },
   "source": [
    "# Scenario: Employee paychecks (Iterations)\n",
    "\n",
    "<div class=\"alert alert-info\">The solutions for all coding tasks is at the bottom of the notebook</div>\n",
    "\n",
    "We want to keep track of all employee paychecks. Our &ldquo;database&rdquo; is going to be made of Python lists.\n",
    "\n",
    "Like in the previous practice session, our &ldquo;database&rdquo; is going to be made of three Python lists:\n",
    "\n",
    "1. `emp_rates` &ndash; storing numbers of type `float` representing hourly rate (in dollars) of all employees;\n",
    "2. `emp_hours` &ndash; storing numbers of type `int` the hours workeds this week;\n",
    "3. `emp_checks` &ndash; storing numbers of type `float` with the computed paychecks.\n",
    "\n",
    "Your task today is to write functions that will manipulate these three lists. Unlike last week, where the code allowed only to process a fixed number of employees, today your program should give the user the ability to specify _any arbitrary number of employees_."
   ]
  },
  {
   "cell_type": "markdown",
   "id": "072622bc-fa29-4361-bf45-9d749475a01d",
   "metadata": {},
   "source": [
    "<br/>\n",
    "<br/>\n",
    "<br/>\n",
    "<br/>\n",
    "<br/>\n",
    "<br/>\n",
    "<br/>\n",
    "<br/>\n",
    "\n",
    "---"
   ]
  },
  {
   "cell_type": "markdown",
   "id": "515469ed-56b2-48f6-aebb-035ade76ff31",
   "metadata": {},
   "source": [
    "<div class=\"alert alert-info\">Enter your roles</div>"
   ]
  },
  {
   "cell_type": "code",
   "execution_count": null,
   "id": "b6173a52-ee19-452b-a066-315e83743dce",
   "metadata": {
    "tags": []
   },
   "outputs": [],
   "source": [
    "DRIVER = \"\"\n",
    "NAVIGATOR = \"\""
   ]
  },
  {
   "cell_type": "markdown",
   "id": "65fbe2e6-9353-45a1-b26b-8c43018715ad",
   "metadata": {
    "tags": []
   },
   "source": [
    "## Task 1: Use definite loops to let user enter data\n",
    "\n",
    "Write **two** functions:\n",
    "\n",
    "- `ask_employees_num` takes no parameter, prompts the user to enter number of employees (as an int) and returns it.\n",
    "\n",
    "- `add_all_employees` takes empty lists initially, calls `ask_employees_num` to get the number of employees from the user, and then in a **definite** loop (`for` statement) calls repeatedly the `add_employee` (this function is provided). \n",
    "  Once all employees have been added, it prints back to the user both lists."
   ]
  },
  {
   "cell_type": "code",
   "execution_count": null,
   "id": "5316e152-fcf9-4a49-9d1c-b3c23baf693d",
   "metadata": {
    "tags": []
   },
   "outputs": [],
   "source": [
    "def add_employee(rates_list, hours_list):\n",
    "    rate = float(input(\"Enter employee hourly rate: \"))\n",
    "    hours = int(input(\"Enter employee hours worked: \"))\n",
    "    rates_list.append(rate)\n",
    "    hours_list.append(hours)\n",
    "    print()\n",
    "    \n",
    "\n",
    "def ask_employees_num():\n",
    "    ...\n",
    "\n",
    "\n",
    "def add_all_employees(num, rates_list, hours_list):\n",
    "    ...\n",
    "    \n",
    "    \n",
    "# Initializes the two lists\n",
    "emp_rates = []\n",
    "emp_hours = []\n",
    "\n",
    "emp_num = ask_employees_num()\n",
    "add_all_employees(num=emp_num,\n",
    "                  rates_list=emp_rates, \n",
    "                  hours_list=emp_hours) "
   ]
  },
  {
   "cell_type": "markdown",
   "id": "b7ee59e0-39d6-454a-8abf-1f0d751a22f1",
   "metadata": {},
   "source": [
    "<br/>\n",
    "<br/>\n",
    "<br/>\n",
    "<br/>\n",
    "<br/>\n",
    "<br/>\n",
    "<br/>\n",
    "<br/>\n",
    "\n",
    "---"
   ]
  },
  {
   "cell_type": "markdown",
   "id": "184dc2b4-5588-4584-87a4-e21efee58b56",
   "metadata": {},
   "source": [
    "<div class=\"alert alert-info\">Switch roles now!</div>"
   ]
  },
  {
   "cell_type": "code",
   "execution_count": null,
   "id": "2fdefad5-1d27-493e-925e-31f2481d3822",
   "metadata": {
    "tags": []
   },
   "outputs": [],
   "source": [
    "DRIVER = \"\"\n",
    "NAVIGATOR = \"\""
   ]
  },
  {
   "cell_type": "markdown",
   "id": "cd340689",
   "metadata": {
    "nbgrader": {
     "grade": false,
     "grade_id": "cell-75fbcbec608d98c0",
     "locked": true,
     "schema_version": 3,
     "solution": false,
     "task": false
    }
   },
   "source": [
    "## Task 2: Compute paycheck for all employees\n",
    "\n",
    "Write a function called `calcpaychecks` that takes three parameters: a list of hours (`hours_list`), a list of rates (`rates_list`), and a list of computed paychecks (`checks_list`).\n",
    "\n",
    "Using another **definite** loop (`for` statement), go through each employee, retrieve their hours and rate from the respective list, call the `paycheck` function to compute the paycheck (this function is provided), and _append_ it to the list of paychecks.\n",
    "\n",
    "Finally, **print** the list of paychecks back to the user.\n",
    "\n",
    "\n",
    "### Note\n",
    "In the cell below, your function will be called with two lists as the first two arguments that have been pre-populated with hours/rate data for three employees; the third argument will be a list of paychecks that has been initialized to an empty list."
   ]
  },
  {
   "cell_type": "code",
   "execution_count": null,
   "id": "da7a9150-632c-4589-a349-e200ec2e2887",
   "metadata": {
    "nbgrader": {
     "grade": true,
     "grade_id": "cell-092c5bb890ce4c1c",
     "locked": false,
     "points": 0,
     "schema_version": 3,
     "solution": true,
     "task": false
    }
   },
   "outputs": [],
   "source": [
    "def paycheck(hours, rate):\n",
    "    pay = hours * rate\n",
    "    return pay\n",
    "\n",
    "# Your code here\n",
    "...\n",
    "\n",
    "# Pre-populated lists of employee rate/hours\n",
    "emp_rates = [10, 20, 30]\n",
    "emp_hours = [15, 18, 20]\n",
    "\n",
    "# Initialize list of paychecks to empty list and call the function\n",
    "emp_checks = []\n",
    "calcpaychecks(hours_list=emp_hours, \n",
    "              rates_list=emp_rates, \n",
    "              checks_list=emp_checks)"
   ]
  },
  {
   "cell_type": "markdown",
   "id": "499ed2a3-0b50-4c5b-b894-b3308ee9df49",
   "metadata": {},
   "source": [
    "<br/>\n",
    "<br/>\n",
    "<br/>\n",
    "<br/>\n",
    "<br/>\n",
    "<br/>\n",
    "<br/>\n",
    "<br/>\n",
    "\n",
    "---"
   ]
  },
  {
   "cell_type": "markdown",
   "id": "f756bc73-c10d-418e-ad2f-eb340bd31325",
   "metadata": {},
   "source": [
    "<div class=\"alert alert-info\">Switch roles now!</div>"
   ]
  },
  {
   "cell_type": "code",
   "execution_count": null,
   "id": "329af82f-aced-4da2-a907-d969f3865b33",
   "metadata": {
    "tags": []
   },
   "outputs": [],
   "source": [
    "DRIVER = \"\"\n",
    "NAVIGATOR = \"\""
   ]
  },
  {
   "cell_type": "markdown",
   "id": "9d2047a4",
   "metadata": {
    "nbgrader": {
     "grade": false,
     "grade_id": "cell-8e31a60b4a4efcd5",
     "locked": true,
     "schema_version": 3,
     "solution": false,
     "task": false
    }
   },
   "source": [
    "## Task 3: Putting it all together!\n",
    "\n",
    "Write a function called `main` that does the following:\n",
    "1. Should print a welcome message to the payroll specialist;\n",
    "2. Initialize the lists of hours, rates, and paychecks to empty lists;\n",
    "3. Call `add_all_employees` to enter rate/hours data for all employees;\n",
    "4. Call `calcpaychecks` to compute their paychecks and display them;\n",
    "5. Finally, it should print a goodbye message.\n",
    "\n",
    "Your function should not take any argument; as long as you print the final list of paychecks back to the user, then the function does not need to return anything."
   ]
  },
  {
   "cell_type": "code",
   "execution_count": null,
   "id": "bbcd2118-9b12-4283-b500-6bfacaa6876e",
   "metadata": {
    "nbgrader": {
     "grade": false,
     "grade_id": "cell-8703ac7935a330cb",
     "locked": true,
     "schema_version": 3,
     "solution": false,
     "task": false
    },
    "tags": []
   },
   "outputs": [],
   "source": [
    "# Your code here\n",
    "...\n",
    "    \n",
    "main()"
   ]
  },
  {
   "cell_type": "markdown",
   "id": "f2a0c75f-1af0-4611-b95a-147870135abc",
   "metadata": {},
   "source": [
    "<br/>\n",
    "<br/>\n",
    "<br/>\n",
    "<br/>\n",
    "<br/>\n",
    "<br/>\n",
    "<br/>\n",
    "<br/>\n",
    "\n",
    "---"
   ]
  },
  {
   "cell_type": "markdown",
   "id": "3cdf1a07-c8c5-44ce-a12f-ef56bd0d6fde",
   "metadata": {},
   "source": [
    "<div class=\"alert alert-info\">Switch roles now!</div>"
   ]
  },
  {
   "cell_type": "code",
   "execution_count": null,
   "id": "a500a062-1a56-4c36-a42a-1373cda4f703",
   "metadata": {
    "tags": []
   },
   "outputs": [],
   "source": [
    "DRIVER = \"\"\n",
    "NAVIGATOR = \"\""
   ]
  },
  {
   "cell_type": "markdown",
   "id": "6a75e4c0-13f2-4513-8bb1-44e51e2419f4",
   "metadata": {},
   "source": [
    "## Task 4: Making the program more interactive\n",
    "\n",
    "Using an **indefinite** loop (`while` statement), now write a new main function (called `main2`) that modifies the behavior of the program so that the user can compute _multiple sets of paychecks_ until they decide to exit:\n",
    "* Modify the prompt so that the user can enter either the number of employees (as an int) or a the command to **quit** (as a string);\n",
    "* For each new set of paychecks, the program should prompt again the user for the number of employees and their data, and compute the paychecks again.\n",
    "* When the user decides to quit, the program should then print the goodbye message and terminate.\n",
    "\n",
    "### Hint\n",
    "\n",
    "For this task, you may not need to reuse all the functions used in the original `main` function. Also, depending on how you set up your `while` statement, you may find it helpful to use a `break` statement. "
   ]
  },
  {
   "cell_type": "code",
   "execution_count": null,
   "id": "0ac2f33c-1490-4383-90e6-76abaa6694cb",
   "metadata": {
    "nbgrader": {
     "grade": false,
     "grade_id": "cell-8703ac7935a330cb",
     "locked": true,
     "schema_version": 3,
     "solution": false,
     "task": false
    },
    "tags": []
   },
   "outputs": [],
   "source": [
    "# Your code here\n",
    "...\n",
    "    \n",
    "main2()"
   ]
  },
  {
   "cell_type": "markdown",
   "id": "445debd8-e0c3-437c-96e9-3dc5304da052",
   "metadata": {},
   "source": [
    "<br/>\n",
    "<br/>\n",
    "<br/>\n",
    "<br/>\n",
    "<br/>\n",
    "<br/>\n",
    "<br/>\n",
    "<br/>\n",
    "<br/>\n",
    "<br/>\n",
    "<br/>\n",
    "<br/>\n",
    "<br/>\n",
    "<br/>\n",
    "<br/>\n",
    "<br/>\n",
    "<br/>\n",
    "<br/>\n",
    "<br/>\n",
    "<br/>\n",
    "<br/>\n",
    "<br/>\n",
    "<br/>\n",
    "<br/>\n",
    "<br/>\n",
    "<br/>\n",
    "<br/>\n",
    "<br/>\n",
    "<br/>\n",
    "<br/>\n",
    "<br/>\n",
    "<br/>\n",
    "<br/>\n",
    "<br/>\n",
    "<br/>\n",
    "<br/>\n",
    "<br/>\n",
    "<br/>\n",
    "<br/>\n",
    "<br/>\n",
    "<br/>\n",
    "<br/>\n",
    "<br/>\n",
    "<br/>\n",
    "<br/>\n",
    "\n",
    "\n",
    "---"
   ]
  },
  {
   "cell_type": "markdown",
   "id": "fc72e898-f427-4160-8902-0ff150731d8f",
   "metadata": {},
   "source": [
    "# Solutions\n",
    "\n",
    "\n",
    "## Task 1"
   ]
  },
  {
   "cell_type": "code",
   "execution_count": null,
   "id": "3c2b5b87-ab22-4776-94ae-8992706fb3e7",
   "metadata": {
    "tags": []
   },
   "outputs": [],
   "source": [
    "def add_employee(rates_list, hours_list):\n",
    "    rate = float(input(\"Enter employee hourly rate: \"))\n",
    "    hours = int(input(\"Enter employee hours worked: \"))\n",
    "    rates_list.append(rate)\n",
    "    hours_list.append(hours)\n",
    "    print()\n",
    "    \n",
    "\n",
    "def ask_employees_num():\n",
    "    ### BEGIN SOLUTION\n",
    "    return int(input(\"Enter number of employees: \"))\n",
    "    ### BEGIN SOLUTION\n",
    "\n",
    "\n",
    "def add_all_employees(num, rates_list, hours_list):\n",
    "    ### BEGIN SOLUTION\n",
    "    for i in range(num):\n",
    "        print(\"Employee\", i + 1)\n",
    "        add_employee(rates_list, hours_list)\n",
    "    print(\"Added all employees!\")\n",
    "    print(\"Rates:\", rates_list)\n",
    "    print(\"Hours:\", hours_list)\n",
    "    ### END SOLUTION\n",
    "\n",
    "# Initializes the two lists\n",
    "emp_rates = []\n",
    "emp_hours = []\n",
    "\n",
    "emp_num = ask_employees_num()\n",
    "add_all_employees(num=emp_num,\n",
    "                  rates_list=emp_rates, \n",
    "                  hours_list=emp_hours) "
   ]
  },
  {
   "cell_type": "markdown",
   "id": "b48c3475-2c66-4086-83fc-fb5c3f2a3e98",
   "metadata": {},
   "source": [
    "## Task 2"
   ]
  },
  {
   "cell_type": "code",
   "execution_count": null,
   "id": "7a713e31-701d-494e-be2b-ee334efe7236",
   "metadata": {
    "nbgrader": {
     "grade": true,
     "grade_id": "cell-092c5bb890ce4c1c",
     "locked": false,
     "points": 0,
     "schema_version": 3,
     "solution": true,
     "task": false
    }
   },
   "outputs": [],
   "source": [
    "def paycheck(hours, rate):\n",
    "    pay = hours * rate\n",
    "    return pay\n",
    "\n",
    "### BEGIN SOLUTION\n",
    "def calcpaychecks(hours_list, rates_list, checks_list):\n",
    "    for empID in range(len(hours_list)):\n",
    "        hours = hours_list[empID]\n",
    "        rate = rates_list[empID]\n",
    "        pay = paycheck(hours, rate)\n",
    "        checks_list.append(pay)\n",
    "    print(\"Paychecks:\", checks_list)\n",
    "### END SOLUTION\n",
    "\n",
    "# Pre-populated lists of employee rate/hours\n",
    "emp_rates = [10, 20, 30]\n",
    "emp_hours = [15, 18, 20]\n",
    "\n",
    "# Initialize list of paychecks to empty list and call the function\n",
    "emp_checks = []\n",
    "calcpaychecks(hours_list=emp_hours, \n",
    "              rates_list=emp_rates, \n",
    "              checks_list=emp_checks)"
   ]
  },
  {
   "cell_type": "markdown",
   "id": "87da1d53-193b-4d7e-b466-6fd47a4403ef",
   "metadata": {},
   "source": [
    "## Task 3"
   ]
  },
  {
   "cell_type": "code",
   "execution_count": null,
   "id": "03e095f5-15fb-4dcf-a98f-682f169bed36",
   "metadata": {
    "nbgrader": {
     "grade": false,
     "grade_id": "cell-8703ac7935a330cb",
     "locked": true,
     "schema_version": 3,
     "solution": false,
     "task": false
    },
    "tags": []
   },
   "outputs": [],
   "source": [
    "## BEGIN SOLUTION\n",
    "def main():\n",
    "    # Welcome message\n",
    "    print(\"============================\")\n",
    "    print(\"Welcome, payroll specialist!\")\n",
    "    print(\"============================\")\n",
    "    \n",
    "    # Initializes the two lists\n",
    "    emp_rates = []\n",
    "    emp_hours = []\n",
    "    emp_checks = []\n",
    "    \n",
    "    # Prompt the user with number of employees\n",
    "    emp_num = ask_employees_num()\n",
    "    \n",
    "    # Prompt user to enter data of employees\n",
    "    add_all_employees(num=emp_num,\n",
    "                      rates_list=emp_rates, \n",
    "                      hours_list=emp_hours)\n",
    "    \n",
    "    # Compute their paychecks\n",
    "    calcpaychecks(hours_list=emp_hours, \n",
    "                  rates_list=emp_rates, \n",
    "                  checks_list=emp_checks)\n",
    "    \n",
    "    # Goodbye message\n",
    "    print(\"========\")\n",
    "    print(\"Goodbye!\")\n",
    "    print(\"========\")\n",
    "### END SOLUTION\n",
    "    \n",
    "main()"
   ]
  },
  {
   "cell_type": "markdown",
   "id": "70e65fd5-b5a1-4a06-9c47-137551238ac5",
   "metadata": {},
   "source": [
    "## Task 4"
   ]
  },
  {
   "cell_type": "code",
   "execution_count": null,
   "id": "b7fc6469-8e42-4160-ad04-6db162bb4b51",
   "metadata": {
    "nbgrader": {
     "grade": false,
     "grade_id": "cell-8703ac7935a330cb",
     "locked": true,
     "schema_version": 3,
     "solution": false,
     "task": false
    },
    "tags": []
   },
   "outputs": [],
   "source": [
    "## BEGIN SOLUTION\n",
    "def main2():\n",
    "    # Welcome message\n",
    "    print(\"============================\")\n",
    "    print(\"Welcome, payroll specialist!\")\n",
    "    print(\"============================\")\n",
    "    \n",
    "    # Prompt the user with number of employees\n",
    "    while True:\n",
    "        print(\"-----------------------------------\")\n",
    "        line = input(\"Enter number of employees (or 'quit'): \")\n",
    "        print(\"-----------------------------------\")\n",
    "        \n",
    "        if line == \"quit\":\n",
    "            break\n",
    "        \n",
    "        # convert line to an int\n",
    "        emp_num = int(line)\n",
    "        \n",
    "        # Initializes the two lists\n",
    "        emp_rates = []\n",
    "        emp_hours = []\n",
    "        emp_checks = []\n",
    "\n",
    "        \n",
    "        # Prompt user to enter data of employees\n",
    "        add_all_employees(num=emp_num,\n",
    "                          rates_list=emp_rates, \n",
    "                          hours_list=emp_hours)\n",
    "    \n",
    "        # Compute their paychecks\n",
    "        calcpaychecks(hours_list=emp_hours, \n",
    "                      rates_list=emp_rates, \n",
    "                      checks_list=emp_checks)\n",
    "        print()\n",
    "    \n",
    "    # Goodbye message\n",
    "    print(\"========\")\n",
    "    print(\"Goodbye!\")\n",
    "    print(\"========\")\n",
    "### END SOLUTION\n",
    "    \n",
    "main2()"
   ]
  }
 ],
 "metadata": {
  "celltoolbar": "Create Assignment",
  "kernelspec": {
   "display_name": "Python 3 (ipykernel)",
   "language": "python",
   "name": "python3"
  },
  "language_info": {
   "codemirror_mode": {
    "name": "ipython",
    "version": 3
   },
   "file_extension": ".py",
   "mimetype": "text/x-python",
   "name": "python",
   "nbconvert_exporter": "python",
   "pygments_lexer": "ipython3",
   "version": "3.11.7"
  }
 },
 "nbformat": 4,
 "nbformat_minor": 5
}
