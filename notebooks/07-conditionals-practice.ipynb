{
 "cells": [
  {
   "cell_type": "markdown",
   "id": "0c2a7d71-0513-4670-9304-8a4a75dc4173",
   "metadata": {
    "nbgrader": {
     "grade": false,
     "grade_id": "cell-cea6093fa05fa8f7",
     "locked": true,
     "schema_version": 3,
     "solution": false,
     "task": false
    }
   },
   "source": [
    "# Conditionals\n",
    "\n",
    "## Warmup: Boolean Expressions\n",
    "\n",
    "<div class=\"alert alert-info\">The solution for this and the other tasks is at the bottom of the notebook</div>"
   ]
  },
  {
   "cell_type": "code",
   "execution_count": null,
   "id": "2340277c-f18e-4554-ba11-ad0da9658993",
   "metadata": {
    "tags": []
   },
   "outputs": [],
   "source": [
    "# Write down your roles\n",
    "DRIVER = \"\"\n",
    "NAVIGATOR = \"\""
   ]
  },
  {
   "cell_type": "markdown",
   "id": "ed3b949f-8b37-499c-9cf6-add669e49412",
   "metadata": {
    "tags": []
   },
   "source": [
    "**Expression 1.** Atomic expression. Given a boolean variable expressing a condition, write an expression that evaluates to `True` if that variable is `True`, `False` otherwise."
   ]
  },
  {
   "cell_type": "code",
   "execution_count": null,
   "id": "23c21d34-ef9d-4582-a1bf-45cfafaf98db",
   "metadata": {
    "tags": []
   },
   "outputs": [],
   "source": [
    "are_you_in_inst126 = True \n",
    "\n",
    "# Your code here\n"
   ]
  },
  {
   "cell_type": "markdown",
   "id": "8f2bf4af-5555-4ed6-a47d-2c13b7439f80",
   "metadata": {
    "tags": []
   },
   "source": [
    "**Expression 2.** Negation expression. Given a boolean variable expressing a condition, write an expression that evaluates to `False` if that variable is `True`, `True` otherwise."
   ]
  },
  {
   "cell_type": "code",
   "execution_count": null,
   "id": "28cfa178-bb59-4483-bab7-334087e02c9a",
   "metadata": {
    "tags": []
   },
   "outputs": [],
   "source": [
    "are_you_in_inst326 = False\n",
    "\n",
    "# Your code here\n"
   ]
  },
  {
   "cell_type": "markdown",
   "id": "dfa0fe0b-cc1a-4526-a764-0acaf0482591",
   "metadata": {},
   "source": [
    "**Expression 3.** Is a number even? Write an expression that evaluates to `True` if the number `num` is even, `False` otherwise"
   ]
  },
  {
   "cell_type": "code",
   "execution_count": null,
   "id": "005ce0c4-2940-412d-acd5-87b9c0ca3276",
   "metadata": {
    "tags": []
   },
   "outputs": [],
   "source": [
    "num = 10\n",
    "\n",
    "# Your code here\n"
   ]
  },
  {
   "cell_type": "markdown",
   "id": "b8b8b19b-1096-45f7-80a3-27216d6c8445",
   "metadata": {},
   "source": [
    "**Expression 4.** Complex boolean expression. Write an expression that evaluates to `True` if both expressions A and B are `True`, `False` otherwise"
   ]
  },
  {
   "cell_type": "code",
   "execution_count": null,
   "id": "39b0ff78-0006-4121-af5f-e7d2a8be0a79",
   "metadata": {
    "tags": []
   },
   "outputs": [],
   "source": [
    "are_you_in_inst126 = True \n",
    "are_you_in_inst326 = False\n",
    "\n",
    "# Your code here\n"
   ]
  },
  {
   "cell_type": "markdown",
   "id": "316ea32b-81b7-49a5-b147-47f0c301c8ef",
   "metadata": {},
   "source": [
    "**Expression 5.** Class prerequisites. You can take INST999 if you passed INST666 and if your GPA is greater than 3.67."
   ]
  },
  {
   "cell_type": "code",
   "execution_count": null,
   "id": "12812c3f-a6ed-451a-ac89-35a3aa31e9c6",
   "metadata": {
    "tags": []
   },
   "outputs": [],
   "source": [
    "passed_INST666 = False\n",
    "my_GPA = 3.42\n",
    "\n",
    "# Your code here\n"
   ]
  },
  {
   "cell_type": "markdown",
   "id": "b576a431-4822-4a34-b40e-67e01569caf8",
   "metadata": {},
   "source": [
    "**Expression 6.** Optimal Body Mass Index. An optimal body mass index between 18.5 to 24.9 indicates an &ldquo;optimal&rdquo; weight for a given height. Given the weight $w$ and height $h$ compute the BMI formula below and write an expression that is `True` when the BMI is optimal.\n",
    "\n",
    "$$BMI = \\frac{w}{h^2} \\times 703$$ "
   ]
  },
  {
   "cell_type": "code",
   "execution_count": null,
   "id": "de847b1b-ab23-49a0-8f9e-dd7cfdd56938",
   "metadata": {
    "tags": []
   },
   "outputs": [],
   "source": [
    "weight = 160  # in pounds\n",
    "height = 70  # in inches"
   ]
  },
  {
   "cell_type": "code",
   "execution_count": null,
   "id": "7fd43b4a-07f4-45d9-a04d-170b03907809",
   "metadata": {
    "tags": []
   },
   "outputs": [],
   "source": [
    "# Your code here\n"
   ]
  },
  {
   "cell_type": "markdown",
   "id": "42674b88-05fd-4f75-af90-bdc8d4bd24a1",
   "metadata": {},
   "source": [
    "<br/>\n",
    "<br/>\n",
    "<br/>\n",
    "<br/>\n",
    "<br/>\n",
    "<br/>\n",
    "<br/>\n",
    "<br/>\n",
    "<br/>\n",
    "\n",
    "---"
   ]
  },
  {
   "cell_type": "code",
   "execution_count": null,
   "id": "9164c32b-109a-44eb-afb2-da2879bb346d",
   "metadata": {
    "tags": []
   },
   "outputs": [],
   "source": [
    "# It is a good idea to switch now; write down your roles again. \n",
    "DRIVER = \"\"\n",
    "NAVIGATOR = \"\""
   ]
  },
  {
   "cell_type": "markdown",
   "id": "e01ccf4e-b502-41ae-a2ee-890ccc22f381",
   "metadata": {},
   "source": [
    "## The `input()` function\n",
    "\n",
    "<div class=\"alert alert-warning\">\n",
    "    <p>If your notebook becomes unresponsive, interrupt it by going to <i>Kernel</i>&rarr;<i>Interrupt</i>.</p>\n",
    "</div>\n",
    "\n",
    "Use the `input()` function to ask the user their weight and height, then re-run the BMI cell to see if their BMI is optimal or not"
   ]
  },
  {
   "cell_type": "code",
   "execution_count": null,
   "id": "eba773ae-cbc5-44d6-9ecb-c966e851606a",
   "metadata": {
    "tags": []
   },
   "outputs": [],
   "source": [
    "# Your code here (replace ...)\n",
    "weight = ...\n",
    "height = ..."
   ]
  },
  {
   "cell_type": "markdown",
   "id": "000ca329-e4cd-41cb-bbbd-a7e91c2ab856",
   "metadata": {},
   "source": [
    "<br/>\n",
    "<br/>\n",
    "<br/>\n",
    "<br/>\n",
    "<br/>\n",
    "<br/>\n",
    "<br/>"
   ]
  },
  {
   "cell_type": "markdown",
   "id": "a88607a7-0b4e-43a7-93ff-cf23f66cf081",
   "metadata": {},
   "source": [
    "## Scenario 1: Optimal BMI alert\n",
    "\n",
    "Write a function called `bmi_alert` that takes two parameters:\n",
    "\n",
    "* `weight` (type `float`), the weight in pounds\n",
    "* `height` (type `float`), the height in inches\n",
    "\n",
    "Computes the BMI, and returns `\"Your BMI is optimal\"` if the BMI is in the optimal range, otherwise it prints `\"Attention: your BMI is not optimal\"`"
   ]
  },
  {
   "cell_type": "code",
   "execution_count": null,
   "id": "c47e44ea-a293-45f7-a8c2-33d51f89a450",
   "metadata": {
    "tags": []
   },
   "outputs": [],
   "source": [
    "# Your code here (replace ...)\n",
    "...\n",
    "\n",
    "# Make sure to run the input() cell above\n",
    "bmi_alert(weight, height)"
   ]
  },
  {
   "cell_type": "markdown",
   "id": "97f35c32-242a-47ed-b279-5b6f83b629c0",
   "metadata": {},
   "source": [
    "<br/>\n",
    "<br/>\n",
    "<br/>\n",
    "<br/>\n",
    "<br/>\n",
    "<br/>\n",
    "<br/>\n",
    "<br/>\n",
    "<br/>\n",
    "\n",
    "---"
   ]
  },
  {
   "cell_type": "code",
   "execution_count": null,
   "id": "a8e02ca9-b11c-40ba-9804-50065afab309",
   "metadata": {
    "tags": []
   },
   "outputs": [],
   "source": [
    "# It is a good idea to switch now; write down your roles again. \n",
    "DRIVER = \"\"\n",
    "NAVIGATOR = \"\""
   ]
  },
  {
   "cell_type": "markdown",
   "id": "1af5d004-f8c0-49a2-b1eb-2566b934e968",
   "metadata": {
    "nbgrader": {
     "grade": false,
     "grade_id": "cell-cea6093fa05fa8f7",
     "locked": true,
     "schema_version": 3,
     "solution": false,
     "task": false
    }
   },
   "source": [
    "## Scenario 2: HVAC control\n",
    "\n",
    "Write a function called `hvac_control` that takes two paramenters: \n",
    "- `temperature` (type `int`), the temperature measured by the house thermostat\n",
    "- `setpoint` (type `int`), the desired temperature setpoint\n",
    "\n",
    "and returns either the string `\"heating\"` (if the house thermostat indicates the house is at or below the setpoint), `\"idle\"` (if no more than 25F over the setpoint), or `\"cooling\"` (if more than 25F over the setpoint)."
   ]
  },
  {
   "cell_type": "code",
   "execution_count": null,
   "id": "0982a07b-25c0-404c-a145-446cd07a40d7",
   "metadata": {},
   "outputs": [],
   "source": [
    "# Your code here (replace ...)\n",
    "...\n",
    "\n",
    "my_setpoint = 75\n",
    "my_temperature = 80\n",
    "\n",
    "hvac_control(my_temperature, my_setpoint)"
   ]
  },
  {
   "cell_type": "markdown",
   "id": "0b93bb4e-cfcf-4ee8-8b39-3da9cadae0c0",
   "metadata": {},
   "source": [
    "<br/>\n",
    "<br/>\n",
    "<br/>\n",
    "<br/>\n",
    "<br/>\n",
    "<br/>\n",
    "<br/>\n",
    "<br/>\n",
    "<br/>\n",
    "\n",
    "---"
   ]
  },
  {
   "cell_type": "code",
   "execution_count": null,
   "id": "903b546a-14f2-4ed6-af33-93e51002bde3",
   "metadata": {
    "tags": []
   },
   "outputs": [],
   "source": [
    "# It is a good idea to switch now; write down your roles again. \n",
    "DRIVER = \"\"\n",
    "NAVIGATOR = \"\""
   ]
  },
  {
   "cell_type": "markdown",
   "id": "446eeaea",
   "metadata": {
    "nbgrader": {
     "grade": false,
     "grade_id": "cell-2fb0ec99cee3a6f8",
     "locked": true,
     "schema_version": 3,
     "solution": false,
     "task": false
    }
   },
   "source": [
    "## Scenario 3: meal plan\n",
    "\n",
    "Write a function called `mealplan` that suggests what to eat based on whether user is `dieting` (boolean) and the `type_of_meal` (a string that could be either `\"breakfast\"`, `\"lunch\"`, or `\"dinner\"`).\n",
    "\n",
    "The possible return values are:\n",
    "- `\"oatmeal\"`,\n",
    "- `\"eggs\"`,\n",
    "- `\"salad\"`,\n",
    "- `\"steak\"`.\n",
    "\n",
    "The function should give the following recommendations:\n",
    "* Dieting &rarr; `\"oatmeal\"`;\n",
    "* Not dieting, and it is breakfast time &rarr; `\"eggs\"`;\n",
    "* Not dieting, and it is lunch time &rarr; `\"salad\"`;\n",
    "* Not dieting, and it is dinner time &rarr; `\"steak\"`."
   ]
  },
  {
   "cell_type": "code",
   "execution_count": null,
   "id": "bcf67afa-42f7-47b4-9437-42eddff2df7e",
   "metadata": {
    "nbgrader": {
     "grade": true,
     "grade_id": "cell-9a362d6ef57de8a7",
     "locked": false,
     "points": 0,
     "schema_version": 3,
     "solution": true,
     "task": false
    }
   },
   "outputs": [],
   "source": [
    "# Your code here (replace ...)\n",
    "...\n",
    "\n",
    "my_dieting = False\n",
    "my_type_of_meal = \"breakfast\"\n",
    "\n",
    "mealplan(my_dieting, my_type_of_meal)"
   ]
  },
  {
   "cell_type": "markdown",
   "id": "eb22d756-b88b-4eb5-bbb8-db61a01dd9cf",
   "metadata": {},
   "source": [
    "<br/>\n",
    "<br/>\n",
    "<br/>\n",
    "<br/>\n",
    "<br/>\n",
    "<br/>\n",
    "<br/>\n",
    "<br/>\n",
    "<br/>\n",
    "<br/>\n",
    "<br/>\n",
    "<br/>\n",
    "<br/>\n",
    "<br/>\n",
    "<br/>\n",
    "<br/>\n",
    "<br/>\n",
    "<br/>\n",
    "<br/>\n",
    "<br/>\n",
    "<br/>\n",
    "<br/>\n",
    "<br/>\n",
    "<br/>\n",
    "<br/>\n",
    "<br/>\n",
    "<br/>\n",
    "<br/>\n",
    "<br/>\n",
    "<br/>\n",
    "<br/>\n",
    "<br/>\n",
    "<br/>\n",
    "<br/>\n",
    "<br/>\n",
    "<br/>\n",
    "<br/>\n",
    "<br/>\n",
    "<br/>\n",
    "<br/>\n",
    "<br/>\n",
    "<br/>\n",
    "<br/>\n",
    "<br/>\n",
    "<br/>\n",
    "\n",
    "\n",
    "---"
   ]
  },
  {
   "cell_type": "markdown",
   "id": "d8f95402-5003-4c04-a533-64e2257b6bde",
   "metadata": {},
   "source": [
    "# Solutions\n",
    "\n",
    "\n",
    "## Warmup: Boolean Expressions"
   ]
  },
  {
   "cell_type": "markdown",
   "id": "f40739f0-ca74-4dd3-9f32-d3450b277612",
   "metadata": {
    "tags": []
   },
   "source": [
    "**Expression 1.** Atomic expression. Given a boolean variable expressing a condition, write an expression that evaluates to `True` if that variable is `True`, `False` otherwise."
   ]
  },
  {
   "cell_type": "code",
   "execution_count": null,
   "id": "e42ae16c-a2b8-41f4-bf20-8999e5c5e0a3",
   "metadata": {
    "tags": []
   },
   "outputs": [],
   "source": [
    "are_you_in_inst126 = True \n",
    "\n",
    "# Your code here\n",
    "are_you_in_inst126"
   ]
  },
  {
   "cell_type": "markdown",
   "id": "9aa9c762-111e-46a5-a986-2f41ca98ede0",
   "metadata": {
    "tags": []
   },
   "source": [
    "**Expression 2.** Negation expression. Given a boolean variable expressing a condition, write an expression that evaluates to `False` if that variable is `True`, `True` otherwise."
   ]
  },
  {
   "cell_type": "code",
   "execution_count": null,
   "id": "7e1c529e-1790-4915-b577-aa8f8207553d",
   "metadata": {
    "tags": []
   },
   "outputs": [],
   "source": [
    "are_you_in_inst326 = False\n",
    "\n",
    "# Your code here\n",
    "not are_you_in_inst326"
   ]
  },
  {
   "cell_type": "markdown",
   "id": "d380d98e-0eb4-474e-852c-48dd4712895e",
   "metadata": {},
   "source": [
    "**Expression 3.** Is a number even? Write an expression that evaluates to `True` if the number `num` is even, `False` otherwise"
   ]
  },
  {
   "cell_type": "code",
   "execution_count": null,
   "id": "2135319b-6970-482b-8fe8-9e41d2b7f9a2",
   "metadata": {
    "tags": []
   },
   "outputs": [],
   "source": [
    "num = 10\n",
    "\n",
    "# Your code here\n",
    "num % 2 == 0"
   ]
  },
  {
   "cell_type": "markdown",
   "id": "4d69b10e-0abc-4fab-8b97-eafa12596748",
   "metadata": {},
   "source": [
    "**Expression 4.** Complex boolean expression. Write an expression that evaluates to `True` if both expressions A and B are `True`, `False` otherwise"
   ]
  },
  {
   "cell_type": "code",
   "execution_count": null,
   "id": "48c14608-a28f-468a-aaea-ea55355f3ff1",
   "metadata": {
    "tags": []
   },
   "outputs": [],
   "source": [
    "are_you_in_inst126 = True \n",
    "are_you_in_inst326 = False\n",
    "\n",
    "# Your code here\n",
    "are_you_in_inst126 and are_you_in_inst326"
   ]
  },
  {
   "cell_type": "markdown",
   "id": "e1b826db-c80c-47a4-9387-f6a098c8a67d",
   "metadata": {},
   "source": [
    "**Expression 5.** Class prerequisites. You can take INST999 if you passed INST666 and if your GPA is greater than 3.67."
   ]
  },
  {
   "cell_type": "code",
   "execution_count": null,
   "id": "07b5e02a-a6c3-4755-9f5d-6aa9c0595680",
   "metadata": {
    "tags": []
   },
   "outputs": [],
   "source": [
    "passed_INST666 = False\n",
    "my_GPA = 3.42\n",
    "\n",
    "# Your code here\n",
    "passed_INST666 and (my_GPA > 3.42)"
   ]
  },
  {
   "cell_type": "markdown",
   "id": "81627ee1-464c-4aad-9229-b3b8af038a11",
   "metadata": {},
   "source": [
    "**Expression 6.** Optimal Body Mass Index. An optimal body mass index between 18.5 to 24.9 indicates an &ldquo;optimal&rdquo; weight for a given height. Given the weight $w$ and height $h$ compute the BMI formula below and write an expression that is `True` when the BMI is optimal.\n",
    "\n",
    "$$BMI = \\frac{w}{h^2} \\times 703$$ "
   ]
  },
  {
   "cell_type": "code",
   "execution_count": null,
   "id": "db1d7c44-2927-40ef-855b-60ac1f798302",
   "metadata": {
    "tags": []
   },
   "outputs": [],
   "source": [
    "weight = 160  # in pounds\n",
    "height = 70  # in inches"
   ]
  },
  {
   "cell_type": "code",
   "execution_count": null,
   "id": "d6eca850-6bfc-44cc-9feb-7d7108c5fabc",
   "metadata": {
    "tags": []
   },
   "outputs": [],
   "source": [
    "# Your code here\n",
    "bmi = weight / height ** 2 * 703\n",
    "(bmi >= 18.5) and (bmi <= 24.9) "
   ]
  },
  {
   "cell_type": "markdown",
   "id": "6190efe6-888d-4147-ac58-3701246d2ad2",
   "metadata": {},
   "source": [
    "## The `input()` function\n",
    "\n",
    "Use the `input()` function to ask the user their weight and height, then re-run the BMI cell to see if their BMI is optimal or not"
   ]
  },
  {
   "cell_type": "code",
   "execution_count": null,
   "id": "a8301812-6741-448e-b7c0-29097794392c",
   "metadata": {
    "tags": []
   },
   "outputs": [],
   "source": [
    "# Your code here\n",
    "weight = float(input(\"Please enter your weight (in pounds)\"))\n",
    "height = float(input(\"Please enter you height (in inches)\"))"
   ]
  },
  {
   "cell_type": "markdown",
   "id": "4cced9c4-273d-4fc6-8ed9-82a83d276961",
   "metadata": {},
   "source": [
    "## Scenario 1: Optimal BMI alert\n",
    "\n",
    "Write a function called `bmi_alert` that takes two parameters:\n",
    "\n",
    "* `weight` (type `float`), the weight in pounds\n",
    "* `height` (type `float`), the height in inches\n",
    "\n",
    "Computes the BMI, and returns `\"Your BMI is optimal\"` if the BMI is in the optimal range, otherwise it prints `\"Attention: your BMI is not optimal\"`"
   ]
  },
  {
   "cell_type": "code",
   "execution_count": null,
   "id": "457efbb3-a2d2-4c3c-a241-f79bd7f25bd2",
   "metadata": {
    "tags": []
   },
   "outputs": [],
   "source": [
    "# Your code here\n",
    "def bmi_alert(weight, height):\n",
    "    bmi = weight / height ** 2 * 703\n",
    "    if (bmi >= 18.5) and (bmi <= 24.9):\n",
    "        return \"Your BMI is optimal\"\n",
    "    else:\n",
    "        return \"Attention: your BMI is not optimal\"\n",
    "\n",
    "bmi_alert(weight, height)"
   ]
  },
  {
   "cell_type": "markdown",
   "id": "882ec50f-eb3c-4d3f-9b01-1ffa1096c2cf",
   "metadata": {
    "nbgrader": {
     "grade": false,
     "grade_id": "cell-cea6093fa05fa8f7",
     "locked": true,
     "schema_version": 3,
     "solution": false,
     "task": false
    }
   },
   "source": [
    "## Scenario 2: HVAC control\n",
    "\n",
    "Write a function called `hvac_control` that takes two paramenters: \n",
    "- `temperature` (type `int`), the temperature measured by the house thermostat\n",
    "- `setpoint` (type `int`), the desired temperature setpoint\n",
    "\n",
    "and returns either the string `\"heating\"` (if the house thermostat indicates the house is at or below the setpoint), `\"idle\"` (if no more than 25F over the setpoint), or `\"cooling\"` (if more than 25F over the setpoint)."
   ]
  },
  {
   "cell_type": "code",
   "execution_count": null,
   "id": "7ec398a5-79a6-4f88-bf77-2888dd56c90e",
   "metadata": {},
   "outputs": [],
   "source": [
    "# BEGIN SOLUTION\n",
    "def hvac_control(temperature, setpoint):\n",
    "    if temperature <= setpoint:\n",
    "        return \"heating\"\n",
    "    elif temperature <= setpoint + 25:\n",
    "        return \"idle\"\n",
    "    else:\n",
    "        return \"cooling\"\n",
    "# END SOLUTION\n",
    "\n",
    "my_setpoint = 75\n",
    "my_temperature = 80\n",
    "\n",
    "hvac_control(my_temperature, my_setpoint)"
   ]
  },
  {
   "cell_type": "markdown",
   "id": "88ecf667-64e5-4ee3-87df-9a14fca2e29a",
   "metadata": {
    "nbgrader": {
     "grade": false,
     "grade_id": "cell-2fb0ec99cee3a6f8",
     "locked": true,
     "schema_version": 3,
     "solution": false,
     "task": false
    }
   },
   "source": [
    "## Scenario 3: meal plan\n",
    "\n",
    "Write a function called `mealplan` that suggests what to eat based on whether user is `dieting` (boolean) and the `type_of_meal` (a string that could be either `\"breakfast\"`, `\"lunch\"`, or `\"dinner\"`).\n",
    "\n",
    "The possible return values are:\n",
    "- `\"oatmeal\"`,\n",
    "- `\"eggs\"`,\n",
    "- `\"salad\"`,\n",
    "- `\"steak\"`.\n",
    "\n",
    "The function should give the following recommendations:\n",
    "* Dieting &rarr; `\"oatmeal\"`;\n",
    "* Not dieting, and it is breakfast time &rarr; `\"eggs\"`;\n",
    "* Not dieting, and it is lunch time &rarr; `\"salad\"`;\n",
    "* Not dieting, and it is dinner time &rarr; `\"steak\"`."
   ]
  },
  {
   "cell_type": "code",
   "execution_count": null,
   "id": "d67e69f3-e797-4543-ac85-de739f790b67",
   "metadata": {
    "nbgrader": {
     "grade": true,
     "grade_id": "cell-9a362d6ef57de8a7",
     "locked": false,
     "points": 0,
     "schema_version": 3,
     "solution": true,
     "task": false
    }
   },
   "outputs": [],
   "source": [
    "### BEGIN SOLUTION\n",
    "def mealplan(dieting, type_of_meal):\n",
    "    if dieting:\n",
    "        return \"oatmeal\"\n",
    "    else:\n",
    "        if type_of_meal == \"breakfast\":\n",
    "            return \"eggs\"\n",
    "        elif type_of_meal == \"lunch\":\n",
    "            return \"salad\"\n",
    "        else:\n",
    "            return \"steak\"\n",
    "### END SOLUTION\n",
    "\n",
    "my_dieting = False\n",
    "my_type_of_meal = \"breakfast\"\n",
    "\n",
    "mealplan(my_dieting, my_type_of_meal)"
   ]
  }
 ],
 "metadata": {
  "celltoolbar": "Create Assignment",
  "kernelspec": {
   "display_name": "Python 3 (ipykernel)",
   "language": "python",
   "name": "python3"
  },
  "language_info": {
   "codemirror_mode": {
    "name": "ipython",
    "version": 3
   },
   "file_extension": ".py",
   "mimetype": "text/x-python",
   "name": "python",
   "nbconvert_exporter": "python",
   "pygments_lexer": "ipython3",
   "version": "3.11.7"
  }
 },
 "nbformat": 4,
 "nbformat_minor": 5
}
