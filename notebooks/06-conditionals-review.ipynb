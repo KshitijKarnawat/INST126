{
 "cells": [
  {
   "cell_type": "markdown",
   "metadata": {
    "id": "IUP5mKyTxbRy",
    "slideshow": {
     "slide_type": "slide"
    }
   },
   "source": [
    "# Conditionals Review"
   ]
  },
  {
   "cell_type": "markdown",
   "metadata": {
    "id": "g-lkfdphxbR0",
    "slideshow": {
     "slide_type": "slide"
    }
   },
   "source": [
    "## What are conditionals and why do we care about them?\n",
    "\n",
    "Basic concept: it's a fork in the road. \n",
    "\n",
    "We use conditional structures to control the flow of our program."
   ]
  },
  {
   "cell_type": "markdown",
   "metadata": {
    "id": "g-lkfdphxbR0",
    "slideshow": {
     "slide_type": "subslide"
    }
   },
   "source": [
    "A set of pictures might help to give the intuition:\n",
    "<img src=\"http://terpconnect.umd.edu/~gciampag/INST126/images/conditional%20pictures.png\" width=\"100%\"></img>"
   ]
  },
  {
   "cell_type": "markdown",
   "metadata": {
    "id": "g-lkfdphxbR0",
    "slideshow": {
     "slide_type": "fragment"
    }
   },
   "source": [
    "Some real-world examples:\n",
    "\n",
    "- Graduation requirements\n",
    "\n",
    "- Data processing (drop / transform some missing data)\n",
    "\n",
    "- Have you had breakfast? if not, go eat\n",
    "\n",
    "- &ldquo;Choose your own adventure&rdquo; books\n",
    "\n",
    "- The **choice** of watching a movie / TV show based on **conditions** such as _how much time do I have_, _what I'm in the mood for_, _whether I'm with friends or not_, etc.\n",
    "\n",
    "- Yours?"
   ]
  },
  {
   "cell_type": "markdown",
   "metadata": {
    "id": "g-lkfdphxbR0",
    "slideshow": {
     "slide_type": "subslide"
    }
   },
   "source": [
    "### In summary\n",
    "\n",
    "Whenever you find yourself at a problem step or part of your problem&mldr;\n",
    "\n",
    "&mldr;where you say something like &ldquo;_do something_ *based on / depending on / looking at / if* _some condition_&rdquo;&mldr;\n",
    "\n",
    "&mldr;that is a signal that you need a conditional!"
   ]
  },
  {
   "cell_type": "markdown",
   "metadata": {},
   "source": [
    "## Anatomy of a generic conditional block in Python\n",
    "\n",
    "### Example: car simulator\n",
    "\n",
    "Run this first:"
   ]
  },
  {
   "cell_type": "code",
   "execution_count": null,
   "metadata": {
    "slideshow": {
     "slide_type": "subslide"
    }
   },
   "outputs": [],
   "source": [
    "# SETUP\n",
    "\n",
    "speed = 30\n",
    "direction = 0\n",
    "needToExit = False\n",
    "\n",
    "def apply_brake(speed):\n",
    "    speed = speed - 10\n",
    "    return speed\n",
    "\n",
    "def steer_wheel(direction, degrees):\n",
    "    direction = direction + degrees\n",
    "    return direction\n",
    "\n",
    "def apply_gas(speed):\n",
    "    speed = speed + 10\n",
    "\n",
    "print(f\"Speed: {speed} mph; direction: {direction} deg.\")    "
   ]
  },
  {
   "cell_type": "markdown",
   "metadata": {
    "id": "ifBcaTKuA2jN",
    "slideshow": {
     "slide_type": "slide"
    }
   },
   "source": [
    "Run this next:"
   ]
  },
  {
   "cell_type": "code",
   "execution_count": null,
   "metadata": {
    "slideshow": {
     "slide_type": "subslide"
    }
   },
   "outputs": [],
   "source": [
    "# ACTION (conditional block)\n",
    "\n",
    "if needToExit == True:\n",
    "    speed = apply_brake(speed)\n",
    "    direction = steer_wheel(direction, 30)\n",
    "    # do something\n",
    "    # maybe also something more\n",
    "else:\n",
    "    apply_gas(speed)\n",
    "    # do something else\n",
    "    # and maybe even more something else\n",
    "    \n",
    "print(f\"Speed: {speed} mph; direction: {direction} deg.\")"
   ]
  },
  {
   "cell_type": "markdown",
   "metadata": {},
   "source": [
    "Now go back to `SETUP` cell and change `needToExit` from `True` to `False`, re-run it, and run `ACTION` cell again. \n",
    "\n",
    "See what happens this time. "
   ]
  },
  {
   "cell_type": "markdown",
   "metadata": {
    "slideshow": {
     "slide_type": "slide"
    }
   },
   "source": [
    "- The **if statement**:\n",
    "    - The `if` keyword signals that a conditional block is starting\n",
    "    - The Boolean expression determine where to go in the conditional block\n",
    "        - True goes to the if branch, \n",
    "        - False goes to the else branch;\n",
    "    - The statement needs to end in a colon (`:`) to signal that the statement has ended. \n",
    "        - This is the same as with function definitions, and as we will see, with iteration loops also."
   ]
  },
  {
   "cell_type": "markdown",
   "metadata": {
    "slideshow": {
     "slide_type": "fragment"
    }
   },
   "source": [
    "- The &ldquo;if&rdquo; (true) **branch code**\n",
    "    - What should happen in that branch if we go down the path?\n",
    "    - Needs to be __indented__ because of scope (same with functions; also will be true of loops)"
   ]
  },
  {
   "cell_type": "markdown",
   "metadata": {
    "slideshow": {
     "slide_type": "subslide"
    }
   },
   "source": [
    "- The **else statement**\n",
    "    - The `else` keyword signals that an else branch will be specified next\n",
    "    - This is just the `else` keyword and a colon (`:`)"
   ]
  },
  {
   "cell_type": "markdown",
   "metadata": {
    "slideshow": {
     "slide_type": "fragment"
    }
   },
   "source": [
    "- The &ldquo;else&rdquo; (false) **branch code**\n",
    "    - What should happen in that branch if we go down the other path?\n",
    "    - Needs to be indented too"
   ]
  },
  {
   "cell_type": "markdown",
   "metadata": {
    "slideshow": {
     "slide_type": "slide"
    }
   },
   "source": [
    "Here's a closer look at a diagram from the [PY4E book](https://www.py4e.com/html3/03-conditional):\n",
    "\n",
    "<img src=\"https://www.py4e.com/images/if-else.svg\" width=\"75%\"></img>"
   ]
  },
  {
   "cell_type": "markdown",
   "metadata": {
    "slideshow": {
     "slide_type": "slide"
    }
   },
   "source": [
    "## Coding challenge \\#1\n",
    "\n",
    "<div class=\"alert alert-info\">The solutions are at the bottom of the notebook</div>\n",
    "\n",
    "With the above diagram in mind, let's write some conditional blocks."
   ]
  },
  {
   "cell_type": "markdown",
   "metadata": {
    "slideshow": {
     "slide_type": "subslide"
    }
   },
   "source": [
    "**Even / odd numbers**. Print whether a number is even or odd."
   ]
  },
  {
   "cell_type": "code",
   "execution_count": null,
   "metadata": {
    "slideshow": {
     "slide_type": "subslide"
    }
   },
   "outputs": [],
   "source": [
    "num = 13\n",
    "\n",
    "# Your code here\n"
   ]
  },
  {
   "cell_type": "markdown",
   "metadata": {},
   "source": [
    "<br/>\n",
    "<br/>\n",
    "<br/>\n",
    "<br/>\n",
    "<br/>\n",
    "\n",
    "---"
   ]
  },
  {
   "cell_type": "markdown",
   "metadata": {
    "slideshow": {
     "slide_type": "slide"
    }
   },
   "source": [
    "<div class=\"alert alert-warning\">\n",
    "    <h2>Using <tt style=\"font-size: 100%\">input()</tt> in JupyterLab</h2> \n",
    "    <p><strong>Attention</strong>: This and the next few cells call the <tt>input()</tt> function. When you call this function, Jupyter will show a new text box under the cell where you can type your input. Jupyter will stand by until you press ENTER in that text box.</p>\n",
    "    <p>Until then, <strong>the kernel will be blocked waiting for input</strong>, and it will ignore any attempt to execute other cells in the notebook. The notebook itself will be still responsive though, and you will still be able to edit other cells</p>\n",
    "    <p>This behavior, combined with the fact that input text box is unfortunately rather small, makes it very easy to overlook a cell with an incomplete execution of the <tt>input()</tt> function!</p>\n",
    "    <p>If your notebook becomes unresponsive, double check all the cells that call the <tt>input()</tt> function. If you don't find any and your kernel is still stuck, interrupt it by going to <i>Kernel</i>&rarr;<i>Interrupt</i>.</p>\n",
    "</div>\n",
    "\n",
    "__Password checker__. Say `come in` if the password matches the user input, otherwise say `go away`\n",
    "\n",
    "For this we will use the `input()` function to prompt for input."
   ]
  },
  {
   "cell_type": "code",
   "execution_count": null,
   "metadata": {
    "colab": {
     "base_uri": "https://localhost:8080/",
     "height": 35
    },
    "executionInfo": {
     "elapsed": 366,
     "status": "ok",
     "timestamp": 1600700847004,
     "user": {
      "displayName": "Joel Chan",
      "photoUrl": "https://lh3.googleusercontent.com/a-/AOh14GiBPPpBf_QqgDL3pMurAsPu9WJJE_x_6UtgW13UFQ=s64",
      "userId": "15153559228409906865"
     },
     "user_tz": 240
    },
    "id": "S3Tqmgxc_h5Y",
    "outputId": "07807add-dd67-4c9f-bf17-5ff7933ef8ae",
    "slideshow": {
     "slide_type": "subslide"
    }
   },
   "outputs": [],
   "source": [
    "password = \"bunny\"\n",
    "user_input = input(\"Please enter your password: \")\n",
    "\n",
    "# Your code here\n"
   ]
  },
  {
   "cell_type": "markdown",
   "metadata": {},
   "source": [
    "<br/>\n",
    "<br/>\n",
    "<br/>\n",
    "<br/>\n",
    "<br/>\n",
    "\n",
    "---"
   ]
  },
  {
   "cell_type": "markdown",
   "metadata": {
    "slideshow": {
     "slide_type": "slide"
    }
   },
   "source": [
    "__ID check__. Waiter checking your age on your ID, and then lists the beers on the menu or says `\"have some water\"`"
   ]
  },
  {
   "cell_type": "code",
   "execution_count": null,
   "metadata": {
    "id": "4DLKesNtGzZs",
    "slideshow": {
     "slide_type": "subslide"
    }
   },
   "outputs": [],
   "source": [
    "drinking_age = 21\n",
    "\n",
    "user_input = input(\"What is your age? \")\n",
    "user_input = int(user_input)\n",
    "\n",
    "# Your code here\n"
   ]
  },
  {
   "cell_type": "markdown",
   "metadata": {},
   "source": [
    "<br/>\n",
    "<br/>\n",
    "<br/>\n",
    "<br/>\n",
    "<br/>\n",
    "\n",
    "---"
   ]
  },
  {
   "cell_type": "markdown",
   "metadata": {
    "id": "FYVv4YjdCjfS",
    "slideshow": {
     "slide_type": "slide"
    }
   },
   "source": [
    "## A closer look at Boolean expressions\n",
    "\n",
    "All conditional blocks depend on well-crafted Boolean expressions. \n",
    "\n",
    "This is what really determines the logic of the control of flow. \n",
    "\n",
    "So you need to make sure you're proficient with Booolean expressions."
   ]
  },
  {
   "cell_type": "markdown",
   "metadata": {
    "id": "FYVv4YjdCjfS",
    "slideshow": {
     "slide_type": "subslide"
    }
   },
   "source": [
    "Operators (along with values) are the basic building blocks of Boolean expressions:"
   ]
  },
  {
   "cell_type": "markdown",
   "metadata": {
    "id": "FYVv4YjdCjfS",
    "slideshow": {
     "slide_type": "fragment"
    }
   },
   "source": [
    "- **Comparison** operators, (`== != > >= < <=`)\n",
    "  - To construct basic yes / no questions\n",
    "  - Ex. &ldquo;_Is a the same as b?_ &rdquo; \n",
    "  - Ex. &ldquo;_Is a greater than b?_ &rdquo;"
   ]
  },
  {
   "cell_type": "markdown",
   "metadata": {
    "id": "FYVv4YjdCjfS",
    "slideshow": {
     "slide_type": "fragment"
    }
   },
   "source": [
    "- **Logical** operators (`and or not`) \n",
    "  - To combine basic yes / no questions into more complex ones\n",
    "  - Ex. &ldquo;_Is a more than 3 **and** less than 5?_ &rdquo;"
   ]
  },
  {
   "cell_type": "markdown",
   "metadata": {
    "id": "FYVv4YjdCjfS",
    "slideshow": {
     "slide_type": "skip"
    }
   },
   "source": [
    "Full list of comparison and logical operators [here](https://writeblocked.org/resources/python_cheat_sheet.pdf)."
   ]
  },
  {
   "cell_type": "markdown",
   "metadata": {
    "id": "0c6wfPPRBHdg",
    "slideshow": {
     "slide_type": "slide"
    }
   },
   "source": [
    "Boolean expressions \n",
    "\n",
    "Let's translate these Boolean expressions with me from English into Python:\n",
    "1. Do I have a passport?\n",
    "2. Is the driver's speed above the limit?\n",
    "3. Have I passed all the requirements for graduation?\n",
    "   - Did I accumulate at least N credits AND earn a GPA of X?\n",
    "4. Did I take the prereq for the class OR get an exception?"
   ]
  },
  {
   "cell_type": "code",
   "execution_count": null,
   "metadata": {
    "colab": {
     "base_uri": "https://localhost:8080/"
    },
    "executionInfo": {
     "elapsed": 496,
     "status": "ok",
     "timestamp": 1613399925529,
     "user": {
      "displayName": "Joel Chan",
      "photoUrl": "https://lh3.googleusercontent.com/a-/AOh14GiBPPpBf_QqgDL3pMurAsPu9WJJE_x_6UtgW13UFQ=s64",
      "userId": "15153559228409906865"
     },
     "user_tz": 300
    },
    "id": "ZHqVYGfVORJr",
    "outputId": "70d84ccb-6263-4d7a-c027-08ee30359db4",
    "slideshow": {
     "slide_type": "subslide"
    }
   },
   "outputs": [],
   "source": [
    "# 1) Do I have a passport?\n",
    "hasPassport = True  # Assign the value True to the passport variable\n",
    "\n",
    "# version A\n",
    "hasPassport == True"
   ]
  },
  {
   "cell_type": "code",
   "execution_count": null,
   "metadata": {
    "colab": {
     "base_uri": "https://localhost:8080/"
    },
    "executionInfo": {
     "elapsed": 496,
     "status": "ok",
     "timestamp": 1613399925529,
     "user": {
      "displayName": "Joel Chan",
      "photoUrl": "https://lh3.googleusercontent.com/a-/AOh14GiBPPpBf_QqgDL3pMurAsPu9WJJE_x_6UtgW13UFQ=s64",
      "userId": "15153559228409906865"
     },
     "user_tz": 300
    },
    "id": "ZHqVYGfVORJr",
    "outputId": "70d84ccb-6263-4d7a-c027-08ee30359db4",
    "slideshow": {
     "slide_type": "subslide"
    }
   },
   "outputs": [],
   "source": [
    "# version B\n",
    "hasPassport"
   ]
  },
  {
   "cell_type": "code",
   "execution_count": null,
   "metadata": {
    "colab": {
     "base_uri": "https://localhost:8080/"
    },
    "executionInfo": {
     "elapsed": 496,
     "status": "ok",
     "timestamp": 1613399925529,
     "user": {
      "displayName": "Joel Chan",
      "photoUrl": "https://lh3.googleusercontent.com/a-/AOh14GiBPPpBf_QqgDL3pMurAsPu9WJJE_x_6UtgW13UFQ=s64",
      "userId": "15153559228409906865"
     },
     "user_tz": 300
    },
    "id": "ZHqVYGfVORJr",
    "outputId": "70d84ccb-6263-4d7a-c027-08ee30359db4",
    "slideshow": {
     "slide_type": "subslide"
    }
   },
   "outputs": [],
   "source": [
    "# 1.1) Do I *not* have a passport?\n",
    "# version B flipped\n",
    "not hasPassport"
   ]
  },
  {
   "cell_type": "code",
   "execution_count": null,
   "metadata": {
    "colab": {
     "base_uri": "https://localhost:8080/"
    },
    "executionInfo": {
     "elapsed": 496,
     "status": "ok",
     "timestamp": 1613399925529,
     "user": {
      "displayName": "Joel Chan",
      "photoUrl": "https://lh3.googleusercontent.com/a-/AOh14GiBPPpBf_QqgDL3pMurAsPu9WJJE_x_6UtgW13UFQ=s64",
      "userId": "15153559228409906865"
     },
     "user_tz": 300
    },
    "id": "ZHqVYGfVORJr",
    "outputId": "70d84ccb-6263-4d7a-c027-08ee30359db4",
    "slideshow": {
     "slide_type": "subslide"
    }
   },
   "outputs": [],
   "source": [
    "# version A flipped\n",
    "hasPassport != True"
   ]
  },
  {
   "cell_type": "code",
   "execution_count": null,
   "metadata": {
    "colab": {
     "base_uri": "https://localhost:8080/"
    },
    "executionInfo": {
     "elapsed": 496,
     "status": "ok",
     "timestamp": 1613399925529,
     "user": {
      "displayName": "Joel Chan",
      "photoUrl": "https://lh3.googleusercontent.com/a-/AOh14GiBPPpBf_QqgDL3pMurAsPu9WJJE_x_6UtgW13UFQ=s64",
      "userId": "15153559228409906865"
     },
     "user_tz": 300
    },
    "id": "ZHqVYGfVORJr",
    "outputId": "70d84ccb-6263-4d7a-c027-08ee30359db4",
    "slideshow": {
     "slide_type": "subslide"
    }
   },
   "outputs": [],
   "source": [
    "# version A flipped (variant 2)\n",
    "hasPassport == False"
   ]
  },
  {
   "cell_type": "code",
   "execution_count": null,
   "metadata": {
    "colab": {
     "base_uri": "https://localhost:8080/"
    },
    "executionInfo": {
     "elapsed": 604,
     "status": "ok",
     "timestamp": 1613399839255,
     "user": {
      "displayName": "Joel Chan",
      "photoUrl": "https://lh3.googleusercontent.com/a-/AOh14GiBPPpBf_QqgDL3pMurAsPu9WJJE_x_6UtgW13UFQ=s64",
      "userId": "15153559228409906865"
     },
     "user_tz": 300
    },
    "id": "0qOxB7B8BM9O",
    "outputId": "74c2135d-7b02-46c6-8cc2-3f48b59f3bb7",
    "slideshow": {
     "slide_type": "subslide"
    }
   },
   "outputs": [],
   "source": [
    "# 2) Is the driver's speed above the limit?\n",
    "speed = 85\n",
    "limit = 45\n",
    "\n",
    "speed > limit"
   ]
  },
  {
   "cell_type": "code",
   "execution_count": null,
   "metadata": {
    "colab": {
     "base_uri": "https://localhost:8080/"
    },
    "executionInfo": {
     "elapsed": 510,
     "status": "ok",
     "timestamp": 1613400162886,
     "user": {
      "displayName": "Joel Chan",
      "photoUrl": "https://lh3.googleusercontent.com/a-/AOh14GiBPPpBf_QqgDL3pMurAsPu9WJJE_x_6UtgW13UFQ=s64",
      "userId": "15153559228409906865"
     },
     "user_tz": 300
    },
    "id": "8JStG5a2Og92",
    "outputId": "c0ac24b7-40dc-4278-f5a8-acf76fb2dc47",
    "slideshow": {
     "slide_type": "subslide"
    }
   },
   "outputs": [],
   "source": [
    "# 3) Have I passed all the requirements for graduation?\n",
    "# - This is operationalized as \"Do I have enough credits, with enough GPA?\"\n",
    "# - Let's assume a threshold of 120 credits and a minimum GPA of 2.5\n",
    "min_num_credits = 120 \n",
    "min_GPA = 2.5\n",
    "\n",
    "my_credits = 85\n",
    "my_GPA = 3.1\n",
    "\n",
    "(my_credits >= min_num_credits) and (my_GPA >= min_GPA)"
   ]
  },
  {
   "cell_type": "code",
   "execution_count": null,
   "metadata": {
    "colab": {
     "base_uri": "https://localhost:8080/"
    },
    "executionInfo": {
     "elapsed": 570,
     "status": "ok",
     "timestamp": 1613400346471,
     "user": {
      "displayName": "Joel Chan",
      "photoUrl": "https://lh3.googleusercontent.com/a-/AOh14GiBPPpBf_QqgDL3pMurAsPu9WJJE_x_6UtgW13UFQ=s64",
      "userId": "15153559228409906865"
     },
     "user_tz": 300
    },
    "id": "5LDRnY23POoo",
    "outputId": "787449b7-f6e2-4ff5-9b17-a2d13d8ac4a3",
    "slideshow": {
     "slide_type": "subslide"
    }
   },
   "outputs": [],
   "source": [
    "# 4) Did I take the prereq for the class OR get permission from the instructor?\n",
    "took_prereq = False\n",
    "have_permission = True\n",
    "\n",
    "took_prereq or have_permission\n",
    "(took_prereq == True) or (have_permission == True)"
   ]
  },
  {
   "cell_type": "markdown",
   "metadata": {
    "id": "LcXUfJ1qCmZD",
    "slideshow": {
     "slide_type": "slide"
    }
   },
   "source": [
    "## Coding challenge \\#2: construct basic conditional blocks\n",
    "\n",
    "Let's practice! Follow along with me to translate these English instructions into conditional blocks.\n",
    "1. If my speed is above the limit, print `stop`; otherwise, print `let me pass`;\n",
    "2. If I have a passport, print `come on in`; otherwise, print `go away`;\n",
    "3. If I have passed all the requirements for graduation, print `graduate!` otherwise, print `need to do more`.\n",
    "4. If I have a driver's license or a birth certificate (or both) print `passport renewed`, otherwise print `need one document` "
   ]
  },
  {
   "cell_type": "code",
   "execution_count": null,
   "metadata": {
    "colab": {
     "base_uri": "https://localhost:8080/"
    },
    "executionInfo": {
     "elapsed": 497,
     "status": "ok",
     "timestamp": 1613400839676,
     "user": {
      "displayName": "Joel Chan",
      "photoUrl": "https://lh3.googleusercontent.com/a-/AOh14GiBPPpBf_QqgDL3pMurAsPu9WJJE_x_6UtgW13UFQ=s64",
      "userId": "15153559228409906865"
     },
     "user_tz": 300
    },
    "id": "Dz1JKnykDI0c",
    "outputId": "98991791-76bb-4565-e1ca-e9704b333364",
    "slideshow": {
     "slide_type": "subslide"
    }
   },
   "outputs": [],
   "source": [
    "# 1) If my speed is above the limit, print stop; otherwise, let me pass\n",
    "\n",
    "speed = 25\n",
    "limit = 45\n",
    "\n",
    "# Your code here\n"
   ]
  },
  {
   "cell_type": "markdown",
   "metadata": {},
   "source": [
    "<br/>\n",
    "<br/>\n",
    "<br/>\n",
    "<br/>\n",
    "<br/>\n",
    "\n",
    "---"
   ]
  },
  {
   "cell_type": "code",
   "execution_count": null,
   "metadata": {
    "colab": {
     "base_uri": "https://localhost:8080/"
    },
    "executionInfo": {
     "elapsed": 496,
     "status": "ok",
     "timestamp": 1613400894868,
     "user": {
      "displayName": "Joel Chan",
      "photoUrl": "https://lh3.googleusercontent.com/a-/AOh14GiBPPpBf_QqgDL3pMurAsPu9WJJE_x_6UtgW13UFQ=s64",
      "userId": "15153559228409906865"
     },
     "user_tz": 300
    },
    "id": "AYdK47-AQ0s_",
    "outputId": "818adb29-13cd-4cb4-ecef-59b815cc6023",
    "slideshow": {
     "slide_type": "subslide"
    }
   },
   "outputs": [],
   "source": [
    "# 2) If I have a passport, print come on in; otherwise, print go away\n",
    "\n",
    "# Do I have a passport? Assign a Boolean value to the passport variable\n",
    "\n",
    "hasPassport = False \n",
    "\n",
    "# Your code here\n"
   ]
  },
  {
   "cell_type": "markdown",
   "metadata": {},
   "source": [
    "<br/>\n",
    "<br/>\n",
    "<br/>\n",
    "<br/>\n",
    "<br/>\n",
    "\n",
    "---"
   ]
  },
  {
   "cell_type": "code",
   "execution_count": null,
   "metadata": {
    "colab": {
     "base_uri": "https://localhost:8080/"
    },
    "executionInfo": {
     "elapsed": 507,
     "status": "ok",
     "timestamp": 1613401024364,
     "user": {
      "displayName": "Joel Chan",
      "photoUrl": "https://lh3.googleusercontent.com/a-/AOh14GiBPPpBf_QqgDL3pMurAsPu9WJJE_x_6UtgW13UFQ=s64",
      "userId": "15153559228409906865"
     },
     "user_tz": 300
    },
    "id": "6FSNM3KjRA5t",
    "outputId": "3219fcd1-1dce-4f4b-8ba3-ae9dd72f106d",
    "slideshow": {
     "slide_type": "subslide"
    }
   },
   "outputs": [],
   "source": [
    "# 3) If I have passed all the requirements for graduation, print graduate! \n",
    "#    Otherwise, print need to do more\n",
    "# \n",
    "# In practical terms:\n",
    "#\n",
    "#   Did I accumulate at least 120 credits AND earn at least a 2.5 GPA?\n",
    "\n",
    "num_credits = 110  # threshold of 120\n",
    "GPA = 1.9  # threshold of 2.5\n",
    "\n",
    "# Your code here\n"
   ]
  },
  {
   "cell_type": "markdown",
   "metadata": {},
   "source": [
    "<br/>\n",
    "<br/>\n",
    "<br/>\n",
    "<br/>\n",
    "<br/>\n",
    "\n",
    "---"
   ]
  },
  {
   "cell_type": "code",
   "execution_count": null,
   "metadata": {
    "slideshow": {
     "slide_type": "subslide"
    }
   },
   "outputs": [],
   "source": [
    "# 4) If I have a driver's license or a birth certificate (or both) print \n",
    "#    `passport renewed`, otherwise print `need one document` \n",
    "\n",
    "have_drivers_license = True\n",
    "have_birth_certificate = False\n",
    "age = 13 # minimum 16\n",
    "\n",
    "# Your code here\n"
   ]
  },
  {
   "cell_type": "markdown",
   "metadata": {},
   "source": [
    "<br/>\n",
    "<br/>\n",
    "<br/>\n",
    "<br/>\n",
    "<br/>\n",
    "\n",
    "---"
   ]
  },
  {
   "cell_type": "markdown",
   "metadata": {
    "id": "ffHIlz8iDDLM",
    "slideshow": {
     "slide_type": "subslide"
    }
   },
   "source": [
    "## Aside: the concept of scope\n",
    "\n",
    "Notice the idea of branch code: it's code that &ldquo;belongs&rdquo; to the branch. We only run it if we go into the branch. But also, variables that are defined in the scope of the if statement &lsquo;stay&rsquo; in there.\n",
    "\n",
    "This is the same thing that happens with functions. Whatever you define in the function is scoped to inside that function.\n",
    "\n",
    "In Python, we control what belongs to what with **indentation**. In other languages, you use things like curly braces (e.g., C, Java, Javascript)\n",
    "\n",
    "This is a fundamental concept, and also the mechanics are important: so pay attention to the indentation! As your programs get more complex, you may run into issues due to indentation. Variables might not mean what you think they mean because of their scope. So watch out when you see variables defined / assigned to inside a branch!"
   ]
  },
  {
   "cell_type": "markdown",
   "metadata": {},
   "source": [
    "### Example of conditional scopes\n",
    "\n",
    "Run this cell and observe its behavior. Then, restart the kernel (_Kernel &rarr; Restart Kernel_), assign a different value to either `gpa` or `credit` so that a different branch is taken, and observe the behavior again. What happened?"
   ]
  },
  {
   "cell_type": "code",
   "execution_count": null,
   "metadata": {
    "colab": {
     "base_uri": "https://localhost:8080/"
    },
    "executionInfo": {
     "elapsed": 612,
     "status": "ok",
     "timestamp": 1613401232245,
     "user": {
      "displayName": "Joel Chan",
      "photoUrl": "https://lh3.googleusercontent.com/a-/AOh14GiBPPpBf_QqgDL3pMurAsPu9WJJE_x_6UtgW13UFQ=s64",
      "userId": "15153559228409906865"
     },
     "user_tz": 300
    },
    "id": "w2qU4ufVRm1T",
    "outputId": "da460ae5-ff2a-435b-f252-cc42a2665e2f",
    "slideshow": {
     "slide_type": "subslide"
    }
   },
   "outputs": [],
   "source": [
    "# If I have passed all the requirements for graduation, print graduate! \n",
    "# Otherwise, print need to do more\n",
    "#\n",
    "# In practical terms:\n",
    "#   \n",
    "#   Did I accumulate at least 120 credits AND earn at least a 2.5 GPA?\n",
    "\n",
    "# main scope\n",
    "n_credits = 30\n",
    "gpa = 3.95\n",
    "a = \"hello\"\n",
    "\n",
    "if n_credits >= 120 and gpa >= 2.5:\n",
    "    # if (true) scope\n",
    "    print(\"Go ahead\") \n",
    "    student_status = \"to graduate\"\n",
    "else:\n",
    "    # else (false) scope\n",
    "    print(\"Take more classes\")\n",
    "    print(\"Your credits are\", n_credits)\n",
    "    advisor = \"Mr. John\"\n",
    "\n",
    "# This will always print\n",
    "print(f\"{a=}\")\n",
    "\n",
    "# This will print if the else branch was taken, NameError otherwise\n",
    "print(f\"{advisor=}\")\n",
    "\n",
    "# This will print if the if branch was taken, NameError otherwise\n",
    "print(f\"{student_status=}\")"
   ]
  },
  {
   "cell_type": "markdown",
   "metadata": {
    "id": "21v9caNsEE1A",
    "slideshow": {
     "slide_type": "slide"
    }
   },
   "source": [
    "## More complex conditional structures\n",
    "\n",
    "The if / else conditional block is the most basic and easy to understand. \n",
    "\n",
    "But often your programs may require something a bit simpler, and sometimes a bit more complex."
   ]
  },
  {
   "cell_type": "markdown",
   "metadata": {
    "id": "oh3kS5FLBquN",
    "slideshow": {
     "slide_type": "fragment"
    }
   },
   "source": [
    "### Conditional execution\n",
    "\n",
    "The `else` branch is actually optional. Sometimes you just want to do something if it's true, otherwise you do nothing. \n",
    "\n",
    "Some examples:\n",
    "- Only stop someone if they're above the speed limit\n",
    "\n",
    "- Tell me if someone is coming!\n",
    "\n",
    "- Look through the bag and only pull out the red skittles\n",
    "\n",
    "- Can you think of any others?"
   ]
  },
  {
   "cell_type": "code",
   "execution_count": null,
   "metadata": {
    "id": "ttMHXVzySS8m",
    "slideshow": {
     "slide_type": "subslide"
    }
   },
   "outputs": [],
   "source": [
    "speed = 25\n",
    "limit = 30\n",
    "\n",
    "if speed > limit:\n",
    "    print(\"Stop!\")"
   ]
  },
  {
   "cell_type": "markdown",
   "metadata": {
    "id": "VZzGfpRdB6ca",
    "slideshow": {
     "slide_type": "slide"
    }
   },
   "source": [
    "### Chained conditionals\n",
    "\n",
    "Sometimes you have more than two choices of paths (branches). \n",
    "\n",
    "In that case you need an a __chained conditional__ (`elif` statement). \n",
    "\n",
    "- Ex. You have&mldr; \n",
    "  - &mldr;a fever if you're above 100, \n",
    "  - &mldr;hypothermia if you're under 95; \n",
    "  - &mldr;otherwise, you're all good! \n",
    " \n",
    " There are three possibilities here."
   ]
  },
  {
   "cell_type": "markdown",
   "metadata": {
    "id": "VZzGfpRdB6ca",
    "slideshow": {
     "slide_type": "subslide"
    }
   },
   "source": [
    "Or, you want to check if a number is **less than**, **greater than**, or **equal than** some other number, and choose *only one path* (one branch) from the choices. "
   ]
  },
  {
   "cell_type": "markdown",
   "metadata": {
    "id": "VZzGfpRdB6ca",
    "slideshow": {
     "slide_type": "subslide"
    }
   },
   "source": [
    "Here's a picture of that from the PY4E textbook that may help visualize this:\n",
    "<img src=\"https://www.py4e.com/images/elif.svg\" height=300 width=500></img>"
   ]
  },
  {
   "cell_type": "markdown",
   "metadata": {
    "id": "VZzGfpRdB6ca",
    "slideshow": {
     "slide_type": "subslide"
    }
   },
   "source": [
    "The key difference with the regular &ldquo;if / else&rdquo; block is that you need more than one Boolean expression. \n",
    "\n",
    "One for each `if` or `elif` statement."
   ]
  },
  {
   "cell_type": "code",
   "execution_count": null,
   "metadata": {
    "id": "BaHh7pSfCCNm",
    "slideshow": {
     "slide_type": "subslide"
    }
   },
   "outputs": [],
   "source": [
    "# Fever/hypothermia/all good example\n",
    "\n",
    "temp_f = 97\n",
    "\n",
    "# chained conditional\n",
    "if temp_f < 95:\n",
    "    print(\"hypothermia\")\n",
    "    print(\"Go seek a doctor!\")\n",
    "elif temp_f < 100:\n",
    "    print(\"all good!\")\n",
    "    print(\"No need to see the doctor!\")\n",
    "else:\n",
    "    print(\"fever!\")\n",
    "    print(\"Drink plenty of fluids!\")\n",
    "    \n",
    "print(\"Thank you for using UMD's temperature check station!\")"
   ]
  },
  {
   "cell_type": "code",
   "execution_count": null,
   "metadata": {
    "id": "BaHh7pSfCCNm",
    "slideshow": {
     "slide_type": "subslide"
    }
   },
   "outputs": [],
   "source": [
    "# Alternative: three disjoint if statements\n",
    "if temp_f < 95:\n",
    "    print(\"hypothermia\")\n",
    "\n",
    "if temp_f < 100:\n",
    "    print(\"all good\")\n",
    "\n",
    "if temp_f >= 100:\n",
    "    print(\"fever\")"
   ]
  },
  {
   "cell_type": "code",
   "execution_count": null,
   "metadata": {
    "colab": {
     "base_uri": "https://localhost:8080/"
    },
    "executionInfo": {
     "elapsed": 766,
     "status": "ok",
     "timestamp": 1613401884457,
     "user": {
      "displayName": "Joel Chan",
      "photoUrl": "https://lh3.googleusercontent.com/a-/AOh14GiBPPpBf_QqgDL3pMurAsPu9WJJE_x_6UtgW13UFQ=s64",
      "userId": "15153559228409906865"
     },
     "user_tz": 300
    },
    "id": "xkmEFE1UOWD3",
    "outputId": "87d26c55-f07e-47ad-c4b4-37af624b28d2",
    "slideshow": {
     "slide_type": "subslide"
    }
   },
   "outputs": [],
   "source": [
    "# Graduation requirements \n",
    "#\n",
    "# Let's add more detailed advising:\n",
    "# - If not enough credits, need to take more classes\n",
    "# - If GPA is not high enough, need to bump it up\n",
    "# - If neither, need to talk with coordinator\n",
    "\n",
    "num_credits = 110  # threshold of 120\n",
    "GPA = 1.5  # threshold of 2.5\n",
    "\n",
    "if (num_credits < 120) and (GPA < 2.5):\n",
    "    print(\"talk with coordinator\")\n",
    "elif (num_credits >= 120) or (GPA < 2.5):\n",
    "    print(\"need to bump it up\")\n",
    "elif num_credits < 120:\n",
    "    print(\"need more classes\")\n",
    "else:\n",
    "    print(\"graduate!\")\n",
    "    "
   ]
  },
  {
   "cell_type": "markdown",
   "metadata": {
    "id": "19fV3icBCCu0",
    "slideshow": {
     "slide_type": "subslide"
    }
   },
   "source": [
    "## Practice: chained conditionals\n",
    "\n",
    "Let's translate these English instructions into Python chained conditional blocks.\n",
    "\n",
    "* Ticket pricing: \n",
    "  - If you're under 5 or 65 and up, price is zero; \n",
    "  - If you're theater staff, you get half price (7.50); \n",
    "  - Otherwise pay normal price (15)"
   ]
  },
  {
   "cell_type": "code",
   "execution_count": null,
   "metadata": {
    "colab": {
     "base_uri": "https://localhost:8080/"
    },
    "executionInfo": {
     "elapsed": 527,
     "status": "ok",
     "timestamp": 1613402041897,
     "user": {
      "displayName": "Joel Chan",
      "photoUrl": "https://lh3.googleusercontent.com/a-/AOh14GiBPPpBf_QqgDL3pMurAsPu9WJJE_x_6UtgW13UFQ=s64",
      "userId": "15153559228409906865"
     },
     "user_tz": 300
    },
    "id": "9Js_HCT58gTA",
    "outputId": "6498e042-f8ed-483e-d8e4-2f49d34ff989",
    "slideshow": {
     "slide_type": "subslide"
    }
   },
   "outputs": [],
   "source": [
    "# Ticket pricing: \n",
    "# - If you're under 5 or 65 and up, price is zero; \n",
    "# - If you're theater staff, you get half price (7.50); \n",
    "# Otherwise pay normal price (15)\n",
    "\n",
    "age = 65\n",
    "theater_staff = True\n",
    "\n",
    "if (age < 5) or (age >= 65):\n",
    "    price = 0\n",
    "elif theater_staff:\n",
    "    price = 7.50\n",
    "else:\n",
    "    price = 15    \n",
    "    \n",
    "print(price)"
   ]
  },
  {
   "cell_type": "markdown",
   "metadata": {
    "id": "_1BiX-ZSCO_O",
    "slideshow": {
     "slide_type": "slide"
    }
   },
   "source": [
    "### Nested conditionals\n",
    "\n",
    "Sometimes it only makes sense to check a condition based on earlier conditions. \n",
    "\n",
    "This is like a garden of forking paths or choose your own adventure. \n",
    "\n",
    "Sometimes this lets you save time / operations. \n",
    "\n",
    "Other times, this lets you write code that is more clear / expressive."
   ]
  },
  {
   "cell_type": "markdown",
   "metadata": {
    "id": "_1BiX-ZSCO_O",
    "slideshow": {
     "slide_type": "subslide"
    }
   },
   "source": [
    "Here's an example from the PY4E textbook, with a picture first:\n",
    "\n",
    "<img src=\"https://www.py4e.com/images/nested.svg\" height=400 width=600></img>"
   ]
  },
  {
   "cell_type": "code",
   "execution_count": null,
   "metadata": {
    "slideshow": {
     "slide_type": "subslide"
    }
   },
   "outputs": [],
   "source": [
    "x = 1\n",
    "y = 2\n",
    "if x == y:\n",
    "    print(\"equal\")\n",
    "else:\n",
    "    if x < y:\n",
    "        print(\"less\")\n",
    "    else:\n",
    "        print(\"greater\")"
   ]
  },
  {
   "cell_type": "code",
   "execution_count": null,
   "metadata": {
    "slideshow": {
     "slide_type": "subslide"
    }
   },
   "outputs": [],
   "source": [
    "# The \"graduation requirements\" problem with nested conditionals\n",
    "\n",
    "num_credits = 110  # threshold of 120\n",
    "GPA = 1.5  # threshold of 2.5\n",
    "\n",
    "if num_credits >= 120:\n",
    "    if GPA > 2.5:\n",
    "        print(\"Graduate\")\n",
    "    else:\n",
    "        print(\"Need to bump up your GPA\")\n",
    "else:\n",
    "    if GPA < 2.5:\n",
    "        print(\"Meet me in my office\")\n",
    "    else:\n",
    "        print(\"Need to take more classes\")"
   ]
  },
  {
   "cell_type": "markdown",
   "metadata": {
    "id": "Nyxk2KfLIDXz",
    "slideshow": {
     "slide_type": "slide"
    }
   },
   "source": [
    "## Practice: Nested Conditionals \n",
    "\n",
    "Let's translate these English instructions into Python conditional blocks.\n",
    "* __Polling booth__: \n",
    "   - If you don't have an ID, go away and register, then come back; \n",
    "   - If you have an ID come on in! Then, if you need assistance, go to the help booth; otherwise, go to the normal booth."
   ]
  },
  {
   "cell_type": "code",
   "execution_count": null,
   "metadata": {
    "id": "KCe_GVMMICZh",
    "slideshow": {
     "slide_type": "subslide"
    }
   },
   "outputs": [],
   "source": [
    "# polling booth: \n",
    "# - If you don't have an ID, go away and register, then come back; \n",
    "# - If you have an ID come on in! Then, if you need assistance, go to the help booth; \n",
    "#   otherwise, go to the normal booth.\n",
    "\n",
    "have_ID = False\n",
    "need_assistance = False\n",
    "\n",
    "if have_ID:\n",
    "    print(\"come on in!\")\n",
    "    if need_assistance:\n",
    "        print(\"go to help booth\")\n",
    "    else:\n",
    "        print(\"go to normal booth\")\n",
    "else:\n",
    "    print(\"go away and register!\")"
   ]
  },
  {
   "cell_type": "markdown",
   "metadata": {
    "slideshow": {
     "slide_type": "skip"
    }
   },
   "source": [
    "The PY4E text says that sometimes this sort of code isn't great practice. \n",
    "\n",
    "It is legal code, but it can be hard to understand and debug. \n",
    "\n",
    "I'm not sure I completely agree. I think it depends on the structure of your problem. \n",
    "\n",
    "I like to write nested conditionals when the underlying logic is really like a garden of forking paths."
   ]
  },
  {
   "cell_type": "markdown",
   "metadata": {
    "tags": []
   },
   "source": [
    "<br/>\n",
    "<br/>\n",
    "<br/>\n",
    "<br/>\n",
    "<br/>\n",
    "<br/>\n",
    "<br/>\n",
    "<br/>\n",
    "<br/>\n",
    "<br/>\n",
    "<br/>\n",
    "<br/>\n",
    "<br/>\n",
    "<br/>\n",
    "<br/>\n",
    "<br/>\n",
    "<br/>\n",
    "<br/>\n",
    "<br/>\n",
    "<br/>\n",
    "<br/>\n",
    "<br/>\n",
    "<br/>\n",
    "<br/>\n",
    "\n",
    "---\n",
    "\n",
    "# Solutions\n",
    "\n",
    "## Coding Challenge \\#1"
   ]
  },
  {
   "cell_type": "markdown",
   "metadata": {
    "slideshow": {
     "slide_type": "subslide"
    }
   },
   "source": [
    "**Even / odd numbers**. Print whether a number is even or odd."
   ]
  },
  {
   "cell_type": "code",
   "execution_count": null,
   "metadata": {
    "slideshow": {
     "slide_type": "subslide"
    }
   },
   "outputs": [],
   "source": [
    "num = 13\n",
    "\n",
    "if (num % 2 == 0):\n",
    "    print(\"num is even\")\n",
    "else:\n",
    "    print(\"num is odd\")\n",
    "    "
   ]
  },
  {
   "cell_type": "markdown",
   "metadata": {
    "slideshow": {
     "slide_type": "slide"
    }
   },
   "source": [
    "__Password checker__. Say `come in` if the password matches the user input, otherwise say `go away`\n",
    "\n",
    "For this we will use the `input()` function to prompt for input."
   ]
  },
  {
   "cell_type": "code",
   "execution_count": null,
   "metadata": {
    "colab": {
     "base_uri": "https://localhost:8080/",
     "height": 35
    },
    "executionInfo": {
     "elapsed": 366,
     "status": "ok",
     "timestamp": 1600700847004,
     "user": {
      "displayName": "Joel Chan",
      "photoUrl": "https://lh3.googleusercontent.com/a-/AOh14GiBPPpBf_QqgDL3pMurAsPu9WJJE_x_6UtgW13UFQ=s64",
      "userId": "15153559228409906865"
     },
     "user_tz": 240
    },
    "id": "S3Tqmgxc_h5Y",
    "outputId": "07807add-dd67-4c9f-bf17-5ff7933ef8ae",
    "slideshow": {
     "slide_type": "subslide"
    }
   },
   "outputs": [],
   "source": [
    "password = \"bunny\"\n",
    "user_input = input(\"Please enter your password: \")\n",
    "\n",
    "if (password == user_input):\n",
    "    print(\"come in\")\n",
    "else:\n",
    "    print(\"go away\")"
   ]
  },
  {
   "cell_type": "markdown",
   "metadata": {
    "slideshow": {
     "slide_type": "slide"
    }
   },
   "source": [
    "__ID check__. Waiter checking your age on your ID, and then lists the beers on the menu or says `\"have some water\"`"
   ]
  },
  {
   "cell_type": "code",
   "execution_count": null,
   "metadata": {
    "id": "4DLKesNtGzZs",
    "slideshow": {
     "slide_type": "subslide"
    }
   },
   "outputs": [],
   "source": [
    "drinking_age = 21\n",
    "\n",
    "user_input = input(\"What is your age? \")\n",
    "user_input = int(user_input)\n",
    "\n",
    "# Your code here\n",
    "\n",
    "if (user_input >= drinking_age):\n",
    "    print(\" - IPA\")\n",
    "    print(\" - Lager\")\n",
    "    print(\" - Porter\")\n",
    "else:\n",
    "    print(\"have some water!\")"
   ]
  },
  {
   "cell_type": "markdown",
   "metadata": {
    "id": "LcXUfJ1qCmZD",
    "slideshow": {
     "slide_type": "slide"
    }
   },
   "source": [
    "## Coding challenge \\#2: construct basic conditional blocks\n",
    "\n",
    "Let's practice! Follow along with me to translate these English instructions into conditional blocks.\n",
    "1. If my speed is above the limit, print `stop`; otherwise, print `let me pass`;\n",
    "2. If I have a passport, print `come on in`; otherwise, print `go away`;\n",
    "3. If I have passed all the requirements for graduation, print `graduate!` otherwise, print `need to do more`.\n",
    "4. If I have a driver's license or a birth certificate (or both) print `passport renewed`, otherwise print `need one document` "
   ]
  },
  {
   "cell_type": "code",
   "execution_count": null,
   "metadata": {
    "colab": {
     "base_uri": "https://localhost:8080/"
    },
    "executionInfo": {
     "elapsed": 497,
     "status": "ok",
     "timestamp": 1613400839676,
     "user": {
      "displayName": "Joel Chan",
      "photoUrl": "https://lh3.googleusercontent.com/a-/AOh14GiBPPpBf_QqgDL3pMurAsPu9WJJE_x_6UtgW13UFQ=s64",
      "userId": "15153559228409906865"
     },
     "user_tz": 300
    },
    "id": "Dz1JKnykDI0c",
    "outputId": "98991791-76bb-4565-e1ca-e9704b333364",
    "slideshow": {
     "slide_type": "subslide"
    }
   },
   "outputs": [],
   "source": [
    "# 1) If my speed is above the limit, print stop; otherwise, let me pass\n",
    "\n",
    "speed = 25\n",
    "limit = 45\n",
    "\n",
    "if (speed > limit):\n",
    "    print(\"stop\")\n",
    "else:\n",
    "    print(\"let me pass\")\n",
    "    "
   ]
  },
  {
   "cell_type": "markdown",
   "metadata": {
    "colab": {
     "base_uri": "https://localhost:8080/"
    },
    "executionInfo": {
     "elapsed": 497,
     "status": "ok",
     "timestamp": 1613400839676,
     "user": {
      "displayName": "Joel Chan",
      "photoUrl": "https://lh3.googleusercontent.com/a-/AOh14GiBPPpBf_QqgDL3pMurAsPu9WJJE_x_6UtgW13UFQ=s64",
      "userId": "15153559228409906865"
     },
     "user_tz": 300
    },
    "id": "Dz1JKnykDI0c",
    "outputId": "98991791-76bb-4565-e1ca-e9704b333364",
    "slideshow": {
     "slide_type": "subslide"
    }
   },
   "source": [
    "This is equivalent to:    "
   ]
  },
  {
   "cell_type": "code",
   "execution_count": null,
   "metadata": {
    "colab": {
     "base_uri": "https://localhost:8080/"
    },
    "executionInfo": {
     "elapsed": 497,
     "status": "ok",
     "timestamp": 1613400839676,
     "user": {
      "displayName": "Joel Chan",
      "photoUrl": "https://lh3.googleusercontent.com/a-/AOh14GiBPPpBf_QqgDL3pMurAsPu9WJJE_x_6UtgW13UFQ=s64",
      "userId": "15153559228409906865"
     },
     "user_tz": 300
    },
    "id": "Dz1JKnykDI0c",
    "outputId": "98991791-76bb-4565-e1ca-e9704b333364",
    "slideshow": {
     "slide_type": "subslide"
    }
   },
   "outputs": [],
   "source": [
    "if (speed <= limit):\n",
    "    print(\"let me pass\")\n",
    "else:\n",
    "    print(\"stop\")"
   ]
  },
  {
   "cell_type": "code",
   "execution_count": null,
   "metadata": {
    "colab": {
     "base_uri": "https://localhost:8080/"
    },
    "executionInfo": {
     "elapsed": 496,
     "status": "ok",
     "timestamp": 1613400894868,
     "user": {
      "displayName": "Joel Chan",
      "photoUrl": "https://lh3.googleusercontent.com/a-/AOh14GiBPPpBf_QqgDL3pMurAsPu9WJJE_x_6UtgW13UFQ=s64",
      "userId": "15153559228409906865"
     },
     "user_tz": 300
    },
    "id": "AYdK47-AQ0s_",
    "outputId": "818adb29-13cd-4cb4-ecef-59b815cc6023",
    "slideshow": {
     "slide_type": "subslide"
    }
   },
   "outputs": [],
   "source": [
    "# 2) If I have a passport, print come on in; otherwise, print go away\n",
    "\n",
    "# Do I have a passport? Assign a Boolean value to the passport variable\n",
    "\n",
    "hasPassport = False \n",
    "\n",
    "if hasPassport:\n",
    "    print(\"come on in\")\n",
    "else:\n",
    "    print(\"go away\")"
   ]
  },
  {
   "cell_type": "code",
   "execution_count": null,
   "metadata": {
    "colab": {
     "base_uri": "https://localhost:8080/"
    },
    "executionInfo": {
     "elapsed": 507,
     "status": "ok",
     "timestamp": 1613401024364,
     "user": {
      "displayName": "Joel Chan",
      "photoUrl": "https://lh3.googleusercontent.com/a-/AOh14GiBPPpBf_QqgDL3pMurAsPu9WJJE_x_6UtgW13UFQ=s64",
      "userId": "15153559228409906865"
     },
     "user_tz": 300
    },
    "id": "6FSNM3KjRA5t",
    "outputId": "3219fcd1-1dce-4f4b-8ba3-ae9dd72f106d",
    "slideshow": {
     "slide_type": "subslide"
    }
   },
   "outputs": [],
   "source": [
    "# 3) If I have passed all the requirements for graduation, print graduate! \n",
    "#    Otherwise, print need to do more\n",
    "# \n",
    "# In practical terms:\n",
    "#\n",
    "#   Did I accumulate at least 120 credits AND earn at least a 2.5 GPA?\n",
    "\n",
    "num_credits = 110  # threshold of 120\n",
    "GPA = 1.9  # threshold of 2.5\n",
    "\n",
    "if (num_credits >= 120) and (GPA >= 2.5):\n",
    "    print(\"graduate!\")\n",
    "    print(\"Then look for a job!\")\n",
    "    job_looking = True\n",
    "else:\n",
    "    print(\"need to do more!\")\n"
   ]
  },
  {
   "cell_type": "code",
   "execution_count": null,
   "metadata": {
    "slideshow": {
     "slide_type": "subslide"
    }
   },
   "outputs": [],
   "source": [
    "# 4) If I have a driver's license or a birth certificate (or both) print \n",
    "#    `passport renewed`, otherwise print `need one document` \n",
    "\n",
    "have_drivers_license = True\n",
    "have_birth_certificate = False\n",
    "age = 13 # minimum 16\n",
    "\n",
    "if (have_drivers_license or have_birth_certificate) or (age >= 16):\n",
    "    print(\"passport renewed\")\n",
    "else:\n",
    "    print(\"need one document\")"
   ]
  }
 ],
 "metadata": {
  "celltoolbar": "Slideshow",
  "colab": {
   "name": "INST126_SP21_Week4_Conditionals_post-class.ipynb",
   "provenance": [],
   "toc_visible": true
  },
  "kernelspec": {
   "display_name": "Python 3 (ipykernel)",
   "language": "python",
   "name": "python3"
  },
  "language_info": {
   "codemirror_mode": {
    "name": "ipython",
    "version": 3
   },
   "file_extension": ".py",
   "mimetype": "text/x-python",
   "name": "python",
   "nbconvert_exporter": "python",
   "pygments_lexer": "ipython3",
   "version": "3.11.7"
  },
  "toc": {
   "base_numbering": 1,
   "nav_menu": {},
   "number_sections": false,
   "sideBar": true,
   "skip_h1_title": false,
   "title_cell": "Table of Contents",
   "title_sidebar": "Contents",
   "toc_cell": false,
   "toc_position": {},
   "toc_section_display": true,
   "toc_window_display": false
  }
 },
 "nbformat": 4,
 "nbformat_minor": 4
}
