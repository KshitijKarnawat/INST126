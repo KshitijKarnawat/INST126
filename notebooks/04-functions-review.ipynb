{
 "cells": [
  {
   "cell_type": "markdown",
   "metadata": {
    "id": "IUP5mKyTxbRy"
   },
   "source": [
    "Functions Review\n",
    "================"
   ]
  },
  {
   "cell_type": "markdown",
   "metadata": {
    "id": "g-lkfdphxbR0"
   },
   "source": [
    "## What are functions and why do we care about them?\n",
    "Functions are basically machines that take some __input(s)__, do some __operations__ on the input(s), and then produce an __output__.\n",
    "\n",
    "Why we need functions:    \n",
    "- Model your problem so that it can be solved by a computer well aka Computational Thinking\n",
    "- Make fewer errors (reduce points of failure from copy/paste, etc.)"
   ]
  },
  {
   "cell_type": "markdown",
   "metadata": {
    "id": "g-lkfdphxbR0"
   },
   "source": [
    "## An example: simple revenue analysis\n",
    "\n",
    "Here is a motivating example: a simple data analysis pipeline to compute percent change in revenue from last year.\n",
    "\n",
    "We have two sales numbers\n",
    "- `last_year = \"$150,000\"`\n",
    "- `this_year = \"$230,000\"`\n",
    "\n",
    "How can we analyze them? What are the subproblems here that we'll need to solve?\n",
    "\n",
    "Keep this in mind, we'll come back to this."
   ]
  },
  {
   "cell_type": "markdown",
   "metadata": {},
   "source": [
    "__NOTE__ Using just expressions will not work, because our input data Python is not smart enough to understand the format for a currency like the US dollar.\n",
    "\n",
    "For example, just converting the string to `int()` will not work:"
   ]
  },
  {
   "cell_type": "code",
   "execution_count": null,
   "metadata": {
    "id": "gQbQMwfWNJJN"
   },
   "outputs": [],
   "source": [
    "int(\"$150,000\")  # <--- btw, this will not work"
   ]
  },
  {
   "cell_type": "markdown",
   "metadata": {},
   "source": [
    "_Incidentally_: `ValueError` is another class of errors that are triggered when there is a problem with the _value_ of an operation, not its type."
   ]
  },
  {
   "cell_type": "markdown",
   "metadata": {
    "id": "ifBcaTKuA2jN"
   },
   "source": [
    "<br/>\n",
    "<br/>\n",
    "<br/>\n",
    "<br/>\n",
    "<br/>\n",
    "<br/>\n",
    "<br/>\n",
    "\n",
    "---\n",
    "\n",
    "## Anatomy of a Python function definition and function call\n",
    "\n",
    "Let's take a closer look at what a function actually is in Python. \n",
    "\n",
    "We will use this example:"
   ]
  },
  {
   "cell_type": "code",
   "execution_count": null,
   "metadata": {
    "executionInfo": {
     "elapsed": 501,
     "status": "ok",
     "timestamp": 1612794869144,
     "user": {
      "displayName": "Joel Chan",
      "photoUrl": "https://lh3.googleusercontent.com/a-/AOh14GiBPPpBf_QqgDL3pMurAsPu9WJJE_x_6UtgW13UFQ=s64",
      "userId": "15153559228409906865"
     },
     "user_tz": 300
    },
    "id": "Fu2eYI2iBrBg"
   },
   "outputs": [],
   "source": [
    "def minutes_to_hours(minutes):\n",
    "    result = minutes / 60\n",
    "    return result"
   ]
  },
  {
   "cell_type": "code",
   "execution_count": null,
   "metadata": {},
   "outputs": [],
   "source": [
    "mins = 150\n",
    "print(minutes_to_hours(mins))"
   ]
  },
  {
   "cell_type": "markdown",
   "metadata": {},
   "source": [
    "Here, we have the function name (`minutes_to_hours`), and the argument `mins` being passed as input to the function, and code that takes the return value from the function and prints it out."
   ]
  },
  {
   "cell_type": "markdown",
   "metadata": {},
   "source": [
    "<img src=\"https://terpconnect.umd.edu/~gciampag/INST126/images/Function definition (annotated).png\" height=600 width=800></img>"
   ]
  },
  {
   "cell_type": "markdown",
   "metadata": {},
   "source": [
    "<img src=\"https://terpconnect.umd.edu/~gciampag/INST126/images/Function call (annotated).png\" height=300 width=500></img>"
   ]
  },
  {
   "cell_type": "markdown",
   "metadata": {},
   "source": [
    "What's happening under the hood at this function call is:\n",
    "1. Define the variable `mins` and put the value 150 in it\n",
    "2. Retrieve the code associated with the function name `minutes_to_hours` and give it `mins` as an input argument\n",
    "3. Run the code associated with the function name `minutes_to_hours` with `mins` as input, and return the result\n",
    "4. Pass that result to the `print` function (yes, this is a function also!) as an input argument.\n",
    "\n",
    "\n",
    "<br/>\n",
    "<br/>\n",
    "<br/>\n",
    "<br/>\n",
    "\n",
    "---\n",
    "\n",
    "Let's look at another example pair. Where are the arguments and parameters?"
   ]
  },
  {
   "cell_type": "code",
   "execution_count": null,
   "metadata": {
    "executionInfo": {
     "elapsed": 553,
     "status": "ok",
     "timestamp": 1612794865821,
     "user": {
      "displayName": "Joel Chan",
      "photoUrl": "https://lh3.googleusercontent.com/a-/AOh14GiBPPpBf_QqgDL3pMurAsPu9WJJE_x_6UtgW13UFQ=s64",
      "userId": "15153559228409906865"
     },
     "user_tz": 300
    },
    "id": "_h3Kq36sDt8u"
   },
   "outputs": [],
   "source": [
    "def bouncer(age):\n",
    "    result = age >= 21\n",
    "    return result"
   ]
  },
  {
   "cell_type": "code",
   "execution_count": null,
   "metadata": {
    "colab": {
     "base_uri": "https://localhost:8080/"
    },
    "executionInfo": {
     "elapsed": 358,
     "status": "ok",
     "timestamp": 1612795108919,
     "user": {
      "displayName": "Joel Chan",
      "photoUrl": "https://lh3.googleusercontent.com/a-/AOh14GiBPPpBf_QqgDL3pMurAsPu9WJJE_x_6UtgW13UFQ=s64",
      "userId": "15153559228409906865"
     },
     "user_tz": 300
    },
    "id": "MXSU469VEdn-",
    "outputId": "918bfa03-e68c-42de-f17f-c0144ac3e82f"
   },
   "outputs": [],
   "source": [
    "your_age = 24\n",
    "can_come_in = bouncer(your_age)\n",
    "print(can_come_in)"
   ]
  },
  {
   "cell_type": "markdown",
   "metadata": {
    "id": "6tVUEp2OGFS0"
   },
   "source": [
    "\n",
    "<br/>\n",
    "<br/>\n",
    "<br/>\n",
    "<br/>\n",
    "<br/>\n",
    "\n",
    "---\n",
    "\n",
    "## Documenting your functions with docstrings\n",
    "\n",
    "As a best practice, it's often a good idea to document your functions in a particular way to expose this logic. \n",
    "\n",
    "A common format is a **docstring**, which has three main components:\n",
    "1. A brief description of what the function does\n",
    "2. A description of the key parameters and their data types and roles\n",
    "3. A description of the return value(s) of the function\n",
    "\n",
    "Here's what it might look like for this function."
   ]
  },
  {
   "cell_type": "code",
   "execution_count": null,
   "metadata": {
    "id": "obRUwDJZB0y8"
   },
   "outputs": [],
   "source": [
    "def minus(x, y): # define the parameters\n",
    "    \"\"\"Subtract a second number from the first number \n",
    "\n",
    "    Params:\n",
    "    - x (int) - the first number\n",
    "    - y (int) - the second number\n",
    "\n",
    "    Returns:\n",
    "    - result (int) - the difference between the numbers\n",
    "    \"\"\"\n",
    "\n",
    "    result = x - y # body of function\n",
    "    return result # return value"
   ]
  },
  {
   "cell_type": "markdown",
   "metadata": {
    "id": "ffHIlz8iDDLM"
   },
   "source": [
    "<br/>\n",
    "<br/>\n",
    "<br/>\n",
    "<br/>\n",
    "<br/>\n",
    "\n",
    "---\n",
    "\n",
    "## To review: Arguments vs. parameters\n",
    "\n",
    "Parameters and arguments are easy to confuse. \n",
    "\n",
    "One tip I have to drive this home is to write your function calls like this, where you actually make this analogy explicit. \n",
    "\n",
    "We'll actually see this format come back later on when we deal with more complicated functions, especially when we borrow code from other libraries!"
   ]
  },
  {
   "cell_type": "code",
   "execution_count": null,
   "metadata": {
    "colab": {
     "base_uri": "https://localhost:8080/",
     "height": 34
    },
    "executionInfo": {
     "elapsed": 321,
     "status": "ok",
     "timestamp": 1600097615673,
     "user": {
      "displayName": "Joel Chan",
      "photoUrl": "https://lh3.googleusercontent.com/a-/AOh14GiBPPpBf_QqgDL3pMurAsPu9WJJE_x_6UtgW13UFQ=s64",
      "userId": "15153559228409906865"
     },
     "user_tz": 240
    },
    "id": "oeFZ9HEQP1-9",
    "outputId": "b65c174c-8f05-4287-fd22-1f10ca00c9f2"
   },
   "outputs": [],
   "source": [
    "# if you want to make life easier for yourself when you're still learning,\n",
    "# you can make this explicit in the function call code\n",
    "minutes_to_hours(minutes=90)"
   ]
  },
  {
   "cell_type": "code",
   "execution_count": null,
   "metadata": {},
   "outputs": [],
   "source": [
    "# equivalently\n",
    "mins = 120\n",
    "minutes_to_hours(minutes=mins)"
   ]
  },
  {
   "cell_type": "code",
   "execution_count": null,
   "metadata": {
    "colab": {
     "base_uri": "https://localhost:8080/",
     "height": 168
    },
    "executionInfo": {
     "elapsed": 336,
     "status": "error",
     "timestamp": 1612796335820,
     "user": {
      "displayName": "Joel Chan",
      "photoUrl": "https://lh3.googleusercontent.com/a-/AOh14GiBPPpBf_QqgDL3pMurAsPu9WJJE_x_6UtgW13UFQ=s64",
      "userId": "15153559228409906865"
     },
     "user_tz": 300
    },
    "id": "55B47lMhJkU0",
    "outputId": "2bd6e6df-d49b-46ad-d69c-2dbfa018ed94"
   },
   "outputs": [],
   "source": [
    "my_age = 19\n",
    "bouncer(age=my_age)"
   ]
  },
  {
   "cell_type": "markdown",
   "metadata": {
    "id": "FYVv4YjdCjfS"
   },
   "source": [
    "<br/>\n",
    "<br/>\n",
    "<br/>\n",
    "<br/>\n",
    "<br/>\n",
    "\n",
    "---\n",
    "\n",
    "# Coding Challenge: How to define functions\n",
    "\n",
    "<div class=\"alert alert-info\">The solutions are the bottom of the notebook.</div>\n",
    "\n",
    "Let's go back to our motivating example of computing percent change in revenue.\n",
    "\n",
    "We will see how to break this problem into multiple steps / different functions:\n",
    "\n",
    "* make the input numbers actually numbers (3 steps):\n",
    "\n",
    "   1. remove dollar signs (`$`)\n",
    "\n",
    "   2. remove the comma (`,`)\n",
    "   \n",
    "   3. convert to float\n",
    "\n",
    "* compute the percent change"
   ]
  },
  {
   "cell_type": "markdown",
   "metadata": {},
   "source": [
    "## Step 1: convert an input to a number"
   ]
  },
  {
   "cell_type": "markdown",
   "metadata": {},
   "source": [
    "For this step we will make use of one special feature of Python strings which is the `.replace()` method. \n",
    "\n",
    "(This is a _string manipulation_ method; we will see all string manipulation methods available to strings in Module 2.) \n",
    "\n",
    "Given a string, you can remove characters in it by call the `.replace()` method. Here is an example:"
   ]
  },
  {
   "cell_type": "code",
   "execution_count": null,
   "metadata": {},
   "outputs": [],
   "source": [
    "# Remove all 'o' characters from \"hello world\" \n",
    "s = \"hello world\"\n",
    "s.replace(\"o\", \"\")"
   ]
  },
  {
   "cell_type": "markdown",
   "metadata": {},
   "source": [
    "### Task description\n",
    "\n",
    "Define a function named `clean_sale_number` that converts a string with a sale number in dollars (like `$100,000.14`) and returns the same number as a `float` (`100000.14`).\n",
    "\n",
    "The function should take a single parameter called `sale_num_str` with the sale number string, and should return a float.\n",
    "\n",
    "### Hint \n",
    "Use the `replace` method to remove the `$` sign and the `,` sign"
   ]
  },
  {
   "cell_type": "code",
   "execution_count": null,
   "metadata": {},
   "outputs": [],
   "source": [
    "# YOUR CODE HERE"
   ]
  },
  {
   "cell_type": "markdown",
   "metadata": {},
   "source": [
    "## Step 2: Compute percentage change\n",
    "\n",
    "### Task description\n",
    "\n",
    "Define a function named `computer_percent_change` that takes two sales number $L$ (for last year) and $T$ (for this year) and computes the percent change $C$.\n",
    "\n",
    "$$\n",
    "C = \\frac{T - L}{L} \\times 100\n",
    "$$\n",
    "\n",
    "The two parameters should be called `last_year` and `this_year`, respectively and are two strings. For example:\n",
    "\n",
    "```python\n",
    "last_year = \"$150,000.45\"\n",
    "this_year = \"$500,000.31\"\n",
    "```\n",
    "\n",
    "### Hint\n",
    "In the body, your function should call the previous function `clean_sale_number` to convert the sale strings to float."
   ]
  },
  {
   "cell_type": "code",
   "execution_count": null,
   "metadata": {},
   "outputs": [],
   "source": [
    "# YOUR CODE HERE"
   ]
  },
  {
   "cell_type": "markdown",
   "metadata": {},
   "source": [
    "## Step 3: Testing that it works\n",
    "\n",
    "Now run the cell below to test your two functions! \n",
    "\n",
    "If all went well, you should get the result `3.511997262`"
   ]
  },
  {
   "cell_type": "code",
   "execution_count": null,
   "metadata": {
    "colab": {
     "base_uri": "https://localhost:8080/"
    },
    "executionInfo": {
     "elapsed": 327,
     "status": "ok",
     "timestamp": 1612796182560,
     "user": {
      "displayName": "Joel Chan",
      "photoUrl": "https://lh3.googleusercontent.com/a-/AOh14GiBPPpBf_QqgDL3pMurAsPu9WJJE_x_6UtgW13UFQ=s64",
      "userId": "15153559228409906865"
     },
     "user_tz": 300
    },
    "id": "ddTI4mlzDX3f",
    "outputId": "b20d9edd-74c2-41e7-dcf8-f989fd05d8ee"
   },
   "outputs": [],
   "source": [
    "# we'll test here\n",
    "x = \"$500,000.35\"\n",
    "y = \"$2,256,000.21\"\n",
    "print(compute_percent_change(last_year=x, this_year=y))"
   ]
  },
  {
   "cell_type": "markdown",
   "metadata": {
    "id": "Q1vmmUJTE67i"
   },
   "source": [
    "<br/>\n",
    "<br/>\n",
    "<br/>\n",
    "<br/>\n",
    "<br/>\n",
    "<br/>\n",
    "<br/>\n",
    "<br/>\n",
    "<br/>\n",
    "\n",
    "---\n",
    "# Common errors when using functions"
   ]
  },
  {
   "cell_type": "markdown",
   "metadata": {
    "id": "yhMs4re7DgN7"
   },
   "source": [
    "### Order of execution and NameErrors\n",
    "\n",
    "Remember: In a computational notebook like Jupyter, Python executes the code in the order that you run the cells. If you run the cells from top to bottom, then it behaves the same way as a script. But if you run the cells in a different order, then it's different. \n",
    "\n",
    "This is important because a common error is to forget Step 2 on the way to Step 3. This will usually result in a `NameError`, which means you're saying something to Python with words it doesn't yet know. The solution is to go back and make sure you do Step 2."
   ]
  },
  {
   "cell_type": "code",
   "execution_count": null,
   "metadata": {
    "colab": {
     "base_uri": "https://localhost:8080/",
     "height": 168
    },
    "executionInfo": {
     "elapsed": 589,
     "status": "error",
     "timestamp": 1612796754279,
     "user": {
      "displayName": "Joel Chan",
      "photoUrl": "https://lh3.googleusercontent.com/a-/AOh14GiBPPpBf_QqgDL3pMurAsPu9WJJE_x_6UtgW13UFQ=s64",
      "userId": "15153559228409906865"
     },
     "user_tz": 300
    },
    "id": "0_yPVfFOUQka",
    "outputId": "df90e017-4707-4167-faa6-9f18d873ff33"
   },
   "outputs": [],
   "source": [
    "# Wrong order: will give NameError if executed first\n",
    "divide(25, 5)"
   ]
  },
  {
   "cell_type": "code",
   "execution_count": null,
   "metadata": {
    "executionInfo": {
     "elapsed": 292,
     "status": "ok",
     "timestamp": 1612796852635,
     "user": {
      "displayName": "Joel Chan",
      "photoUrl": "https://lh3.googleusercontent.com/a-/AOh14GiBPPpBf_QqgDL3pMurAsPu9WJJE_x_6UtgW13UFQ=s64",
      "userId": "15153559228409906865"
     },
     "user_tz": 300
    },
    "id": "RlTQSduSUMIB"
   },
   "outputs": [],
   "source": [
    "def divide(x, y):\n",
    "    result = x / y\n",
    "    result = int(result)\n",
    "    return result"
   ]
  },
  {
   "cell_type": "markdown",
   "metadata": {
    "id": "yhMs4re7DgN7"
   },
   "source": [
    "If you're __updating__ your function, you'll get different kinds of errors. Sometimes it will be a silent logical or semantic error (where the code will run, but the results of the code will not be what you intend). \n",
    "\n",
    "Running the cell below will give `NameError`. To make it work, "
   ]
  },
  {
   "cell_type": "code",
   "execution_count": null,
   "metadata": {
    "colab": {
     "base_uri": "https://localhost:8080/"
    },
    "executionInfo": {
     "elapsed": 558,
     "status": "ok",
     "timestamp": 1612796855373,
     "user": {
      "displayName": "Joel Chan",
      "photoUrl": "https://lh3.googleusercontent.com/a-/AOh14GiBPPpBf_QqgDL3pMurAsPu9WJJE_x_6UtgW13UFQ=s64",
      "userId": "15153559228409906865"
     },
     "user_tz": 300
    },
    "id": "CD7bmreLLY5l",
    "outputId": "0b4534b9-863a-4ddd-d7ae-921b3ebf8642"
   },
   "outputs": [],
   "source": [
    "# Wrong name: will give NameError regardless of execution order\n",
    "division(25, 3)"
   ]
  },
  {
   "cell_type": "markdown",
   "metadata": {
    "id": "lwqweGQiEzWb"
   },
   "source": [
    "### Missing / incorrect return statements\n",
    "\n",
    "The return statement is *optional*. If the function doesn't have a return value, it's known as a void function.\n",
    "- Confusingly, in Python, your function still does return a value (i.e., `None`). \n",
    "- Honestly, void functions kind of break the model of what a function should be (subcomponents in a larger program), and they are quite rare, except as, say, a main control loop, or the \"main\" procedure in a script. So, yeah, if you're confused by void functions and find fruitful functions (with return values) easier to think conceptualize, I'm happy.\n",
    "\n",
    "So for now, I want you to pretend it doesn't exist (i.e., do *not* write void functions; always have a `return` statement).\n",
    "\n",
    "So why am I telling you this then?\n",
    "- You'll see void functions in many Python tutorials. Often you'll even learn about void functions *before* fruitful (or regular) functions. Why? I'm not really sure. Maybe because it's *locally* easier? It upsets me.\n",
    "- Practically, too, if you leave out a `return` statement, your code will still run! But you'll probably have made a logical error (broken the relationship between parts of your code), so you need to know the logic to catch this error. **This is a very common error for beginning programmers.** In fact, many of you have already approached me about this error. So you if run into this, you're in good company! If you're pretty sure that the code in the body of the function is correct, but you're confused by what happens when the function is used (e.g., it's not giving you the value you expect), but the code runs, it's a good idea to check your `return` statement!\n",
    "\n",
    "An extremely common way to make this mistake is to write a print statement in the function body to produce output to you, the user, and declare that it works, but forget to write a return statement"
   ]
  },
  {
   "cell_type": "code",
   "execution_count": null,
   "metadata": {
    "executionInfo": {
     "elapsed": 276,
     "status": "ok",
     "timestamp": 1612797092002,
     "user": {
      "displayName": "Joel Chan",
      "photoUrl": "https://lh3.googleusercontent.com/a-/AOh14GiBPPpBf_QqgDL3pMurAsPu9WJJE_x_6UtgW13UFQ=s64",
      "userId": "15153559228409906865"
     },
     "user_tz": 300
    },
    "id": "IeGAjCnyF3dw"
   },
   "outputs": [],
   "source": [
    "# example: if we define the functions this way, without return statements, they wil still run! \n",
    "# but we won't be able to use their results in a meaningful way, leading to an error if we try\n",
    "def tip(base, percentage):\n",
    "    result = base * percentage\n",
    "    print(result)\n",
    "    \n",
    "def tax(base, tax_rate):\n",
    "    result = base * tax_rate\n",
    "    print(result)"
   ]
  },
  {
   "cell_type": "code",
   "execution_count": null,
   "metadata": {
    "colab": {
     "base_uri": "https://localhost:8080/"
    },
    "executionInfo": {
     "elapsed": 346,
     "status": "ok",
     "timestamp": 1612797093648,
     "user": {
      "displayName": "Joel Chan",
      "photoUrl": "https://lh3.googleusercontent.com/a-/AOh14GiBPPpBf_QqgDL3pMurAsPu9WJJE_x_6UtgW13UFQ=s64",
      "userId": "15153559228409906865"
     },
     "user_tz": 300
    },
    "id": "f6ZZFAJbF7-y",
    "outputId": "5dbcbd24-4e97-4fae-d993-556e3a5aa8d5"
   },
   "outputs": [],
   "source": [
    "base = 3\n",
    "tip_rate = 0.2\n",
    "tax_rate = 0.08\n",
    "\n",
    "total_check = tip(base, tip_rate) + base + tax(base, tax_rate)\n",
    "print(total_check)"
   ]
  },
  {
   "cell_type": "markdown",
   "metadata": {
    "id": "_ISyo9rIE48n"
   },
   "source": [
    "### Mismatching arguments and parameters\n",
    "\n",
    "Make sure that the body of your function is operating on the actual input variables you're passing in via your parameters! This is a common error to make when you're converting code to functions."
   ]
  },
  {
   "cell_type": "code",
   "execution_count": null,
   "metadata": {
    "executionInfo": {
     "elapsed": 282,
     "status": "ok",
     "timestamp": 1612797269463,
     "user": {
      "displayName": "Joel Chan",
      "photoUrl": "https://lh3.googleusercontent.com/a-/AOh14GiBPPpBf_QqgDL3pMurAsPu9WJJE_x_6UtgW13UFQ=s64",
      "userId": "15153559228409906865"
     },
     "user_tz": 300
    },
    "id": "T7834g2mFwhQ"
   },
   "outputs": [],
   "source": [
    "# example\n",
    "def minus(x, y):\n",
    "    result = x - y\n",
    "    return result"
   ]
  },
  {
   "cell_type": "code",
   "execution_count": null,
   "metadata": {
    "colab": {
     "base_uri": "https://localhost:8080/"
    },
    "executionInfo": {
     "elapsed": 372,
     "status": "ok",
     "timestamp": 1612797270436,
     "user": {
      "displayName": "Joel Chan",
      "photoUrl": "https://lh3.googleusercontent.com/a-/AOh14GiBPPpBf_QqgDL3pMurAsPu9WJJE_x_6UtgW13UFQ=s64",
      "userId": "15153559228409906865"
     },
     "user_tz": 300
    },
    "id": "afTKxlcbGDLI",
    "outputId": "7d754367-17d2-450a-f8d3-2c3e26369f4c"
   },
   "outputs": [],
   "source": [
    "x = 7\n",
    "y = 2\n",
    "diff = minus(x, y)\n",
    "print(diff)"
   ]
  },
  {
   "cell_type": "markdown",
   "metadata": {
    "id": "G8JNuz9YGPJI"
   },
   "source": [
    "You also need to make sure the arguments and parameters match in number and value"
   ]
  },
  {
   "cell_type": "code",
   "execution_count": null,
   "metadata": {
    "executionInfo": {
     "elapsed": 398,
     "status": "ok",
     "timestamp": 1612797325432,
     "user": {
      "displayName": "Joel Chan",
      "photoUrl": "https://lh3.googleusercontent.com/a-/AOh14GiBPPpBf_QqgDL3pMurAsPu9WJJE_x_6UtgW13UFQ=s64",
      "userId": "15153559228409906865"
     },
     "user_tz": 300
    },
    "id": "cN83vrjWGZEn"
   },
   "outputs": [],
   "source": [
    "# example\n",
    "def minus(x, y):\n",
    "    \"\"\"\n",
    "    x (int) = first number\n",
    "    y (int) = second number\n",
    "    \"\"\"\n",
    "    result = x - y\n",
    "    return result"
   ]
  },
  {
   "cell_type": "code",
   "execution_count": null,
   "metadata": {
    "colab": {
     "base_uri": "https://localhost:8080/"
    },
    "executionInfo": {
     "elapsed": 413,
     "status": "ok",
     "timestamp": 1612797405430,
     "user": {
      "displayName": "Joel Chan",
      "photoUrl": "https://lh3.googleusercontent.com/a-/AOh14GiBPPpBf_QqgDL3pMurAsPu9WJJE_x_6UtgW13UFQ=s64",
      "userId": "15153559228409906865"
     },
     "user_tz": 300
    },
    "id": "re-7xC6cGZEt",
    "outputId": "d66ea777-f570-470d-f081-ea0afe6702e5"
   },
   "outputs": [],
   "source": [
    "x = 3\n",
    "y = 2\n",
    "diff = minus(y, x)\n",
    "print(diff)"
   ]
  },
  {
   "cell_type": "markdown",
   "metadata": {},
   "source": [
    "This is where the explicit parameter-argument mapping function call pattern can help you."
   ]
  },
  {
   "cell_type": "code",
   "execution_count": null,
   "metadata": {},
   "outputs": [],
   "source": [
    "x = 3\n",
    "y = 2\n",
    "diff = minus(x=x, y=y)\n",
    "print(diff)"
   ]
  },
  {
   "cell_type": "markdown",
   "metadata": {},
   "source": [
    "A related error is hard-coding the variables inside the function body instead of letting the parameter be defined and given its value from the argument"
   ]
  },
  {
   "cell_type": "code",
   "execution_count": null,
   "metadata": {},
   "outputs": [],
   "source": [
    "# example\n",
    "# now, no matter what arguments we pass in, \n",
    "# the result will never change\n",
    "# the key here is to remember that x and y are defined *when the function is called, by passing the value of the argument into the parameter, which we can then use int he body of hte function\n",
    "def minus(x, y):\n",
    "    \"\"\"\n",
    "    x (int) = first number\n",
    "    y (int) = second number\n",
    "    \"\"\"\n",
    "    x = 3\n",
    "    y = 1\n",
    "    result = x - y\n",
    "    return result"
   ]
  },
  {
   "cell_type": "markdown",
   "metadata": {},
   "source": [
    "<br/>\n",
    "<br/>\n",
    "<br/>\n",
    "<br/>\n",
    "<br/>\n",
    "<br/>\n",
    "<br/>\n",
    "<br/>\n",
    "<br/>\n",
    "<br/>\n",
    "<br/>\n",
    "<br/>\n",
    "<br/>\n",
    "<br/>\n",
    "<br/>\n",
    "<br/>\n",
    "<br/>\n",
    "<br/>\n",
    "<br/>\n",
    "<br/>\n",
    "<br/>\n",
    "<br/>\n",
    "<br/>\n",
    "<br/>\n",
    "<br/>\n",
    "<br/>\n",
    "<br/>\n",
    "<br/>\n",
    "<br/>\n",
    "<br/>\n",
    "<br/>\n",
    "<br/>\n",
    "<br/>\n",
    "Keep scrolling...\n",
    "<br/>\n",
    "<br/>\n",
    "<br/>\n",
    "<br/>\n",
    "<br/>\n",
    "<br/>\n",
    "<br/>\n",
    "<br/>\n",
    "<br/>\n",
    "<br/>\n",
    "<br/>\n",
    "<br/>\n",
    "<br/>\n",
    "<br/>\n",
    "<br/>\n",
    "<br/>\n",
    "<br/>\n",
    "<br/>\n",
    "<br/>\n",
    "<br/>\n",
    "<br/>\n",
    "<br/>\n",
    "<br/>\n",
    "<br/>\n",
    "<br/>\n",
    "<br/>\n",
    "<br/>\n",
    "<br/>\n",
    "\n",
    "---\n",
    "\n",
    "\n",
    "# Solutions"
   ]
  },
  {
   "cell_type": "markdown",
   "metadata": {
    "id": "21v9caNsEE1A"
   },
   "source": [
    "### Breaking out the steps of converting into a function\n",
    "\n",
    "Let's break it down again. \n",
    "\n",
    "Here we've written the code for our substeps of converting the numbers into.. numbers. We know it works."
   ]
  },
  {
   "cell_type": "code",
   "execution_count": null,
   "metadata": {
    "colab": {
     "base_uri": "https://localhost:8080/",
     "height": 35
    },
    "executionInfo": {
     "elapsed": 351,
     "status": "ok",
     "timestamp": 1612796487597,
     "user": {
      "displayName": "Joel Chan",
      "photoUrl": "https://lh3.googleusercontent.com/a-/AOh14GiBPPpBf_QqgDL3pMurAsPu9WJJE_x_6UtgW13UFQ=s64",
      "userId": "15153559228409906865"
     },
     "user_tz": 300
    },
    "id": "jezPgHN1Un6v",
    "outputId": "dbef3ce5-162c-4d2e-90fa-b1bc9aec6a67"
   },
   "outputs": [],
   "source": [
    "# test number\n",
    "sale = \"$600,153.25\"\n",
    "\n",
    "# make the input numbers actually numbers\n",
    "\n",
    "# 1: remove dollar signs\n",
    "sale = sale.replace(\"$\", \"\")\n",
    "\n",
    "# 2: remove the comma\n",
    "sale = sale.replace(\",\", \"\")\n",
    "\n",
    "# 3: convert to float\n",
    "result = float(sale)\n",
    "\n",
    "result # the output"
   ]
  },
  {
   "cell_type": "markdown",
   "metadata": {},
   "source": [
    "So we can then put it into a function. We'll start by filling out the skeleton."
   ]
  },
  {
   "cell_type": "code",
   "execution_count": null,
   "metadata": {},
   "outputs": [],
   "source": [
    "def some_function():\n",
    "    # body\n",
    "    result =\n",
    "    return result"
   ]
  },
  {
   "cell_type": "markdown",
   "metadata": {},
   "source": [
    "Then we fill it out, with a function name, and the parameter(s). \n",
    "\n",
    "For the name, we can name it whatever we want, but probably something descriptive makes sense. Like `clean_sale_number` or similar.\n",
    "\n",
    "For the parameter, we know we expect a number. And it's probably a sale number, that's a string. So we might actually name it that way so we know what to expect. Like `sale_num_str`."
   ]
  },
  {
   "cell_type": "code",
   "execution_count": null,
   "metadata": {},
   "outputs": [],
   "source": [
    "def clean_sale_number(sale_num_str):\n",
    "    # body\n",
    "    result = \n",
    "    return result"
   ]
  },
  {
   "cell_type": "markdown",
   "metadata": {},
   "source": [
    "The last step is to integrate the code we know works into the body of the function, and make sure it connects with both the parameter(s) (should use it) and the return value (should assign results to it)."
   ]
  },
  {
   "cell_type": "code",
   "execution_count": null,
   "metadata": {
    "colab": {
     "base_uri": "https://localhost:8080/",
     "height": 34
    },
    "executionInfo": {
     "elapsed": 268,
     "status": "ok",
     "timestamp": 1600092612031,
     "user": {
      "displayName": "Joel Chan",
      "photoUrl": "https://lh3.googleusercontent.com/a-/AOh14GiBPPpBf_QqgDL3pMurAsPu9WJJE_x_6UtgW13UFQ=s64",
      "userId": "15153559228409906865"
     },
     "user_tz": 240
    },
    "id": "9Js_HCT58gTA",
    "outputId": "8d249bf9-53dd-425f-cdc6-2e9be45e9f43"
   },
   "outputs": [],
   "source": [
    "def clean_sale_number(sale_num_str): # the parameters\n",
    "    # the body\n",
    "    \n",
    "    # make the input numbers actually numbers\n",
    "    # 1: remove dollar signs\n",
    "    sale_num_str = sale_num_str.replace(\"$\", \"\")\n",
    "    \n",
    "    # 2: remove the comma\n",
    "    sale_num_str = sale_num_str.replace(\",\", \"\")\n",
    "    \n",
    "    # 3: convert to float\n",
    "    result = float(sale_num_str)\n",
    "    \n",
    "    return result # the output"
   ]
  },
  {
   "cell_type": "markdown",
   "metadata": {},
   "source": [
    "For good measure, we can add a docstring"
   ]
  },
  {
   "cell_type": "code",
   "execution_count": null,
   "metadata": {
    "executionInfo": {
     "elapsed": 713,
     "status": "ok",
     "timestamp": 1612796573914,
     "user": {
      "displayName": "Joel Chan",
      "photoUrl": "https://lh3.googleusercontent.com/a-/AOh14GiBPPpBf_QqgDL3pMurAsPu9WJJE_x_6UtgW13UFQ=s64",
      "userId": "15153559228409906865"
     },
     "user_tz": 300
    },
    "id": "zQ5U8v4dGHI0"
   },
   "outputs": [],
   "source": [
    "def clean_sale_number(sale_num_str):\n",
    "    \"\"\"\n",
    "    Convert a string sales record number to an int for computation\n",
    "    \n",
    "    Params:\n",
    "    - sale_num_str (str) - the sales record to convert\n",
    "\n",
    "    Returns:\n",
    "    - result (int) - the sales record in number form\n",
    "    \"\"\"\n",
    "    # the body\n",
    "\n",
    "    # make the input numbers actually numbers\n",
    "    # 1: remove dollar signs\n",
    "    sale_num_str = sale_num_str.replace(\"$\", \"\")\n",
    "    \n",
    "    # 2: remove the comma\n",
    "    sale_num_str = sale_num_str.replace(\",\", \"\")\n",
    "    \n",
    "    # 3: convert to float\n",
    "    result = float(sale_num_str)\n",
    "    \n",
    "    return result # the output"
   ]
  },
  {
   "cell_type": "markdown",
   "metadata": {},
   "source": [
    "And this is function for computing the percentage change. Note that in this function we call the `clean_sale_number` function."
   ]
  },
  {
   "cell_type": "code",
   "execution_count": null,
   "metadata": {},
   "outputs": [],
   "source": [
    "def compute_percent_change(last_year, this_year):\n",
    "    \"\"\"\n",
    "    Compute year-to-year percentage change in revenue.\n",
    "    \n",
    "    Params:\n",
    "    - last_year (str) - last year's sales, in dollars\n",
    "    - this_year (str) - this year's sales, in dollars\n",
    "    \n",
    "    Returns\n",
    "    - change (float) - the percentage change as a fraction\n",
    "    \"\"\"\n",
    "    last_year = clean_sale_number(last_year)\n",
    "    this_year = clean_sale_number(this_year)\n",
    "    return (this_year - last_year) / last_year"
   ]
  }
 ],
 "metadata": {
  "colab": {
   "name": "INST126_SP21_Week3_Functions.ipynb",
   "provenance": []
  },
  "kernelspec": {
   "display_name": "Python 3 (ipykernel)",
   "language": "python",
   "name": "python3"
  },
  "language_info": {
   "codemirror_mode": {
    "name": "ipython",
    "version": 3
   },
   "file_extension": ".py",
   "mimetype": "text/x-python",
   "name": "python",
   "nbconvert_exporter": "python",
   "pygments_lexer": "ipython3",
   "version": "3.11.0"
  },
  "toc": {
   "base_numbering": 1,
   "nav_menu": {},
   "number_sections": false,
   "sideBar": true,
   "skip_h1_title": false,
   "title_cell": "Table of Contents",
   "title_sidebar": "Contents",
   "toc_cell": false,
   "toc_position": {},
   "toc_section_display": true,
   "toc_window_display": false
  }
 },
 "nbformat": 4,
 "nbformat_minor": 4
}
