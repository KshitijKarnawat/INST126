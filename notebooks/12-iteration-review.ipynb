{
 "cells": [
  {
   "cell_type": "markdown",
   "metadata": {
    "id": "g-lkfdphxbR0",
    "slideshow": {
     "slide_type": "slide"
    }
   },
   "source": [
    "# Iteration Review\n",
    "\n",
    "## What are loops and why should we care about them?\n",
    "\n",
    "Loops are also called _iterations_:\n",
    "\n",
    "> it·er·ate &ndash; _To say or perform again; repeat._"
   ]
  },
  {
   "cell_type": "markdown",
   "metadata": {
    "id": "Ku3vlFoMjfUt",
    "slideshow": {
     "slide_type": "fragment"
    }
   },
   "source": [
    "## Loops are a fundamental control structure\n",
    "\n",
    "- Loops are a fundamental building block of comptutational solutions to problems.\n",
    "\n",
    "- They are an example of a **control structure**. \n",
    "\n",
    "- Conditionals are another example of control structures:\n",
    "\n",
    "- Control structures allow you to control how you do things:\n",
    "    + Conditionals control *when / whether*\n",
    "    + Loops (aka iterations) *how many times* "
   ]
  },
  {
   "cell_type": "markdown",
   "metadata": {
    "id": "59UWIOJ_jgrs",
    "slideshow": {
     "slide_type": "fragment"
    }
   },
   "source": [
    "It's hard to build programs without a concise way to instruct the computer to do *repeated actions*.\n",
    "\n",
    "Here are some simple examples. Try to think of how you might solve these without loops!\n",
    "\n",
    "- Put 6 cups of flour into this box\n",
    "\n",
    "- Stir occasionally until the sauce starts to reduce (user presses `0`)"
   ]
  },
  {
   "cell_type": "markdown",
   "metadata": {
    "slideshow": {
     "slide_type": "slide"
    }
   },
   "source": [
    "**Ex.** Put 6 cups of flour into this box\n",
    "\n",
    "_Without loops:_"
   ]
  },
  {
   "cell_type": "code",
   "execution_count": null,
   "metadata": {
    "id": "36G3HH2Nj9-B",
    "slideshow": {
     "slide_type": "fragment"
    }
   },
   "outputs": [],
   "source": [
    "def scoop_into_box():\n",
    "    print(\"Scooping!\")\n",
    "\n",
    "scoop_into_box()\n",
    "scoop_into_box()\n",
    "scoop_into_box()\n",
    "scoop_into_box()\n",
    "scoop_into_box()\n",
    "scoop_into_box()"
   ]
  },
  {
   "cell_type": "markdown",
   "metadata": {
    "slideshow": {
     "slide_type": "fragment"
    }
   },
   "source": [
    "**Ex.** Put 6 cups of flour into this box\n",
    "\n",
    "_With loops:_"
   ]
  },
  {
   "cell_type": "code",
   "execution_count": null,
   "metadata": {
    "id": "Un6dKvO0UGEG",
    "slideshow": {
     "slide_type": "subslide"
    }
   },
   "outputs": [],
   "source": [
    "num_cups = 6\n",
    "for cup in range(num_cups):\n",
    "    scoop_into_box()"
   ]
  },
  {
   "cell_type": "markdown",
   "metadata": {
    "id": "020LJeezj-ZD",
    "slideshow": {
     "slide_type": "slide"
    }
   },
   "source": [
    "**Ex.** Stir occasionally until the sauce starts to reduce (user presses `0`)\n",
    "\n",
    "_Without loops:_"
   ]
  },
  {
   "cell_type": "code",
   "execution_count": null,
   "metadata": {
    "id": "mhfdYkXgkDZz",
    "slideshow": {
     "slide_type": "subslide"
    },
    "tags": []
   },
   "outputs": [],
   "source": [
    "def stir():\n",
    "    print(\"stirring\")\n",
    "\n",
    "def check_sauce():\n",
    "    user_input = input(\"Checking sauce (0 = thick): \")\n",
    "    if user_input == \"0\":\n",
    "        return \"OK\"\n",
    "    else:\n",
    "        return \"thick\"\n",
    "\n",
    "def serve():\n",
    "    print(\"sauce is ready\")\n",
    "    \n",
    "if check_sauce() == \"thick\":\n",
    "    stir()\n",
    "    if check_sauce() == \"thick\":\n",
    "        stir()\n",
    "    else:\n",
    "        serve()\n",
    "else:\n",
    "    serve()"
   ]
  },
  {
   "cell_type": "markdown",
   "metadata": {
    "slideshow": {
     "slide_type": "subslide"
    }
   },
   "source": [
    "_With loops:_"
   ]
  },
  {
   "cell_type": "code",
   "execution_count": null,
   "metadata": {
    "slideshow": {
     "slide_type": "subslide"
    }
   },
   "outputs": [],
   "source": [
    "thickness = check_sauce()\n",
    "while thickness == \"thick\":\n",
    "    stir()\n",
    "    thickness = check_sauce()\n",
    "serve()"
   ]
  },
  {
   "cell_type": "markdown",
   "metadata": {
    "slideshow": {
     "slide_type": "notes"
    }
   },
   "source": [
    "With loops these get a LOT easier to specify, and become more robust and reusable too."
   ]
  },
  {
   "cell_type": "markdown",
   "metadata": {
    "id": "2EI3jDA6knjR",
    "slideshow": {
     "slide_type": "slide"
    }
   },
   "source": [
    "Loops also enable many useful algorithms/patterns that go nicely with lists. \n",
    "\n",
    "You'll be practicing and applying them in PCEs and Projects this module!"
   ]
  },
  {
   "cell_type": "markdown",
   "metadata": {
    "id": "2EI3jDA6knjR",
    "slideshow": {
     "slide_type": "slide"
    }
   },
   "source": [
    "For example:\n",
    "- Searching through a list\n",
    "- Filtering a list of items\n",
    "- Counting occurrences in some collection"
   ]
  },
  {
   "cell_type": "markdown",
   "metadata": {
    "slideshow": {
     "slide_type": "subslide"
    }
   },
   "source": [
    "<br/>\n",
    "<br/>\n",
    "<br/>\n",
    "<br/>\n",
    "<br/>\n",
    "<br/>\n",
    "<br/>\n",
    "<br/>\n",
    "<br/>\n",
    "\n",
    "---"
   ]
  },
  {
   "cell_type": "markdown",
   "metadata": {
    "id": "s8zUmMgjkYv2",
    "slideshow": {
     "slide_type": "fragment"
    }
   },
   "source": [
    "## Two fundamental kinds of loops: definite and indefinite\n",
    "\n",
    "\n",
    "### Definite loops (`for` loops)\n",
    "\n",
    "Quite often we have a list of items of the lines in a file &ndash; effectively a finite set of things. \n",
    "\n",
    "We can write a loop to do some operation once for each of the items in a set using the Python `for` construct.\n",
    "\n",
    "These loops are called “*definite loops*” because they execute an exact number of times.\n",
    "\n",
    "We say that “definite loops iterate through the members of a set”"
   ]
  },
  {
   "cell_type": "markdown",
   "metadata": {
    "id": "s8zUmMgjkYv2",
    "slideshow": {
     "slide_type": "fragment"
    }
   },
   "source": [
    "#### Rule of Thumb (definite loops)\n",
    "\n",
    "Use definite / `for` when you know in advance how many times you want to do something.\n",
    "\n",
    "This is the use case in our running example.\n",
    "\n",
    "Other examples:\n",
    "- Do an action $N$ times\n",
    "- Take $M$ steps\n",
    "- Do something for every item in a finite list of length $L$"
   ]
  },
  {
   "cell_type": "markdown",
   "metadata": {
    "id": "pogG9d6WlQyC",
    "slideshow": {
     "slide_type": "fragment"
    }
   },
   "source": [
    "### Indefinite loops (`while` loops)\n",
    "\n",
    "Sometimes you want to repeat actions, but you don't know in advance how many times you want to repeat. \n",
    "\n",
    "But you do have a *stopping condition*. (You know when you should stop.) \n",
    "\n",
    "In this situation, you can use indefinite loops, which are called so because they keep going until a logical condition becomes `False`.\n",
    "\n",
    "Examples:\n",
    "- Keep going until I tell you to stop\n",
    "- Keep stirring until the sauce thickens\n",
    "- Keep taking candy from the box until your bucket is full or the box is empty"
   ]
  },
  {
   "cell_type": "markdown",
   "metadata": {
    "id": "pogG9d6WlQyC",
    "slideshow": {
     "slide_type": "fragment"
    }
   },
   "source": [
    "#### Rule of Thumb (indefinite loops)\n",
    "\n",
    "Use indefinite/while when you don't know in advance how many times you want to do something, but do have a stopping condition you can clearly express."
   ]
  },
  {
   "cell_type": "markdown",
   "metadata": {
    "slideshow": {
     "slide_type": "subslide"
    }
   },
   "source": [
    "<br/>\n",
    "<br/>\n",
    "<br/>\n",
    "<br/>\n",
    "<br/>\n",
    "<br/>\n",
    "<br/>\n",
    "<br/>\n",
    "<br/>\n",
    "\n",
    "---"
   ]
  },
  {
   "cell_type": "markdown",
   "metadata": {
    "id": "RKgca-CfnFK9",
    "slideshow": {
     "slide_type": "fragment"
    }
   },
   "source": [
    "## Anatomy of a definite (`for`) loop in Python  \n",
    "\n",
    "- The **iteration variable** \"iterates\" through the **sequence** (ordered set)\n",
    "\n",
    "- The **block (body)** of code is executed once for each value **in** the **sequence**\n",
    "\n",
    "- The **iteration variable** moves through all of the values in the **sequence**"
   ]
  },
  {
   "cell_type": "code",
   "execution_count": null,
   "metadata": {
    "colab": {
     "base_uri": "https://localhost:8080/"
    },
    "executionInfo": {
     "elapsed": 482,
     "status": "ok",
     "timestamp": 1615213471489,
     "user": {
      "displayName": "Joel Chan",
      "photoUrl": "https://lh3.googleusercontent.com/a-/AOh14GiBPPpBf_QqgDL3pMurAsPu9WJJE_x_6UtgW13UFQ=s64",
      "userId": "15153559228409906865"
     },
     "user_tz": 300
    },
    "id": "JG-iNe0ZHJVn",
    "outputId": "9f88c852-9bd5-4917-c7d2-813f21d2ff27",
    "slideshow": {
     "slide_type": "subslide"
    }
   },
   "outputs": [],
   "source": [
    "nums = [5, 4, 3, 2, 1]\n",
    "\n",
    "# here, i is the iteration variable\n",
    "for i in nums: \n",
    "    # block/body\n",
    "    print(\"taking something from the list\")\n",
    "    print(i) "
   ]
  },
  {
   "cell_type": "markdown",
   "metadata": {
    "slideshow": {
     "slide_type": "subslide"
    }
   },
   "source": [
    "The iteration variable is a *variable*: this means you can name it whatever you like, subject to the basic syntax rules and of course our heuristic to name things to make the logic of the program legible."
   ]
  },
  {
   "cell_type": "code",
   "execution_count": null,
   "metadata": {
    "colab": {
     "base_uri": "https://localhost:8080/"
    },
    "executionInfo": {
     "elapsed": 307,
     "status": "ok",
     "timestamp": 1615213525553,
     "user": {
      "displayName": "Joel Chan",
      "photoUrl": "https://lh3.googleusercontent.com/a-/AOh14GiBPPpBf_QqgDL3pMurAsPu9WJJE_x_6UtgW13UFQ=s64",
      "userId": "15153559228409906865"
     },
     "user_tz": 300
    },
    "id": "1T9U4yhBOk3r",
    "outputId": "6ee08cbf-d142-4943-8b9b-87cd1657503c",
    "slideshow": {
     "slide_type": "fragment"
    }
   },
   "outputs": [],
   "source": [
    "nums = [5, 4, 3, 2, 1]\n",
    "\n",
    "# here, num is the iteration variable\n",
    "for num in nums: \n",
    "    # block/body\n",
    "    new_num = num * 20\n",
    "    print(new_num) "
   ]
  },
  {
   "cell_type": "code",
   "execution_count": null,
   "metadata": {
    "colab": {
     "base_uri": "https://localhost:8080/"
    },
    "executionInfo": {
     "elapsed": 274,
     "status": "ok",
     "timestamp": 1615213734561,
     "user": {
      "displayName": "Joel Chan",
      "photoUrl": "https://lh3.googleusercontent.com/a-/AOh14GiBPPpBf_QqgDL3pMurAsPu9WJJE_x_6UtgW13UFQ=s64",
      "userId": "15153559228409906865"
     },
     "user_tz": 300
    },
    "id": "RAYZuWu-PScT",
    "outputId": "c63e7118-a318-4e7b-c52f-7087507b2f48",
    "slideshow": {
     "slide_type": "subslide"
    }
   },
   "outputs": [],
   "source": [
    "nums = [5, 4, 3, 2, 1]\n",
    "\n",
    "# here, num is the iteration variable\n",
    "for num in nums:\n",
    "    # begin for loop block/body\n",
    "    if num % 2 == 0: # check if even\n",
    "        # begin if branch\n",
    "        print(num) "
   ]
  },
  {
   "cell_type": "markdown",
   "metadata": {
    "slideshow": {
     "slide_type": "subslide"
    }
   },
   "source": [
    "Since lists can hold any type of data, the iteration variables can take any type as well as it iterates through a list"
   ]
  },
  {
   "cell_type": "code",
   "execution_count": null,
   "metadata": {
    "colab": {
     "base_uri": "https://localhost:8080/"
    },
    "executionInfo": {
     "elapsed": 351,
     "status": "ok",
     "timestamp": 1615213681904,
     "user": {
      "displayName": "Joel Chan",
      "photoUrl": "https://lh3.googleusercontent.com/a-/AOh14GiBPPpBf_QqgDL3pMurAsPu9WJJE_x_6UtgW13UFQ=s64",
      "userId": "15153559228409906865"
     },
     "user_tz": 300
    },
    "id": "Et-DE_NUmkXT",
    "outputId": "5d78744a-d474-4de4-af3f-f7ab66a93ee5",
    "slideshow": {
     "slide_type": "fragment"
    }
   },
   "outputs": [],
   "source": [
    "for name in [\"john\", \"terrell\", \"qian\", \"malala\"]:\n",
    "    print(name)"
   ]
  },
  {
   "cell_type": "markdown",
   "metadata": {
    "slideshow": {
     "slide_type": "subslide"
    }
   },
   "source": [
    "<br/>\n",
    "<br/>\n",
    "<br/>\n",
    "<br/>\n",
    "<br/>\n",
    "<br/>\n",
    "<br/>\n",
    "<br/>\n",
    "<br/>\n",
    "\n",
    "---"
   ]
  },
  {
   "cell_type": "markdown",
   "metadata": {
    "slideshow": {
     "slide_type": "skip"
    }
   },
   "source": [
    "### Builtin function: `range()`\n",
    "\n",
    "The range function produces an iterable sequence of numbers (a _Range_).\n",
    "\n",
    "It can be used in three ways:\n",
    "\n",
    "1. `range(n)` starts at `0` and stops at `n - 1`  \n",
    "\n",
    "2. `range(m, n)` starts at `m` and stops at `n - 1` (with `n > m`)\n",
    "\n",
    "3. `range(m, n, s)` starts at `m`, stops at `n - 1` incrementing by `s` (default: `s=1`)\n",
    "\n",
    "To convert the range into a list, use the `list()` type converter.\n",
    "\n",
    "Source: https://docs.python.org/3/library/functions.html"
   ]
  },
  {
   "cell_type": "code",
   "execution_count": null,
   "metadata": {
    "slideshow": {
     "slide_type": "subslide"
    }
   },
   "outputs": [],
   "source": [
    "range(5)"
   ]
  },
  {
   "cell_type": "markdown",
   "metadata": {
    "slideshow": {
     "slide_type": "subslide"
    }
   },
   "source": [
    "Use this if you want to specify doing something N times e.g., here, take a step 5 times"
   ]
  },
  {
   "cell_type": "code",
   "execution_count": null,
   "metadata": {
    "colab": {
     "base_uri": "https://localhost:8080/"
    },
    "executionInfo": {
     "elapsed": 351,
     "status": "ok",
     "timestamp": 1615213820329,
     "user": {
      "displayName": "Joel Chan",
      "photoUrl": "https://lh3.googleusercontent.com/a-/AOh14GiBPPpBf_QqgDL3pMurAsPu9WJJE_x_6UtgW13UFQ=s64",
      "userId": "15153559228409906865"
     },
     "user_tz": 300
    },
    "id": "eq8JdNq6Wn-n",
    "outputId": "8a148ae9-c67d-4c9b-cf9a-92b05629a657",
    "slideshow": {
     "slide_type": "fragment"
    }
   },
   "outputs": [],
   "source": [
    "for i in range(5):\n",
    "    print(\"I has the value\", i)\n",
    "    print(\"Taking a step\")"
   ]
  },
  {
   "cell_type": "markdown",
   "metadata": {
    "slideshow": {
     "slide_type": "subslide"
    }
   },
   "source": [
    "Without `range`, you need to specify the list explicitly:"
   ]
  },
  {
   "cell_type": "code",
   "execution_count": null,
   "metadata": {
    "id": "yfgvj-_zQFeq",
    "slideshow": {
     "slide_type": "fragment"
    }
   },
   "outputs": [],
   "source": [
    "for i in [0, 1, 2, 3, 4]:\n",
    "    print(\"I has the value\", i)\n",
    "    print(\"Taking a step\")"
   ]
  },
  {
   "cell_type": "markdown",
   "metadata": {
    "slideshow": {
     "slide_type": "subslide"
    }
   },
   "source": [
    "<br/>\n",
    "<br/>\n",
    "<br/>\n",
    "<br/>\n",
    "<br/>\n",
    "<br/>\n",
    "<br/>\n",
    "<br/>\n",
    "<br/>\n",
    "\n",
    "---"
   ]
  },
  {
   "cell_type": "markdown",
   "metadata": {
    "id": "zo4AqTPfnkDz",
    "slideshow": {
     "slide_type": "fragment"
    }
   },
   "source": [
    "## Anatomy of an indefinite (`while`) loop in Python\n",
    "\n",
    "- The **stopping condition** defines when the loop will stop and go to the next block of code\n",
    "  - It's composed of a *Boolean expression*\n",
    "  - Eventually, the Boolean expression should become `False`!\n",
    "\n",
    "- The **block (body)** of code is executed once for each iteration in the loop\n",
    "\n",
    "- **Stopping condition update**: It is _essential_ that the body of the loop has some operation it that modifies what is checked in the stopping condition"
   ]
  },
  {
   "cell_type": "code",
   "execution_count": null,
   "metadata": {
    "id": "XaKR0NezoWFr",
    "slideshow": {
     "slide_type": "subslide"
    }
   },
   "outputs": [],
   "source": [
    "n = 5\n",
    "while n > 0:  # STOPPING CONDITION\n",
    "    # body of the loop\n",
    "    print(n)\n",
    "    n = n - 1  # STOPPING CONDITION UPDATE\n",
    "print(\"Blast off!\")"
   ]
  },
  {
   "cell_type": "markdown",
   "metadata": {
    "slideshow": {
     "slide_type": "subslide"
    }
   },
   "source": [
    "__Ex.__ keep taking steps until you hit a limit:"
   ]
  },
  {
   "cell_type": "code",
   "execution_count": null,
   "metadata": {
    "colab": {
     "base_uri": "https://localhost:8080/"
    },
    "executionInfo": {
     "elapsed": 322,
     "status": "ok",
     "timestamp": 1615214355937,
     "user": {
      "displayName": "Joel Chan",
      "photoUrl": "https://lh3.googleusercontent.com/a-/AOh14GiBPPpBf_QqgDL3pMurAsPu9WJJE_x_6UtgW13UFQ=s64",
      "userId": "15153559228409906865"
     },
     "user_tz": 300
    },
    "id": "vgi3xvEDolOS",
    "outputId": "f7c74b34-1c0e-4af4-bcf6-9fd4dc09341b",
    "slideshow": {
     "slide_type": "fragment"
    }
   },
   "outputs": [],
   "source": [
    "steps = 0\n",
    "limit = 20\n",
    "\n",
    "while steps < limit: #STOPPING CONDITION\n",
    "    print(\"Taking a step\", steps)\n",
    "    steps += 1 # STOPPING CONDITION UPDATE\n",
    "print(\"Done!\")"
   ]
  },
  {
   "cell_type": "markdown",
   "metadata": {
    "slideshow": {
     "slide_type": "subslide"
    }
   },
   "source": [
    "The stopping condition can use complex boolean expressions.\n",
    "\n",
    "__Ex.__ user must enter their guess of a number using `input()` func. Keep trying until the number entered is the correct one, or until the user enters `\"exit\"`."
   ]
  },
  {
   "cell_type": "code",
   "execution_count": null,
   "metadata": {
    "slideshow": {
     "slide_type": "fragment"
    }
   },
   "outputs": [],
   "source": [
    "number = 5  # the number to guess\n",
    "\n",
    "guess = input(\"Try to guess the number between 1 and 10, or say `exit` to quit: \")\n",
    "found = False\n",
    "\n",
    "while guess != \"exit\" and not found:\n",
    "    if int(guess) == number:\n",
    "        print(\"You got it!\")\n",
    "        found = True\n",
    "    else:\n",
    "        guess = input(\"Try to guess the number between 1 and 10, or say `exit` to quit: \")\n",
    "\n",
    "if guess == \"exit\":\n",
    "    print(\"Exiting.\")"
   ]
  },
  {
   "cell_type": "markdown",
   "metadata": {
    "slideshow": {
     "slide_type": "subslide"
    }
   },
   "source": [
    "<br/>\n",
    "<br/>\n",
    "<br/>\n",
    "<br/>\n",
    "<br/>\n",
    "<br/>\n",
    "<br/>\n",
    "<br/>\n",
    "<br/>\n",
    "\n",
    "---"
   ]
  },
  {
   "cell_type": "markdown",
   "metadata": {
    "slideshow": {
     "slide_type": "subslide"
    }
   },
   "source": [
    "## Breaking a loop with the `break` statement\n",
    "\n",
    "The break statement ends the current loop and jumps to the statement immediately following the loop. \n",
    "\n",
    "It is like a loop test that can happen anywhere in the body of the loop\n",
    "\n",
    "__Ex.__ User enters a name to be searched in a list of names. Stop when the name is found.\n",
    "\n",
    "Using `break` in a definite loop:"
   ]
  },
  {
   "cell_type": "code",
   "execution_count": null,
   "metadata": {
    "colab": {
     "base_uri": "https://localhost:8080/"
    },
    "executionInfo": {
     "elapsed": 574,
     "status": "ok",
     "timestamp": 1615215187124,
     "user": {
      "displayName": "Joel Chan",
      "photoUrl": "https://lh3.googleusercontent.com/a-/AOh14GiBPPpBf_QqgDL3pMurAsPu9WJJE_x_6UtgW13UFQ=s64",
      "userId": "15153559228409906865"
     },
     "user_tz": 300
    },
    "id": "7Vn3T7moZCYx",
    "outputId": "784aeaa1-4410-481e-e12b-97499102adc3",
    "slideshow": {
     "slide_type": "fragment"
    }
   },
   "outputs": [],
   "source": [
    "names = [\"Joel\", \"John\", \"Jane\", \"Jamie\", \"Lisa\", \"Anna\", \"Fred\"]\n",
    "\n",
    "to_find = input(\"enter a name to find: \")\n",
    "\n",
    "found = False # default is we haven't found it\n",
    "\n",
    "for name in names:\n",
    "    print(\"Checking\", name)\n",
    "    if name == to_find:\n",
    "        found = True # set found to true\n",
    "        print(\"  Found!\")\n",
    "        break\n",
    "\n",
    "print(\"We're done with the loop\")\n",
    "\n",
    "if found:\n",
    "    print(\"Found\", to_find + \"!\")\n",
    "else:\n",
    "    print(\"Didn't find\", to_find)"
   ]
  },
  {
   "cell_type": "markdown",
   "metadata": {
    "slideshow": {
     "slide_type": "subslide"
    }
   },
   "source": [
    "<br/>\n",
    "<br/>\n",
    "<br/>\n",
    "<br/>\n",
    "\n",
    "---"
   ]
  },
  {
   "cell_type": "markdown",
   "metadata": {
    "slideshow": {
     "slide_type": "subslide"
    }
   },
   "source": [
    "Using `break` in an indefinite loop:\n",
    "\n",
    "We can use the __`list.pop()`__ function to go _consume_ the list: https://docs.python.org/3/tutorial/datastructures.html"
   ]
  },
  {
   "cell_type": "code",
   "execution_count": null,
   "metadata": {
    "slideshow": {
     "slide_type": "fragment"
    }
   },
   "outputs": [],
   "source": [
    "names = [\"Joel\", \"John\", \"Jane\", \"Jamie\", \"Lisa\", \"Anna\", \"Fred\"]\n",
    "\n",
    "to_find = input(\"enter a name to find: \")\n",
    "\n",
    "found = False # default is we haven't found it\n",
    "\n",
    "while len(names) > 0 and not found:\n",
    "    name = names.pop(0)\n",
    "    print(name)\n",
    "    if name == to_find:\n",
    "        found = True\n",
    "        print(\"  Found!\")\n",
    "        break\n",
    "    \n",
    "if found:\n",
    "    print(\"Found\", to_find + \"!\")\n",
    "else:\n",
    "    print(\"Didn't find\", to_find)"
   ]
  },
  {
   "cell_type": "markdown",
   "metadata": {
    "slideshow": {
     "slide_type": "subslide"
    }
   },
   "source": [
    "<br/>\n",
    "<br/>\n",
    "<br/>\n",
    "<br/>\n",
    "\n",
    "---"
   ]
  },
  {
   "cell_type": "markdown",
   "metadata": {
    "slideshow": {
     "slide_type": "subslide"
    }
   },
   "source": [
    "`break` is used most often with indefinite loops. With `break`, we can effectively move the stop condition _inside_ the loop body"
   ]
  },
  {
   "cell_type": "code",
   "execution_count": null,
   "metadata": {
    "colab": {
     "base_uri": "https://localhost:8080/"
    },
    "executionInfo": {
     "elapsed": 34120,
     "status": "ok",
     "timestamp": 1615215056758,
     "user": {
      "displayName": "Joel Chan",
      "photoUrl": "https://lh3.googleusercontent.com/a-/AOh14GiBPPpBf_QqgDL3pMurAsPu9WJJE_x_6UtgW13UFQ=s64",
      "userId": "15153559228409906865"
     },
     "user_tz": 300
    },
    "id": "7ysp26d3MtqZ",
    "outputId": "2d76b6e8-9dad-4a41-c03d-6346b5b9cb75",
    "slideshow": {
     "slide_type": "fragment"
    }
   },
   "outputs": [],
   "source": [
    "while True:\n",
    "    line = input('> ')\n",
    "    if line == 'done' :\n",
    "        break\n",
    "    print(line)\n",
    "print('Done!')"
   ]
  },
  {
   "cell_type": "markdown",
   "metadata": {
    "slideshow": {
     "slide_type": "subslide"
    }
   },
   "source": [
    "<br/>\n",
    "<br/>\n",
    "<br/>\n",
    "<br/>\n",
    "\n",
    "---"
   ]
  },
  {
   "cell_type": "markdown",
   "metadata": {
    "slideshow": {
     "slide_type": "subslide"
    }
   },
   "source": [
    "Let's use a `break` statement in the number-guessing example"
   ]
  },
  {
   "cell_type": "code",
   "execution_count": null,
   "metadata": {
    "slideshow": {
     "slide_type": "fragment"
    }
   },
   "outputs": [],
   "source": [
    "guess = input(\"Try to guess the number between 1 and 10, or say `exit` to quit\")\n",
    "number = 5\n",
    "while guess != \"exit\":\n",
    "    if int(guess) == number:\n",
    "        print(\"You got it!\")\n",
    "        break # we're done, exit the loop\n",
    "    else:\n",
    "        guess = input(\"Try to guess the number between 1 and 10, or say `exit` to quit\")\n",
    "print(\"Thanks for playing!\")"
   ]
  },
  {
   "cell_type": "markdown",
   "metadata": {
    "slideshow": {
     "slide_type": "subslide"
    }
   },
   "source": [
    "<br/>\n",
    "<br/>\n",
    "<br/>\n",
    "<br/>\n",
    "<br/>\n",
    "<br/>\n",
    "<br/>\n",
    "<br/>\n",
    "<br/>\n",
    "\n",
    "---"
   ]
  },
  {
   "cell_type": "markdown",
   "metadata": {
    "slideshow": {
     "slide_type": "subslide"
    }
   },
   "source": [
    "## Aside: Indentation is key!\n",
    "\n",
    "The way that Python knows what counts as the body of code for a loop (whether definite or indefinite) is through indentation. \n",
    "\n",
    "You must indent all code that goes in the body underneath the `for` / `while` statement (after the colon).\n",
    "\n",
    "If you fail to indent the first line of code in the body, you will get an `IndentationError`.\n",
    "\n",
    "If you fail to indent anything _after_ the first line of code in the body, you will be committing a _semantic error_ \n",
    "\n",
    "Python will not alert you because it is legal code. But your program will probably malfunction.\n",
    "\n",
    "_This will throw `IndentationError`:_"
   ]
  },
  {
   "cell_type": "code",
   "execution_count": null,
   "metadata": {
    "colab": {
     "base_uri": "https://localhost:8080/",
     "height": 130
    },
    "executionInfo": {
     "elapsed": 422,
     "status": "error",
     "timestamp": 1615214531223,
     "user": {
      "displayName": "Joel Chan",
      "photoUrl": "https://lh3.googleusercontent.com/a-/AOh14GiBPPpBf_QqgDL3pMurAsPu9WJJE_x_6UtgW13UFQ=s64",
      "userId": "15153559228409906865"
     },
     "user_tz": 300
    },
    "id": "QhaEFbPdSYru",
    "outputId": "3ac1ea81-4afa-4574-e487-9daa18cd594f",
    "slideshow": {
     "slide_type": "fragment"
    }
   },
   "outputs": [],
   "source": [
    "for i in range(5):\n",
    "print(i)"
   ]
  },
  {
   "cell_type": "markdown",
   "metadata": {
    "slideshow": {
     "slide_type": "subslide"
    }
   },
   "source": [
    "<br/>\n",
    "<br/>\n",
    "<br/>\n",
    "<br/>\n",
    "\n",
    "---"
   ]
  },
  {
   "cell_type": "markdown",
   "metadata": {
    "slideshow": {
     "slide_type": "subslide"
    }
   },
   "source": [
    "_This will work but not in the intended way._\n",
    "\n",
    "__Ex.__ I want to step through a list of numbers, multiply each of them by 5 and print them out:"
   ]
  },
  {
   "cell_type": "code",
   "execution_count": null,
   "metadata": {
    "colab": {
     "base_uri": "https://localhost:8080/"
    },
    "executionInfo": {
     "elapsed": 350,
     "status": "ok",
     "timestamp": 1615214651739,
     "user": {
      "displayName": "Joel Chan",
      "photoUrl": "https://lh3.googleusercontent.com/a-/AOh14GiBPPpBf_QqgDL3pMurAsPu9WJJE_x_6UtgW13UFQ=s64",
      "userId": "15153559228409906865"
     },
     "user_tz": 300
    },
    "id": "rZMhDAYjSgUz",
    "outputId": "340b1967-9670-4c80-fed5-f0119830b9f7",
    "slideshow": {
     "slide_type": "fragment"
    }
   },
   "outputs": [],
   "source": [
    "nums = [1, 2, 3, 4, 5]\n",
    "for num in nums:\n",
    "    new_num = num * 5\n",
    "print(new_num)"
   ]
  },
  {
   "cell_type": "markdown",
   "metadata": {
    "slideshow": {
     "slide_type": "subslide"
    }
   },
   "source": [
    "<br/>\n",
    "<br/>\n",
    "<br/>\n",
    "<br/>\n",
    "<br/>\n",
    "<br/>\n",
    "<br/>\n",
    "<br/>\n",
    "<br/>\n",
    "\n",
    "---"
   ]
  },
  {
   "cell_type": "markdown",
   "metadata": {
    "id": "FYVv4YjdCjfS",
    "slideshow": {
     "slide_type": "slide"
    }
   },
   "source": [
    "\n",
    "## Common design patterns with loops"
   ]
  },
  {
   "cell_type": "markdown",
   "metadata": {
    "slideshow": {
     "slide_type": "fragment"
    }
   },
   "source": [
    "### Counting\n",
    "\n",
    "A common situation: you have a list of stuff, and you want to count how many times a certain kind of thing shows up in that list. \n",
    "\n",
    "In the simplest case: your counting condition is a single value"
   ]
  },
  {
   "cell_type": "code",
   "execution_count": null,
   "metadata": {
    "colab": {
     "base_uri": "https://localhost:8080/"
    },
    "executionInfo": {
     "elapsed": 318,
     "status": "ok",
     "timestamp": 1615215423848,
     "user": {
      "displayName": "Joel Chan",
      "photoUrl": "https://lh3.googleusercontent.com/a-/AOh14GiBPPpBf_QqgDL3pMurAsPu9WJJE_x_6UtgW13UFQ=s64",
      "userId": "15153559228409906865"
     },
     "user_tz": 300
    },
    "id": "FRA-7vjDVme4",
    "outputId": "8803ff78-23b2-4c24-9384-3b09654a7fef",
    "slideshow": {
     "slide_type": "fragment"
    }
   },
   "outputs": [],
   "source": [
    "names = [\"Joel\", \"John\", \"Jane\", \"Jamie\", \"Lisa\", \"Anna\", \"Fred\"]\n",
    "count = names.count(\"John\")\n",
    "print(count)"
   ]
  },
  {
   "cell_type": "markdown",
   "metadata": {
    "id": "zkz3w2_RHk2B",
    "slideshow": {
     "slide_type": "fragment"
    }
   },
   "source": [
    "In the more general case, your counting condition will be based on a boolean expression.\n",
    "\n",
    "_Iteration is a really helpful way to do this._\n",
    "\n",
    "__Ex.__ I want to count the number of \"high performers\" in a list of scores (where high performing means score of 95 or greater).\n",
    "```python\n",
    "# initialize count variable\n",
    "\n",
    "# for every item in list\n",
    "    # check if we should count it\n",
    "        # increase count if it checks out\n",
    "```"
   ]
  },
  {
   "cell_type": "code",
   "execution_count": null,
   "metadata": {
    "colab": {
     "base_uri": "https://localhost:8080/"
    },
    "executionInfo": {
     "elapsed": 386,
     "status": "ok",
     "timestamp": 1614616032440,
     "user": {
      "displayName": "Joel Chan",
      "photoUrl": "https://lh3.googleusercontent.com/a-/AOh14GiBPPpBf_QqgDL3pMurAsPu9WJJE_x_6UtgW13UFQ=s64",
      "userId": "15153559228409906865"
     },
     "user_tz": 300
    },
    "id": "97jK8jFWH0Ld",
    "outputId": "86d95e54-e442-49b6-e659-7b9db8a38a45",
    "slideshow": {
     "slide_type": "fragment"
    }
   },
   "outputs": [],
   "source": [
    "# input list\n",
    "scores = [65, 78, 23, 97, 100, 25, 95]\n",
    "\n",
    "# score of A\n",
    "threshold = 93\n",
    "\n",
    "# define the count variable, initialize to 0\n",
    "n_highperformers = 0\n",
    "\n",
    "# go through each item\n",
    "for score in scores:\n",
    "    # check if it's above my threshold / meets my criteria for being counted\n",
    "    if score >= threshold:\n",
    "        # increase the count\n",
    "        n_highperformers += 1\n",
    "        \n",
    "# report result\n",
    "print(n_highperformers)"
   ]
  },
  {
   "cell_type": "markdown",
   "metadata": {
    "slideshow": {
     "slide_type": "subslide"
    }
   },
   "source": [
    "<br/>\n",
    "<br/>\n",
    "<br/>\n",
    "<br/>"
   ]
  },
  {
   "cell_type": "markdown",
   "metadata": {
    "slideshow": {
     "slide_type": "subslide"
    }
   },
   "source": [
    "Especially in problem formulation, this code goes well into a function:"
   ]
  },
  {
   "cell_type": "code",
   "execution_count": null,
   "metadata": {
    "colab": {
     "base_uri": "https://localhost:8080/"
    },
    "executionInfo": {
     "elapsed": 441,
     "status": "ok",
     "timestamp": 1614613964659,
     "user": {
      "displayName": "Joel Chan",
      "photoUrl": "https://lh3.googleusercontent.com/a-/AOh14GiBPPpBf_QqgDL3pMurAsPu9WJJE_x_6UtgW13UFQ=s64",
      "userId": "15153559228409906865"
     },
     "user_tz": 300
    },
    "id": "mkAHNAbdafLw",
    "outputId": "d9acfef2-a547-4d55-be6f-3f0e4053979a",
    "slideshow": {
     "slide_type": "fragment"
    }
   },
   "outputs": [],
   "source": [
    "def count_high_performers(input_scores, threshold):\n",
    "    count = 0 # define the count variable, initialize to 0\n",
    "    for score in input_scores: # go through each item\n",
    "        if score >= threshold: # check if it's above my threshold / meets my criteria for being counted\n",
    "            count += 1 # increase the count\n",
    "    return count\n",
    "\n",
    "# input list\n",
    "new_scores = [65, 78, 23, 97, 100, 25, 85, 99, 85, 95]\n",
    "\n",
    "# call\n",
    "print(count_high_performers(new_scores, threshold=90))"
   ]
  },
  {
   "cell_type": "markdown",
   "metadata": {
    "slideshow": {
     "slide_type": "subslide"
    }
   },
   "source": [
    "<br/>\n",
    "<br/>\n",
    "<br/>\n",
    "<br/>"
   ]
  },
  {
   "cell_type": "markdown",
   "metadata": {
    "id": "7NhuvhW_H01V",
    "slideshow": {
     "slide_type": "subslide"
    }
   },
   "source": [
    "__Another example:__ I have a list of names, and I want to count how many names don't start with the letter J."
   ]
  },
  {
   "cell_type": "code",
   "execution_count": null,
   "metadata": {
    "colab": {
     "base_uri": "https://localhost:8080/"
    },
    "executionInfo": {
     "elapsed": 738,
     "status": "ok",
     "timestamp": 1615215916705,
     "user": {
      "displayName": "Joel Chan",
      "photoUrl": "https://lh3.googleusercontent.com/a-/AOh14GiBPPpBf_QqgDL3pMurAsPu9WJJE_x_6UtgW13UFQ=s64",
      "userId": "15153559228409906865"
     },
     "user_tz": 300
    },
    "id": "FsQMeLKzax1R",
    "outputId": "e35ef9d2-1fd9-4de9-c7d3-78da061d264c",
    "slideshow": {
     "slide_type": "fragment"
    }
   },
   "outputs": [],
   "source": [
    "names = [\"Joel\", \"John\", \"Jane\", \"Jamie\", \"John\", \"Michael\", \"Sarah\", \"Joseph\", \"Chris\", \"Ray\"]\n",
    "\n",
    "# define the count variable, initialize to 0\n",
    "count_not_j = 0 \n",
    "\n",
    "# go through each item\n",
    "for name in names: \n",
    "    # check if name doesn't start with j / meets my criteria for being counted\n",
    "    if not name.startswith(\"J\"): \n",
    "        count_not_j += 1 # increase the count\n",
    "\n",
    "print(count_not_j)"
   ]
  },
  {
   "cell_type": "markdown",
   "metadata": {
    "slideshow": {
     "slide_type": "subslide"
    }
   },
   "source": [
    "<br/>\n",
    "<br/>\n",
    "<br/>\n",
    "<br/>"
   ]
  },
  {
   "cell_type": "markdown",
   "metadata": {
    "slideshow": {
     "slide_type": "skip"
    }
   },
   "source": [
    "If you want to count occurrences based on a simple exact match, you can use the `.count()` list method."
   ]
  },
  {
   "cell_type": "code",
   "execution_count": null,
   "metadata": {
    "slideshow": {
     "slide_type": "skip"
    }
   },
   "outputs": [],
   "source": [
    "names = [\"Joel\", \"John\", \"Jane\", \"Jamie\", \"John\", \"Michael\", \"Sarah\", \"Joseph\", \"Chris\", \"Ray\"]\n",
    "names.count(\"John\")"
   ]
  },
  {
   "cell_type": "markdown",
   "metadata": {
    "slideshow": {
     "slide_type": "subslide"
    }
   },
   "source": [
    "<br/>\n",
    "<br/>\n",
    "<br/>\n",
    "<br/>\n",
    "<br/>\n",
    "<br/>\n",
    "<br/>\n",
    "<br/>\n",
    "<br/>\n",
    "\n",
    "---"
   ]
  },
  {
   "cell_type": "markdown",
   "metadata": {
    "id": "0c6wfPPRBHdg",
    "slideshow": {
     "slide_type": "slide"
    }
   },
   "source": [
    "### Searching\n",
    "\n",
    "Another common situation is checking whether you should proceed with a list. Does it contain a value that meets some condition? \n",
    "\n",
    "This would be a variation on the counting and filtering again. __Ex.__ find name in list of names:"
   ]
  },
  {
   "cell_type": "code",
   "execution_count": null,
   "metadata": {
    "id": "dMIAR49WIUlY",
    "slideshow": {
     "slide_type": "fragment"
    }
   },
   "outputs": [],
   "source": [
    "# names to search\n",
    "names = [\"Joel\", \"John\", \"Jane\", \"Jamie\"]\n",
    "\n",
    "# define a found variable, initialize to False\n",
    "found = False\n",
    "\n",
    "# go through each item\n",
    "for name in names: \n",
    "    # check if is john / meets my criteria for being found\n",
    "    if name == \"John\":\n",
    "        # if we find john, set found to True\n",
    "        found = True\n",
    "        # and exit\n",
    "        break \n",
    "\n",
    "# print out the result\n",
    "print(found)\n",
    "\n",
    "# or use it\n",
    "if found:\n",
    "    print(\"Found john!\")\n",
    "else:\n",
    "    print(\"Didn't find john\")"
   ]
  },
  {
   "cell_type": "markdown",
   "metadata": {
    "slideshow": {
     "slide_type": "subslide"
    }
   },
   "source": [
    "<br/>\n",
    "<br/>\n",
    "<br/>\n",
    "<br/>"
   ]
  },
  {
   "cell_type": "markdown",
   "metadata": {
    "slideshow": {
     "slide_type": "subslide"
    }
   },
   "source": [
    "This pattern becomes more useful when the condition is more complicated than finding a particular value. __Ex.__ find an high-performer (score above threshold)"
   ]
  },
  {
   "cell_type": "code",
   "execution_count": null,
   "metadata": {
    "colab": {
     "base_uri": "https://localhost:8080/"
    },
    "executionInfo": {
     "elapsed": 471,
     "status": "ok",
     "timestamp": 1615216231228,
     "user": {
      "displayName": "Joel Chan",
      "photoUrl": "https://lh3.googleusercontent.com/a-/AOh14GiBPPpBf_QqgDL3pMurAsPu9WJJE_x_6UtgW13UFQ=s64",
      "userId": "15153559228409906865"
     },
     "user_tz": 300
    },
    "id": "lsFYC_tKbjVf",
    "outputId": "a6442da1-2e15-402a-8f9a-2a978b9dcaf9",
    "slideshow": {
     "slide_type": "fragment"
    }
   },
   "outputs": [],
   "source": [
    "# input list\n",
    "scores = [65, 78, 23, 97, 25, 85]\n",
    "\n",
    "threshold = 95\n",
    "# define a found variable, initialize to False\n",
    "found = False \n",
    "\n",
    " # go through each item\n",
    "for score in scores:\n",
    "    # check if it's above my threshold / meets my criteria for being found\n",
    "    if score >= threshold:\n",
    "        # if we find a high performer, set found to True\n",
    "        found = True\n",
    "        # and exit\n",
    "        break\n",
    "\n",
    "# print the result\n",
    "print(found)\n",
    "\n",
    "# or use it\n",
    "if found:\n",
    "    print(\"Found a high performer!\")\n",
    "else:\n",
    "    print(\"Didn't a high performer\")"
   ]
  },
  {
   "cell_type": "markdown",
   "metadata": {
    "slideshow": {
     "slide_type": "subslide"
    }
   },
   "source": [
    "<br/>\n",
    "<br/>\n",
    "<br/>\n",
    "<br/>"
   ]
  },
  {
   "cell_type": "markdown",
   "metadata": {
    "id": "hS0OdbOyIi9n",
    "slideshow": {
     "slide_type": "subslide"
    }
   },
   "source": [
    "Sometimes you also want to find the index position."
   ]
  },
  {
   "cell_type": "code",
   "execution_count": null,
   "metadata": {
    "colab": {
     "base_uri": "https://localhost:8080/",
     "height": 34
    },
    "executionInfo": {
     "elapsed": 904,
     "status": "ok",
     "timestamp": 1602516780130,
     "user": {
      "displayName": "Joel Chan",
      "photoUrl": "https://lh3.googleusercontent.com/a-/AOh14GiBPPpBf_QqgDL3pMurAsPu9WJJE_x_6UtgW13UFQ=s64",
      "userId": "15153559228409906865"
     },
     "user_tz": 240
    },
    "id": "uqIfEhPwIkA8",
    "outputId": "88caa2a5-ce03-4561-d0d7-f12d80dacb56",
    "slideshow": {
     "slide_type": "fragment"
    }
   },
   "outputs": [],
   "source": [
    "scores = [65, 78, 23, 97, 25, 85] # input list\n",
    "\n",
    "threshold = 95\n",
    "# define a found variable, initialize to False\n",
    "found = False\n",
    "# define a found index, initialize to -1 (not found)\n",
    "found_index = -1\n",
    "\n",
    "for i in range(len(scores)):\n",
    "    if scores[i] >= threshold:\n",
    "        found = True\n",
    "        found_index = i\n",
    "        break\n",
    "        \n",
    "print(\"Found high achiever at\", found_index)"
   ]
  },
  {
   "cell_type": "markdown",
   "metadata": {
    "slideshow": {
     "slide_type": "subslide"
    }
   },
   "source": [
    "<br/>\n",
    "<br/>\n",
    "<br/>\n",
    "<br/>"
   ]
  },
  {
   "cell_type": "markdown",
   "metadata": {
    "id": "BkuYzdMvH9Jk",
    "slideshow": {
     "slide_type": "subslide"
    }
   },
   "source": [
    "If you only want to find the first occurrence of something, based on an exact match, you can use the `.index()` list method"
   ]
  },
  {
   "cell_type": "code",
   "execution_count": null,
   "metadata": {
    "slideshow": {
     "slide_type": "fragment"
    }
   },
   "outputs": [],
   "source": [
    "scores = [65, 78, 23, 97, 25, 85]\n",
    "scores.index(23)"
   ]
  },
  {
   "cell_type": "markdown",
   "metadata": {
    "slideshow": {
     "slide_type": "subslide"
    }
   },
   "source": [
    "<br/>\n",
    "<br/>\n",
    "<br/>\n",
    "<br/>\n",
    "<br/>\n",
    "<br/>\n",
    "<br/>\n",
    "<br/>\n",
    "<br/>\n",
    "\n",
    "---"
   ]
  },
  {
   "cell_type": "markdown",
   "metadata": {
    "id": "TP00ttDLHmte",
    "slideshow": {
     "slide_type": "slide"
    }
   },
   "source": [
    "### Filtering\n",
    "\n",
    "We can take the counting and searching cases and go further: what if we want to not only count, but also \"grab\" the things that meet our criteria?\n",
    "\n",
    "We'd want to create a new list, and make sure we have a bit of code that adds to that new list based on the criteria we have."
   ]
  },
  {
   "cell_type": "code",
   "execution_count": null,
   "metadata": {
    "colab": {
     "base_uri": "https://localhost:8080/"
    },
    "executionInfo": {
     "elapsed": 318,
     "status": "ok",
     "timestamp": 1615216062004,
     "user": {
      "displayName": "Joel Chan",
      "photoUrl": "https://lh3.googleusercontent.com/a-/AOh14GiBPPpBf_QqgDL3pMurAsPu9WJJE_x_6UtgW13UFQ=s64",
      "userId": "15153559228409906865"
     },
     "user_tz": 300
    },
    "id": "AzsUWV0-Hz6N",
    "outputId": "ffe5db87-139f-4444-a1c0-56a62208c525",
    "slideshow": {
     "slide_type": "subslide"
    }
   },
   "outputs": [],
   "source": [
    "# input list to be filtered\n",
    "scores = [65, 82, 23, 97, 100, 95]\n",
    "\n",
    "# output list, initialize to empty list\n",
    "to_grab = []\n",
    "threshold = 80\n",
    "\n",
    "# go through each item\n",
    "for score in scores:\n",
    "    # check if it's above my threshold / meets my criteria for being filtered\n",
    "    if score >= threshold: \n",
    "        # add the item to the output list\n",
    "        to_grab.append(score)\n",
    "\n",
    "print(to_grab)"
   ]
  },
  {
   "cell_type": "markdown",
   "metadata": {
    "slideshow": {
     "slide_type": "subslide"
    }
   },
   "source": [
    "<br/>\n",
    "<br/>\n",
    "<br/>\n",
    "<br/>"
   ]
  },
  {
   "cell_type": "markdown",
   "metadata": {
    "slideshow": {
     "slide_type": "subslide"
    }
   },
   "source": [
    "For some simple filtering, you can use the `filter()` builtin function.\n",
    "\n",
    "It takes two arguments:\n",
    "1. A function that takes an element as argument and returns True if it is to be kept, False otherwise\n",
    "2. The list of elements to filtered\n",
    "\n",
    "The result needs to be converted to a list using the `list()` type conversion function."
   ]
  },
  {
   "cell_type": "code",
   "execution_count": null,
   "metadata": {
    "slideshow": {
     "slide_type": "fragment"
    }
   },
   "outputs": [],
   "source": [
    "scores = [65, 82, 23, 97, 100, 95] # input list to be filtered\n",
    "\n",
    "def above_threshold(x):\n",
    "    threshold = 80\n",
    "    if x > threshold:\n",
    "        return True\n",
    "    else:\n",
    "        return False\n",
    "\n",
    "to_grab = list(filter(above_threshold, scores))\n",
    "print(to_grab)"
   ]
  },
  {
   "cell_type": "markdown",
   "metadata": {
    "slideshow": {
     "slide_type": "subslide"
    }
   },
   "source": [
    "<br/>\n",
    "<br/>\n",
    "<br/>\n",
    "<br/>"
   ]
  },
  {
   "cell_type": "markdown",
   "metadata": {
    "slideshow": {
     "slide_type": "subslide"
    }
   },
   "source": [
    "__Ex.__ filter names that do not start with J"
   ]
  },
  {
   "cell_type": "code",
   "execution_count": null,
   "metadata": {
    "colab": {
     "base_uri": "https://localhost:8080/"
    },
    "executionInfo": {
     "elapsed": 400,
     "status": "ok",
     "timestamp": 1615216100494,
     "user": {
      "displayName": "Joel Chan",
      "photoUrl": "https://lh3.googleusercontent.com/a-/AOh14GiBPPpBf_QqgDL3pMurAsPu9WJJE_x_6UtgW13UFQ=s64",
      "userId": "15153559228409906865"
     },
     "user_tz": 300
    },
    "id": "E5-DLDoGH6Fz",
    "outputId": "629187b3-46bb-4f66-df83-88484c3f7219",
    "slideshow": {
     "slide_type": "fragment"
    }
   },
   "outputs": [],
   "source": [
    "names = [\"Joel\", \"John\", \"Lane\", \"Jamie\", \"Freddy\"]\n",
    "\n",
    "# output list, initialize to empty list\n",
    "to_grab = []\n",
    "\n",
    "# go through each item\n",
    "for name in names:\n",
    "    # check if name doesn't start with J / meets my criteria for being filtered\n",
    "    if not name.startswith(\"J\"):\n",
    "        # add the item to the output list\n",
    "        to_grab.append(name)\n",
    "\n",
    "# print out the result\n",
    "print(to_grab)"
   ]
  },
  {
   "cell_type": "markdown",
   "metadata": {
    "slideshow": {
     "slide_type": "subslide"
    }
   },
   "source": [
    "<br/>\n",
    "<br/>\n",
    "<br/>\n",
    "<br/>\n",
    "<br/>\n",
    "<br/>\n",
    "<br/>\n",
    "<br/>\n",
    "<br/>\n",
    "\n",
    "---"
   ]
  },
  {
   "cell_type": "markdown",
   "metadata": {
    "slideshow": {
     "slide_type": "slide"
    }
   },
   "source": [
    "### Mapping / transforming\n",
    "\n",
    "Finally, sometimes you want to modify some / all elements in a list into a new list. \n",
    "\n",
    "An example might be data cleaning, or data transformation."
   ]
  },
  {
   "cell_type": "markdown",
   "metadata": {
    "slideshow": {
     "slide_type": "subslide"
    }
   },
   "source": [
    "__Ex.__ Convert to percentages."
   ]
  },
  {
   "cell_type": "code",
   "execution_count": null,
   "metadata": {
    "slideshow": {
     "slide_type": "fragment"
    }
   },
   "outputs": [],
   "source": [
    "scores = [65, 82, 23, 97, 100, 95]\n",
    "\n",
    "# output list\n",
    "percentages = []\n",
    "\n",
    "# go through every item\n",
    "for score in scores:\n",
    "    # apply the transformation\n",
    "    percent = score / 100\n",
    "    # add the transformed value to the output list\n",
    "    percentages.append(percent)\n",
    "\n",
    "print(percentages)"
   ]
  },
  {
   "cell_type": "markdown",
   "metadata": {
    "slideshow": {
     "slide_type": "subslide"
    }
   },
   "source": [
    "<br/>\n",
    "<br/>\n",
    "<br/>\n",
    "<br/>"
   ]
  },
  {
   "cell_type": "markdown",
   "metadata": {
    "slideshow": {
     "slide_type": "subslide"
    }
   },
   "source": [
    "__Ex.__ Change outliers (those above 1000) to missing (\"NA\")"
   ]
  },
  {
   "cell_type": "code",
   "execution_count": null,
   "metadata": {
    "slideshow": {
     "slide_type": "fragment"
    }
   },
   "outputs": [],
   "source": [
    "scores = [65, 82, 2323, 97, 100, 95000]\n",
    "\n",
    "# output list\n",
    "no_outliers = []\n",
    "\n",
    "# go through every item\n",
    "for score in scores:\n",
    "    # check if it's an outlier\n",
    "    if score > 1000:\n",
    "        # apply transformation and add to list\n",
    "        no_outliers.append(\"NA\")\n",
    "    else:\n",
    "        no_outliers.append(score)\n",
    "print(no_outliers)"
   ]
  },
  {
   "cell_type": "markdown",
   "metadata": {
    "slideshow": {
     "slide_type": "subslide"
    }
   },
   "source": [
    "<br/>\n",
    "<br/>\n",
    "<br/>\n",
    "<br/>"
   ]
  },
  {
   "cell_type": "markdown",
   "metadata": {
    "slideshow": {
     "slide_type": "subslide"
    }
   },
   "source": [
    "For some simple transformations, you can use the `map()` built-in function.\n",
    "\n",
    "It takes two arguments:\n",
    "1. A function that takes an element as argument and returns a transformed element\n",
    "2. The list of elements to filtered\n",
    "\n",
    "The result needs to be converted to a list using the `list()` type conversion function."
   ]
  },
  {
   "cell_type": "code",
   "execution_count": null,
   "metadata": {},
   "outputs": [],
   "source": [
    "scores = [65, 82, 23, 97, 100, 95]\n",
    "\n",
    "def to_percentage(x):\n",
    "    return x / 100\n",
    "\n",
    "percentages = list(map(to_percentage, scores))\n",
    "\n",
    "print(percentages)"
   ]
  },
  {
   "cell_type": "markdown",
   "metadata": {
    "slideshow": {
     "slide_type": "subslide"
    }
   },
   "source": [
    "<br/>\n",
    "<br/>\n",
    "<br/>\n",
    "<br/>\n",
    "<br/>\n",
    "<br/>\n",
    "<br/>\n",
    "<br/>\n",
    "<br/>\n",
    "\n",
    "---"
   ]
  },
  {
   "cell_type": "markdown",
   "metadata": {
    "id": "0WyKDpKBhF6Y",
    "slideshow": {
     "slide_type": "subslide"
    }
   },
   "source": [
    "### Coordinated iteration across multiple sequences\n",
    "\n",
    "One of the Project problems relies on a design pattern I haven't yet explicitly shown you in clear terms. \n",
    "\n",
    "So I want to quickly review it. \n",
    "\n",
    "How do you go through the elements of a list, index by index? "
   ]
  },
  {
   "cell_type": "code",
   "execution_count": null,
   "metadata": {
    "colab": {
     "base_uri": "https://localhost:8080/"
    },
    "executionInfo": {
     "elapsed": 343,
     "status": "ok",
     "timestamp": 1615216683162,
     "user": {
      "displayName": "Joel Chan",
      "photoUrl": "https://lh3.googleusercontent.com/a-/AOh14GiBPPpBf_QqgDL3pMurAsPu9WJJE_x_6UtgW13UFQ=s64",
      "userId": "15153559228409906865"
     },
     "user_tz": 300
    },
    "id": "oGZWgZ7ZZqPY",
    "outputId": "cd678d2b-a146-4cae-af20-533f4a6a4452",
    "slideshow": {
     "slide_type": "subslide"
    }
   },
   "outputs": [],
   "source": [
    "# basic iteration through a list using indices\n",
    "names = [\"Joel\", \"John\", \"Lane\", \"Jamie\", \"Freddy\"]\n",
    "eligibilities = [True, False, True, True, False]\n",
    "\n",
    "# make a range of numbers that start at 0, and stop before\n",
    "# the length of the names listb\n",
    "for index in range(len(names)):\n",
    "    name = names[index]\n",
    "    eligible = eligibilities[index]\n",
    "    print(name, eligible)"
   ]
  },
  {
   "cell_type": "markdown",
   "metadata": {
    "slideshow": {
     "slide_type": "notes"
    }
   },
   "source": [
    "You can figure out how this might generalize to the rock paper scissors problem, where you need to go through two lists in lockstep (first item from both lists, then second item from both lists, and so on)"
   ]
  },
  {
   "cell_type": "markdown",
   "metadata": {
    "slideshow": {
     "slide_type": "subslide"
    }
   },
   "source": [
    "<br/>\n",
    "<br/>\n",
    "<br/>\n",
    "<br/>\n",
    "<br/>\n",
    "<br/>\n",
    "<br/>\n",
    "<br/>\n",
    "<br/>\n",
    "\n",
    "---"
   ]
  },
  {
   "cell_type": "markdown",
   "metadata": {
    "id": "-iQvhWi7KGAg",
    "slideshow": {
     "slide_type": "slide"
    }
   },
   "source": [
    "# Common errors"
   ]
  },
  {
   "cell_type": "markdown",
   "metadata": {
    "id": "2P-04t43Knqj",
    "slideshow": {
     "slide_type": "subslide"
    }
   },
   "source": [
    "### IndexError when looping through a list\n",
    "\n",
    "This comes up mostly with `while` loops. So, while it's possible to convert any `for` loop into a while loop, you want to be careful with it."
   ]
  },
  {
   "cell_type": "code",
   "execution_count": null,
   "metadata": {
    "colab": {
     "base_uri": "https://localhost:8080/",
     "height": 336
    },
    "executionInfo": {
     "elapsed": 297,
     "status": "error",
     "timestamp": 1615216873655,
     "user": {
      "displayName": "Joel Chan",
      "photoUrl": "https://lh3.googleusercontent.com/a-/AOh14GiBPPpBf_QqgDL3pMurAsPu9WJJE_x_6UtgW13UFQ=s64",
      "userId": "15153559228409906865"
     },
     "user_tz": 300
    },
    "id": "EQ5QH6fyeYFm",
    "outputId": "68267113-285b-4015-a7c0-b3fc089fddd8",
    "slideshow": {
     "slide_type": "subslide"
    }
   },
   "outputs": [],
   "source": [
    "names = [\"Joel\", \"John\", \"Jane\", \"Jamie\", \"John\"]\n",
    "to_grab = [] # output list, initialize to empty list\n",
    "\n",
    "# set initial index to zero\n",
    "index = 0 \n",
    "\n",
    "# until you reach the end of the list\n",
    "while index < 10:\n",
    "    print(index)\n",
    "    \n",
    "    # get the name at this index\n",
    "    name = names[index]\n",
    "    \n",
    "    # check if is john / meets my criteria for being filtered\n",
    "    if name == \"John\":\n",
    "        # add the item to the output list\n",
    "        to_grab.append(name)\n",
    "    \n",
    "    # increment the index\n",
    "    index += 1 \n",
    "\n",
    "# print out the result\n",
    "print(to_grab)"
   ]
  },
  {
   "cell_type": "code",
   "execution_count": null,
   "metadata": {
    "colab": {
     "base_uri": "https://localhost:8080/",
     "height": 302
    },
    "executionInfo": {
     "elapsed": 428,
     "status": "error",
     "timestamp": 1615217051840,
     "user": {
      "displayName": "Joel Chan",
      "photoUrl": "https://lh3.googleusercontent.com/a-/AOh14GiBPPpBf_QqgDL3pMurAsPu9WJJE_x_6UtgW13UFQ=s64",
      "userId": "15153559228409906865"
     },
     "user_tz": 300
    },
    "id": "7VDwdVTwb8R9",
    "outputId": "e729b13f-e352-417f-b979-96c2d83a2bf2",
    "slideshow": {
     "slide_type": "subslide"
    }
   },
   "outputs": [],
   "source": [
    "# basic iteration through a list using indices\n",
    "names = [\"Joel\", \"John\", \"Lane\", \"Jamie\", \"Freddy\"]\n",
    "\n",
    "for index in range(6):\n",
    "    name = names[index]\n",
    "    print(index, name)"
   ]
  },
  {
   "cell_type": "markdown",
   "metadata": {
    "slideshow": {
     "slide_type": "subslide"
    }
   },
   "source": [
    "<br/>\n",
    "<br/>\n",
    "<br/>\n",
    "<br/>"
   ]
  },
  {
   "cell_type": "markdown",
   "metadata": {
    "id": "kjU1dyhRKZ9l",
    "slideshow": {
     "slide_type": "subslide"
    }
   },
   "source": [
    "### Infinite loops\n",
    "\n",
    "Remember that with indefinite loops, we need the **stopping condition** to be `False` at some point. \n",
    "\n",
    "Or at least, give the loop a way to exit / `break`. \n",
    "\n",
    "Otherwise, it will go forever! \n",
    "\n",
    "A common error is to forget to include any block of code in the **body (block)** of the loop that modifies the **stopping condition** or provides a **break** condition."
   ]
  },
  {
   "cell_type": "markdown",
   "metadata": {
    "slideshow": {
     "slide_type": "fragment"
    }
   },
   "source": [
    "<div class=\"alert alert-warning\">Run this, then go to <tt>Kernel &rarr; Interrupt</tt> to stop the infinite loop</div>"
   ]
  },
  {
   "cell_type": "code",
   "execution_count": null,
   "metadata": {
    "colab": {
     "base_uri": "https://localhost:8080/"
    },
    "executionInfo": {
     "elapsed": 251,
     "status": "ok",
     "timestamp": 1615217318600,
     "user": {
      "displayName": "Joel Chan",
      "photoUrl": "https://lh3.googleusercontent.com/a-/AOh14GiBPPpBf_QqgDL3pMurAsPu9WJJE_x_6UtgW13UFQ=s64",
      "userId": "15153559228409906865"
     },
     "user_tz": 300
    },
    "id": "0VWvpPmJfKnN",
    "outputId": "0dce9f4b-815b-4ebb-b8ca-f0ac725e54c3",
    "slideshow": {
     "slide_type": "fragment"
    }
   },
   "outputs": [],
   "source": [
    "n = 5\n",
    "while n > 0:\n",
    "    print(n)\n",
    "#    n = n - 1\n",
    "print(\"Blast off!\")"
   ]
  },
  {
   "cell_type": "markdown",
   "metadata": {
    "slideshow": {
     "slide_type": "subslide"
    }
   },
   "source": [
    "<br/>\n",
    "<br/>\n",
    "<br/>\n",
    "<br/>\n",
    "<br/>\n",
    "<br/>\n",
    "<br/>\n",
    "<br/>\n",
    "<br/>\n",
    "\n",
    "---"
   ]
  },
  {
   "cell_type": "markdown",
   "metadata": {
    "slideshow": {
     "slide_type": "subslide"
    }
   },
   "source": [
    "# Coding Challenge\n",
    "\n",
    "Convert this problem formulation into code. Use a `for` loop.\n",
    "\n",
    "<img src=\"https://terpconnect.umd.edu/~gciampag/INST126/images/Week%205%20-%20Problem%20Formulation%20-%20Frame%201.jpg\" />"
   ]
  },
  {
   "cell_type": "code",
   "execution_count": null,
   "metadata": {
    "slideshow": {
     "slide_type": "fragment"
    }
   },
   "outputs": [],
   "source": [
    "# key variables:\n",
    "# the input LIST of strings\n",
    "inputs = [\n",
    "    \"hello sarah@umd.edu\",\n",
    "    \"from: giovanniciampaglia@umd.edu\",\n",
    "    \"some other text that doesn't have an email\"\n",
    "]\n",
    "\n",
    "# Your code here\n",
    "..."
   ]
  },
  {
   "cell_type": "markdown",
   "metadata": {
    "slideshow": {
     "slide_type": "subslide"
    }
   },
   "source": [
    "<br/>\n",
    "<br/>\n",
    "<br/>\n",
    "<br/>\n",
    "<br/>\n",
    "<br/>\n",
    "<br/>\n",
    "<br/>\n",
    "<br/>\n",
    "\n",
    "---"
   ]
  },
  {
   "cell_type": "markdown",
   "metadata": {},
   "source": [
    "<br/>\n",
    "<br/>\n",
    "<br/>\n",
    "<br/>\n",
    "<br/>\n",
    "<br/>\n",
    "<br/>\n",
    "<br/>\n",
    "<br/>\n",
    "<br/>\n",
    "<br/>\n",
    "<br/>\n",
    "<br/>\n",
    "<br/>\n",
    "<br/>\n",
    "<br/>\n",
    "<br/>\n",
    "<br/>\n",
    "<br/>\n",
    "<br/>\n",
    "<br/>\n",
    "<br/>\n",
    "<br/>\n",
    "<br/>\n",
    "<br/>\n",
    "<br/>\n",
    "<br/>\n",
    "<br/>\n",
    "<br/>\n",
    "<br/>\n",
    "<br/>\n",
    "<br/>\n",
    "<br/>\n",
    "<br/>\n",
    "<br/>\n",
    "<br/>\n",
    "<br/>\n",
    "<br/>\n",
    "<br/>\n",
    "<br/>\n",
    "<br/>\n",
    "<br/>\n",
    "<br/>\n",
    "<br/>\n",
    "<br/>\n",
    "<br/>\n",
    "<br/>\n",
    "<br/>\n",
    "<br/>\n",
    "<br/>\n",
    "<br/>\n",
    "<br/>\n",
    "<br/>\n",
    "<br/>\n",
    "<br/>\n",
    "<br/>\n",
    "<br/>\n",
    "<br/>\n",
    "<br/>\n",
    "<br/>\n",
    "<br/>\n",
    "<br/>\n",
    "<br/>\n",
    "\n",
    "\n",
    "---\n",
    "\n",
    "# Solutions\n",
    "\n",
    "## Coding Challenge"
   ]
  },
  {
   "cell_type": "code",
   "execution_count": null,
   "metadata": {
    "slideshow": {
     "slide_type": "fragment"
    }
   },
   "outputs": [],
   "source": [
    "# key variables:\n",
    "# the input LIST of strings\n",
    "inputs = [\n",
    "    \"hello sarah@umd.edu\",\n",
    "    \"from: giovanniciampaglia@umd.edu\",\n",
    "    \"some other text that doesn't have an email\"\n",
    "]\n",
    "\n",
    "### BEGIN SOLUTION\n",
    "# a LIST to store the email addresses\n",
    "emails = []\n",
    "\n",
    "# LOOP over every text input\n",
    "for text_input in inputs:\n",
    "    \n",
    "    # extract an email address\n",
    "    # split the text into subsets\n",
    "    chunks = text_input.split()\n",
    "    \n",
    "    # LOOP over the list of chunks to check each one\n",
    "    for chunk in chunks:\n",
    "        # check if it has @ and .\n",
    "        if \"@\" in chunk and \".\" in chunk:\n",
    "            # put the chunk in the email list\n",
    "            emails.append(chunk)\n",
    "# give the email address back to the user\n",
    "print(emails)\n",
    "### END SOLUTION"
   ]
  }
 ],
 "metadata": {
  "celltoolbar": "Slideshow",
  "colab": {
   "name": "INST126_SP21_Week7_Iteration_post-class.ipynb",
   "provenance": [],
   "toc_visible": true
  },
  "kernelspec": {
   "display_name": "Python 3 (ipykernel)",
   "language": "python",
   "name": "python3"
  },
  "language_info": {
   "codemirror_mode": {
    "name": "ipython",
    "version": 3
   },
   "file_extension": ".py",
   "mimetype": "text/x-python",
   "name": "python",
   "nbconvert_exporter": "python",
   "pygments_lexer": "ipython3",
   "version": "3.11.7"
  }
 },
 "nbformat": 4,
 "nbformat_minor": 4
}
