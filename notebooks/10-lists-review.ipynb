{
 "cells": [
  {
   "cell_type": "markdown",
   "metadata": {
    "id": "X8Q343PRGhMR",
    "slideshow": {
     "slide_type": "fragment"
    }
   },
   "source": [
    "# Lists Review \n",
    "\n",
    "## What are lists and why should we care about them?\n",
    "\n",
    "A list is one kind of _collection_ data structure\n",
    "\n",
    "So far we’ve stored our data in _variables_. \n",
    "\n",
    "Variables have one value in them &ndash; when we put a new value in the variable, the old value is overwritten."
   ]
  },
  {
   "cell_type": "code",
   "execution_count": null,
   "metadata": {
    "slideshow": {
     "slide_type": "fragment"
    },
    "tags": []
   },
   "outputs": [],
   "source": [
    "# variables are containers that hold data\n",
    "employee = \"Giovanni Luca Ciampaglia\"\n",
    "role = \"Assistant Professor\"\n",
    "\n",
    "print(\"Name:\", employee, \"| Role:\", role)"
   ]
  },
  {
   "cell_type": "code",
   "execution_count": null,
   "metadata": {
    "slideshow": {
     "slide_type": "fragment"
    },
    "tags": []
   },
   "outputs": [],
   "source": [
    "# variables can be overwritten with new data\n",
    "employee = \"Yogesh Boricha\"\n",
    "role = \"Teaching Assistant\"\n",
    "\n",
    "print(\"Name:\", employee, \"| Role:\", role)"
   ]
  },
  {
   "cell_type": "markdown",
   "metadata": {
    "slideshow": {
     "slide_type": "subslide"
    }
   },
   "source": [
    "But what if instead of individual pieces of data I need to _simultaneously_ keep track of multiple employees?"
   ]
  },
  {
   "cell_type": "code",
   "execution_count": null,
   "metadata": {
    "slideshow": {
     "slide_type": "fragment"
    },
    "tags": []
   },
   "outputs": [],
   "source": [
    "# Let's use variables to store all employees in the teaching staff of INST126\n",
    "employee1 = \"Giovanni Luca Ciampaglia\"\n",
    "employee2 = \"Yogesh Boricha\"\n",
    "employee3 = \"Nishad Kulkarni\""
   ]
  },
  {
   "cell_type": "code",
   "execution_count": null,
   "metadata": {
    "slideshow": {
     "slide_type": "fragment"
    }
   },
   "outputs": [],
   "source": [
    "print(\"Teaching staff:\", employee1 + \",\", employee2 + \",\", employee3 + \".\")"
   ]
  },
  {
   "cell_type": "markdown",
   "metadata": {
    "id": "X8Q343PRGhMR",
    "slideshow": {
     "slide_type": "fragment"
    }
   },
   "source": [
    "However, this becomes pretty cumbersome if we have many variables to keep track of.\n",
    "\n",
    "Furthermore, it is difficult to handle situations where the number of employees is not fixed. "
   ]
  },
  {
   "cell_type": "code",
   "execution_count": null,
   "metadata": {
    "slideshow": {
     "slide_type": "fragment"
    },
    "tags": []
   },
   "outputs": [],
   "source": [
    "# same code as before but now wrapped in a function\n",
    "def printstaff(emp1, emp2, emp3):\n",
    "    print(\"Teaching staff:\", emp1 + \",\", emp2 + \",\", emp3 + \".\")"
   ]
  },
  {
   "cell_type": "code",
   "execution_count": null,
   "metadata": {
    "slideshow": {
     "slide_type": "fragment"
    },
    "tags": []
   },
   "outputs": [],
   "source": [
    "# INST 126 section 2\n",
    "printstaff(employee1, employee2, employee3)"
   ]
  },
  {
   "cell_type": "code",
   "execution_count": null,
   "metadata": {
    "slideshow": {
     "slide_type": "fragment"
    },
    "tags": []
   },
   "outputs": [],
   "source": [
    "# Nuclear Physics (this prof does not need TAs ... but I still need to pass empty strings for the function to work!)\n",
    "printstaff(\"Dr. Sheldon Cooper\", \"\", \"\")"
   ]
  },
  {
   "cell_type": "markdown",
   "metadata": {
    "id": "X8Q343PRGhMR",
    "slideshow": {
     "slide_type": "fragment"
    }
   },
   "source": [
    "---\n",
    "\n",
    "A list is a kind of **collection** data structure. \n",
    "\n",
    "A collection allows us to put many values into a single _&ldquo;variable&rdquo;_.\n",
    "\n",
    "With a collection we can carry many values around in one convenient package."
   ]
  },
  {
   "cell_type": "code",
   "execution_count": null,
   "metadata": {
    "id": "cTjXSIqNGs85",
    "slideshow": {
     "slide_type": "subslide"
    }
   },
   "outputs": [],
   "source": [
    "friends = ['Joseph', 'Glenn', 'Sally']\n",
    "carryon = ['socks', 'shirt', 'perfume']\n",
    "scores = [1, 50, 32]"
   ]
  },
  {
   "cell_type": "markdown",
   "metadata": {
    "id": "rt-d9q-YGx3F",
    "slideshow": {
     "slide_type": "fragment"
    }
   },
   "source": [
    "## Why do we need more data structures than strings, numbers and Boolean values?\n",
    "\n",
    "Recall that computational thinking is a key component of programming skill. \n",
    "\n",
    "**Algorithms** --- sets of rules or steps used to solve a problem --- are an important way to model and instruct computers to solve problems. \n",
    "\n",
    "In computer science, it is well known that some algorithms need special **data structures** --- particular ways of organizing data in a computer.\n",
    "\n",
    "Let's look at some examples.\n",
    "\n",
    "Can you think of a structured set of rules (algorithms) for solving these problems *without* using a collection / list?\n",
    "\n",
    "- Find the smallest number in some numbers;\n",
    "\n",
    "- Take a collection and add an item to it;\n",
    "\n",
    "- Sort / filter some numbers;"
   ]
  },
  {
   "cell_type": "markdown",
   "metadata": {
    "slideshow": {
     "slide_type": "subslide"
    }
   },
   "source": [
    "__Problem__: find the smallest number amongst five numbers"
   ]
  },
  {
   "cell_type": "code",
   "execution_count": null,
   "metadata": {
    "id": "1EjL-gGYPA6k",
    "slideshow": {
     "slide_type": "fragment"
    },
    "tags": []
   },
   "outputs": [],
   "source": [
    "a = 12\n",
    "b = 5\n",
    "c = 7\n",
    "d = 10\n",
    "e = 2"
   ]
  },
  {
   "cell_type": "code",
   "execution_count": null,
   "metadata": {
    "id": "1EjL-gGYPA6k",
    "slideshow": {
     "slide_type": "fragment"
    },
    "tags": []
   },
   "outputs": [],
   "source": [
    "# With variables\n",
    "smallest = a\n",
    "if b < smallest:\n",
    "    smallest = b\n",
    "elif c < smallest:\n",
    "    smallest = c\n",
    "elif d < smallest:\n",
    "    smallest = d\n",
    "elif e < smallest:\n",
    "    smallest\n",
    "print(\"The smallest number is\", smallest)"
   ]
  },
  {
   "cell_type": "code",
   "execution_count": null,
   "metadata": {
    "colab": {
     "base_uri": "https://localhost:8080/"
    },
    "executionInfo": {
     "elapsed": 313,
     "status": "ok",
     "timestamp": 1614608840766,
     "user": {
      "displayName": "Joel Chan",
      "photoUrl": "https://lh3.googleusercontent.com/a-/AOh14GiBPPpBf_QqgDL3pMurAsPu9WJJE_x_6UtgW13UFQ=s64",
      "userId": "15153559228409906865"
     },
     "user_tz": 300
    },
    "id": "ojgv4-M_PYY9",
    "outputId": "7ccffee1-0191-4553-e648-cdd808e6d15a",
    "slideshow": {
     "slide_type": "subslide"
    },
    "tags": []
   },
   "outputs": [],
   "source": [
    "# With lists\n",
    "nums = [\n",
    "    12,\n",
    "    5,\n",
    "    7,\n",
    "    10,\n",
    "    2\n",
    "]\n",
    "\n",
    "# Sort it from smallest to largest using the sorted() function\n",
    "nums = sorted(nums)\n",
    "\n",
    "# Take the first number\n",
    "print(\"The smallest number is\", nums[0])"
   ]
  },
  {
   "cell_type": "markdown",
   "metadata": {
    "slideshow": {
     "slide_type": "subslide"
    }
   },
   "source": [
    "__Problem__: filter out odd numbers so we only see the even numbers."
   ]
  },
  {
   "cell_type": "code",
   "execution_count": null,
   "metadata": {
    "colab": {
     "base_uri": "https://localhost:8080/"
    },
    "executionInfo": {
     "elapsed": 302,
     "status": "ok",
     "timestamp": 1614609107927,
     "user": {
      "displayName": "Joel Chan",
      "photoUrl": "https://lh3.googleusercontent.com/a-/AOh14GiBPPpBf_QqgDL3pMurAsPu9WJJE_x_6UtgW13UFQ=s64",
      "userId": "15153559228409906865"
     },
     "user_tz": 300
    },
    "id": "4aJHVpgiPo-u",
    "outputId": "f69682d9-b60d-4e22-c072-6479f5a7a2dd",
    "slideshow": {
     "slide_type": "fragment"
    }
   },
   "outputs": [],
   "source": [
    "# With variables\n",
    "a = 1\n",
    "b = 5\n",
    "c = 7\n",
    "d = 10\n",
    "e = 2\n",
    "\n",
    "if a % 2 == 0:\n",
    "    print(a)\n",
    "if b % 2 == 0:\n",
    "    print(b)\n",
    "if c % 2 == 0:\n",
    "    print(d)\n",
    "if d % 2 == 0:\n",
    "    print(d)\n",
    "if e % 2 == 0:\n",
    "    print(e)"
   ]
  },
  {
   "cell_type": "code",
   "execution_count": null,
   "metadata": {
    "colab": {
     "base_uri": "https://localhost:8080/"
    },
    "executionInfo": {
     "elapsed": 306,
     "status": "ok",
     "timestamp": 1614609175239,
     "user": {
      "displayName": "Joel Chan",
      "photoUrl": "https://lh3.googleusercontent.com/a-/AOh14GiBPPpBf_QqgDL3pMurAsPu9WJJE_x_6UtgW13UFQ=s64",
      "userId": "15153559228409906865"
     },
     "user_tz": 300
    },
    "id": "GDmuZCrnP9V9",
    "outputId": "e87dc5c5-3cb1-480f-ed8a-0849cef66380",
    "slideshow": {
     "slide_type": "subslide"
    }
   },
   "outputs": [],
   "source": [
    "# With lists\n",
    "nums = [10, 5, 7, 1, 2, 6, 10, 15, 20, 200]\n",
    "\n",
    "# Use a for loop\n",
    "for num in nums:\n",
    "    if num % 2 == 0:\n",
    "        print(num)"
   ]
  },
  {
   "cell_type": "markdown",
   "metadata": {
    "id": "XMfeWgyvG3W7",
    "slideshow": {
     "slide_type": "notes"
    }
   },
   "source": [
    "Could in principle do these with separate variables for each item. But very clunky! And error prone! And basically impossible to generalize (contra core goal of developing **abstractions over classes of problems**, from CompT).\n",
    "\n",
    "The point to note here is that your ability to model (and therefore solve) problems with programming is dependent on your knowledge of data structures (since they constrain the set of algorithms you can recognize and apply to problems). So as you expand your knowledge of data structures, try to note down also the common situations in which they apply, and what algorithms they tend to \"work well with\".\n",
    "\n",
    "You will learn a few more data structures this semester (dive more into strings this module, then files and dictionaries next module, and dataframes for data analysis in the final module). And of course many more as you advance in your career."
   ]
  },
  {
   "cell_type": "markdown",
   "metadata": {
    "id": "ifBcaTKuA2jN",
    "slideshow": {
     "slide_type": "slide"
    }
   },
   "source": [
    "## Anatomy of a list in Python"
   ]
  },
  {
   "cell_type": "markdown",
   "metadata": {
    "id": "ifBcaTKuA2jN",
    "slideshow": {
     "slide_type": "fragment"
    }
   },
   "source": [
    "### How to define a list\n",
    "\n",
    "A list value (also called a list _literal_):\n",
    "\n",
    "1. Is surrounded by square brackets;\n",
    "\n",
    "2. Contains multiple elements separated by commas."
   ]
  },
  {
   "cell_type": "code",
   "execution_count": null,
   "metadata": {
    "id": "JG-iNe0ZHJVn",
    "slideshow": {
     "slide_type": "subslide"
    }
   },
   "outputs": [],
   "source": [
    "\"1, 2, 3\" # this a string literal"
   ]
  },
  {
   "cell_type": "code",
   "execution_count": null,
   "metadata": {
    "id": "JG-iNe0ZHJVn",
    "slideshow": {
     "slide_type": "fragment"
    }
   },
   "outputs": [],
   "source": [
    "1 # this is int literal"
   ]
  },
  {
   "cell_type": "code",
   "execution_count": null,
   "metadata": {
    "id": "JG-iNe0ZHJVn",
    "slideshow": {
     "slide_type": "fragment"
    }
   },
   "outputs": [],
   "source": [
    "1.0 # float literal"
   ]
  },
  {
   "cell_type": "code",
   "execution_count": null,
   "metadata": {
    "id": "JG-iNe0ZHJVn",
    "slideshow": {
     "slide_type": "fragment"
    }
   },
   "outputs": [],
   "source": [
    "[1, 2, 3] # list literal"
   ]
  },
  {
   "cell_type": "markdown",
   "metadata": {
    "slideshow": {
     "slide_type": "subslide"
    }
   },
   "source": [
    "### Style: multi-line list definition\n",
    "\n",
    "If you want to see the list contents more easily, you can also write a list literal over multiple lines and use indentation.\n",
    "\n",
    "```python\n",
    "a = [\n",
    "  1, # position 0 \n",
    "  2, # position 1\n",
    "  3  # position 2\n",
    "]\n",
    "```\n",
    "\n",
    "Python knows where the list starts or stops based on the brackets."
   ]
  },
  {
   "cell_type": "code",
   "execution_count": null,
   "metadata": {
    "slideshow": {
     "slide_type": "fragment"
    }
   },
   "outputs": [],
   "source": [
    "basic_list_2 = [\n",
    "    4,\n",
    "    5,\n",
    "    6\n",
    "]"
   ]
  },
  {
   "cell_type": "markdown",
   "metadata": {
    "slideshow": {
     "slide_type": "subslide"
    }
   },
   "source": [
    "This style is especially handy when there are &ldquo;large&rdquo; elements"
   ]
  },
  {
   "cell_type": "code",
   "execution_count": null,
   "metadata": {
    "id": "JG-iNe0ZHJVn",
    "slideshow": {
     "slide_type": "fragment"
    },
    "tags": []
   },
   "outputs": [],
   "source": [
    "sentences = [\n",
    "    \"something\",\n",
    "    \"she sells sea shells by the sea here\",\n",
    "    \"she sells sea shells by the sea there\",\n",
    "]\n",
    "\n",
    "# Difficult to read \n",
    "sentences = [\"she sells sea shells by the sea shore\", \"she sells sea shells by the sea here\", \"she sells sea shells by the sea there\"]"
   ]
  },
  {
   "cell_type": "code",
   "execution_count": null,
   "metadata": {
    "colab": {
     "base_uri": "https://localhost:8080/"
    },
    "executionInfo": {
     "elapsed": 461,
     "status": "ok",
     "timestamp": 1614609615503,
     "user": {
      "displayName": "Joel Chan",
      "photoUrl": "https://lh3.googleusercontent.com/a-/AOh14GiBPPpBf_QqgDL3pMurAsPu9WJJE_x_6UtgW13UFQ=s64",
      "userId": "15153559228409906865"
     },
     "user_tz": 300
    },
    "id": "NCGZJbFoOfES",
    "outputId": "5f2c0a1e-c30b-4e2d-9185-335f8ed35abd",
    "slideshow": {
     "slide_type": "fragment"
    }
   },
   "outputs": [],
   "source": [
    "sentences"
   ]
  },
  {
   "cell_type": "markdown",
   "metadata": {
    "slideshow": {
     "slide_type": "subslide"
    }
   },
   "source": [
    "### Lists and variables\n",
    "\n",
    "You can store lists into variables, just like any other values, with an assignment statement:"
   ]
  },
  {
   "cell_type": "code",
   "execution_count": null,
   "metadata": {
    "colab": {
     "base_uri": "https://localhost:8080/"
    },
    "executionInfo": {
     "elapsed": 586,
     "status": "ok",
     "timestamp": 1614609731424,
     "user": {
      "displayName": "Joel Chan",
      "photoUrl": "https://lh3.googleusercontent.com/a-/AOh14GiBPPpBf_QqgDL3pMurAsPu9WJJE_x_6UtgW13UFQ=s64",
      "userId": "15153559228409906865"
     },
     "user_tz": 300
    },
    "id": "RuCD-LNiRaJU",
    "outputId": "af9e62a4-2c36-4c19-b31e-105f04470f26",
    "slideshow": {
     "slide_type": "fragment"
    }
   },
   "outputs": [],
   "source": [
    "a = [1, 2, 3]\n",
    "b = [1, \"2\", 3.0]\n",
    "print(a)\n",
    "print(b)"
   ]
  },
  {
   "cell_type": "markdown",
   "metadata": {
    "slideshow": {
     "slide_type": "subslide"
    }
   },
   "source": [
    "You can even create list of lists!"
   ]
  },
  {
   "cell_type": "code",
   "execution_count": null,
   "metadata": {
    "colab": {
     "base_uri": "https://localhost:8080/"
    },
    "executionInfo": {
     "elapsed": 586,
     "status": "ok",
     "timestamp": 1614609731424,
     "user": {
      "displayName": "Joel Chan",
      "photoUrl": "https://lh3.googleusercontent.com/a-/AOh14GiBPPpBf_QqgDL3pMurAsPu9WJJE_x_6UtgW13UFQ=s64",
      "userId": "15153559228409906865"
     },
     "user_tz": 300
    },
    "id": "RuCD-LNiRaJU",
    "outputId": "af9e62a4-2c36-4c19-b31e-105f04470f26",
    "slideshow": {
     "slide_type": "fragment"
    }
   },
   "outputs": [],
   "source": [
    "c = [a, b]\n",
    "print(c)"
   ]
  },
  {
   "cell_type": "markdown",
   "metadata": {
    "id": "0EsxtmnxHQNC",
    "slideshow": {
     "slide_type": "subslide"
    }
   },
   "source": [
    "## Some properties of lists"
   ]
  },
  {
   "cell_type": "markdown",
   "metadata": {
    "id": "0EsxtmnxHQNC",
    "slideshow": {
     "slide_type": "fragment"
    }
   },
   "source": [
    "- They can hold **more than one value**\n",
    "    - What can go in a list?\n",
    "        - Any Python object: even another list!\n",
    "        - Mixed objects: doesn't all have to be the same type of object\n",
    "    - But you can also have lists with just one item, or empty ones! (Useful for initialization.)"
   ]
  },
  {
   "cell_type": "markdown",
   "metadata": {
    "id": "0EsxtmnxHQNC",
    "slideshow": {
     "slide_type": "fragment"
    }
   },
   "source": [
    "- They are **accessed** positionally, and thus have a notion of position / order\n",
    "    - Other data structures, like _dictionaries_ or _sets_, don't have this property\n",
    "        - This allows you to do things like sorting, finding by position (e.g., \"first\" or \"last\")\n",
    "    - NOTE: the index starts at 0, not 1! \n",
    "        - So the first item is at index 0, the second at index 1, and so on...\n",
    "        - Very important to remember this as you work with getting things in and out of lists"
   ]
  },
  {
   "cell_type": "markdown",
   "metadata": {
    "id": "0EsxtmnxHQNC",
    "slideshow": {
     "slide_type": "subslide"
    }
   },
   "source": [
    "- They are **mutable**: \n",
    "    - You can change the individual elements in the list directly:\n",
    "        - Adding a new element\n",
    "        - Changing an existing element\n",
    "        - Deleting an existing element"
   ]
  },
  {
   "cell_type": "markdown",
   "metadata": {
    "id": "0EsxtmnxHQNC",
    "slideshow": {
     "slide_type": "fragment"
    }
   },
   "source": [
    "- _Quick aside_: Python has also another data structure called _tuple_ that is instead **immutable**:\n",
    "    - You cannot change the elements stored in a tuple\n",
    "    - You can only create a new tuple and then assign it back\n",
    "    - Interestingly, strings are also an _immutable_ data structure\n",
    "        - Hold this thought to compare / contrast when we discuss strings in a couple of weeks."
   ]
  },
  {
   "cell_type": "markdown",
   "metadata": {
    "id": "TlIgLzthHfcr",
    "slideshow": {
     "slide_type": "subslide"
    }
   },
   "source": [
    "Let's demonstrate these properties by &ldquo;dissecting&rdquo; a few lists together."
   ]
  },
  {
   "cell_type": "markdown",
   "metadata": {
    "slideshow": {
     "slide_type": "slide"
    }
   },
   "source": [
    "### Lists can hold multiple types of data, including other lists"
   ]
  },
  {
   "cell_type": "code",
   "execution_count": null,
   "metadata": {
    "colab": {
     "base_uri": "https://localhost:8080/",
     "height": 52
    },
    "executionInfo": {
     "elapsed": 501,
     "status": "ok",
     "timestamp": 1601910267131,
     "user": {
      "displayName": "Joel Chan",
      "photoUrl": "https://lh3.googleusercontent.com/a-/AOh14GiBPPpBf_QqgDL3pMurAsPu9WJJE_x_6UtgW13UFQ=s64",
      "userId": "15153559228409906865"
     },
     "user_tz": 240
    },
    "id": "s_4Oo2sWRwNh",
    "outputId": "2351b06d-2f2d-46cd-8997-43e2cc0829aa",
    "slideshow": {
     "slide_type": "fragment"
    },
    "tags": []
   },
   "outputs": [],
   "source": [
    "basic_list = [1, 2, 3]\n",
    "x = [1, \"1\", 1.0]  # mixed\n",
    "y = [basic_list, basic_list, basic_list]  # list of lists\n",
    "z = [] # empty list\n",
    "print(x)\n",
    "print(y)\n",
    "print(z)"
   ]
  },
  {
   "cell_type": "markdown",
   "metadata": {
    "slideshow": {
     "slide_type": "slide"
    }
   },
   "source": [
    "### Accessing elements\n",
    "\n",
    "To access individual elements in a list we specify the position (or _index_) inside square brackets `[]`:\n",
    "\n",
    "_Remember: indexing starts at 0!_"
   ]
  },
  {
   "cell_type": "code",
   "execution_count": null,
   "metadata": {
    "colab": {
     "base_uri": "https://localhost:8080/"
    },
    "executionInfo": {
     "elapsed": 344,
     "status": "ok",
     "timestamp": 1614610102228,
     "user": {
      "displayName": "Joel Chan",
      "photoUrl": "https://lh3.googleusercontent.com/a-/AOh14GiBPPpBf_QqgDL3pMurAsPu9WJJE_x_6UtgW13UFQ=s64",
      "userId": "15153559228409906865"
     },
     "user_tz": 300
    },
    "id": "vnfv4Qw_Sp_X",
    "outputId": "7ec010d7-ba3b-4390-84cd-de65f79605b6",
    "slideshow": {
     "slide_type": "fragment"
    },
    "tags": []
   },
   "outputs": [],
   "source": [
    "colors = [\n",
    "    \"red\",    # index 0\n",
    "    \"green\",  # index 1\n",
    "    \"blue\",   # index 2\n",
    "    \"yellow\", # index 3\n",
    "    \"white\",  # index 4\n",
    "    \"black\",  # index 5\n",
    "]\n",
    "i = 0\n",
    "print(\"The element at position\", i, \"is\", colors[i])\n",
    "\n",
    "i = 1\n",
    "print(\"The element at position\", i, \"is\", colors[i])\n",
    "\n",
    "# get the 5th item\n",
    "colors[4]"
   ]
  },
  {
   "cell_type": "markdown",
   "metadata": {
    "slideshow": {
     "slide_type": "subslide"
    }
   },
   "source": [
    "Here it is in pictures.\n",
    "\n",
    "<img src=\"https://terpconnect.umd.edu/~gciampag/INST126/images/positive-indexes.png\"/>"
   ]
  },
  {
   "cell_type": "markdown",
   "metadata": {
    "slideshow": {
     "slide_type": "subslide"
    }
   },
   "source": [
    "You can also index in reverse! Handy for getting the last item in a list.\n",
    "\n",
    "<img src=\"https://terpconnect.umd.edu/~gciampag/INST126/images/negative-indexes.png\" />"
   ]
  },
  {
   "cell_type": "code",
   "execution_count": null,
   "metadata": {
    "slideshow": {
     "slide_type": "subslide"
    }
   },
   "outputs": [],
   "source": [
    "print(colors)\n",
    "\n",
    "i = -1\n",
    "print(\"The element at position\", i, \"is\", colors[i])\n",
    "\n",
    "i = -2\n",
    "print(\"The element at position\", i, \"is\", colors[i])"
   ]
  },
  {
   "cell_type": "markdown",
   "metadata": {
    "slideshow": {
     "slide_type": "slide"
    }
   },
   "source": [
    "## Mutating (changing) list elements\n",
    "\n",
    "To modify an individual element we use an assignment statement, like we would with a regular variable."
   ]
  },
  {
   "cell_type": "markdown",
   "metadata": {
    "slideshow": {
     "slide_type": "fragment"
    }
   },
   "source": [
    "However we also specify the position of the element to modify, using again square brackets `[]`"
   ]
  },
  {
   "cell_type": "code",
   "execution_count": null,
   "metadata": {
    "colab": {
     "base_uri": "https://localhost:8080/",
     "height": 34
    },
    "executionInfo": {
     "elapsed": 409,
     "status": "ok",
     "timestamp": 1601910603890,
     "user": {
      "displayName": "Joel Chan",
      "photoUrl": "https://lh3.googleusercontent.com/a-/AOh14GiBPPpBf_QqgDL3pMurAsPu9WJJE_x_6UtgW13UFQ=s64",
      "userId": "15153559228409906865"
     },
     "user_tz": 240
    },
    "id": "dyoXYqimT6Zl",
    "outputId": "ced1570f-c180-4e4a-85c1-2170cdca7fa4",
    "slideshow": {
     "slide_type": "fragment"
    }
   },
   "outputs": [],
   "source": [
    "numbers = [4, 6, 7, 10, 5]\n",
    "print(numbers)"
   ]
  },
  {
   "cell_type": "code",
   "execution_count": null,
   "metadata": {
    "colab": {
     "base_uri": "https://localhost:8080/",
     "height": 34
    },
    "executionInfo": {
     "elapsed": 409,
     "status": "ok",
     "timestamp": 1601910603890,
     "user": {
      "displayName": "Joel Chan",
      "photoUrl": "https://lh3.googleusercontent.com/a-/AOh14GiBPPpBf_QqgDL3pMurAsPu9WJJE_x_6UtgW13UFQ=s64",
      "userId": "15153559228409906865"
     },
     "user_tz": 240
    },
    "id": "dyoXYqimT6Zl",
    "outputId": "ced1570f-c180-4e4a-85c1-2170cdca7fa4",
    "slideshow": {
     "slide_type": "fragment"
    }
   },
   "outputs": [],
   "source": [
    "numbers[1] = 7  # can mutate the list (i.e., modify it directly)\n",
    "print(numbers)"
   ]
  },
  {
   "cell_type": "markdown",
   "metadata": {
    "slideshow": {
     "slide_type": "slide"
    }
   },
   "source": [
    "## Deleting list elements\n",
    "\n",
    "We use the `del` operation followed by the list element (again using square brackets to specify the position)"
   ]
  },
  {
   "cell_type": "code",
   "execution_count": null,
   "metadata": {
    "slideshow": {
     "slide_type": "fragment"
    }
   },
   "outputs": [],
   "source": [
    "letters = ['a', 'b', 'c', 'd', 'e']\n",
    "print(letters)\n",
    "\n",
    "i = 1\n",
    "print(\"Removing the element at index\", i, \"...\")\n",
    "del letters[1]\n",
    "print(letters)"
   ]
  },
  {
   "cell_type": "markdown",
   "metadata": {
    "id": "FYVv4YjdCjfS",
    "slideshow": {
     "slide_type": "slide"
    }
   },
   "source": [
    "## Adding list elements\n",
    "\n",
    "There are multiple ways to do this."
   ]
  },
  {
   "cell_type": "markdown",
   "metadata": {
    "id": "Q2HZItzZH0kv",
    "slideshow": {
     "slide_type": "fragment"
    }
   },
   "source": [
    "We can use **concatenation** (adding two lists together using the `+` operator)"
   ]
  },
  {
   "cell_type": "code",
   "execution_count": null,
   "metadata": {
    "colab": {
     "base_uri": "https://localhost:8080/"
    },
    "executionInfo": {
     "elapsed": 551,
     "status": "ok",
     "timestamp": 1614610341416,
     "user": {
      "displayName": "Joel Chan",
      "photoUrl": "https://lh3.googleusercontent.com/a-/AOh14GiBPPpBf_QqgDL3pMurAsPu9WJJE_x_6UtgW13UFQ=s64",
      "userId": "15153559228409906865"
     },
     "user_tz": 300
    },
    "id": "E5-DLDoGH6Fz",
    "outputId": "f9cf389a-d0f5-4ca6-a860-d752f684180f",
    "slideshow": {
     "slide_type": "fragment"
    }
   },
   "outputs": [],
   "source": [
    "x = [1, 2, 3]\n",
    "y = [\"a\", \"b\", \"c\"]\n",
    "z = x + y\n",
    "print(z)"
   ]
  },
  {
   "cell_type": "markdown",
   "metadata": {
    "slideshow": {
     "slide_type": "subslide"
    }
   },
   "source": [
    "Another way is to use some list methods, like `append` (adds one element at the time at the end) or `extend` (adds the elements of another list at the end)"
   ]
  },
  {
   "cell_type": "code",
   "execution_count": null,
   "metadata": {
    "slideshow": {
     "slide_type": "fragment"
    }
   },
   "outputs": [],
   "source": [
    "x = []\n",
    "print(\"Initially x is\", x)\n",
    "\n",
    "elem = 1\n",
    "x.append(elem)\n",
    "print(\"After appending\", elem, \"now x is\", x)\n",
    "\n",
    "elem = 10\n",
    "x.append(elem)\n",
    "print(\"After appending\", elem, \"now x is\", x)"
   ]
  },
  {
   "cell_type": "code",
   "execution_count": null,
   "metadata": {
    "slideshow": {
     "slide_type": "subslide"
    }
   },
   "outputs": [],
   "source": [
    "y = []\n",
    "print(\"Initially y is\", y)\n",
    "\n",
    "z = [1, 2]\n",
    "y.extend(z)\n",
    "print(\"After extending with\", z, \"now x is\", y)\n",
    "\n",
    "z = [\"a\", \"b\"]\n",
    "y.extend(z)\n",
    "print(\"After extending with\", z, \"now x is\", y)"
   ]
  },
  {
   "cell_type": "code",
   "execution_count": null,
   "metadata": {
    "colab": {
     "base_uri": "https://localhost:8080/"
    },
    "executionInfo": {
     "elapsed": 327,
     "status": "ok",
     "timestamp": 1614610372758,
     "user": {
      "displayName": "Joel Chan",
      "photoUrl": "https://lh3.googleusercontent.com/a-/AOh14GiBPPpBf_QqgDL3pMurAsPu9WJJE_x_6UtgW13UFQ=s64",
      "userId": "15153559228409906865"
     },
     "user_tz": 300
    },
    "id": "An_uYNG4RtMo",
    "outputId": "d6aed30e-5a28-457e-db8b-d816128cd56a",
    "slideshow": {
     "slide_type": "skip"
    }
   },
   "outputs": [],
   "source": [
    "# Another way that some people use to create lists:\n",
    "some_list = list()\n",
    "some_list"
   ]
  },
  {
   "cell_type": "markdown",
   "metadata": {
    "id": "0c6wfPPRBHdg",
    "slideshow": {
     "slide_type": "slide"
    }
   },
   "source": [
    "<br/>\n",
    "<br/>\n",
    "<br/>\n",
    "<br/>\n",
    "<br/>\n",
    "<br/>\n",
    "\n",
    "\n",
    "## Coding Challenge\n",
    "\n",
    "_Remember that indices start at 0._"
   ]
  },
  {
   "cell_type": "markdown",
   "metadata": {
    "slideshow": {
     "slide_type": "subslide"
    }
   },
   "source": [
    "### Task 1\n",
    "print the first, second, and third item of the list below, each on a different line."
   ]
  },
  {
   "cell_type": "code",
   "execution_count": null,
   "metadata": {
    "colab": {
     "base_uri": "https://localhost:8080/"
    },
    "executionInfo": {
     "elapsed": 551,
     "status": "ok",
     "timestamp": 1614610522269,
     "user": {
      "displayName": "Joel Chan",
      "photoUrl": "https://lh3.googleusercontent.com/a-/AOh14GiBPPpBf_QqgDL3pMurAsPu9WJJE_x_6UtgW13UFQ=s64",
      "userId": "15153559228409906865"
     },
     "user_tz": 300
    },
    "id": "mbd2VhkISFYn",
    "outputId": "c80b8581-3693-436c-dcff-dfba33cb8b6a",
    "slideshow": {
     "slide_type": "fragment"
    },
    "tags": []
   },
   "outputs": [],
   "source": [
    "triplet = [3, 4, 5]\n",
    "\n",
    "# Your solution here\n",
    "..."
   ]
  },
  {
   "cell_type": "markdown",
   "metadata": {
    "slideshow": {
     "slide_type": "subslide"
    }
   },
   "source": [
    "<br/>\n",
    "<br/>\n",
    "<br/>\n",
    "<br/>\n",
    "<br/>\n",
    "<br/>\n",
    "<br/>\n",
    "<br/>\n",
    "\n",
    "### Task 2\n",
    "\n",
    "First, run the cell below to create a list of words. Then, in the cell print **the last** and **next-next-to-last** element in the list of words. Try a few different times with different lists of words to see if your code works no matter the input.\n",
    "\n",
    "__Hint__ _A helpful trick for getting the last or nth-to-last item is to use negative indexes:_\n",
    "- `-1` for the last element,\n",
    "- `-2` is the next-to-last element, etc."
   ]
  },
  {
   "cell_type": "markdown",
   "metadata": {},
   "source": [
    "<div class=\"alert alert-warning\"><strong>Attention:</strong> The following cell uses the <tt>input()</tt> function</div>"
   ]
  },
  {
   "cell_type": "code",
   "execution_count": null,
   "metadata": {
    "colab": {
     "base_uri": "https://localhost:8080/"
    },
    "executionInfo": {
     "elapsed": 626,
     "status": "ok",
     "timestamp": 1614610682463,
     "user": {
      "displayName": "Joel Chan",
      "photoUrl": "https://lh3.googleusercontent.com/a-/AOh14GiBPPpBf_QqgDL3pMurAsPu9WJJE_x_6UtgW13UFQ=s64",
      "userId": "15153559228409906865"
     },
     "user_tz": 300
    },
    "id": "xwvAmA7wSWrV",
    "outputId": "f86128eb-46b2-4209-ba32-80b3886062e8",
    "slideshow": {
     "slide_type": "fragment"
    },
    "tags": []
   },
   "outputs": [],
   "source": [
    "words = input(\"Please write at least four words (then press ENTER): \").strip().split(\" \")\n",
    "print(\"You entered the following words:\", words)\n",
    "\n",
    "# Your solution here\n",
    "..."
   ]
  },
  {
   "cell_type": "markdown",
   "metadata": {
    "slideshow": {
     "slide_type": "subslide"
    }
   },
   "source": [
    "<br/>\n",
    "<br/>\n",
    "<br/>\n",
    "<br/>\n",
    "<br/>\n",
    "<br/>\n",
    "<br/>\n",
    "<br/>\n",
    "\n",
    "### Task 3\n",
    "\n",
    "Change the second element of the list of words before to `\"INST126\"`, then print the full list\n",
    "\n",
    "(Make sure the list has at least three words!)"
   ]
  },
  {
   "cell_type": "code",
   "execution_count": null,
   "metadata": {
    "slideshow": {
     "slide_type": "fragment"
    },
    "tags": []
   },
   "outputs": [],
   "source": [
    "# Your solution here\n",
    "..."
   ]
  },
  {
   "cell_type": "markdown",
   "metadata": {
    "id": "wDihMUBiI7EG",
    "slideshow": {
     "slide_type": "slide"
    }
   },
   "source": [
    "## Membership test: Check what's in a list\n",
    "\n",
    "Python provides the `in` operator that lets you check if an item is in a list."
   ]
  },
  {
   "cell_type": "markdown",
   "metadata": {
    "id": "wDihMUBiI7EG",
    "slideshow": {
     "slide_type": "fragment"
    }
   },
   "source": [
    "It's a logical operator that returns `True` or `False`, so you can use it in conditional blocks and so on."
   ]
  },
  {
   "cell_type": "code",
   "execution_count": null,
   "metadata": {
    "colab": {
     "base_uri": "https://localhost:8080/"
    },
    "executionInfo": {
     "elapsed": 420,
     "status": "ok",
     "timestamp": 1614611289236,
     "user": {
      "displayName": "Joel Chan",
      "photoUrl": "https://lh3.googleusercontent.com/a-/AOh14GiBPPpBf_QqgDL3pMurAsPu9WJJE_x_6UtgW13UFQ=s64",
      "userId": "15153559228409906865"
     },
     "user_tz": 300
    },
    "id": "0qOxB7B8BM9O",
    "outputId": "3fc7f987-bce4-43e8-c341-96056393e250",
    "slideshow": {
     "slide_type": "fragment"
    }
   },
   "outputs": [],
   "source": [
    "inst126staff = [\"Giovanni\", \"Nishad\", \"Yogesh\"]\n",
    "\n",
    "person = \"Giovanni\"\n",
    "print(\"Is\", person, \"in the INST126 staff?\", person in inst126staff)\n",
    "\n",
    "person = \"Jimmy\"\n",
    "print(\"Is\", person, \"in the INST126 staff?\", person in inst126staff)"
   ]
  },
  {
   "cell_type": "markdown",
   "metadata": {
    "id": "7V0LiNCSJXRJ",
    "slideshow": {
     "slide_type": "slide"
    }
   },
   "source": [
    "## More operations with lists\n",
    "\n",
    "There are a great many other built-in operations in Python that let you do things with lists. "
   ]
  },
  {
   "cell_type": "markdown",
   "metadata": {
    "id": "7V0LiNCSJXRJ",
    "slideshow": {
     "slide_type": "fragment"
    }
   },
   "source": [
    "They fall into list *methods* and also built in *functions* that take a list as an argument.\n",
    "\n",
    "The main difference is whether the list appears as an argument not."
   ]
  },
  {
   "cell_type": "markdown",
   "metadata": {
    "id": "jhnz1Dn9Jk9W",
    "slideshow": {
     "slide_type": "subslide"
    }
   },
   "source": [
    "### List methods\n",
    "- The list is _not_ passed as an argument &ndash; the method operates on it directly\n",
    "- They typically operate on the list &ldquo;in-place&rdquo;, meaning they do not return it back\n",
    "- Mechanics: name of variable holding the list, then `.`, then method name, then `()` (with arguments, if any)\n",
    "- Example `a.append(1)`, `b.extend([1, 2, 3])` \n",
    "- Full list here: https://docs.python.org/3/tutorial/datastructures.html"
   ]
  },
  {
   "cell_type": "markdown",
   "metadata": {
    "slideshow": {
     "slide_type": "subslide"
    }
   },
   "source": [
    "### List functions\n",
    "- The list to operate on must be passed as an argument\n",
    "- Usual function calling syntax\n",
    "- Example: `sorted(a)`\n",
    "- Can operate both in-place or return back a list"
   ]
  },
  {
   "cell_type": "code",
   "execution_count": null,
   "metadata": {
    "colab": {
     "base_uri": "https://localhost:8080/",
     "height": 139
    },
    "executionInfo": {
     "elapsed": 386,
     "status": "ok",
     "timestamp": 1601912306276,
     "user": {
      "displayName": "Joel Chan",
      "photoUrl": "https://lh3.googleusercontent.com/a-/AOh14GiBPPpBf_QqgDL3pMurAsPu9WJJE_x_6UtgW13UFQ=s64",
      "userId": "15153559228409906865"
     },
     "user_tz": 240
    },
    "id": "ZHqVYGfVORJr",
    "outputId": "5b821998-085e-41ac-d9d0-c70506b2937b",
    "slideshow": {
     "slide_type": "subslide"
    }
   },
   "outputs": [],
   "source": [
    "a_list = [1, 2, 3, 1, 4, 1, 5]\n",
    "print(\"Original list:\", a_list)\n",
    "\n",
    "# add something to the end of a list (WE'LL USE THIS A LOT)\n",
    "a_list.append(4)\n",
    "print(\"After appending:\", a_list)\n",
    "\n",
    "# sort the list (WE'LL ALSO USE THIS A LOT)\n",
    "a_list.sort()\n",
    "print(\"After sorting (small to large):\", a_list)\n",
    "\n",
    "# control how you sort\n",
    "a_list.sort(reverse=True)\n",
    "print(\"After sorting (large to small):\", a_list)\n",
    "\n",
    "# count how many times an item is in a list (handy for searching)\n",
    "elem = 1\n",
    "print(\"Element\", elem, \"appears\", a_list.count(1), \"times\")\n",
    "\n",
    "# insert an item at a specific position\n",
    "elem = 22\n",
    "idx = 0\n",
    "a_list.insert(idx, elem)\n",
    "print(\"After inserting\", elem, \"at index\", idx, \":\", a_list)"
   ]
  },
  {
   "cell_type": "code",
   "execution_count": null,
   "metadata": {
    "slideshow": {
     "slide_type": "subslide"
    }
   },
   "outputs": [],
   "source": [
    "a_list = [5, 2, 7, 10, 3]\n",
    "result = sorted(a_list)\n",
    "print(\"Original list:\", a_list)\n",
    "print(\"Sorted list:\", result)"
   ]
  },
  {
   "cell_type": "code",
   "execution_count": null,
   "metadata": {
    "colab": {
     "base_uri": "https://localhost:8080/",
     "height": 198
    },
    "executionInfo": {
     "elapsed": 970,
     "status": "error",
     "timestamp": 1614611683497,
     "user": {
      "displayName": "Joel Chan",
      "photoUrl": "https://lh3.googleusercontent.com/a-/AOh14GiBPPpBf_QqgDL3pMurAsPu9WJJE_x_6UtgW13UFQ=s64",
      "userId": "15153559228409906865"
     },
     "user_tz": 300
    },
    "id": "qhffrMpJWQOO",
    "outputId": "432dbf95-b91a-4bff-ad5d-4e4eec6ad7db",
    "slideshow": {
     "slide_type": "subslide"
    }
   },
   "outputs": [],
   "source": [
    "# Want the index, not just True / False\n",
    "names = [\"joe\", \"harry\", \"rachel\", \"kelly\"]\n",
    "print(names.index(\"joe\"))"
   ]
  },
  {
   "cell_type": "markdown",
   "metadata": {
    "id": "haoFPw-RJxI0",
    "slideshow": {
     "slide_type": "slide"
    }
   },
   "source": [
    "## Collection functions\n",
    "\n",
    "- Built in functions from Python that operate on lists as arguments\n",
    "    - `max`, `min`, `sum`\n",
    "    - `sorted`\n",
    "    - `all`, `any`\n",
    "    - Look for the ones that have an \"iterable\" as as parameter type"
   ]
  },
  {
   "cell_type": "markdown",
   "metadata": {
    "id": "haoFPw-RJxI0",
    "slideshow": {
     "slide_type": "fragment"
    }
   },
   "source": [
    "- These are functions, so usual function calling syntax\n",
    "- Full list here: https://docs.python.org/3/library/functions.html"
   ]
  },
  {
   "cell_type": "markdown",
   "metadata": {
    "id": "haoFPw-RJxI0",
    "slideshow": {
     "slide_type": "fragment"
    }
   },
   "source": [
    "Let's play with a few!"
   ]
  },
  {
   "cell_type": "markdown",
   "metadata": {
    "slideshow": {
     "slide_type": "subslide"
    }
   },
   "source": [
    "### List length"
   ]
  },
  {
   "cell_type": "code",
   "execution_count": null,
   "metadata": {
    "colab": {
     "base_uri": "https://localhost:8080/",
     "height": 34
    },
    "executionInfo": {
     "elapsed": 722,
     "status": "ok",
     "timestamp": 1601912542470,
     "user": {
      "displayName": "Joel Chan",
      "photoUrl": "https://lh3.googleusercontent.com/a-/AOh14GiBPPpBf_QqgDL3pMurAsPu9WJJE_x_6UtgW13UFQ=s64",
      "userId": "15153559228409906865"
     },
     "user_tz": 240
    },
    "id": "8JStG5a2Og92",
    "outputId": "1efa4ab6-651d-4ee3-8879-6f7bd61a6639",
    "slideshow": {
     "slide_type": "fragment"
    },
    "tags": []
   },
   "outputs": [],
   "source": [
    "x = [1, 2, 3, 1, 4, 1, 5, 10, 12]\n",
    "print(\"x is \", x)\n",
    "print(\"The length of x is \", len(x))"
   ]
  },
  {
   "cell_type": "markdown",
   "metadata": {
    "slideshow": {
     "slide_type": "subslide"
    }
   },
   "source": [
    "### Sorting\n",
    "\n",
    "Returns _a new_ list that is a sorted version of its argument. \n",
    "\n",
    "Use this instead of the `.sort()` method if you want to keep the original list around."
   ]
  },
  {
   "cell_type": "code",
   "execution_count": null,
   "metadata": {
    "colab": {
     "base_uri": "https://localhost:8080/",
     "height": 34
    },
    "executionInfo": {
     "elapsed": 506,
     "status": "ok",
     "timestamp": 1601912581674,
     "user": {
      "displayName": "Joel Chan",
      "photoUrl": "https://lh3.googleusercontent.com/a-/AOh14GiBPPpBf_QqgDL3pMurAsPu9WJJE_x_6UtgW13UFQ=s64",
      "userId": "15153559228409906865"
     },
     "user_tz": 240
    },
    "id": "yHvKRjjZbZ6z",
    "outputId": "45a21151-32e1-4c53-8d79-ccac9880e04d",
    "slideshow": {
     "slide_type": "fragment"
    },
    "tags": []
   },
   "outputs": [],
   "source": [
    "x_sorted = sorted(x) \n",
    "print(\"Sorted version of x\", x_sorted)\n",
    "print(\"x is still unsorted:\", x)"
   ]
  },
  {
   "cell_type": "markdown",
   "metadata": {
    "slideshow": {
     "slide_type": "subslide"
    }
   },
   "source": [
    "### Minimum, Maximum, Sum, etc.\n",
    "\n",
    "Useful for basic arithmetic. Work only with numerical values."
   ]
  },
  {
   "cell_type": "code",
   "execution_count": null,
   "metadata": {
    "colab": {
     "base_uri": "https://localhost:8080/",
     "height": 69
    },
    "executionInfo": {
     "elapsed": 452,
     "status": "ok",
     "timestamp": 1601912668333,
     "user": {
      "displayName": "Joel Chan",
      "photoUrl": "https://lh3.googleusercontent.com/a-/AOh14GiBPPpBf_QqgDL3pMurAsPu9WJJE_x_6UtgW13UFQ=s64",
      "userId": "15153559228409906865"
     },
     "user_tz": 240
    },
    "id": "95EwmalVbsqr",
    "outputId": "fec77dae-3417-4ae1-c4b1-c524f4d62790",
    "slideshow": {
     "slide_type": "fragment"
    },
    "tags": []
   },
   "outputs": [],
   "source": [
    "print(\"The smallest value is\", min(x))\n",
    "print(\"The largest value is\", max(x))\n",
    "print(\"The average value is\", sum(x) / len(x))"
   ]
  },
  {
   "cell_type": "markdown",
   "metadata": {
    "slideshow": {
     "slide_type": "subslide"
    }
   },
   "source": [
    "The `sum` function expects numbers, so this will throw a type error\n",
    "\n",
    "<div class=\"alert alert-warning\">This cell will generate an error!</div>"
   ]
  },
  {
   "cell_type": "code",
   "execution_count": null,
   "metadata": {
    "slideshow": {
     "slide_type": "fragment"
    },
    "tags": []
   },
   "outputs": [],
   "source": [
    "list_of_strings = [\"a\", \"b\", \"c\"]\n",
    "sum(list_of_strings)"
   ]
  },
  {
   "cell_type": "markdown",
   "metadata": {
    "slideshow": {
     "slide_type": "subslide"
    }
   },
   "source": [
    "However `min` and `max` work with strings too"
   ]
  },
  {
   "cell_type": "code",
   "execution_count": null,
   "metadata": {
    "slideshow": {
     "slide_type": "fragment"
    }
   },
   "outputs": [],
   "source": [
    "words = [\"abandonware\", \"abapical\", \"abaptiston\", \"abaco\", \"abacterial\", \"abactinal\", \"abaculus\"]\n",
    "print(\"The first word is\", min(words))\n",
    "print(\"The last word is\", max(words))"
   ]
  },
  {
   "cell_type": "code",
   "execution_count": null,
   "metadata": {
    "slideshow": {
     "slide_type": "subslide"
    }
   },
   "outputs": [],
   "source": [
    "rev_words = sorted(words, reverse=True)\n",
    "print(words)\n",
    "print(rev_words)"
   ]
  },
  {
   "cell_type": "markdown",
   "metadata": {
    "slideshow": {
     "slide_type": "subslide"
    }
   },
   "source": [
    "### Listwise logical operations\n",
    "\n",
    "`all` returns True if all the elements in the list are True &ndash; listwise logical `and` \n",
    "\n",
    "`any` returns True if at least one element is True &ndash; listwise logical `and`"
   ]
  },
  {
   "cell_type": "code",
   "execution_count": null,
   "metadata": {
    "slideshow": {
     "slide_type": "fragment"
    }
   },
   "outputs": [],
   "source": [
    "all([True, False, True])"
   ]
  },
  {
   "cell_type": "code",
   "execution_count": null,
   "metadata": {
    "slideshow": {
     "slide_type": "fragment"
    }
   },
   "outputs": [],
   "source": [
    "any([True, False, True])"
   ]
  },
  {
   "cell_type": "markdown",
   "metadata": {
    "id": "-iQvhWi7KGAg",
    "slideshow": {
     "slide_type": "slide"
    }
   },
   "source": [
    "# Common errors"
   ]
  },
  {
   "cell_type": "markdown",
   "metadata": {
    "id": "E9kblMRYOZJR",
    "slideshow": {
     "slide_type": "subslide"
    }
   },
   "source": [
    "## Error: forgetting that indices start at 0\n",
    "\n",
    "As I noted earlier, remember that indices start at 0. A common error to make if you forget this, is to get something at the wrong position!"
   ]
  },
  {
   "cell_type": "code",
   "execution_count": null,
   "metadata": {
    "colab": {
     "base_uri": "https://localhost:8080/"
    },
    "executionInfo": {
     "elapsed": 448,
     "status": "ok",
     "timestamp": 1614612132459,
     "user": {
      "displayName": "Joel Chan",
      "photoUrl": "https://lh3.googleusercontent.com/a-/AOh14GiBPPpBf_QqgDL3pMurAsPu9WJJE_x_6UtgW13UFQ=s64",
      "userId": "15153559228409906865"
     },
     "user_tz": 300
    },
    "id": "u8j1JsYXOgw0",
    "outputId": "3e7fcd31-618e-4e63-a390-16c26945c4f4",
    "slideshow": {
     "slide_type": "fragment"
    }
   },
   "outputs": [],
   "source": [
    "a = [1, 2, 3]\n",
    "a[1]"
   ]
  },
  {
   "cell_type": "markdown",
   "metadata": {
    "id": "2P-04t43Knqj",
    "slideshow": {
     "slide_type": "subslide"
    }
   },
   "source": [
    "## Error: position not in the list (IndexError)\n",
    "\n",
    "Another common error is to try to get something from an index position that doesn't yet exist in a list.\n",
    "\n",
    "For example, the list `x = [1, 4, 5]` has 3 items (has length 3). "
   ]
  },
  {
   "cell_type": "markdown",
   "metadata": {
    "id": "2P-04t43Knqj",
    "slideshow": {
     "slide_type": "fragment"
    }
   },
   "source": [
    "But! If I want to get the 3rd item with `x[3]`, I will get an IndexError, because the item only has indices that go up to 2!\n",
    "\n",
    "Sometimes this happens if you forget 0-indexing, and try to get the \"3rd item\" with index 3 (instead of the correct index 2).\n",
    "\n",
    "We'll return to this error next week, because it often shows up with iteration \n",
    "\n",
    "<div class=\"alert alert-warning\">This cell will generate an error!</div>"
   ]
  },
  {
   "cell_type": "code",
   "execution_count": null,
   "metadata": {
    "colab": {
     "base_uri": "https://localhost:8080/",
     "height": 181
    },
    "executionInfo": {
     "elapsed": 382,
     "status": "error",
     "timestamp": 1614612163956,
     "user": {
      "displayName": "Joel Chan",
      "photoUrl": "https://lh3.googleusercontent.com/a-/AOh14GiBPPpBf_QqgDL3pMurAsPu9WJJE_x_6UtgW13UFQ=s64",
      "userId": "15153559228409906865"
     },
     "user_tz": 300
    },
    "id": "8l94eUXEO0lK",
    "outputId": "3924face-82ba-461e-94eb-a3b9ed1b4c4b",
    "slideshow": {
     "slide_type": "subslide"
    }
   },
   "outputs": [],
   "source": [
    "x = [1, 4, 5]\n",
    "x[3]"
   ]
  },
  {
   "cell_type": "markdown",
   "metadata": {
    "id": "kjU1dyhRKZ9l",
    "slideshow": {
     "slide_type": "subslide"
    }
   },
   "source": [
    "## Error: Mixing up in-place methods / functions\n",
    "\n",
    "This happens most with operations that can be done with methods and functions, such as sorting."
   ]
  },
  {
   "cell_type": "markdown",
   "metadata": {
    "slideshow": {
     "slide_type": "fragment"
    }
   },
   "source": [
    "Consider this situation where we use the `sorted` function to get a new, sorted list, which we store in a new variable"
   ]
  },
  {
   "cell_type": "code",
   "execution_count": null,
   "metadata": {
    "colab": {
     "base_uri": "https://localhost:8080/"
    },
    "executionInfo": {
     "elapsed": 498,
     "status": "ok",
     "timestamp": 1614612215212,
     "user": {
      "displayName": "Joel Chan",
      "photoUrl": "https://lh3.googleusercontent.com/a-/AOh14GiBPPpBf_QqgDL3pMurAsPu9WJJE_x_6UtgW13UFQ=s64",
      "userId": "15153559228409906865"
     },
     "user_tz": 300
    },
    "id": "5LDRnY23POoo",
    "outputId": "5a79b9a0-3b4b-4c59-9d4d-fdb3a9c3a3f7",
    "slideshow": {
     "slide_type": "fragment"
    }
   },
   "outputs": [],
   "source": [
    "# Correct -- using fruitful function (returns a new list)\n",
    "x = [1, 7, 4, 2]\n",
    "xsort = sorted(x) # don't change x, just make a  new list that is a sorted version of x\n",
    "print(x)\n",
    "print(xsort)"
   ]
  },
  {
   "cell_type": "markdown",
   "metadata": {
    "slideshow": {
     "slide_type": "subslide"
    }
   },
   "source": [
    "If instead of the function we use the in-place `.sort()` method, `xsort` will have None as its value"
   ]
  },
  {
   "cell_type": "code",
   "execution_count": null,
   "metadata": {
    "colab": {
     "base_uri": "https://localhost:8080/"
    },
    "executionInfo": {
     "elapsed": 395,
     "status": "ok",
     "timestamp": 1614612441174,
     "user": {
      "displayName": "Joel Chan",
      "photoUrl": "https://lh3.googleusercontent.com/a-/AOh14GiBPPpBf_QqgDL3pMurAsPu9WJJE_x_6UtgW13UFQ=s64",
      "userId": "15153559228409906865"
     },
     "user_tz": 300
    },
    "id": "uKu5xkzPPh49",
    "outputId": "595a1dde-aedc-41be-f698-33fa2c9c70b4",
    "slideshow": {
     "slide_type": "fragment"
    }
   },
   "outputs": [],
   "source": [
    "# ERROR -- using in-place method\n",
    "x = [1, 7, 4, 2]\n",
    "xsort = x.sort()\n",
    "print(x)\n",
    "print(xsort)"
   ]
  },
  {
   "cell_type": "markdown",
   "metadata": {
    "id": "0c6wfPPRBHdg",
    "slideshow": {
     "slide_type": "slide"
    }
   },
   "source": [
    "<br/>\n",
    "<br/>\n",
    "<br/>\n",
    "<br/>\n",
    "<br/>\n",
    "<br/>\n",
    "<br/>\n",
    "<br/>\n",
    "<br/>\n",
    "<br/>\n",
    "<br/>\n",
    "<br/>\n",
    "<br/>\n",
    "<br/>\n",
    "<br/>\n",
    "<br/>\n",
    "<br/>\n",
    "<br/>\n",
    "<br/>\n",
    "<br/>\n",
    "<br/>\n",
    "<br/>\n",
    "<br/>\n",
    "<br/>\n",
    "\n",
    "---\n",
    "\n",
    "# Solutions\n",
    "\n",
    "## Coding Challenge\n",
    "\n",
    "_Remember that indices start at 0._"
   ]
  },
  {
   "cell_type": "markdown",
   "metadata": {
    "slideshow": {
     "slide_type": "subslide"
    }
   },
   "source": [
    "### Task 1\n",
    "print the first, second, and third item of the list below, each on a different line."
   ]
  },
  {
   "cell_type": "code",
   "execution_count": null,
   "metadata": {
    "colab": {
     "base_uri": "https://localhost:8080/"
    },
    "executionInfo": {
     "elapsed": 551,
     "status": "ok",
     "timestamp": 1614610522269,
     "user": {
      "displayName": "Joel Chan",
      "photoUrl": "https://lh3.googleusercontent.com/a-/AOh14GiBPPpBf_QqgDL3pMurAsPu9WJJE_x_6UtgW13UFQ=s64",
      "userId": "15153559228409906865"
     },
     "user_tz": 300
    },
    "id": "mbd2VhkISFYn",
    "outputId": "c80b8581-3693-436c-dcff-dfba33cb8b6a",
    "slideshow": {
     "slide_type": "fragment"
    }
   },
   "outputs": [],
   "source": [
    "# Your solution here\n",
    "\n",
    "triplet = [3, 4, 5]\n",
    "\n",
    "### BEGIN SOLUTION\n",
    "print(triplet[0])\n",
    "print(triplet[1])\n",
    "print(triplet[2])\n",
    "### END SOLUTION"
   ]
  },
  {
   "cell_type": "markdown",
   "metadata": {
    "slideshow": {
     "slide_type": "subslide"
    }
   },
   "source": [
    "### Task 2\n",
    "\n",
    "First, run the cell below to create a list of words. Then, in the cell print **the last** and **next-next-to-last** element in the list of words. Try a few different times with different lists of words to see if your code works no matter the input.\n",
    "\n",
    "__Hint__ _A helpful trick for getting the last or nth-to-last item is to use negative indexes:_\n",
    "- `-1` for the last element,\n",
    "- `-2` is the next-to-last element, etc."
   ]
  },
  {
   "cell_type": "markdown",
   "metadata": {},
   "source": [
    "<div class=\"alert alert-warning\"><strong>Attention:</strong> The following cell uses the <tt>input()</tt> function</div>"
   ]
  },
  {
   "cell_type": "code",
   "execution_count": null,
   "metadata": {
    "colab": {
     "base_uri": "https://localhost:8080/"
    },
    "executionInfo": {
     "elapsed": 626,
     "status": "ok",
     "timestamp": 1614610682463,
     "user": {
      "displayName": "Joel Chan",
      "photoUrl": "https://lh3.googleusercontent.com/a-/AOh14GiBPPpBf_QqgDL3pMurAsPu9WJJE_x_6UtgW13UFQ=s64",
      "userId": "15153559228409906865"
     },
     "user_tz": 300
    },
    "id": "xwvAmA7wSWrV",
    "outputId": "f86128eb-46b2-4209-ba32-80b3886062e8",
    "slideshow": {
     "slide_type": "fragment"
    },
    "tags": []
   },
   "outputs": [],
   "source": [
    "words = input(\"Please write at least four words (then press ENTER): \").strip().split(\" \")\n",
    "print(\"You entered the following words:\", words)\n",
    "\n",
    "# Your solution here\n",
    "### BEGIN SOLUTION\n",
    "print(words[-1]) # get the last item\n",
    "print(words[-3]) # get the next-next-to-last item\n",
    "### END SOLUTION"
   ]
  },
  {
   "cell_type": "markdown",
   "metadata": {
    "slideshow": {
     "slide_type": "subslide"
    }
   },
   "source": [
    "### Task 3 \n",
    "\n",
    "Change the second element of the list of words before to `\"INST126\"`, then print the full list\n",
    "\n",
    "(Make sure the list has at least three words!)"
   ]
  },
  {
   "cell_type": "code",
   "execution_count": null,
   "metadata": {
    "slideshow": {
     "slide_type": "fragment"
    }
   },
   "outputs": [],
   "source": [
    "# Your solution here\n",
    "### BEGIN SOLUTION\n",
    "words[1] = \"INST126\"\n",
    "print(words)\n",
    "### END SOLUTION"
   ]
  }
 ],
 "metadata": {
  "celltoolbar": "Slideshow",
  "colab": {
   "name": "INST126_SP21_Week6_Lists_post-class.ipynb",
   "provenance": []
  },
  "kernelspec": {
   "display_name": "Python 3 (ipykernel)",
   "language": "python",
   "name": "python3"
  },
  "language_info": {
   "codemirror_mode": {
    "name": "ipython",
    "version": 3
   },
   "file_extension": ".py",
   "mimetype": "text/x-python",
   "name": "python",
   "nbconvert_exporter": "python",
   "pygments_lexer": "ipython3",
   "version": "3.11.7"
  }
 },
 "nbformat": 4,
 "nbformat_minor": 4
}
