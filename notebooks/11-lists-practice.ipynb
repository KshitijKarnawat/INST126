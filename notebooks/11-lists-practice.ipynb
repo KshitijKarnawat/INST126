{
 "cells": [
  {
   "cell_type": "markdown",
   "id": "80708334-c15b-4854-a051-afe8599004a4",
   "metadata": {
    "nbgrader": {
     "grade": false,
     "grade_id": "cell-1ccb5e44582cdcd9",
     "locked": true,
     "schema_version": 3,
     "solution": false,
     "task": false
    }
   },
   "source": [
    "# Scenario: Employee paychecks\n",
    "\n",
    "We want to create a Python program to help the payroll department keep track of all employee paychecks. The typical payroll processing workflow includes entering the employee data in the company's database, and then producing the paychecks. For this session, our &ldquo;database&rdquo; is going to be made of three Python lists:\n",
    "\n",
    "1. `emp_rates` &ndash; storing numbers of type `float` representing hourly rate (in dollars) of all employees;\n",
    "2. `emp_hours` &ndash; storing numbers of type `int` the hours workeds this week;\n",
    "3. `emp_checks` &ndash; storing numbers of type `float` with the computed paychecks.\n",
    "\n",
    "Your task today is to write functions that will manipulate these three lists. First, your program needs a function that allows the payroll officer to the employee hours and rate into the system. "
   ]
  },
  {
   "cell_type": "markdown",
   "id": "538397e8-ff16-43c4-b440-d0877ddee24c",
   "metadata": {},
   "source": [
    "<br/>\n",
    "<br/>\n",
    "<br/>\n",
    "<br/>\n",
    "<br/>\n",
    "<br/>\n",
    "<br/>\n",
    "<br/>\n",
    "\n",
    "---"
   ]
  },
  {
   "cell_type": "markdown",
   "id": "15b252fe-7522-402a-8005-6cf9bfd8f05e",
   "metadata": {},
   "source": [
    "<div class=\"alert alert-info\">Enter your roles</div>"
   ]
  },
  {
   "cell_type": "code",
   "execution_count": 9,
   "id": "9a25b61b-c65f-4611-8032-8c3a53b01988",
   "metadata": {
    "tags": []
   },
   "outputs": [],
   "source": [
    "DRIVER = \"\"\n",
    "NAVIGATOR = \"\""
   ]
  },
  {
   "cell_type": "markdown",
   "id": "a9985112-3b27-4b6a-8a2d-524d53c04a15",
   "metadata": {
    "nbgrader": {
     "grade": false,
     "grade_id": "cell-1ccb5e44582cdcd9",
     "locked": true,
     "schema_version": 3,
     "solution": false,
     "task": false
    }
   },
   "source": [
    "## Task 1: Write a function to enter the data of one employee into the system\n",
    "\n",
    "For this task you will use the `input()` function to enter the data into your program. Write a function called `add_employee` that  prompts the user to enter the hours and rate of the employee. The function should convert the user input to the proper type, and append the data to the corresponding list. Your function should take two arguments &ndash; the list of employee rates and the list of employee hours. It should not return anything, though it can print a message back to the user informing them of the outcome of the operation."
   ]
  },
  {
   "cell_type": "code",
   "execution_count": null,
   "id": "4413f83d-1c21-4722-89bd-a7e2d1e9b4bc",
   "metadata": {
    "nbgrader": {
     "grade": false,
     "grade_id": "cell-fd063f49ea8f88d5",
     "locked": true,
     "schema_version": 3,
     "solution": false,
     "task": false
    },
    "tags": []
   },
   "outputs": [],
   "source": [
    "# Your code here\n",
    "...\n",
    "    \n",
    "# Initializes the two lists\n",
    "emp_rates = []\n",
    "emp_hours = []\n",
    "# Add three employees\n",
    "add_employee(rates_list=emp_rates, hours_list=emp_hours)\n",
    "add_employee(rates_list=emp_rates, hours_list=emp_hours)\n",
    "add_employee(rates_list=emp_rates, hours_list=emp_hours)"
   ]
  },
  {
   "cell_type": "markdown",
   "id": "44a8ef16-b419-4e4e-b6ad-41eb420fb6d0",
   "metadata": {},
   "source": [
    "<br/>\n",
    "<br/>\n",
    "<br/>\n",
    "<br/>\n",
    "<br/>\n",
    "<br/>\n",
    "<br/>\n",
    "<br/>\n",
    "\n",
    "---"
   ]
  },
  {
   "cell_type": "markdown",
   "id": "1626eedb-208c-4e8e-b42a-be79a18bca39",
   "metadata": {},
   "source": [
    "<div class=\"alert alert-info\">Switch roles now!</div>"
   ]
  },
  {
   "cell_type": "code",
   "execution_count": 11,
   "id": "ecc6be27-68c2-4c88-a37b-140870e53811",
   "metadata": {
    "tags": []
   },
   "outputs": [],
   "source": [
    "DRIVER = \"\"\n",
    "NAVIGATOR = \"\""
   ]
  },
  {
   "cell_type": "markdown",
   "id": "e30db979",
   "metadata": {
    "nbgrader": {
     "grade": false,
     "grade_id": "cell-6bf14244ac6aab5e",
     "locked": true,
     "schema_version": 3,
     "solution": false,
     "task": false
    }
   },
   "source": [
    "## Task 2: retrieve the rate by employee ID\n",
    "\n",
    "Write a function called `gethourlyrate` that given the ID of an employee (its index in the list), returns its hourly rate.\n",
    "\n",
    "Your function should take two parameters:\n",
    "- `rates_list`: `list`\n",
    "\n",
    "        A list pre-populated with employee rates \n",
    "- `empid`: `int`\n",
    "\n",
    "        The index of the employee whose rate we want to retrieve\n",
    "    \n",
    "Your function should return:\n",
    "- `emp_rate`: `float`\n",
    "    \n",
    "        The hourly rate for that employee\n",
    "    \n",
    "Remember, indexes start at 0!"
   ]
  },
  {
   "cell_type": "code",
   "execution_count": null,
   "id": "766abad3-6a08-4670-9838-fd8a745e80e4",
   "metadata": {
    "nbgrader": {
     "grade": true,
     "grade_id": "cell-0d5c9a773efcc165",
     "locked": false,
     "points": 0,
     "schema_version": 3,
     "solution": true,
     "task": false
    }
   },
   "outputs": [],
   "source": [
    "# Your code here\n",
    "...\n",
    "\n",
    "# Try with different empid values!\n",
    "gethourlyrate(rates_list=emp_rates, empid=0)"
   ]
  },
  {
   "cell_type": "markdown",
   "id": "e7a0d5c6-e425-4038-8451-d19e43d45a2e",
   "metadata": {},
   "source": [
    "<br/>\n",
    "<br/>\n",
    "<br/>\n",
    "<br/>\n",
    "<br/>\n",
    "<br/>\n",
    "<br/>\n",
    "<br/>\n",
    "\n",
    "---"
   ]
  },
  {
   "cell_type": "markdown",
   "id": "3eba6306-f788-4fc9-b3c3-4a47eb899f2f",
   "metadata": {},
   "source": [
    "<div class=\"alert alert-info\">Switch roles now!</div>"
   ]
  },
  {
   "cell_type": "code",
   "execution_count": 11,
   "id": "983fc630-7a0c-4939-9940-d7f4146cdfe2",
   "metadata": {
    "tags": []
   },
   "outputs": [],
   "source": [
    "DRIVER = \"\"\n",
    "NAVIGATOR = \"\""
   ]
  },
  {
   "cell_type": "markdown",
   "id": "4b3247ea-31dd-4f1f-90ef-3c716b415894",
   "metadata": {
    "nbgrader": {
     "grade": false,
     "grade_id": "cell-6bf14244ac6aab5e",
     "locked": true,
     "schema_version": 3,
     "solution": false,
     "task": false
    }
   },
   "source": [
    "## Task 3: retrieve the hours by employee ID\n",
    "\n",
    "Write a function called `getworkedhours` that given the ID of an employee (its index in the list), returns the hours worked.\n",
    "\n",
    "Your function should take two parameters:\n",
    "- `hours_list`: `list`\n",
    "\n",
    "        A list pre-populated with employee rates \n",
    "- `empid`: `int`\n",
    "\n",
    "        The index of the employee whose rate we want to retrieve\n",
    "    \n",
    "Your function should return:\n",
    "- `emp_hours`: `int`\n",
    "    \n",
    "        The hours worked by that employee\n",
    "    \n",
    "Remember, indexes start at 0!"
   ]
  },
  {
   "cell_type": "code",
   "execution_count": null,
   "id": "ba89d924-1bf3-4f3a-92df-b09035ad4b64",
   "metadata": {
    "nbgrader": {
     "grade": true,
     "grade_id": "cell-0d5c9a773efcc165",
     "locked": false,
     "points": 0,
     "schema_version": 3,
     "solution": true,
     "task": false
    }
   },
   "outputs": [],
   "source": [
    "# Your code here\n",
    "...\n",
    "\n",
    "# Try with different empid values!\n",
    "getworkedhours(hours_list=emp_hours, empid=0)"
   ]
  },
  {
   "cell_type": "markdown",
   "id": "1c5c0b4a-87d0-4e4a-8499-95536cc8f180",
   "metadata": {},
   "source": [
    "<br/>\n",
    "<br/>\n",
    "<br/>\n",
    "<br/>\n",
    "<br/>\n",
    "<br/>\n",
    "<br/>\n",
    "<br/>\n",
    "\n",
    "---"
   ]
  },
  {
   "cell_type": "markdown",
   "id": "e3d5cf0d-34ea-45d5-93b7-cdd7c4b15b10",
   "metadata": {},
   "source": [
    "<div class=\"alert alert-info\">Switch roles now!</div>"
   ]
  },
  {
   "cell_type": "code",
   "execution_count": 11,
   "id": "2b221c14-e6fe-414e-a38f-d75be4240ec8",
   "metadata": {
    "tags": []
   },
   "outputs": [],
   "source": [
    "DRIVER = \"\"\n",
    "NAVIGATOR = \"\""
   ]
  },
  {
   "cell_type": "markdown",
   "id": "96f8293a-97de-44bb-89a2-3dbb5b4af53c",
   "metadata": {},
   "source": [
    "## Task 4: compute paychecks\n",
    "\n",
    "Now we want to create a function called `addpaycheck` that compute and add the paycheck of a given employee in our database, and finally uses `print()` to display all paychecks computed so far (including the new one).\n",
    "\n",
    "Your function should take four parameters:\n",
    "- `empid` : `int`\n",
    "        \n",
    "        The index of an employee whose paycheck we want to add to the database\n",
    "- `hours_list` : `list`\n",
    "        \n",
    "        A list pre-populated with worked hours for all employees \n",
    "- `rates_list` : `list`\n",
    "\n",
    "        A list pre-populated with hourly rates for all employees\n",
    "        \n",
    "- `paychecks_list` : `list`\n",
    "\n",
    "        A list with paychecks to which we want to add this employee's paycheck\n",
    "\n",
    "### Note \n",
    "* The `paycheck` function, that compute the paycheck of an employee given its hours and rate, is already provided in the code cell. Call it from within your function.\n",
    "* You should also make use of the previous two functions (`gethourlyrate` and `getworkedhours`) you wrote to retrieve the rate/hours data for this employee. \n",
    "* Last but not least, the `addpaycheck` function should not need to return anything, but it should use `print` to display the contents of the list of checks. "
   ]
  },
  {
   "cell_type": "code",
   "execution_count": null,
   "id": "c11a4d16-1a88-42ba-8ed4-5e77617047b6",
   "metadata": {
    "nbgrader": {
     "grade": true,
     "grade_id": "cell-a507c572d07f1663",
     "locked": false,
     "points": 0,
     "schema_version": 3,
     "solution": true,
     "task": false
    }
   },
   "outputs": [],
   "source": [
    "def paycheck(hours, rate):\n",
    "    pay = hours * rate\n",
    "    return pay\n",
    "\n",
    "def addpaycheck(empid, hours_list, rates_list, paychecks_list):\n",
    "    # Your code here\n",
    "    ...\n",
    "\n",
    "# Initialize paychecks for this week\n",
    "emp_checks = []\n",
    "\n",
    "# Try with different values of empid!\n",
    "addpaycheck(empid=0, hours_list=emp_hours, rates_list=emp_rates, paychecks_list=emp_checks)"
   ]
  },
  {
   "cell_type": "markdown",
   "id": "799dfdce-4c45-4bc3-9b00-716c231f24e0",
   "metadata": {},
   "source": [
    "<br/>\n",
    "<br/>\n",
    "<br/>\n",
    "<br/>\n",
    "<br/>\n",
    "<br/>\n",
    "<br/>\n",
    "<br/>\n",
    "\n",
    "---"
   ]
  },
  {
   "cell_type": "markdown",
   "id": "0288a5c2-c151-4c54-90c4-0e5fbcd062ed",
   "metadata": {},
   "source": [
    "<div class=\"alert alert-info\">Switch roles now!</div>"
   ]
  },
  {
   "cell_type": "code",
   "execution_count": 11,
   "id": "8341761a-a1c9-4023-a76b-2a4f3d838dba",
   "metadata": {
    "tags": []
   },
   "outputs": [],
   "source": [
    "DRIVER = \"\"\n",
    "NAVIGATOR = \"\""
   ]
  },
  {
   "cell_type": "markdown",
   "id": "0c4e0db8-920b-4b02-8df5-312e6d4eea77",
   "metadata": {},
   "source": [
    "## Task 5: Putting it all together!\n",
    "\n",
    "Write a function called `main` that does the following:\n",
    "1. Should print a welcome message to the payroll specialist;\n",
    "2. Initialize the lists of hours, rates, and paychecks to empty lists;\n",
    "3. Call `add_employee` three times to enter rate/hours data for three employees;\n",
    "4. Call `addpaycheck` a total three times (i.e., once for each employee) to compute their paychecks\n",
    "\n",
    "Your function should not take any argument, however it can return the list of paychecks."
   ]
  },
  {
   "cell_type": "code",
   "execution_count": null,
   "id": "95c8cd48-4a90-41e2-99b3-cab6348f2cde",
   "metadata": {
    "tags": []
   },
   "outputs": [],
   "source": [
    "# Your code here\n",
    "...\n",
    "\n",
    "main()"
   ]
  },
  {
   "cell_type": "markdown",
   "id": "d6525595-6461-4689-a52f-a10ddda3a4e3",
   "metadata": {},
   "source": [
    "<br/>\n",
    "<br/>\n",
    "<br/>\n",
    "<br/>\n",
    "<br/>\n",
    "<br/>\n",
    "<br/>\n",
    "<br/>\n",
    "<br/>\n",
    "<br/>\n",
    "<br/>\n",
    "<br/>\n",
    "<br/>\n",
    "<br/>\n",
    "<br/>\n",
    "<br/>\n",
    "<br/>\n",
    "<br/>\n",
    "<br/>\n",
    "<br/>\n",
    "<br/>\n",
    "<br/>\n",
    "<br/>\n",
    "<br/>\n",
    "<br/>\n",
    "<br/>\n",
    "<br/>\n",
    "<br/>\n",
    "<br/>\n",
    "<br/>\n",
    "<br/>\n",
    "<br/>\n",
    "<br/>\n",
    "<br/>\n",
    "<br/>\n",
    "<br/>\n",
    "<br/>\n",
    "<br/>\n",
    "<br/>\n",
    "<br/>\n",
    "<br/>\n",
    "<br/>\n",
    "<br/>\n",
    "<br/>\n",
    "<br/>\n",
    "<br/>\n",
    "<br/>\n",
    "<br/>\n",
    "<br/>\n",
    "<br/>\n",
    "\n",
    "\n",
    "# Solutions"
   ]
  },
  {
   "cell_type": "markdown",
   "id": "ceeed711-1b80-4161-86d9-c7e69ca20f70",
   "metadata": {},
   "source": [
    "## Task 1"
   ]
  },
  {
   "cell_type": "code",
   "execution_count": null,
   "id": "86cdb008-ba58-4464-8570-2513c3929c4f",
   "metadata": {
    "nbgrader": {
     "grade": false,
     "grade_id": "cell-fd063f49ea8f88d5",
     "locked": true,
     "schema_version": 3,
     "solution": false,
     "task": false
    },
    "tags": []
   },
   "outputs": [],
   "source": [
    "### END SOLUTION\n",
    "def add_employee(rates_list, hours_list):\n",
    "    rate = float(input(\"Enter employee hourly rate: \"))\n",
    "    hours = int(input(\"Enter employee hours worked: \"))\n",
    "    rates_list.append(rate)\n",
    "    hours_list.append(hours)\n",
    "    print(f\"Entered so far: {rates_list}\")\n",
    "    print(f\"Entered so far: {hours_list}\")\n",
    "    print()\n",
    "### BEGIN SOLUTION\n",
    "    \n",
    "# Initializes the two lists\n",
    "emp_rates = []\n",
    "emp_hours = []\n",
    "# Add three employees\n",
    "add_employee(rates_list=emp_rates, hours_list=emp_hours)\n",
    "add_employee(rates_list=emp_rates, hours_list=emp_hours)\n",
    "add_employee(rates_list=emp_rates, hours_list=emp_hours)"
   ]
  },
  {
   "cell_type": "markdown",
   "id": "8ce010f8-8d00-4676-a905-aaf167834a5e",
   "metadata": {},
   "source": [
    "## Task 2"
   ]
  },
  {
   "cell_type": "code",
   "execution_count": null,
   "id": "a50fae03-9df2-4800-86ff-411bd9b50da0",
   "metadata": {
    "nbgrader": {
     "grade": true,
     "grade_id": "cell-0d5c9a773efcc165",
     "locked": false,
     "points": 0,
     "schema_version": 3,
     "solution": true,
     "task": false
    }
   },
   "outputs": [],
   "source": [
    "### BEGIN SOLUTION\n",
    "def gethourlyrate(rates_list, empid):\n",
    "    return rates_list[empid]\n",
    "### END SOLUTION\n",
    "\n",
    "# Try with different empid values!\n",
    "gethourlyrate(rates_list=emp_rates, empid=0)"
   ]
  },
  {
   "cell_type": "markdown",
   "id": "760501f5-3cf5-4a25-9495-891a7e90611a",
   "metadata": {},
   "source": [
    "## Task 3"
   ]
  },
  {
   "cell_type": "code",
   "execution_count": null,
   "id": "e5dedf32-08bb-4730-8335-8cc8048a4998",
   "metadata": {
    "nbgrader": {
     "grade": true,
     "grade_id": "cell-0d5c9a773efcc165",
     "locked": false,
     "points": 0,
     "schema_version": 3,
     "solution": true,
     "task": false
    }
   },
   "outputs": [],
   "source": [
    "### BEGIN SOLUTION\n",
    "def getworkedhours(hours_list, empid):\n",
    "    return hours_list[empid]\n",
    "### END SOLUTION\n",
    "\n",
    "# Try with different empid values!\n",
    "getworkedhours(hours_list=emp_hours, empid=0)"
   ]
  },
  {
   "cell_type": "markdown",
   "id": "a1ad95f7-b715-469c-a696-5894645a895b",
   "metadata": {},
   "source": [
    "## Task 4"
   ]
  },
  {
   "cell_type": "code",
   "execution_count": null,
   "id": "1741d3f3-fb07-49c5-b400-84fdfa396c0c",
   "metadata": {
    "nbgrader": {
     "grade": true,
     "grade_id": "cell-a507c572d07f1663",
     "locked": false,
     "points": 0,
     "schema_version": 3,
     "solution": true,
     "task": false
    }
   },
   "outputs": [],
   "source": [
    "def paycheck(hours, rate):\n",
    "    pay = hours * rate\n",
    "    return pay\n",
    "\n",
    "def addpaycheck(empid, hours_list, rates_list, paychecks_list):\n",
    "    ### BEGIN SOLUTION\n",
    "    rate = gethourlyrate(rates_list=rates_list, empid=empid)\n",
    "    hours = getworkedhours(hours_list=hours_list, empid=empid)\n",
    "    pay = paycheck(hours, rate)\n",
    "    paychecks_list.append(pay)\n",
    "    print(f\"Paychecks: {paychecks_list}\")\n",
    "    ### END SOLUTION\n",
    "\n",
    "# Initialize paychecks for this week\n",
    "emp_checks = []\n",
    "\n",
    "# Try with different values of empid!\n",
    "addpaycheck(empid=0, hours_list=emp_hours, rates_list=emp_rates, paychecks_list=emp_checks)"
   ]
  },
  {
   "cell_type": "markdown",
   "id": "7e8c51ff-bb98-4c76-a032-28b40f36a479",
   "metadata": {},
   "source": [
    "## Task 5"
   ]
  },
  {
   "cell_type": "code",
   "execution_count": null,
   "id": "6ceb0618-df77-405c-89dc-d924959c545a",
   "metadata": {
    "tags": []
   },
   "outputs": [],
   "source": [
    "### BEGIN SOLUTION\n",
    "def main():\n",
    "    print(\"============================\")\n",
    "    print(\"Welcome, payroll specialist!\")\n",
    "    print(\"============================\")\n",
    "    # Initializes the two lists\n",
    "    emp_rates = []\n",
    "    emp_hours = []\n",
    "    # Add three employees\n",
    "    add_employee(rates_list=emp_rates, hours_list=emp_hours)\n",
    "    add_employee(rates_list=emp_rates, hours_list=emp_hours)\n",
    "    add_employee(rates_list=emp_rates, hours_list=emp_hours)\n",
    "    \n",
    "    # Initialize paychecks for this week\n",
    "    emp_checks = []\n",
    "\n",
    "    # Add their paychecks\n",
    "    addpaycheck(empid=0, hours_list=emp_hours, rates_list=emp_rates, paychecks_list=emp_checks)\n",
    "    addpaycheck(empid=1, hours_list=emp_hours, rates_list=emp_rates, paychecks_list=emp_checks)\n",
    "    addpaycheck(empid=2, hours_list=emp_hours, rates_list=emp_rates, paychecks_list=emp_checks)\n",
    "    return emp_checks\n",
    "### END SOLUTION\n",
    "\n",
    "main()"
   ]
  }
 ],
 "metadata": {
  "celltoolbar": "Create Assignment",
  "kernelspec": {
   "display_name": "Python 3 (ipykernel)",
   "language": "python",
   "name": "python3"
  },
  "language_info": {
   "codemirror_mode": {
    "name": "ipython",
    "version": 3
   },
   "file_extension": ".py",
   "mimetype": "text/x-python",
   "name": "python",
   "nbconvert_exporter": "python",
   "pygments_lexer": "ipython3",
   "version": "3.11.7"
  }
 },
 "nbformat": 4,
 "nbformat_minor": 5
}
